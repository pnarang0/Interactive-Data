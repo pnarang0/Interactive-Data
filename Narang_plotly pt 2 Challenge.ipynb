{
 "cells": [
  {
   "cell_type": "code",
   "execution_count": 1,
   "id": "675c7e35-bdc4-48a2-b60b-ecb9836f5c97",
   "metadata": {},
   "outputs": [],
   "source": [
    "import pandas as pd\n",
    "import plotly.express as px"
   ]
  },
  {
   "cell_type": "code",
   "execution_count": 3,
   "id": "b0391eb2-2250-4ae8-a1f1-8c0ed51d0a66",
   "metadata": {},
   "outputs": [],
   "source": [
    "data = pd.read_csv('Meteorite_Landings_Sample.csv')"
   ]
  },
  {
   "cell_type": "code",
   "execution_count": 5,
   "id": "d95901c0-5baa-405f-a706-2e5457daa964",
   "metadata": {},
   "outputs": [
    {
     "data": {
      "text/html": [
       "<div>\n",
       "<style scoped>\n",
       "    .dataframe tbody tr th:only-of-type {\n",
       "        vertical-align: middle;\n",
       "    }\n",
       "\n",
       "    .dataframe tbody tr th {\n",
       "        vertical-align: top;\n",
       "    }\n",
       "\n",
       "    .dataframe thead th {\n",
       "        text-align: right;\n",
       "    }\n",
       "</style>\n",
       "<table border=\"1\" class=\"dataframe\">\n",
       "  <thead>\n",
       "    <tr style=\"text-align: right;\">\n",
       "      <th></th>\n",
       "      <th>name</th>\n",
       "      <th>id</th>\n",
       "      <th>nametype</th>\n",
       "      <th>recclass</th>\n",
       "      <th>mass (g)</th>\n",
       "      <th>fall</th>\n",
       "      <th>year</th>\n",
       "      <th>reclat</th>\n",
       "      <th>reclong</th>\n",
       "      <th>GeoLocation</th>\n",
       "    </tr>\n",
       "  </thead>\n",
       "  <tbody>\n",
       "    <tr>\n",
       "      <th>0</th>\n",
       "      <td>Northwest Africa 3126</td>\n",
       "      <td>31254</td>\n",
       "      <td>Valid</td>\n",
       "      <td>LL3.7</td>\n",
       "      <td>173.000</td>\n",
       "      <td>Found</td>\n",
       "      <td>2001.0</td>\n",
       "      <td>NaN</td>\n",
       "      <td>NaN</td>\n",
       "      <td>NaN</td>\n",
       "    </tr>\n",
       "    <tr>\n",
       "      <th>1</th>\n",
       "      <td>LaPaz Icefield 04605</td>\n",
       "      <td>45163</td>\n",
       "      <td>Valid</td>\n",
       "      <td>L5</td>\n",
       "      <td>63.000</td>\n",
       "      <td>Found</td>\n",
       "      <td>2004.0</td>\n",
       "      <td>NaN</td>\n",
       "      <td>NaN</td>\n",
       "      <td>NaN</td>\n",
       "    </tr>\n",
       "    <tr>\n",
       "      <th>2</th>\n",
       "      <td>Yamato 980593</td>\n",
       "      <td>37216</td>\n",
       "      <td>Valid</td>\n",
       "      <td>L3</td>\n",
       "      <td>10.913</td>\n",
       "      <td>Found</td>\n",
       "      <td>1998.0</td>\n",
       "      <td>NaN</td>\n",
       "      <td>NaN</td>\n",
       "      <td>NaN</td>\n",
       "    </tr>\n",
       "    <tr>\n",
       "      <th>3</th>\n",
       "      <td>Queen Alexandra Range 97279</td>\n",
       "      <td>20737</td>\n",
       "      <td>Valid</td>\n",
       "      <td>LL5</td>\n",
       "      <td>27.300</td>\n",
       "      <td>Found</td>\n",
       "      <td>1997.0</td>\n",
       "      <td>-84.00000</td>\n",
       "      <td>168.00000</td>\n",
       "      <td>(-84.0, 168.0)</td>\n",
       "    </tr>\n",
       "    <tr>\n",
       "      <th>4</th>\n",
       "      <td>Elephant Moraine 90798</td>\n",
       "      <td>9207</td>\n",
       "      <td>Valid</td>\n",
       "      <td>L6</td>\n",
       "      <td>20.900</td>\n",
       "      <td>Found</td>\n",
       "      <td>1990.0</td>\n",
       "      <td>-76.28535</td>\n",
       "      <td>156.44404</td>\n",
       "      <td>(-76.28535, 156.44404)</td>\n",
       "    </tr>\n",
       "  </tbody>\n",
       "</table>\n",
       "</div>"
      ],
      "text/plain": [
       "                          name     id nametype recclass  mass (g)   fall  \\\n",
       "0        Northwest Africa 3126  31254    Valid    LL3.7   173.000  Found   \n",
       "1         LaPaz Icefield 04605  45163    Valid       L5    63.000  Found   \n",
       "2                Yamato 980593  37216    Valid       L3    10.913  Found   \n",
       "3  Queen Alexandra Range 97279  20737    Valid      LL5    27.300  Found   \n",
       "4       Elephant Moraine 90798   9207    Valid       L6    20.900  Found   \n",
       "\n",
       "     year    reclat    reclong             GeoLocation  \n",
       "0  2001.0       NaN        NaN                     NaN  \n",
       "1  2004.0       NaN        NaN                     NaN  \n",
       "2  1998.0       NaN        NaN                     NaN  \n",
       "3  1997.0 -84.00000  168.00000          (-84.0, 168.0)  \n",
       "4  1990.0 -76.28535  156.44404  (-76.28535, 156.44404)  "
      ]
     },
     "execution_count": 5,
     "metadata": {},
     "output_type": "execute_result"
    }
   ],
   "source": [
    "data.head()"
   ]
  },
  {
   "cell_type": "code",
   "execution_count": 15,
   "id": "ad1032ba-a0eb-48cc-98ba-d71ba3494692",
   "metadata": {},
   "outputs": [
    {
     "data": {
      "application/vnd.plotly.v1+json": {
       "config": {
        "plotlyServerURL": "https://plot.ly"
       },
       "data": [
        {
         "geo": "geo",
         "hovertemplate": "reclat=%{lat}<br>reclong=%{lon}<extra></extra>",
         "lat": [
          null,
          null,
          null,
          -84,
          -76.28535,
          -71.5,
          -86.51027,
          null,
          -72,
          -71.5,
          -71.5,
          -84.27378,
          null,
          34.2,
          -84.357,
          -84,
          -84,
          -72,
          -84,
          -72.77917,
          -80.25,
          null,
          -85.691,
          -84,
          null,
          null,
          -76.71667,
          null,
          null,
          -71.82806,
          0,
          0,
          -72.99889,
          -72.7769,
          20.5052,
          36.21667,
          -72.76944,
          33.01667,
          -86.36667,
          -71.5,
          -86.36667,
          -30.99311,
          20.60837,
          -72.95488,
          -76.31222,
          -71.5,
          -72.95222,
          0,
          null,
          null,
          35.71667,
          -86.45,
          null,
          -71.5,
          -71.5,
          -76.18333,
          0,
          0,
          -71.5,
          18.90573,
          null,
          -84,
          27.71667,
          18.741611,
          19.14611,
          48.45,
          -25.23333,
          -71.5,
          -85.66787,
          null,
          18.70115,
          33.275,
          null,
          -76.27512,
          -86.52222,
          -76.77389,
          -76.18333,
          0,
          -84.25231,
          -76.71667,
          null,
          -84,
          null,
          -85.68006,
          -84,
          -76.28565,
          -71.5,
          27.17717,
          -71.5,
          -72.95108,
          -79.68333,
          -79.68333,
          -84.25909,
          38.85,
          0,
          18.67917,
          null,
          -84.28986,
          -84,
          -71.5,
          null,
          null,
          null,
          0,
          -86.36667,
          null,
          0,
          -72.99889,
          -84,
          27.2265,
          null,
          -72.95457,
          18.50755,
          -84.25499,
          -84.27385,
          -71.5,
          -72.7775,
          55.7,
          0,
          -84,
          -71.5,
          -76.68944,
          -85.65807,
          21.37107,
          -24.85,
          -84.27639,
          0,
          18.625,
          -76.31028,
          -85.68404,
          0,
          37.5,
          20.35833,
          0,
          0,
          0,
          0,
          0,
          null,
          -72.9822,
          null,
          0,
          27.03333,
          -71.5,
          -84,
          -84,
          -79.68333,
          -76.18333,
          null,
          -72.77889,
          -84,
          null,
          -84,
          -76.2858,
          -76.27972,
          -72.77472,
          -86.56667,
          0,
          -76.18333,
          null,
          -71.5,
          -71.5,
          23.98611,
          -76.7574,
          19.190417,
          0,
          0,
          -72,
          -71.5,
          -72.998889,
          -72.77306,
          20.41437,
          null,
          39.33333,
          0,
          -84.24623,
          18.7247,
          -31.53333,
          -71.5,
          null,
          -71.5,
          33.03333,
          0,
          null,
          37.28333,
          -84.27985,
          20.7827,
          -72.77944,
          18.59083,
          -79.68333,
          -77.01706,
          null,
          -84,
          19.97933,
          null,
          -25.65,
          40.26667,
          -71.5,
          -84,
          0
         ],
         "legendgroup": "",
         "lon": [
          null,
          null,
          null,
          168,
          156.44404,
          35.66667,
          -122.9522,
          null,
          26,
          35.66667,
          35.66667,
          161.68545,
          null,
          -86.48333,
          161.36443,
          168,
          168,
          26,
          168,
          75.31056,
          153.5,
          null,
          -68.96836,
          168,
          null,
          null,
          159.66667,
          null,
          null,
          36.20556,
          0,
          0,
          75.18722,
          75.3264,
          56.48438,
          -103.4,
          75.3375,
          -83.96667,
          -70,
          35.66667,
          -70,
          131.33253,
          57.16007,
          160.47328,
          157.39528,
          35.66667,
          160.50161,
          0,
          null,
          null,
          -81.86667,
          -165.43333,
          null,
          35.66667,
          35.66667,
          157.16667,
          0,
          0,
          35.66667,
          54.50885,
          null,
          168,
          4.13333,
          54.26175,
          54.40111,
          3.93333,
          -69.71667,
          35.66667,
          -68.25751,
          null,
          54.36907,
          -102.96,
          null,
          156.36181,
          -123.79341,
          159.275,
          157.16667,
          0,
          161.45413,
          159.66667,
          null,
          168,
          null,
          -68.68107,
          168,
          156.48143,
          35.66667,
          16.26683,
          35.66667,
          160.51425,
          159.75,
          159.75,
          161.41026,
          -96.58333,
          0,
          54.58783,
          null,
          161.28593,
          168,
          35.66667,
          null,
          null,
          null,
          0,
          -70,
          null,
          0,
          75.18722,
          168,
          -9.74117,
          null,
          160.50374,
          53.99325,
          161.40492,
          161.68603,
          35.66667,
          75.334167,
          24.4,
          0,
          168,
          35.66667,
          159.36889,
          -68.17227,
          58.41415,
          -70.53333,
          161.34562,
          0,
          54.43,
          157.1975,
          -68.87777,
          0,
          -79.75,
          11.85,
          0,
          0,
          0,
          0,
          0,
          null,
          75.2489,
          null,
          0,
          16.35,
          35.66667,
          168,
          168,
          155.75,
          157.16667,
          null,
          75.31111,
          168,
          null,
          168,
          156.46845,
          156.47219,
          75.32361,
          -165.11667,
          0,
          157.16667,
          null,
          35.66667,
          35.66667,
          32.62361,
          158.90775,
          54.957194,
          0,
          0,
          26,
          35.66667,
          75.187222,
          75.33806,
          57.06578,
          null,
          -98.16667,
          0,
          161.41018,
          54.39503,
          127.01667,
          35.66667,
          null,
          35.66667,
          -102.33333,
          0,
          null,
          -102.2,
          161.34894,
          55.42668,
          75.27,
          54.543,
          159.75,
          156.96282,
          null,
          168,
          55.95507,
          null,
          114.21667,
          -118.93333,
          35.66667,
          168,
          0
         ],
         "marker": {
          "color": "#636efa",
          "symbol": "circle"
         },
         "mode": "markers",
         "name": "",
         "showlegend": false,
         "type": "scattergeo"
        }
       ],
       "layout": {
        "autosize": true,
        "geo": {
         "center": {
          "lat": 6.958413432866946,
          "lon": -7.944974846337655
         },
         "domain": {
          "x": [
           0,
           1
          ],
          "y": [
           0,
           1
          ]
         },
         "projection": {
          "rotation": {
           "lon": -7.944974846337655
          },
          "scale": 3.0314331330207978
         }
        },
        "legend": {
         "tracegroupgap": 0
        },
        "margin": {
         "t": 60
        },
        "template": {
         "data": {
          "bar": [
           {
            "error_x": {
             "color": "#2a3f5f"
            },
            "error_y": {
             "color": "#2a3f5f"
            },
            "marker": {
             "line": {
              "color": "#E5ECF6",
              "width": 0.5
             },
             "pattern": {
              "fillmode": "overlay",
              "size": 10,
              "solidity": 0.2
             }
            },
            "type": "bar"
           }
          ],
          "barpolar": [
           {
            "marker": {
             "line": {
              "color": "#E5ECF6",
              "width": 0.5
             },
             "pattern": {
              "fillmode": "overlay",
              "size": 10,
              "solidity": 0.2
             }
            },
            "type": "barpolar"
           }
          ],
          "carpet": [
           {
            "aaxis": {
             "endlinecolor": "#2a3f5f",
             "gridcolor": "white",
             "linecolor": "white",
             "minorgridcolor": "white",
             "startlinecolor": "#2a3f5f"
            },
            "baxis": {
             "endlinecolor": "#2a3f5f",
             "gridcolor": "white",
             "linecolor": "white",
             "minorgridcolor": "white",
             "startlinecolor": "#2a3f5f"
            },
            "type": "carpet"
           }
          ],
          "choropleth": [
           {
            "colorbar": {
             "outlinewidth": 0,
             "ticks": ""
            },
            "type": "choropleth"
           }
          ],
          "contour": [
           {
            "colorbar": {
             "outlinewidth": 0,
             "ticks": ""
            },
            "colorscale": [
             [
              0,
              "#0d0887"
             ],
             [
              0.1111111111111111,
              "#46039f"
             ],
             [
              0.2222222222222222,
              "#7201a8"
             ],
             [
              0.3333333333333333,
              "#9c179e"
             ],
             [
              0.4444444444444444,
              "#bd3786"
             ],
             [
              0.5555555555555556,
              "#d8576b"
             ],
             [
              0.6666666666666666,
              "#ed7953"
             ],
             [
              0.7777777777777778,
              "#fb9f3a"
             ],
             [
              0.8888888888888888,
              "#fdca26"
             ],
             [
              1,
              "#f0f921"
             ]
            ],
            "type": "contour"
           }
          ],
          "contourcarpet": [
           {
            "colorbar": {
             "outlinewidth": 0,
             "ticks": ""
            },
            "type": "contourcarpet"
           }
          ],
          "heatmap": [
           {
            "colorbar": {
             "outlinewidth": 0,
             "ticks": ""
            },
            "colorscale": [
             [
              0,
              "#0d0887"
             ],
             [
              0.1111111111111111,
              "#46039f"
             ],
             [
              0.2222222222222222,
              "#7201a8"
             ],
             [
              0.3333333333333333,
              "#9c179e"
             ],
             [
              0.4444444444444444,
              "#bd3786"
             ],
             [
              0.5555555555555556,
              "#d8576b"
             ],
             [
              0.6666666666666666,
              "#ed7953"
             ],
             [
              0.7777777777777778,
              "#fb9f3a"
             ],
             [
              0.8888888888888888,
              "#fdca26"
             ],
             [
              1,
              "#f0f921"
             ]
            ],
            "type": "heatmap"
           }
          ],
          "heatmapgl": [
           {
            "colorbar": {
             "outlinewidth": 0,
             "ticks": ""
            },
            "colorscale": [
             [
              0,
              "#0d0887"
             ],
             [
              0.1111111111111111,
              "#46039f"
             ],
             [
              0.2222222222222222,
              "#7201a8"
             ],
             [
              0.3333333333333333,
              "#9c179e"
             ],
             [
              0.4444444444444444,
              "#bd3786"
             ],
             [
              0.5555555555555556,
              "#d8576b"
             ],
             [
              0.6666666666666666,
              "#ed7953"
             ],
             [
              0.7777777777777778,
              "#fb9f3a"
             ],
             [
              0.8888888888888888,
              "#fdca26"
             ],
             [
              1,
              "#f0f921"
             ]
            ],
            "type": "heatmapgl"
           }
          ],
          "histogram": [
           {
            "marker": {
             "pattern": {
              "fillmode": "overlay",
              "size": 10,
              "solidity": 0.2
             }
            },
            "type": "histogram"
           }
          ],
          "histogram2d": [
           {
            "colorbar": {
             "outlinewidth": 0,
             "ticks": ""
            },
            "colorscale": [
             [
              0,
              "#0d0887"
             ],
             [
              0.1111111111111111,
              "#46039f"
             ],
             [
              0.2222222222222222,
              "#7201a8"
             ],
             [
              0.3333333333333333,
              "#9c179e"
             ],
             [
              0.4444444444444444,
              "#bd3786"
             ],
             [
              0.5555555555555556,
              "#d8576b"
             ],
             [
              0.6666666666666666,
              "#ed7953"
             ],
             [
              0.7777777777777778,
              "#fb9f3a"
             ],
             [
              0.8888888888888888,
              "#fdca26"
             ],
             [
              1,
              "#f0f921"
             ]
            ],
            "type": "histogram2d"
           }
          ],
          "histogram2dcontour": [
           {
            "colorbar": {
             "outlinewidth": 0,
             "ticks": ""
            },
            "colorscale": [
             [
              0,
              "#0d0887"
             ],
             [
              0.1111111111111111,
              "#46039f"
             ],
             [
              0.2222222222222222,
              "#7201a8"
             ],
             [
              0.3333333333333333,
              "#9c179e"
             ],
             [
              0.4444444444444444,
              "#bd3786"
             ],
             [
              0.5555555555555556,
              "#d8576b"
             ],
             [
              0.6666666666666666,
              "#ed7953"
             ],
             [
              0.7777777777777778,
              "#fb9f3a"
             ],
             [
              0.8888888888888888,
              "#fdca26"
             ],
             [
              1,
              "#f0f921"
             ]
            ],
            "type": "histogram2dcontour"
           }
          ],
          "mesh3d": [
           {
            "colorbar": {
             "outlinewidth": 0,
             "ticks": ""
            },
            "type": "mesh3d"
           }
          ],
          "parcoords": [
           {
            "line": {
             "colorbar": {
              "outlinewidth": 0,
              "ticks": ""
             }
            },
            "type": "parcoords"
           }
          ],
          "pie": [
           {
            "automargin": true,
            "type": "pie"
           }
          ],
          "scatter": [
           {
            "fillpattern": {
             "fillmode": "overlay",
             "size": 10,
             "solidity": 0.2
            },
            "type": "scatter"
           }
          ],
          "scatter3d": [
           {
            "line": {
             "colorbar": {
              "outlinewidth": 0,
              "ticks": ""
             }
            },
            "marker": {
             "colorbar": {
              "outlinewidth": 0,
              "ticks": ""
             }
            },
            "type": "scatter3d"
           }
          ],
          "scattercarpet": [
           {
            "marker": {
             "colorbar": {
              "outlinewidth": 0,
              "ticks": ""
             }
            },
            "type": "scattercarpet"
           }
          ],
          "scattergeo": [
           {
            "marker": {
             "colorbar": {
              "outlinewidth": 0,
              "ticks": ""
             }
            },
            "type": "scattergeo"
           }
          ],
          "scattergl": [
           {
            "marker": {
             "colorbar": {
              "outlinewidth": 0,
              "ticks": ""
             }
            },
            "type": "scattergl"
           }
          ],
          "scattermapbox": [
           {
            "marker": {
             "colorbar": {
              "outlinewidth": 0,
              "ticks": ""
             }
            },
            "type": "scattermapbox"
           }
          ],
          "scatterpolar": [
           {
            "marker": {
             "colorbar": {
              "outlinewidth": 0,
              "ticks": ""
             }
            },
            "type": "scatterpolar"
           }
          ],
          "scatterpolargl": [
           {
            "marker": {
             "colorbar": {
              "outlinewidth": 0,
              "ticks": ""
             }
            },
            "type": "scatterpolargl"
           }
          ],
          "scatterternary": [
           {
            "marker": {
             "colorbar": {
              "outlinewidth": 0,
              "ticks": ""
             }
            },
            "type": "scatterternary"
           }
          ],
          "surface": [
           {
            "colorbar": {
             "outlinewidth": 0,
             "ticks": ""
            },
            "colorscale": [
             [
              0,
              "#0d0887"
             ],
             [
              0.1111111111111111,
              "#46039f"
             ],
             [
              0.2222222222222222,
              "#7201a8"
             ],
             [
              0.3333333333333333,
              "#9c179e"
             ],
             [
              0.4444444444444444,
              "#bd3786"
             ],
             [
              0.5555555555555556,
              "#d8576b"
             ],
             [
              0.6666666666666666,
              "#ed7953"
             ],
             [
              0.7777777777777778,
              "#fb9f3a"
             ],
             [
              0.8888888888888888,
              "#fdca26"
             ],
             [
              1,
              "#f0f921"
             ]
            ],
            "type": "surface"
           }
          ],
          "table": [
           {
            "cells": {
             "fill": {
              "color": "#EBF0F8"
             },
             "line": {
              "color": "white"
             }
            },
            "header": {
             "fill": {
              "color": "#C8D4E3"
             },
             "line": {
              "color": "white"
             }
            },
            "type": "table"
           }
          ]
         },
         "layout": {
          "annotationdefaults": {
           "arrowcolor": "#2a3f5f",
           "arrowhead": 0,
           "arrowwidth": 1
          },
          "autotypenumbers": "strict",
          "coloraxis": {
           "colorbar": {
            "outlinewidth": 0,
            "ticks": ""
           }
          },
          "colorscale": {
           "diverging": [
            [
             0,
             "#8e0152"
            ],
            [
             0.1,
             "#c51b7d"
            ],
            [
             0.2,
             "#de77ae"
            ],
            [
             0.3,
             "#f1b6da"
            ],
            [
             0.4,
             "#fde0ef"
            ],
            [
             0.5,
             "#f7f7f7"
            ],
            [
             0.6,
             "#e6f5d0"
            ],
            [
             0.7,
             "#b8e186"
            ],
            [
             0.8,
             "#7fbc41"
            ],
            [
             0.9,
             "#4d9221"
            ],
            [
             1,
             "#276419"
            ]
           ],
           "sequential": [
            [
             0,
             "#0d0887"
            ],
            [
             0.1111111111111111,
             "#46039f"
            ],
            [
             0.2222222222222222,
             "#7201a8"
            ],
            [
             0.3333333333333333,
             "#9c179e"
            ],
            [
             0.4444444444444444,
             "#bd3786"
            ],
            [
             0.5555555555555556,
             "#d8576b"
            ],
            [
             0.6666666666666666,
             "#ed7953"
            ],
            [
             0.7777777777777778,
             "#fb9f3a"
            ],
            [
             0.8888888888888888,
             "#fdca26"
            ],
            [
             1,
             "#f0f921"
            ]
           ],
           "sequentialminus": [
            [
             0,
             "#0d0887"
            ],
            [
             0.1111111111111111,
             "#46039f"
            ],
            [
             0.2222222222222222,
             "#7201a8"
            ],
            [
             0.3333333333333333,
             "#9c179e"
            ],
            [
             0.4444444444444444,
             "#bd3786"
            ],
            [
             0.5555555555555556,
             "#d8576b"
            ],
            [
             0.6666666666666666,
             "#ed7953"
            ],
            [
             0.7777777777777778,
             "#fb9f3a"
            ],
            [
             0.8888888888888888,
             "#fdca26"
            ],
            [
             1,
             "#f0f921"
            ]
           ]
          },
          "colorway": [
           "#636efa",
           "#EF553B",
           "#00cc96",
           "#ab63fa",
           "#FFA15A",
           "#19d3f3",
           "#FF6692",
           "#B6E880",
           "#FF97FF",
           "#FECB52"
          ],
          "font": {
           "color": "#2a3f5f"
          },
          "geo": {
           "bgcolor": "white",
           "lakecolor": "white",
           "landcolor": "#E5ECF6",
           "showlakes": true,
           "showland": true,
           "subunitcolor": "white"
          },
          "hoverlabel": {
           "align": "left"
          },
          "hovermode": "closest",
          "mapbox": {
           "style": "light"
          },
          "paper_bgcolor": "white",
          "plot_bgcolor": "#E5ECF6",
          "polar": {
           "angularaxis": {
            "gridcolor": "white",
            "linecolor": "white",
            "ticks": ""
           },
           "bgcolor": "#E5ECF6",
           "radialaxis": {
            "gridcolor": "white",
            "linecolor": "white",
            "ticks": ""
           }
          },
          "scene": {
           "xaxis": {
            "backgroundcolor": "#E5ECF6",
            "gridcolor": "white",
            "gridwidth": 2,
            "linecolor": "white",
            "showbackground": true,
            "ticks": "",
            "zerolinecolor": "white"
           },
           "yaxis": {
            "backgroundcolor": "#E5ECF6",
            "gridcolor": "white",
            "gridwidth": 2,
            "linecolor": "white",
            "showbackground": true,
            "ticks": "",
            "zerolinecolor": "white"
           },
           "zaxis": {
            "backgroundcolor": "#E5ECF6",
            "gridcolor": "white",
            "gridwidth": 2,
            "linecolor": "white",
            "showbackground": true,
            "ticks": "",
            "zerolinecolor": "white"
           }
          },
          "shapedefaults": {
           "line": {
            "color": "#2a3f5f"
           }
          },
          "ternary": {
           "aaxis": {
            "gridcolor": "white",
            "linecolor": "white",
            "ticks": ""
           },
           "baxis": {
            "gridcolor": "white",
            "linecolor": "white",
            "ticks": ""
           },
           "bgcolor": "#E5ECF6",
           "caxis": {
            "gridcolor": "white",
            "linecolor": "white",
            "ticks": ""
           }
          },
          "title": {
           "x": 0.05
          },
          "xaxis": {
           "automargin": true,
           "gridcolor": "white",
           "linecolor": "white",
           "ticks": "",
           "title": {
            "standoff": 15
           },
           "zerolinecolor": "white",
           "zerolinewidth": 2
          },
          "yaxis": {
           "automargin": true,
           "gridcolor": "white",
           "linecolor": "white",
           "ticks": "",
           "title": {
            "standoff": 15
           },
           "zerolinecolor": "white",
           "zerolinewidth": 2
          }
         }
        }
       }
      },
      "image/png": "[encoded data removed]",
      "text/html": [
       "<div>                            <div id=\"9e1817b9-7c04-498c-9ebb-bcb5fd03fe33\" class=\"plotly-graph-div\" style=\"height:525px; width:100%;\"></div>            <script type=\"text/javascript\">                require([\"plotly\"], function(Plotly) {                    window.PLOTLYENV=window.PLOTLYENV || {};                                    if (document.getElementById(\"9e1817b9-7c04-498c-9ebb-bcb5fd03fe33\")) {                    Plotly.newPlot(                        \"9e1817b9-7c04-498c-9ebb-bcb5fd03fe33\",                        [{\"geo\":\"geo\",\"hovertemplate\":\"reclat=%{lat}\\u003cbr\\u003ereclong=%{lon}\\u003cextra\\u003e\\u003c\\u002fextra\\u003e\",\"lat\":[null,null,null,-84.0,-76.28535,-71.5,-86.51027,null,-72.0,-71.5,-71.5,-84.27378,null,34.2,-84.357,-84.0,-84.0,-72.0,-84.0,-72.77917,-80.25,null,-85.691,-84.0,null,null,-76.71667,null,null,-71.82806,0.0,0.0,-72.99889,-72.7769,20.5052,36.21667,-72.76944,33.01667,-86.36667,-71.5,-86.36667,-30.99311,20.60837,-72.95488,-76.31222,-71.5,-72.95222,0.0,null,null,35.71667,-86.45,null,-71.5,-71.5,-76.18333,0.0,0.0,-71.5,18.90573,null,-84.0,27.71667,18.741611,19.14611,48.45,-25.23333,-71.5,-85.66787,null,18.70115,33.275,null,-76.27512,-86.52222,-76.77389,-76.18333,0.0,-84.25231,-76.71667,null,-84.0,null,-85.68006,-84.0,-76.28565,-71.5,27.17717,-71.5,-72.95108,-79.68333,-79.68333,-84.25909,38.85,0.0,18.67917,null,-84.28986,-84.0,-71.5,null,null,null,0.0,-86.36667,null,0.0,-72.99889,-84.0,27.2265,null,-72.95457,18.50755,-84.25499,-84.27385,-71.5,-72.7775,55.7,0.0,-84.0,-71.5,-76.68944,-85.65807,21.37107,-24.85,-84.27639,0.0,18.625,-76.31028,-85.68404,0.0,37.5,20.35833,0.0,0.0,0.0,0.0,0.0,null,-72.9822,null,0.0,27.03333,-71.5,-84.0,-84.0,-79.68333,-76.18333,null,-72.77889,-84.0,null,-84.0,-76.2858,-76.27972,-72.77472,-86.56667,0.0,-76.18333,null,-71.5,-71.5,23.98611,-76.7574,19.190417,0.0,0.0,-72.0,-71.5,-72.998889,-72.77306,20.41437,null,39.33333,0.0,-84.24623,18.7247,-31.53333,-71.5,null,-71.5,33.03333,0.0,null,37.28333,-84.27985,20.7827,-72.77944,18.59083,-79.68333,-77.01706,null,-84.0,19.97933,null,-25.65,40.26667,-71.5,-84.0,0.0],\"legendgroup\":\"\",\"lon\":[null,null,null,168.0,156.44404,35.66667,-122.9522,null,26.0,35.66667,35.66667,161.68545,null,-86.48333,161.36443,168.0,168.0,26.0,168.0,75.31056,153.5,null,-68.96836,168.0,null,null,159.66667,null,null,36.20556,0.0,0.0,75.18722,75.3264,56.48438,-103.4,75.3375,-83.96667,-70.0,35.66667,-70.0,131.33253,57.16007,160.47328,157.39528,35.66667,160.50161,0.0,null,null,-81.86667,-165.43333,null,35.66667,35.66667,157.16667,0.0,0.0,35.66667,54.50885,null,168.0,4.13333,54.26175,54.40111,3.93333,-69.71667,35.66667,-68.25751,null,54.36907,-102.96,null,156.36181,-123.79341,159.275,157.16667,0.0,161.45413,159.66667,null,168.0,null,-68.68107,168.0,156.48143,35.66667,16.26683,35.66667,160.51425,159.75,159.75,161.41026,-96.58333,0.0,54.58783,null,161.28593,168.0,35.66667,null,null,null,0.0,-70.0,null,0.0,75.18722,168.0,-9.74117,null,160.50374,53.99325,161.40492,161.68603,35.66667,75.334167,24.4,0.0,168.0,35.66667,159.36889,-68.17227,58.41415,-70.53333,161.34562,0.0,54.43,157.1975,-68.87777,0.0,-79.75,11.85,0.0,0.0,0.0,0.0,0.0,null,75.2489,null,0.0,16.35,35.66667,168.0,168.0,155.75,157.16667,null,75.31111,168.0,null,168.0,156.46845,156.47219,75.32361,-165.11667,0.0,157.16667,null,35.66667,35.66667,32.62361,158.90775,54.957194,0.0,0.0,26.0,35.66667,75.187222,75.33806,57.06578,null,-98.16667,0.0,161.41018,54.39503,127.01667,35.66667,null,35.66667,-102.33333,0.0,null,-102.2,161.34894,55.42668,75.27,54.543,159.75,156.96282,null,168.0,55.95507,null,114.21667,-118.93333,35.66667,168.0,0.0],\"marker\":{\"color\":\"#636efa\",\"symbol\":\"circle\"},\"mode\":\"markers\",\"name\":\"\",\"showlegend\":false,\"type\":\"scattergeo\"}],                        {\"template\":{\"data\":{\"histogram2dcontour\":[{\"type\":\"histogram2dcontour\",\"colorbar\":{\"outlinewidth\":0,\"ticks\":\"\"},\"colorscale\":[[0.0,\"#0d0887\"],[0.1111111111111111,\"#46039f\"],[0.2222222222222222,\"#7201a8\"],[0.3333333333333333,\"#9c179e\"],[0.4444444444444444,\"#bd3786\"],[0.5555555555555556,\"#d8576b\"],[0.6666666666666666,\"#ed7953\"],[0.7777777777777778,\"#fb9f3a\"],[0.8888888888888888,\"#fdca26\"],[1.0,\"#f0f921\"]]}],\"choropleth\":[{\"type\":\"choropleth\",\"colorbar\":{\"outlinewidth\":0,\"ticks\":\"\"}}],\"histogram2d\":[{\"type\":\"histogram2d\",\"colorbar\":{\"outlinewidth\":0,\"ticks\":\"\"},\"colorscale\":[[0.0,\"#0d0887\"],[0.1111111111111111,\"#46039f\"],[0.2222222222222222,\"#7201a8\"],[0.3333333333333333,\"#9c179e\"],[0.4444444444444444,\"#bd3786\"],[0.5555555555555556,\"#d8576b\"],[0.6666666666666666,\"#ed7953\"],[0.7777777777777778,\"#fb9f3a\"],[0.8888888888888888,\"#fdca26\"],[1.0,\"#f0f921\"]]}],\"heatmap\":[{\"type\":\"heatmap\",\"colorbar\":{\"outlinewidth\":0,\"ticks\":\"\"},\"colorscale\":[[0.0,\"#0d0887\"],[0.1111111111111111,\"#46039f\"],[0.2222222222222222,\"#7201a8\"],[0.3333333333333333,\"#9c179e\"],[0.4444444444444444,\"#bd3786\"],[0.5555555555555556,\"#d8576b\"],[0.6666666666666666,\"#ed7953\"],[0.7777777777777778,\"#fb9f3a\"],[0.8888888888888888,\"#fdca26\"],[1.0,\"#f0f921\"]]}],\"heatmapgl\":[{\"type\":\"heatmapgl\",\"colorbar\":{\"outlinewidth\":0,\"ticks\":\"\"},\"colorscale\":[[0.0,\"#0d0887\"],[0.1111111111111111,\"#46039f\"],[0.2222222222222222,\"#7201a8\"],[0.3333333333333333,\"#9c179e\"],[0.4444444444444444,\"#bd3786\"],[0.5555555555555556,\"#d8576b\"],[0.6666666666666666,\"#ed7953\"],[0.7777777777777778,\"#fb9f3a\"],[0.8888888888888888,\"#fdca26\"],[1.0,\"#f0f921\"]]}],\"contourcarpet\":[{\"type\":\"contourcarpet\",\"colorbar\":{\"outlinewidth\":0,\"ticks\":\"\"}}],\"contour\":[{\"type\":\"contour\",\"colorbar\":{\"outlinewidth\":0,\"ticks\":\"\"},\"colorscale\":[[0.0,\"#0d0887\"],[0.1111111111111111,\"#46039f\"],[0.2222222222222222,\"#7201a8\"],[0.3333333333333333,\"#9c179e\"],[0.4444444444444444,\"#bd3786\"],[0.5555555555555556,\"#d8576b\"],[0.6666666666666666,\"#ed7953\"],[0.7777777777777778,\"#fb9f3a\"],[0.8888888888888888,\"#fdca26\"],[1.0,\"#f0f921\"]]}],\"surface\":[{\"type\":\"surface\",\"colorbar\":{\"outlinewidth\":0,\"ticks\":\"\"},\"colorscale\":[[0.0,\"#0d0887\"],[0.1111111111111111,\"#46039f\"],[0.2222222222222222,\"#7201a8\"],[0.3333333333333333,\"#9c179e\"],[0.4444444444444444,\"#bd3786\"],[0.5555555555555556,\"#d8576b\"],[0.6666666666666666,\"#ed7953\"],[0.7777777777777778,\"#fb9f3a\"],[0.8888888888888888,\"#fdca26\"],[1.0,\"#f0f921\"]]}],\"mesh3d\":[{\"type\":\"mesh3d\",\"colorbar\":{\"outlinewidth\":0,\"ticks\":\"\"}}],\"scatter\":[{\"fillpattern\":{\"fillmode\":\"overlay\",\"size\":10,\"solidity\":0.2},\"type\":\"scatter\"}],\"parcoords\":[{\"type\":\"parcoords\",\"line\":{\"colorbar\":{\"outlinewidth\":0,\"ticks\":\"\"}}}],\"scatterpolargl\":[{\"type\":\"scatterpolargl\",\"marker\":{\"colorbar\":{\"outlinewidth\":0,\"ticks\":\"\"}}}],\"bar\":[{\"error_x\":{\"color\":\"#2a3f5f\"},\"error_y\":{\"color\":\"#2a3f5f\"},\"marker\":{\"line\":{\"color\":\"#E5ECF6\",\"width\":0.5},\"pattern\":{\"fillmode\":\"overlay\",\"size\":10,\"solidity\":0.2}},\"type\":\"bar\"}],\"scattergeo\":[{\"type\":\"scattergeo\",\"marker\":{\"colorbar\":{\"outlinewidth\":0,\"ticks\":\"\"}}}],\"scatterpolar\":[{\"type\":\"scatterpolar\",\"marker\":{\"colorbar\":{\"outlinewidth\":0,\"ticks\":\"\"}}}],\"histogram\":[{\"marker\":{\"pattern\":{\"fillmode\":\"overlay\",\"size\":10,\"solidity\":0.2}},\"type\":\"histogram\"}],\"scattergl\":[{\"type\":\"scattergl\",\"marker\":{\"colorbar\":{\"outlinewidth\":0,\"ticks\":\"\"}}}],\"scatter3d\":[{\"type\":\"scatter3d\",\"line\":{\"colorbar\":{\"outlinewidth\":0,\"ticks\":\"\"}},\"marker\":{\"colorbar\":{\"outlinewidth\":0,\"ticks\":\"\"}}}],\"scattermapbox\":[{\"type\":\"scattermapbox\",\"marker\":{\"colorbar\":{\"outlinewidth\":0,\"ticks\":\"\"}}}],\"scatterternary\":[{\"type\":\"scatterternary\",\"marker\":{\"colorbar\":{\"outlinewidth\":0,\"ticks\":\"\"}}}],\"scattercarpet\":[{\"type\":\"scattercarpet\",\"marker\":{\"colorbar\":{\"outlinewidth\":0,\"ticks\":\"\"}}}],\"carpet\":[{\"aaxis\":{\"endlinecolor\":\"#2a3f5f\",\"gridcolor\":\"white\",\"linecolor\":\"white\",\"minorgridcolor\":\"white\",\"startlinecolor\":\"#2a3f5f\"},\"baxis\":{\"endlinecolor\":\"#2a3f5f\",\"gridcolor\":\"white\",\"linecolor\":\"white\",\"minorgridcolor\":\"white\",\"startlinecolor\":\"#2a3f5f\"},\"type\":\"carpet\"}],\"table\":[{\"cells\":{\"fill\":{\"color\":\"#EBF0F8\"},\"line\":{\"color\":\"white\"}},\"header\":{\"fill\":{\"color\":\"#C8D4E3\"},\"line\":{\"color\":\"white\"}},\"type\":\"table\"}],\"barpolar\":[{\"marker\":{\"line\":{\"color\":\"#E5ECF6\",\"width\":0.5},\"pattern\":{\"fillmode\":\"overlay\",\"size\":10,\"solidity\":0.2}},\"type\":\"barpolar\"}],\"pie\":[{\"automargin\":true,\"type\":\"pie\"}]},\"layout\":{\"autotypenumbers\":\"strict\",\"colorway\":[\"#636efa\",\"#EF553B\",\"#00cc96\",\"#ab63fa\",\"#FFA15A\",\"#19d3f3\",\"#FF6692\",\"#B6E880\",\"#FF97FF\",\"#FECB52\"],\"font\":{\"color\":\"#2a3f5f\"},\"hovermode\":\"closest\",\"hoverlabel\":{\"align\":\"left\"},\"paper_bgcolor\":\"white\",\"plot_bgcolor\":\"#E5ECF6\",\"polar\":{\"bgcolor\":\"#E5ECF6\",\"angularaxis\":{\"gridcolor\":\"white\",\"linecolor\":\"white\",\"ticks\":\"\"},\"radialaxis\":{\"gridcolor\":\"white\",\"linecolor\":\"white\",\"ticks\":\"\"}},\"ternary\":{\"bgcolor\":\"#E5ECF6\",\"aaxis\":{\"gridcolor\":\"white\",\"linecolor\":\"white\",\"ticks\":\"\"},\"baxis\":{\"gridcolor\":\"white\",\"linecolor\":\"white\",\"ticks\":\"\"},\"caxis\":{\"gridcolor\":\"white\",\"linecolor\":\"white\",\"ticks\":\"\"}},\"coloraxis\":{\"colorbar\":{\"outlinewidth\":0,\"ticks\":\"\"}},\"colorscale\":{\"sequential\":[[0.0,\"#0d0887\"],[0.1111111111111111,\"#46039f\"],[0.2222222222222222,\"#7201a8\"],[0.3333333333333333,\"#9c179e\"],[0.4444444444444444,\"#bd3786\"],[0.5555555555555556,\"#d8576b\"],[0.6666666666666666,\"#ed7953\"],[0.7777777777777778,\"#fb9f3a\"],[0.8888888888888888,\"#fdca26\"],[1.0,\"#f0f921\"]],\"sequentialminus\":[[0.0,\"#0d0887\"],[0.1111111111111111,\"#46039f\"],[0.2222222222222222,\"#7201a8\"],[0.3333333333333333,\"#9c179e\"],[0.4444444444444444,\"#bd3786\"],[0.5555555555555556,\"#d8576b\"],[0.6666666666666666,\"#ed7953\"],[0.7777777777777778,\"#fb9f3a\"],[0.8888888888888888,\"#fdca26\"],[1.0,\"#f0f921\"]],\"diverging\":[[0,\"#8e0152\"],[0.1,\"#c51b7d\"],[0.2,\"#de77ae\"],[0.3,\"#f1b6da\"],[0.4,\"#fde0ef\"],[0.5,\"#f7f7f7\"],[0.6,\"#e6f5d0\"],[0.7,\"#b8e186\"],[0.8,\"#7fbc41\"],[0.9,\"#4d9221\"],[1,\"#276419\"]]},\"xaxis\":{\"gridcolor\":\"white\",\"linecolor\":\"white\",\"ticks\":\"\",\"title\":{\"standoff\":15},\"zerolinecolor\":\"white\",\"automargin\":true,\"zerolinewidth\":2},\"yaxis\":{\"gridcolor\":\"white\",\"linecolor\":\"white\",\"ticks\":\"\",\"title\":{\"standoff\":15},\"zerolinecolor\":\"white\",\"automargin\":true,\"zerolinewidth\":2},\"scene\":{\"xaxis\":{\"backgroundcolor\":\"#E5ECF6\",\"gridcolor\":\"white\",\"linecolor\":\"white\",\"showbackground\":true,\"ticks\":\"\",\"zerolinecolor\":\"white\",\"gridwidth\":2},\"yaxis\":{\"backgroundcolor\":\"#E5ECF6\",\"gridcolor\":\"white\",\"linecolor\":\"white\",\"showbackground\":true,\"ticks\":\"\",\"zerolinecolor\":\"white\",\"gridwidth\":2},\"zaxis\":{\"backgroundcolor\":\"#E5ECF6\",\"gridcolor\":\"white\",\"linecolor\":\"white\",\"showbackground\":true,\"ticks\":\"\",\"zerolinecolor\":\"white\",\"gridwidth\":2}},\"shapedefaults\":{\"line\":{\"color\":\"#2a3f5f\"}},\"annotationdefaults\":{\"arrowcolor\":\"#2a3f5f\",\"arrowhead\":0,\"arrowwidth\":1},\"geo\":{\"bgcolor\":\"white\",\"landcolor\":\"#E5ECF6\",\"subunitcolor\":\"white\",\"showland\":true,\"showlakes\":true,\"lakecolor\":\"white\"},\"title\":{\"x\":0.05},\"mapbox\":{\"style\":\"light\"}}},\"geo\":{\"domain\":{\"x\":[0.0,1.0],\"y\":[0.0,1.0]},\"center\":{}},\"legend\":{\"tracegroupgap\":0},\"margin\":{\"t\":60}},                        {\"responsive\": true}                    ).then(function(){\n",
       "                            \n",
       "var gd = document.getElementById('9e1817b9-7c04-498c-9ebb-bcb5fd03fe33');\n",
       "var x = new MutationObserver(function (mutations, observer) {{\n",
       "        var display = window.getComputedStyle(gd).display;\n",
       "        if (!display || display === 'none') {{\n",
       "            console.log([gd, 'removed!']);\n",
       "            Plotly.purge(gd);\n",
       "            observer.disconnect();\n",
       "        }}\n",
       "}});\n",
       "\n",
       "// Listen for the removal of the full notebook cells\n",
       "var notebookContainer = gd.closest('#notebook-container');\n",
       "if (notebookContainer) {{\n",
       "    x.observe(notebookContainer, {childList: true});\n",
       "}}\n",
       "\n",
       "// Listen for the clearing of the current output cell\n",
       "var outputEl = gd.closest('.output');\n",
       "if (outputEl) {{\n",
       "    x.observe(outputEl, {childList: true});\n",
       "}}\n",
       "\n",
       "                        })                };                });            </script>        </div>"
      ]
     },
     "metadata": {},
     "output_type": "display_data"
    }
   ],
   "source": [
    "map1 = px.scatter_geo(data, lat = 'reclat', lon = 'reclong')\n",
    "map1.show()"
   ]
  },
  {
   "cell_type": "code",
   "execution_count": 29,
   "id": "fc274571-2ac8-48fa-adca-0454a7df8fb0",
   "metadata": {},
   "outputs": [
    {
     "data": {
      "application/vnd.plotly.v1+json": {
       "config": {
        "plotlyServerURL": "https://plot.ly"
       },
       "data": [
        {
         "customdata": [
          [
           173
          ]
         ],
         "geo": "geo",
         "hovertemplate": "name=Northwest Africa 3126<br>reclat=%{lat}<br>reclong=%{lon}<br>mass (g)=%{customdata[0]}<extra></extra>",
         "lat": [
          null
         ],
         "legendgroup": "Northwest Africa 3126",
         "lon": [
          null
         ],
         "marker": {
          "color": "#636efa",
          "symbol": "circle"
         },
         "mode": "markers",
         "name": "Northwest Africa 3126",
         "showlegend": true,
         "type": "scattergeo"
        },
        {
         "customdata": [
          [
           63
          ]
         ],
         "geo": "geo",
         "hovertemplate": "name=LaPaz Icefield 04605<br>reclat=%{lat}<br>reclong=%{lon}<br>mass (g)=%{customdata[0]}<extra></extra>",
         "lat": [
          null
         ],
         "legendgroup": "LaPaz Icefield 04605",
         "lon": [
          null
         ],
         "marker": {
          "color": "#EF553B",
          "symbol": "circle"
         },
         "mode": "markers",
         "name": "LaPaz Icefield 04605",
         "showlegend": true,
         "type": "scattergeo"
        },
        {
         "customdata": [
          [
           10.913
          ]
         ],
         "geo": "geo",
         "hovertemplate": "name=Yamato 980593<br>reclat=%{lat}<br>reclong=%{lon}<br>mass (g)=%{customdata[0]}<extra></extra>",
         "lat": [
          null
         ],
         "legendgroup": "Yamato 980593",
         "lon": [
          null
         ],
         "marker": {
          "color": "#00cc96",
          "symbol": "circle"
         },
         "mode": "markers",
         "name": "Yamato 980593",
         "showlegend": true,
         "type": "scattergeo"
        },
        {
         "customdata": [
          [
           27.3
          ]
         ],
         "geo": "geo",
         "hovertemplate": "name=Queen Alexandra Range 97279<br>reclat=%{lat}<br>reclong=%{lon}<br>mass (g)=%{customdata[0]}<extra></extra>",
         "lat": [
          -84
         ],
         "legendgroup": "Queen Alexandra Range 97279",
         "lon": [
          168
         ],
         "marker": {
          "color": "#ab63fa",
          "symbol": "circle"
         },
         "mode": "markers",
         "name": "Queen Alexandra Range 97279",
         "showlegend": true,
         "type": "scattergeo"
        },
        {
         "customdata": [
          [
           20.9
          ]
         ],
         "geo": "geo",
         "hovertemplate": "name=Elephant Moraine 90798<br>reclat=%{lat}<br>reclong=%{lon}<br>mass (g)=%{customdata[0]}<extra></extra>",
         "lat": [
          -76.28535
         ],
         "legendgroup": "Elephant Moraine 90798",
         "lon": [
          156.44404
         ],
         "marker": {
          "color": "#FFA15A",
          "symbol": "circle"
         },
         "mode": "markers",
         "name": "Elephant Moraine 90798",
         "showlegend": true,
         "type": "scattergeo"
        },
        {
         "customdata": [
          [
           2048
          ]
         ],
         "geo": "geo",
         "hovertemplate": "name=Yamato 791406<br>reclat=%{lat}<br>reclong=%{lon}<br>mass (g)=%{customdata[0]}<extra></extra>",
         "lat": [
          -71.5
         ],
         "legendgroup": "Yamato 791406",
         "lon": [
          35.66667
         ],
         "marker": {
          "color": "#19d3f3",
          "symbol": "circle"
         },
         "mode": "markers",
         "name": "Yamato 791406",
         "showlegend": true,
         "type": "scattergeo"
        },
        {
         "customdata": [
          [
           150.1
          ]
         ],
         "geo": "geo",
         "hovertemplate": "name=Wisconsin Range 91628<br>reclat=%{lat}<br>reclong=%{lon}<br>mass (g)=%{customdata[0]}<extra></extra>",
         "lat": [
          -86.51027
         ],
         "legendgroup": "Wisconsin Range 91628",
         "lon": [
          -122.9522
         ],
         "marker": {
          "color": "#FF6692",
          "symbol": "circle"
         },
         "mode": "markers",
         "name": "Wisconsin Range 91628",
         "showlegend": true,
         "type": "scattergeo"
        },
        {
         "customdata": [
          [
           13.16
          ]
         ],
         "geo": "geo",
         "hovertemplate": "name=MacAlpine Hills 02954<br>reclat=%{lat}<br>reclong=%{lon}<br>mass (g)=%{customdata[0]}<extra></extra>",
         "lat": [
          null
         ],
         "legendgroup": "MacAlpine Hills 02954",
         "lon": [
          null
         ],
         "marker": {
          "color": "#B6E880",
          "symbol": "circle"
         },
         "mode": "markers",
         "name": "MacAlpine Hills 02954",
         "showlegend": true,
         "type": "scattergeo"
        },
        {
         "customdata": [
          [
           87.49
          ]
         ],
         "geo": "geo",
         "hovertemplate": "name=Asuka 881874<br>reclat=%{lat}<br>reclong=%{lon}<br>mass (g)=%{customdata[0]}<extra></extra>",
         "lat": [
          -72
         ],
         "legendgroup": "Asuka 881874",
         "lon": [
          26
         ],
         "marker": {
          "color": "#FF97FF",
          "symbol": "circle"
         },
         "mode": "markers",
         "name": "Asuka 881874",
         "showlegend": true,
         "type": "scattergeo"
        },
        {
         "customdata": [
          [
           3.03
          ]
         ],
         "geo": "geo",
         "hovertemplate": "name=Yamato 791391<br>reclat=%{lat}<br>reclong=%{lon}<br>mass (g)=%{customdata[0]}<extra></extra>",
         "lat": [
          -71.5
         ],
         "legendgroup": "Yamato 791391",
         "lon": [
          35.66667
         ],
         "marker": {
          "color": "#FECB52",
          "symbol": "circle"
         },
         "mode": "markers",
         "name": "Yamato 791391",
         "showlegend": true,
         "type": "scattergeo"
        },
        {
         "customdata": [
          [
           31.03
          ]
         ],
         "geo": "geo",
         "hovertemplate": "name=Yamato 791220<br>reclat=%{lat}<br>reclong=%{lon}<br>mass (g)=%{customdata[0]}<extra></extra>",
         "lat": [
          -71.5
         ],
         "legendgroup": "Yamato 791220",
         "lon": [
          35.66667
         ],
         "marker": {
          "color": "#636efa",
          "symbol": "circle"
         },
         "mode": "markers",
         "name": "Yamato 791220",
         "showlegend": true,
         "type": "scattergeo"
        },
        {
         "customdata": [
          [
           1.2
          ]
         ],
         "geo": "geo",
         "hovertemplate": "name=Lewis Cliff 93850<br>reclat=%{lat}<br>reclong=%{lon}<br>mass (g)=%{customdata[0]}<extra></extra>",
         "lat": [
          -84.27378
         ],
         "legendgroup": "Lewis Cliff 93850",
         "lon": [
          161.68545
         ],
         "marker": {
          "color": "#EF553B",
          "symbol": "circle"
         },
         "mode": "markers",
         "name": "Lewis Cliff 93850",
         "showlegend": true,
         "type": "scattergeo"
        },
        {
         "customdata": [
          [
           9.217
          ]
         ],
         "geo": "geo",
         "hovertemplate": "name=Yamato 980011<br>reclat=%{lat}<br>reclong=%{lon}<br>mass (g)=%{customdata[0]}<extra></extra>",
         "lat": [
          null
         ],
         "legendgroup": "Yamato 980011",
         "lon": [
          null
         ],
         "marker": {
          "color": "#00cc96",
          "symbol": "circle"
         },
         "mode": "markers",
         "name": "Yamato 980011",
         "showlegend": true,
         "type": "scattergeo"
        },
        {
         "customdata": [
          [
           1000
          ]
         ],
         "geo": "geo",
         "hovertemplate": "name=Summit<br>reclat=%{lat}<br>reclong=%{lon}<br>mass (g)=%{customdata[0]}<extra></extra>",
         "lat": [
          34.2
         ],
         "legendgroup": "Summit",
         "lon": [
          -86.48333
         ],
         "marker": {
          "color": "#ab63fa",
          "symbol": "circle"
         },
         "mode": "markers",
         "name": "Summit",
         "showlegend": true,
         "type": "scattergeo"
        },
        {
         "customdata": [
          [
           2.4
          ]
         ],
         "geo": "geo",
         "hovertemplate": "name=Lewis Cliff 87228<br>reclat=%{lat}<br>reclong=%{lon}<br>mass (g)=%{customdata[0]}<extra></extra>",
         "lat": [
          -84.357
         ],
         "legendgroup": "Lewis Cliff 87228",
         "lon": [
          161.36443
         ],
         "marker": {
          "color": "#FFA15A",
          "symbol": "circle"
         },
         "mode": "markers",
         "name": "Lewis Cliff 87228",
         "showlegend": true,
         "type": "scattergeo"
        },
        {
         "customdata": [
          [
           0.5
          ]
         ],
         "geo": "geo",
         "hovertemplate": "name=Queen Alexandra Range 99817<br>reclat=%{lat}<br>reclong=%{lon}<br>mass (g)=%{customdata[0]}<extra></extra>",
         "lat": [
          -84
         ],
         "legendgroup": "Queen Alexandra Range 99817",
         "lon": [
          168
         ],
         "marker": {
          "color": "#19d3f3",
          "symbol": "circle"
         },
         "mode": "markers",
         "name": "Queen Alexandra Range 99817",
         "showlegend": true,
         "type": "scattergeo"
        },
        {
         "customdata": [
          [
           16.4
          ]
         ],
         "geo": "geo",
         "hovertemplate": "name=Queen Alexandra Range 99160<br>reclat=%{lat}<br>reclong=%{lon}<br>mass (g)=%{customdata[0]}<extra></extra>",
         "lat": [
          -84
         ],
         "legendgroup": "Queen Alexandra Range 99160",
         "lon": [
          168
         ],
         "marker": {
          "color": "#FF6692",
          "symbol": "circle"
         },
         "mode": "markers",
         "name": "Queen Alexandra Range 99160",
         "showlegend": true,
         "type": "scattergeo"
        },
        {
         "customdata": [
          [
           45.21
          ]
         ],
         "geo": "geo",
         "hovertemplate": "name=Asuka 882014<br>reclat=%{lat}<br>reclong=%{lon}<br>mass (g)=%{customdata[0]}<extra></extra>",
         "lat": [
          -72
         ],
         "legendgroup": "Asuka 882014",
         "lon": [
          26
         ],
         "marker": {
          "color": "#B6E880",
          "symbol": "circle"
         },
         "mode": "markers",
         "name": "Asuka 882014",
         "showlegend": true,
         "type": "scattergeo"
        },
        {
         "customdata": [
          [
           1.4
          ]
         ],
         "geo": "geo",
         "hovertemplate": "name=Queen Alexandra Range 99909<br>reclat=%{lat}<br>reclong=%{lon}<br>mass (g)=%{customdata[0]}<extra></extra>",
         "lat": [
          -84
         ],
         "legendgroup": "Queen Alexandra Range 99909",
         "lon": [
          168
         ],
         "marker": {
          "color": "#FF97FF",
          "symbol": "circle"
         },
         "mode": "markers",
         "name": "Queen Alexandra Range 99909",
         "showlegend": true,
         "type": "scattergeo"
        },
        {
         "customdata": [
          [
           2.55
          ]
         ],
         "geo": "geo",
         "hovertemplate": "name=Grove Mountains 022099<br>reclat=%{lat}<br>reclong=%{lon}<br>mass (g)=%{customdata[0]}<extra></extra>",
         "lat": [
          -72.77917
         ],
         "legendgroup": "Grove Mountains 022099",
         "lon": [
          75.31056
         ],
         "marker": {
          "color": "#FECB52",
          "symbol": "circle"
         },
         "mode": "markers",
         "name": "Grove Mountains 022099",
         "showlegend": true,
         "type": "scattergeo"
        },
        {
         "customdata": [
          [
           33.8
          ]
         ],
         "geo": "geo",
         "hovertemplate": "name=Bates Nunataks 00301<br>reclat=%{lat}<br>reclong=%{lon}<br>mass (g)=%{customdata[0]}<extra></extra>",
         "lat": [
          -80.25
         ],
         "legendgroup": "Bates Nunataks 00301",
         "lon": [
          153.5
         ],
         "marker": {
          "color": "#636efa",
          "symbol": "circle"
         },
         "mode": "markers",
         "name": "Bates Nunataks 00301",
         "showlegend": true,
         "type": "scattergeo"
        },
        {
         "customdata": [
          [
           1.1
          ]
         ],
         "geo": "geo",
         "hovertemplate": "name=MacAlpine Hills 041181<br>reclat=%{lat}<br>reclong=%{lon}<br>mass (g)=%{customdata[0]}<extra></extra>",
         "lat": [
          null
         ],
         "legendgroup": "MacAlpine Hills 041181",
         "lon": [
          null
         ],
         "marker": {
          "color": "#EF553B",
          "symbol": "circle"
         },
         "mode": "markers",
         "name": "MacAlpine Hills 041181",
         "showlegend": true,
         "type": "scattergeo"
        },
        {
         "customdata": [
          [
           8.1
          ]
         ],
         "geo": "geo",
         "hovertemplate": "name=Pecora Escarpment 91293<br>reclat=%{lat}<br>reclong=%{lon}<br>mass (g)=%{customdata[0]}<extra></extra>",
         "lat": [
          -85.691
         ],
         "legendgroup": "Pecora Escarpment 91293",
         "lon": [
          -68.96836
         ],
         "marker": {
          "color": "#00cc96",
          "symbol": "circle"
         },
         "mode": "markers",
         "name": "Pecora Escarpment 91293",
         "showlegend": true,
         "type": "scattergeo"
        },
        {
         "customdata": [
          [
           52.4
          ]
         ],
         "geo": "geo",
         "hovertemplate": "name=Queen Alexandra Range 99325<br>reclat=%{lat}<br>reclong=%{lon}<br>mass (g)=%{customdata[0]}<extra></extra>",
         "lat": [
          -84
         ],
         "legendgroup": "Queen Alexandra Range 99325",
         "lon": [
          168
         ],
         "marker": {
          "color": "#ab63fa",
          "symbol": "circle"
         },
         "mode": "markers",
         "name": "Queen Alexandra Range 99325",
         "showlegend": true,
         "type": "scattergeo"
        },
        {
         "customdata": [
          [
           197.2
          ]
         ],
         "geo": "geo",
         "hovertemplate": "name=Miller Range 05048<br>reclat=%{lat}<br>reclong=%{lon}<br>mass (g)=%{customdata[0]}<extra></extra>",
         "lat": [
          null
         ],
         "legendgroup": "Miller Range 05048",
         "lon": [
          null
         ],
         "marker": {
          "color": "#FFA15A",
          "symbol": "circle"
         },
         "mode": "markers",
         "name": "Miller Range 05048",
         "showlegend": true,
         "type": "scattergeo"
        },
        {
         "customdata": [
          [
           101.4
          ]
         ],
         "geo": "geo",
         "hovertemplate": "name=Roberts Massif 04142<br>reclat=%{lat}<br>reclong=%{lon}<br>mass (g)=%{customdata[0]}<extra></extra>",
         "lat": [
          null
         ],
         "legendgroup": "Roberts Massif 04142",
         "lon": [
          null
         ],
         "marker": {
          "color": "#19d3f3",
          "symbol": "circle"
         },
         "mode": "markers",
         "name": "Roberts Massif 04142",
         "showlegend": true,
         "type": "scattergeo"
        },
        {
         "customdata": [
          [
           4.4
          ]
         ],
         "geo": "geo",
         "hovertemplate": "name=Allan Hills A78069<br>reclat=%{lat}<br>reclong=%{lon}<br>mass (g)=%{customdata[0]}<extra></extra>",
         "lat": [
          -76.71667
         ],
         "legendgroup": "Allan Hills A78069",
         "lon": [
          159.66667
         ],
         "marker": {
          "color": "#FF6692",
          "symbol": "circle"
         },
         "mode": "markers",
         "name": "Allan Hills A78069",
         "showlegend": true,
         "type": "scattergeo"
        },
        {
         "customdata": [
          [
           12.976
          ]
         ],
         "geo": "geo",
         "hovertemplate": "name=Yamato 980814<br>reclat=%{lat}<br>reclong=%{lon}<br>mass (g)=%{customdata[0]}<extra></extra>",
         "lat": [
          null
         ],
         "legendgroup": "Yamato 980814",
         "lon": [
          null
         ],
         "marker": {
          "color": "#B6E880",
          "symbol": "circle"
         },
         "mode": "markers",
         "name": "Yamato 980814",
         "showlegend": true,
         "type": "scattergeo"
        },
        {
         "customdata": [
          [
           579
          ]
         ],
         "geo": "geo",
         "hovertemplate": "name=Northwest Africa 4425<br>reclat=%{lat}<br>reclong=%{lon}<br>mass (g)=%{customdata[0]}<extra></extra>",
         "lat": [
          null
         ],
         "legendgroup": "Northwest Africa 4425",
         "lon": [
          null
         ],
         "marker": {
          "color": "#FF97FF",
          "symbol": "circle"
         },
         "mode": "markers",
         "name": "Northwest Africa 4425",
         "showlegend": true,
         "type": "scattergeo"
        },
        {
         "customdata": [
          [
           69.9
          ]
         ],
         "geo": "geo",
         "hovertemplate": "name=Yamato 74123<br>reclat=%{lat}<br>reclong=%{lon}<br>mass (g)=%{customdata[0]}<extra></extra>",
         "lat": [
          -71.82806
         ],
         "legendgroup": "Yamato 74123",
         "lon": [
          36.20556
         ],
         "marker": {
          "color": "#FECB52",
          "symbol": "circle"
         },
         "mode": "markers",
         "name": "Yamato 74123",
         "showlegend": true,
         "type": "scattergeo"
        },
        {
         "customdata": [
          [
           9.49
          ]
         ],
         "geo": "geo",
         "hovertemplate": "name=Yamato 983261<br>reclat=%{lat}<br>reclong=%{lon}<br>mass (g)=%{customdata[0]}<extra></extra>",
         "lat": [
          0
         ],
         "legendgroup": "Yamato 983261",
         "lon": [
          0
         ],
         "marker": {
          "color": "#636efa",
          "symbol": "circle"
         },
         "mode": "markers",
         "name": "Yamato 983261",
         "showlegend": true,
         "type": "scattergeo"
        },
        {
         "customdata": [
          [
           102.79
          ]
         ],
         "geo": "geo",
         "hovertemplate": "name=Yamato 981304<br>reclat=%{lat}<br>reclong=%{lon}<br>mass (g)=%{customdata[0]}<extra></extra>",
         "lat": [
          0
         ],
         "legendgroup": "Yamato 981304",
         "lon": [
          0
         ],
         "marker": {
          "color": "#EF553B",
          "symbol": "circle"
         },
         "mode": "markers",
         "name": "Yamato 981304",
         "showlegend": true,
         "type": "scattergeo"
        },
        {
         "customdata": [
          [
           1.58
          ]
         ],
         "geo": "geo",
         "hovertemplate": "name=Grove Mountains 054856<br>reclat=%{lat}<br>reclong=%{lon}<br>mass (g)=%{customdata[0]}<extra></extra>",
         "lat": [
          -72.99889
         ],
         "legendgroup": "Grove Mountains 054856",
         "lon": [
          75.18722
         ],
         "marker": {
          "color": "#00cc96",
          "symbol": "circle"
         },
         "mode": "markers",
         "name": "Grove Mountains 054856",
         "showlegend": true,
         "type": "scattergeo"
        },
        {
         "customdata": [
          [
           0.45
          ]
         ],
         "geo": "geo",
         "hovertemplate": "name=Grove Mountains 021911<br>reclat=%{lat}<br>reclong=%{lon}<br>mass (g)=%{customdata[0]}<extra></extra>",
         "lat": [
          -72.7769
         ],
         "legendgroup": "Grove Mountains 021911",
         "lon": [
          75.3264
         ],
         "marker": {
          "color": "#ab63fa",
          "symbol": "circle"
         },
         "mode": "markers",
         "name": "Grove Mountains 021911",
         "showlegend": true,
         "type": "scattergeo"
        },
        {
         "customdata": [
          [
           3879
          ]
         ],
         "geo": "geo",
         "hovertemplate": "name=Ramlat as Sahmah 422<br>reclat=%{lat}<br>reclong=%{lon}<br>mass (g)=%{customdata[0]}<extra></extra>",
         "lat": [
          20.5052
         ],
         "legendgroup": "Ramlat as Sahmah 422",
         "lon": [
          56.48438
         ],
         "marker": {
          "color": "#FFA15A",
          "symbol": "circle"
         },
         "mode": "markers",
         "name": "Ramlat as Sahmah 422",
         "showlegend": true,
         "type": "scattergeo"
        },
        {
         "customdata": [
          [
           5100
          ]
         ],
         "geo": "geo",
         "hovertemplate": "name=Pasamonte<br>reclat=%{lat}<br>reclong=%{lon}<br>mass (g)=%{customdata[0]}<extra></extra>",
         "lat": [
          36.21667
         ],
         "legendgroup": "Pasamonte",
         "lon": [
          -103.4
         ],
         "marker": {
          "color": "#19d3f3",
          "symbol": "circle"
         },
         "mode": "markers",
         "name": "Pasamonte",
         "showlegend": true,
         "type": "scattergeo"
        },
        {
         "customdata": [
          [
           3.26
          ]
         ],
         "geo": "geo",
         "hovertemplate": "name=Grove Mountains 053128<br>reclat=%{lat}<br>reclong=%{lon}<br>mass (g)=%{customdata[0]}<extra></extra>",
         "lat": [
          -72.76944
         ],
         "legendgroup": "Grove Mountains 053128",
         "lon": [
          75.3375
         ],
         "marker": {
          "color": "#FF6692",
          "symbol": "circle"
         },
         "mode": "markers",
         "name": "Grove Mountains 053128",
         "showlegend": true,
         "type": "scattergeo"
        },
        {
         "customdata": [
          [
           16300
          ]
         ],
         "geo": "geo",
         "hovertemplate": "name=Forsyth<br>reclat=%{lat}<br>reclong=%{lon}<br>mass (g)=%{customdata[0]}<extra></extra>",
         "lat": [
          33.01667
         ],
         "legendgroup": "Forsyth",
         "lon": [
          -83.96667
         ],
         "marker": {
          "color": "#B6E880",
          "symbol": "circle"
         },
         "mode": "markers",
         "name": "Forsyth",
         "showlegend": true,
         "type": "scattergeo"
        },
        {
         "customdata": [
          [
           3.49
          ]
         ],
         "geo": "geo",
         "hovertemplate": "name=LaPaz Icefield 02291<br>reclat=%{lat}<br>reclong=%{lon}<br>mass (g)=%{customdata[0]}<extra></extra>",
         "lat": [
          -86.36667
         ],
         "legendgroup": "LaPaz Icefield 02291",
         "lon": [
          -70
         ],
         "marker": {
          "color": "#FF97FF",
          "symbol": "circle"
         },
         "mode": "markers",
         "name": "LaPaz Icefield 02291",
         "showlegend": true,
         "type": "scattergeo"
        },
        {
         "customdata": [
          [
           0.54
          ]
         ],
         "geo": "geo",
         "hovertemplate": "name=Yamato 74324<br>reclat=%{lat}<br>reclong=%{lon}<br>mass (g)=%{customdata[0]}<extra></extra>",
         "lat": [
          -71.5
         ],
         "legendgroup": "Yamato 74324",
         "lon": [
          35.66667
         ],
         "marker": {
          "color": "#FECB52",
          "symbol": "circle"
         },
         "mode": "markers",
         "name": "Yamato 74324",
         "showlegend": true,
         "type": "scattergeo"
        },
        {
         "customdata": [
          [
           17.54
          ]
         ],
         "geo": "geo",
         "hovertemplate": "name=LaPaz Icefield 02419<br>reclat=%{lat}<br>reclong=%{lon}<br>mass (g)=%{customdata[0]}<extra></extra>",
         "lat": [
          -86.36667
         ],
         "legendgroup": "LaPaz Icefield 02419",
         "lon": [
          -70
         ],
         "marker": {
          "color": "#636efa",
          "symbol": "circle"
         },
         "mode": "markers",
         "name": "LaPaz Icefield 02419",
         "showlegend": true,
         "type": "scattergeo"
        },
        {
         "customdata": [
          [
           4.6
          ]
         ],
         "geo": "geo",
         "hovertemplate": "name=O'Malley 002<br>reclat=%{lat}<br>reclong=%{lon}<br>mass (g)=%{customdata[0]}<extra></extra>",
         "lat": [
          -30.99311
         ],
         "legendgroup": "O'Malley 002",
         "lon": [
          131.33253
         ],
         "marker": {
          "color": "#EF553B",
          "symbol": "circle"
         },
         "mode": "markers",
         "name": "O'Malley 002",
         "showlegend": true,
         "type": "scattergeo"
        },
        {
         "customdata": [
          [
           613
          ]
         ],
         "geo": "geo",
         "hovertemplate": "name=Sayh al Uhaymir 293<br>reclat=%{lat}<br>reclong=%{lon}<br>mass (g)=%{customdata[0]}<extra></extra>",
         "lat": [
          20.60837
         ],
         "legendgroup": "Sayh al Uhaymir 293",
         "lon": [
          57.16007
         ],
         "marker": {
          "color": "#00cc96",
          "symbol": "circle"
         },
         "mode": "markers",
         "name": "Sayh al Uhaymir 293",
         "showlegend": true,
         "type": "scattergeo"
        },
        {
         "customdata": [
          [
           48.2
          ]
         ],
         "geo": "geo",
         "hovertemplate": "name=Frontier Mountain 84002<br>reclat=%{lat}<br>reclong=%{lon}<br>mass (g)=%{customdata[0]}<extra></extra>",
         "lat": [
          -72.95488
         ],
         "legendgroup": "Frontier Mountain 84002",
         "lon": [
          160.47328
         ],
         "marker": {
          "color": "#ab63fa",
          "symbol": "circle"
         },
         "mode": "markers",
         "name": "Frontier Mountain 84002",
         "showlegend": true,
         "type": "scattergeo"
        },
        {
         "customdata": [
          [
           8.6
          ]
         ],
         "geo": "geo",
         "hovertemplate": "name=Elephant Moraine 83224<br>reclat=%{lat}<br>reclong=%{lon}<br>mass (g)=%{customdata[0]}<extra></extra>",
         "lat": [
          -76.31222
         ],
         "legendgroup": "Elephant Moraine 83224",
         "lon": [
          157.39528
         ],
         "marker": {
          "color": "#FFA15A",
          "symbol": "circle"
         },
         "mode": "markers",
         "name": "Elephant Moraine 83224",
         "showlegend": true,
         "type": "scattergeo"
        },
        {
         "customdata": [
          [
           24.2
          ]
         ],
         "geo": "geo",
         "hovertemplate": "name=Yamato 792055<br>reclat=%{lat}<br>reclong=%{lon}<br>mass (g)=%{customdata[0]}<extra></extra>",
         "lat": [
          -71.5
         ],
         "legendgroup": "Yamato 792055",
         "lon": [
          35.66667
         ],
         "marker": {
          "color": "#19d3f3",
          "symbol": "circle"
         },
         "mode": "markers",
         "name": "Yamato 792055",
         "showlegend": true,
         "type": "scattergeo"
        },
        {
         "customdata": [
          [
           0.74
          ]
         ],
         "geo": "geo",
         "hovertemplate": "name=Frontier Mountain 03097<br>reclat=%{lat}<br>reclong=%{lon}<br>mass (g)=%{customdata[0]}<extra></extra>",
         "lat": [
          -72.95222
         ],
         "legendgroup": "Frontier Mountain 03097",
         "lon": [
          160.50161
         ],
         "marker": {
          "color": "#FF6692",
          "symbol": "circle"
         },
         "mode": "markers",
         "name": "Frontier Mountain 03097",
         "showlegend": true,
         "type": "scattergeo"
        },
        {
         "customdata": [
          [
           8.3
          ]
         ],
         "geo": "geo",
         "hovertemplate": "name=Miller Range 090160<br>reclat=%{lat}<br>reclong=%{lon}<br>mass (g)=%{customdata[0]}<extra></extra>",
         "lat": [
          0
         ],
         "legendgroup": "Miller Range 090160",
         "lon": [
          0
         ],
         "marker": {
          "color": "#B6E880",
          "symbol": "circle"
         },
         "mode": "markers",
         "name": "Miller Range 090160",
         "showlegend": true,
         "type": "scattergeo"
        },
        {
         "customdata": [
          [
           7500
          ]
         ],
         "geo": "geo",
         "hovertemplate": "name=Northwest Africa 2304<br>reclat=%{lat}<br>reclong=%{lon}<br>mass (g)=%{customdata[0]}<extra></extra>",
         "lat": [
          null
         ],
         "legendgroup": "Northwest Africa 2304",
         "lon": [
          null
         ],
         "marker": {
          "color": "#FF97FF",
          "symbol": "circle"
         },
         "mode": "markers",
         "name": "Northwest Africa 2304",
         "showlegend": true,
         "type": "scattergeo"
        },
        {
         "customdata": [
          [
           26.7
          ]
         ],
         "geo": "geo",
         "hovertemplate": "name=LaPaz Icefield 04585<br>reclat=%{lat}<br>reclong=%{lon}<br>mass (g)=%{customdata[0]}<extra></extra>",
         "lat": [
          null
         ],
         "legendgroup": "LaPaz Icefield 04585",
         "lon": [
          null
         ],
         "marker": {
          "color": "#FECB52",
          "symbol": "circle"
         },
         "mode": "markers",
         "name": "LaPaz Icefield 04585",
         "showlegend": true,
         "type": "scattergeo"
        },
        {
         "customdata": [
          [
           13600
          ]
         ],
         "geo": "geo",
         "hovertemplate": "name=Bridgewater<br>reclat=%{lat}<br>reclong=%{lon}<br>mass (g)=%{customdata[0]}<extra></extra>",
         "lat": [
          35.71667
         ],
         "legendgroup": "Bridgewater",
         "lon": [
          -81.86667
         ],
         "marker": {
          "color": "#636efa",
          "symbol": "circle"
         },
         "mode": "markers",
         "name": "Bridgewater",
         "showlegend": true,
         "type": "scattergeo"
        },
        {
         "customdata": [
          [
           34.1
          ]
         ],
         "geo": "geo",
         "hovertemplate": "name=Mount Wisting 95307<br>reclat=%{lat}<br>reclong=%{lon}<br>mass (g)=%{customdata[0]}<extra></extra>",
         "lat": [
          -86.45
         ],
         "legendgroup": "Mount Wisting 95307",
         "lon": [
          -165.43333
         ],
         "marker": {
          "color": "#EF553B",
          "symbol": "circle"
         },
         "mode": "markers",
         "name": "Mount Wisting 95307",
         "showlegend": true,
         "type": "scattergeo"
        },
        {
         "customdata": [
          [
           45
          ]
         ],
         "geo": "geo",
         "hovertemplate": "name=Sahara 98430<br>reclat=%{lat}<br>reclong=%{lon}<br>mass (g)=%{customdata[0]}<extra></extra>",
         "lat": [
          null
         ],
         "legendgroup": "Sahara 98430",
         "lon": [
          null
         ],
         "marker": {
          "color": "#00cc96",
          "symbol": "circle"
         },
         "mode": "markers",
         "name": "Sahara 98430",
         "showlegend": true,
         "type": "scattergeo"
        },
        {
         "customdata": [
          [
           56.82
          ]
         ],
         "geo": "geo",
         "hovertemplate": "name=Yamato 74456<br>reclat=%{lat}<br>reclong=%{lon}<br>mass (g)=%{customdata[0]}<extra></extra>",
         "lat": [
          -71.5
         ],
         "legendgroup": "Yamato 74456",
         "lon": [
          35.66667
         ],
         "marker": {
          "color": "#ab63fa",
          "symbol": "circle"
         },
         "mode": "markers",
         "name": "Yamato 74456",
         "showlegend": true,
         "type": "scattergeo"
        },
        {
         "customdata": [
          [
           1.59
          ]
         ],
         "geo": "geo",
         "hovertemplate": "name=Yamato 86585<br>reclat=%{lat}<br>reclong=%{lon}<br>mass (g)=%{customdata[0]}<extra></extra>",
         "lat": [
          -71.5
         ],
         "legendgroup": "Yamato 86585",
         "lon": [
          35.66667
         ],
         "marker": {
          "color": "#FFA15A",
          "symbol": "circle"
         },
         "mode": "markers",
         "name": "Yamato 86585",
         "showlegend": true,
         "type": "scattergeo"
        },
        {
         "customdata": [
          [
           8.4
          ]
         ],
         "geo": "geo",
         "hovertemplate": "name=Elephant Moraine 96180<br>reclat=%{lat}<br>reclong=%{lon}<br>mass (g)=%{customdata[0]}<extra></extra>",
         "lat": [
          -76.18333
         ],
         "legendgroup": "Elephant Moraine 96180",
         "lon": [
          157.16667
         ],
         "marker": {
          "color": "#19d3f3",
          "symbol": "circle"
         },
         "mode": "markers",
         "name": "Elephant Moraine 96180",
         "showlegend": true,
         "type": "scattergeo"
        },
        {
         "customdata": [
          [
           7.3
          ]
         ],
         "geo": "geo",
         "hovertemplate": "name=Miller Range 090186<br>reclat=%{lat}<br>reclong=%{lon}<br>mass (g)=%{customdata[0]}<extra></extra>",
         "lat": [
          0
         ],
         "legendgroup": "Miller Range 090186",
         "lon": [
          0
         ],
         "marker": {
          "color": "#FF6692",
          "symbol": "circle"
         },
         "mode": "markers",
         "name": "Miller Range 090186",
         "showlegend": true,
         "type": "scattergeo"
        },
        {
         "customdata": [
          [
           1.7
          ]
         ],
         "geo": "geo",
         "hovertemplate": "name=Miller Range 090324<br>reclat=%{lat}<br>reclong=%{lon}<br>mass (g)=%{customdata[0]}<extra></extra>",
         "lat": [
          0
         ],
         "legendgroup": "Miller Range 090324",
         "lon": [
          0
         ],
         "marker": {
          "color": "#B6E880",
          "symbol": "circle"
         },
         "mode": "markers",
         "name": "Miller Range 090324",
         "showlegend": true,
         "type": "scattergeo"
        },
        {
         "customdata": [
          [
           2.09
          ]
         ],
         "geo": "geo",
         "hovertemplate": "name=Yamato 75217<br>reclat=%{lat}<br>reclong=%{lon}<br>mass (g)=%{customdata[0]}<extra></extra>",
         "lat": [
          -71.5
         ],
         "legendgroup": "Yamato 75217",
         "lon": [
          35.66667
         ],
         "marker": {
          "color": "#FF97FF",
          "symbol": "circle"
         },
         "mode": "markers",
         "name": "Yamato 75217",
         "showlegend": true,
         "type": "scattergeo"
        },
        {
         "customdata": [
          [
           74
          ]
         ],
         "geo": "geo",
         "hovertemplate": "name=Dhofar 449<br>reclat=%{lat}<br>reclong=%{lon}<br>mass (g)=%{customdata[0]}<extra></extra>",
         "lat": [
          18.90573
         ],
         "legendgroup": "Dhofar 449",
         "lon": [
          54.50885
         ],
         "marker": {
          "color": "#FECB52",
          "symbol": "circle"
         },
         "mode": "markers",
         "name": "Dhofar 449",
         "showlegend": true,
         "type": "scattergeo"
        },
        {
         "customdata": [
          [
           495.4
          ]
         ],
         "geo": "geo",
         "hovertemplate": "name=Roberts Massif 04121<br>reclat=%{lat}<br>reclong=%{lon}<br>mass (g)=%{customdata[0]}<extra></extra>",
         "lat": [
          null
         ],
         "legendgroup": "Roberts Massif 04121",
         "lon": [
          null
         ],
         "marker": {
          "color": "#636efa",
          "symbol": "circle"
         },
         "mode": "markers",
         "name": "Roberts Massif 04121",
         "showlegend": true,
         "type": "scattergeo"
        },
        {
         "customdata": [
          [
           89.6
          ]
         ],
         "geo": "geo",
         "hovertemplate": "name=Queen Alexandra Range 99611<br>reclat=%{lat}<br>reclong=%{lon}<br>mass (g)=%{customdata[0]}<extra></extra>",
         "lat": [
          -84
         ],
         "legendgroup": "Queen Alexandra Range 99611",
         "lon": [
          168
         ],
         "marker": {
          "color": "#EF553B",
          "symbol": "circle"
         },
         "mode": "markers",
         "name": "Queen Alexandra Range 99611",
         "showlegend": true,
         "type": "scattergeo"
        },
        {
         "customdata": [
          [
           420
          ]
         ],
         "geo": "geo",
         "hovertemplate": "name=Acfer 093<br>reclat=%{lat}<br>reclong=%{lon}<br>mass (g)=%{customdata[0]}<extra></extra>",
         "lat": [
          27.71667
         ],
         "legendgroup": "Acfer 093",
         "lon": [
          4.13333
         ],
         "marker": {
          "color": "#00cc96",
          "symbol": "circle"
         },
         "mode": "markers",
         "name": "Acfer 093",
         "showlegend": true,
         "type": "scattergeo"
        },
        {
         "customdata": [
          [
           849
          ]
         ],
         "geo": "geo",
         "hovertemplate": "name=Dhofar 1176<br>reclat=%{lat}<br>reclong=%{lon}<br>mass (g)=%{customdata[0]}<extra></extra>",
         "lat": [
          18.741611
         ],
         "legendgroup": "Dhofar 1176",
         "lon": [
          54.26175
         ],
         "marker": {
          "color": "#ab63fa",
          "symbol": "circle"
         },
         "mode": "markers",
         "name": "Dhofar 1176",
         "showlegend": true,
         "type": "scattergeo"
        },
        {
         "customdata": [
          [
           208
          ]
         ],
         "geo": "geo",
         "hovertemplate": "name=Dhofar 163<br>reclat=%{lat}<br>reclong=%{lon}<br>mass (g)=%{customdata[0]}<extra></extra>",
         "lat": [
          19.14611
         ],
         "legendgroup": "Dhofar 163",
         "lon": [
          54.40111
         ],
         "marker": {
          "color": "#FFA15A",
          "symbol": "circle"
         },
         "mode": "markers",
         "name": "Dhofar 163",
         "showlegend": true,
         "type": "scattergeo"
        },
        {
         "customdata": [
          [
           8300
          ]
         ],
         "geo": "geo",
         "hovertemplate": "name=St. Mesmin<br>reclat=%{lat}<br>reclong=%{lon}<br>mass (g)=%{customdata[0]}<extra></extra>",
         "lat": [
          48.45
         ],
         "legendgroup": "St. Mesmin",
         "lon": [
          3.93333
         ],
         "marker": {
          "color": "#19d3f3",
          "symbol": "circle"
         },
         "mode": "markers",
         "name": "St. Mesmin",
         "showlegend": true,
         "type": "scattergeo"
        },
        {
         "customdata": [
          [
           228
          ]
         ],
         "geo": "geo",
         "hovertemplate": "name=Catalina 005<br>reclat=%{lat}<br>reclong=%{lon}<br>mass (g)=%{customdata[0]}<extra></extra>",
         "lat": [
          -25.23333
         ],
         "legendgroup": "Catalina 005",
         "lon": [
          -69.71667
         ],
         "marker": {
          "color": "#FF6692",
          "symbol": "circle"
         },
         "mode": "markers",
         "name": "Catalina 005",
         "showlegend": true,
         "type": "scattergeo"
        },
        {
         "customdata": [
          [
           2.98
          ]
         ],
         "geo": "geo",
         "hovertemplate": "name=Yamato 792614<br>reclat=%{lat}<br>reclong=%{lon}<br>mass (g)=%{customdata[0]}<extra></extra>",
         "lat": [
          -71.5
         ],
         "legendgroup": "Yamato 792614",
         "lon": [
          35.66667
         ],
         "marker": {
          "color": "#B6E880",
          "symbol": "circle"
         },
         "mode": "markers",
         "name": "Yamato 792614",
         "showlegend": true,
         "type": "scattergeo"
        },
        {
         "customdata": [
          [
           53.8
          ]
         ],
         "geo": "geo",
         "hovertemplate": "name=Pecora Escarpment 91257<br>reclat=%{lat}<br>reclong=%{lon}<br>mass (g)=%{customdata[0]}<extra></extra>",
         "lat": [
          -85.66787
         ],
         "legendgroup": "Pecora Escarpment 91257",
         "lon": [
          -68.25751
         ],
         "marker": {
          "color": "#FF97FF",
          "symbol": "circle"
         },
         "mode": "markers",
         "name": "Pecora Escarpment 91257",
         "showlegend": true,
         "type": "scattergeo"
        },
        {
         "customdata": [
          [
           55.9
          ]
         ],
         "geo": "geo",
         "hovertemplate": "name=Grosvenor Mountains 03126<br>reclat=%{lat}<br>reclong=%{lon}<br>mass (g)=%{customdata[0]}<extra></extra>",
         "lat": [
          null
         ],
         "legendgroup": "Grosvenor Mountains 03126",
         "lon": [
          null
         ],
         "marker": {
          "color": "#FECB52",
          "symbol": "circle"
         },
         "mode": "markers",
         "name": "Grosvenor Mountains 03126",
         "showlegend": true,
         "type": "scattergeo"
        },
        {
         "customdata": [
          [
           73
          ]
         ],
         "geo": "geo",
         "hovertemplate": "name=Dhofar 570<br>reclat=%{lat}<br>reclong=%{lon}<br>mass (g)=%{customdata[0]}<extra></extra>",
         "lat": [
          18.70115
         ],
         "legendgroup": "Dhofar 570",
         "lon": [
          54.36907
         ],
         "marker": {
          "color": "#636efa",
          "symbol": "circle"
         },
         "mode": "markers",
         "name": "Dhofar 570",
         "showlegend": true,
         "type": "scattergeo"
        },
        {
         "customdata": [
          [
           53
          ]
         ],
         "geo": "geo",
         "hovertemplate": "name=Bronco (c)<br>reclat=%{lat}<br>reclong=%{lon}<br>mass (g)=%{customdata[0]}<extra></extra>",
         "lat": [
          33.275
         ],
         "legendgroup": "Bronco (c)",
         "lon": [
          -102.96
         ],
         "marker": {
          "color": "#EF553B",
          "symbol": "circle"
         },
         "mode": "markers",
         "name": "Bronco (c)",
         "showlegend": true,
         "type": "scattergeo"
        },
        {
         "customdata": [
          [
           0.9
          ]
         ],
         "geo": "geo",
         "hovertemplate": "name=MacAlpine Hills 041138<br>reclat=%{lat}<br>reclong=%{lon}<br>mass (g)=%{customdata[0]}<extra></extra>",
         "lat": [
          null
         ],
         "legendgroup": "MacAlpine Hills 041138",
         "lon": [
          null
         ],
         "marker": {
          "color": "#00cc96",
          "symbol": "circle"
         },
         "mode": "markers",
         "name": "MacAlpine Hills 041138",
         "showlegend": true,
         "type": "scattergeo"
        },
        {
         "customdata": [
          [
           1230.8
          ]
         ],
         "geo": "geo",
         "hovertemplate": "name=Elephant Moraine 87535<br>reclat=%{lat}<br>reclong=%{lon}<br>mass (g)=%{customdata[0]}<extra></extra>",
         "lat": [
          -76.27512
         ],
         "legendgroup": "Elephant Moraine 87535",
         "lon": [
          156.36181
         ],
         "marker": {
          "color": "#ab63fa",
          "symbol": "circle"
         },
         "mode": "markers",
         "name": "Elephant Moraine 87535",
         "showlegend": true,
         "type": "scattergeo"
        },
        {
         "customdata": [
          [
           587.7
          ]
         ],
         "geo": "geo",
         "hovertemplate": "name=Wisconsin Range 91601<br>reclat=%{lat}<br>reclong=%{lon}<br>mass (g)=%{customdata[0]}<extra></extra>",
         "lat": [
          -86.52222
         ],
         "legendgroup": "Wisconsin Range 91601",
         "lon": [
          -123.79341
         ],
         "marker": {
          "color": "#FFA15A",
          "symbol": "circle"
         },
         "mode": "markers",
         "name": "Wisconsin Range 91601",
         "showlegend": true,
         "type": "scattergeo"
        },
        {
         "customdata": [
          [
           8725
          ]
         ],
         "geo": "geo",
         "hovertemplate": "name=Allan Hills A80101<br>reclat=%{lat}<br>reclong=%{lon}<br>mass (g)=%{customdata[0]}<extra></extra>",
         "lat": [
          -76.77389
         ],
         "legendgroup": "Allan Hills A80101",
         "lon": [
          159.275
         ],
         "marker": {
          "color": "#19d3f3",
          "symbol": "circle"
         },
         "mode": "markers",
         "name": "Allan Hills A80101",
         "showlegend": true,
         "type": "scattergeo"
        },
        {
         "customdata": [
          [
           17.5
          ]
         ],
         "geo": "geo",
         "hovertemplate": "name=Elephant Moraine 96155<br>reclat=%{lat}<br>reclong=%{lon}<br>mass (g)=%{customdata[0]}<extra></extra>",
         "lat": [
          -76.18333
         ],
         "legendgroup": "Elephant Moraine 96155",
         "lon": [
          157.16667
         ],
         "marker": {
          "color": "#FF6692",
          "symbol": "circle"
         },
         "mode": "markers",
         "name": "Elephant Moraine 96155",
         "showlegend": true,
         "type": "scattergeo"
        },
        {
         "customdata": [
          [
           112.86
          ]
         ],
         "geo": "geo",
         "hovertemplate": "name=Yamato 982042<br>reclat=%{lat}<br>reclong=%{lon}<br>mass (g)=%{customdata[0]}<extra></extra>",
         "lat": [
          0
         ],
         "legendgroup": "Yamato 982042",
         "lon": [
          0
         ],
         "marker": {
          "color": "#B6E880",
          "symbol": "circle"
         },
         "mode": "markers",
         "name": "Yamato 982042",
         "showlegend": true,
         "type": "scattergeo"
        },
        {
         "customdata": [
          [
           8.9
          ]
         ],
         "geo": "geo",
         "hovertemplate": "name=Lewis Cliff 88596<br>reclat=%{lat}<br>reclong=%{lon}<br>mass (g)=%{customdata[0]}<extra></extra>",
         "lat": [
          -84.25231
         ],
         "legendgroup": "Lewis Cliff 88596",
         "lon": [
          161.45413
         ],
         "marker": {
          "color": "#FF97FF",
          "symbol": "circle"
         },
         "mode": "markers",
         "name": "Lewis Cliff 88596",
         "showlegend": true,
         "type": "scattergeo"
        },
        {
         "customdata": [
          [
           779.6
          ]
         ],
         "geo": "geo",
         "hovertemplate": "name=Allan Hills A77003<br>reclat=%{lat}<br>reclong=%{lon}<br>mass (g)=%{customdata[0]}<extra></extra>",
         "lat": [
          -76.71667
         ],
         "legendgroup": "Allan Hills A77003",
         "lon": [
          159.66667
         ],
         "marker": {
          "color": "#FECB52",
          "symbol": "circle"
         },
         "mode": "markers",
         "name": "Allan Hills A77003",
         "showlegend": true,
         "type": "scattergeo"
        },
        {
         "customdata": [
          [
           2250
          ]
         ],
         "geo": "geo",
         "hovertemplate": "name=Bulls Run<br>reclat=%{lat}<br>reclong=%{lon}<br>mass (g)=%{customdata[0]}<extra></extra>",
         "lat": [
          null
         ],
         "legendgroup": "Bulls Run",
         "lon": [
          null
         ],
         "marker": {
          "color": "#636efa",
          "symbol": "circle"
         },
         "mode": "markers",
         "name": "Bulls Run",
         "showlegend": true,
         "type": "scattergeo"
        },
        {
         "customdata": [
          [
           3.8
          ]
         ],
         "geo": "geo",
         "hovertemplate": "name=Queen Alexandra Range 97831<br>reclat=%{lat}<br>reclong=%{lon}<br>mass (g)=%{customdata[0]}<extra></extra>",
         "lat": [
          -84
         ],
         "legendgroup": "Queen Alexandra Range 97831",
         "lon": [
          168
         ],
         "marker": {
          "color": "#EF553B",
          "symbol": "circle"
         },
         "mode": "markers",
         "name": "Queen Alexandra Range 97831",
         "showlegend": true,
         "type": "scattergeo"
        },
        {
         "customdata": [
          [
           188
          ]
         ],
         "geo": "geo",
         "hovertemplate": "name=Northwest Africa 1056<br>reclat=%{lat}<br>reclong=%{lon}<br>mass (g)=%{customdata[0]}<extra></extra>",
         "lat": [
          null
         ],
         "legendgroup": "Northwest Africa 1056",
         "lon": [
          null
         ],
         "marker": {
          "color": "#00cc96",
          "symbol": "circle"
         },
         "mode": "markers",
         "name": "Northwest Africa 1056",
         "showlegend": true,
         "type": "scattergeo"
        },
        {
         "customdata": [
          [
           37.1
          ]
         ],
         "geo": "geo",
         "hovertemplate": "name=Pecora Escarpment 91080<br>reclat=%{lat}<br>reclong=%{lon}<br>mass (g)=%{customdata[0]}<extra></extra>",
         "lat": [
          -85.68006
         ],
         "legendgroup": "Pecora Escarpment 91080",
         "lon": [
          -68.68107
         ],
         "marker": {
          "color": "#ab63fa",
          "symbol": "circle"
         },
         "mode": "markers",
         "name": "Pecora Escarpment 91080",
         "showlegend": true,
         "type": "scattergeo"
        },
        {
         "customdata": [
          [
           86.1
          ]
         ],
         "geo": "geo",
         "hovertemplate": "name=Queen Alexandra Range 99445<br>reclat=%{lat}<br>reclong=%{lon}<br>mass (g)=%{customdata[0]}<extra></extra>",
         "lat": [
          -84
         ],
         "legendgroup": "Queen Alexandra Range 99445",
         "lon": [
          168
         ],
         "marker": {
          "color": "#FFA15A",
          "symbol": "circle"
         },
         "mode": "markers",
         "name": "Queen Alexandra Range 99445",
         "showlegend": true,
         "type": "scattergeo"
        },
        {
         "customdata": [
          [
           68.4
          ]
         ],
         "geo": "geo",
         "hovertemplate": "name=Elephant Moraine 90838<br>reclat=%{lat}<br>reclong=%{lon}<br>mass (g)=%{customdata[0]}<extra></extra>",
         "lat": [
          -76.28565
         ],
         "legendgroup": "Elephant Moraine 90838",
         "lon": [
          156.48143
         ],
         "marker": {
          "color": "#19d3f3",
          "symbol": "circle"
         },
         "mode": "markers",
         "name": "Elephant Moraine 90838",
         "showlegend": true,
         "type": "scattergeo"
        },
        {
         "customdata": [
          [
           3.54
          ]
         ],
         "geo": "geo",
         "hovertemplate": "name=Yamato 86122<br>reclat=%{lat}<br>reclong=%{lon}<br>mass (g)=%{customdata[0]}<extra></extra>",
         "lat": [
          -71.5
         ],
         "legendgroup": "Yamato 86122",
         "lon": [
          35.66667
         ],
         "marker": {
          "color": "#FF6692",
          "symbol": "circle"
         },
         "mode": "markers",
         "name": "Yamato 86122",
         "showlegend": true,
         "type": "scattergeo"
        },
        {
         "customdata": [
          [
           244
          ]
         ],
         "geo": "geo",
         "hovertemplate": "name=Dar al Gani 234<br>reclat=%{lat}<br>reclong=%{lon}<br>mass (g)=%{customdata[0]}<extra></extra>",
         "lat": [
          27.17717
         ],
         "legendgroup": "Dar al Gani 234",
         "lon": [
          16.26683
         ],
         "marker": {
          "color": "#B6E880",
          "symbol": "circle"
         },
         "mode": "markers",
         "name": "Dar al Gani 234",
         "showlegend": true,
         "type": "scattergeo"
        },
        {
         "customdata": [
          [
           9.97
          ]
         ],
         "geo": "geo",
         "hovertemplate": "name=Yamato 790428<br>reclat=%{lat}<br>reclong=%{lon}<br>mass (g)=%{customdata[0]}<extra></extra>",
         "lat": [
          -71.5
         ],
         "legendgroup": "Yamato 790428",
         "lon": [
          35.66667
         ],
         "marker": {
          "color": "#FF97FF",
          "symbol": "circle"
         },
         "mode": "markers",
         "name": "Yamato 790428",
         "showlegend": true,
         "type": "scattergeo"
        },
        {
         "customdata": [
          [
           12.31
          ]
         ],
         "geo": "geo",
         "hovertemplate": "name=Frontier Mountain 03041<br>reclat=%{lat}<br>reclong=%{lon}<br>mass (g)=%{customdata[0]}<extra></extra>",
         "lat": [
          -72.95108
         ],
         "legendgroup": "Frontier Mountain 03041",
         "lon": [
          160.51425
         ],
         "marker": {
          "color": "#FECB52",
          "symbol": "circle"
         },
         "mode": "markers",
         "name": "Frontier Mountain 03041",
         "showlegend": true,
         "type": "scattergeo"
        },
        {
         "customdata": [
          [
           18.7
          ]
         ],
         "geo": "geo",
         "hovertemplate": "name=Meteorite Hills 001117<br>reclat=%{lat}<br>reclong=%{lon}<br>mass (g)=%{customdata[0]}<extra></extra>",
         "lat": [
          -79.68333
         ],
         "legendgroup": "Meteorite Hills 001117",
         "lon": [
          159.75
         ],
         "marker": {
          "color": "#636efa",
          "symbol": "circle"
         },
         "mode": "markers",
         "name": "Meteorite Hills 001117",
         "showlegend": true,
         "type": "scattergeo"
        },
        {
         "customdata": [
          [
           78.8
          ]
         ],
         "geo": "geo",
         "hovertemplate": "name=Meteorite Hills 01120<br>reclat=%{lat}<br>reclong=%{lon}<br>mass (g)=%{customdata[0]}<extra></extra>",
         "lat": [
          -79.68333
         ],
         "legendgroup": "Meteorite Hills 01120",
         "lon": [
          159.75
         ],
         "marker": {
          "color": "#EF553B",
          "symbol": "circle"
         },
         "mode": "markers",
         "name": "Meteorite Hills 01120",
         "showlegend": true,
         "type": "scattergeo"
        },
        {
         "customdata": [
          [
           18.2
          ]
         ],
         "geo": "geo",
         "hovertemplate": "name=Lewis Cliff 86165<br>reclat=%{lat}<br>reclong=%{lon}<br>mass (g)=%{customdata[0]}<extra></extra>",
         "lat": [
          -84.25909
         ],
         "legendgroup": "Lewis Cliff 86165",
         "lon": [
          161.41026
         ],
         "marker": {
          "color": "#00cc96",
          "symbol": "circle"
         },
         "mode": "markers",
         "name": "Lewis Cliff 86165",
         "showlegend": true,
         "type": "scattergeo"
        },
        {
         "customdata": [
          [
           4100
          ]
         ],
         "geo": "geo",
         "hovertemplate": "name=Dwight<br>reclat=%{lat}<br>reclong=%{lon}<br>mass (g)=%{customdata[0]}<extra></extra>",
         "lat": [
          38.85
         ],
         "legendgroup": "Dwight",
         "lon": [
          -96.58333
         ],
         "marker": {
          "color": "#ab63fa",
          "symbol": "circle"
         },
         "mode": "markers",
         "name": "Dwight",
         "showlegend": true,
         "type": "scattergeo"
        },
        {
         "customdata": [
          [
           815
          ]
         ],
         "geo": "geo",
         "hovertemplate": "name=Northwest Africa 5779<br>reclat=%{lat}<br>reclong=%{lon}<br>mass (g)=%{customdata[0]}<extra></extra>",
         "lat": [
          0
         ],
         "legendgroup": "Northwest Africa 5779",
         "lon": [
          0
         ],
         "marker": {
          "color": "#FFA15A",
          "symbol": "circle"
         },
         "mode": "markers",
         "name": "Northwest Africa 5779",
         "showlegend": true,
         "type": "scattergeo"
        },
        {
         "customdata": [
          [
           1095
          ]
         ],
         "geo": "geo",
         "hovertemplate": "name=Dhofar 095<br>reclat=%{lat}<br>reclong=%{lon}<br>mass (g)=%{customdata[0]}<extra></extra>",
         "lat": [
          18.67917
         ],
         "legendgroup": "Dhofar 095",
         "lon": [
          54.58783
         ],
         "marker": {
          "color": "#19d3f3",
          "symbol": "circle"
         },
         "mode": "markers",
         "name": "Dhofar 095",
         "showlegend": true,
         "type": "scattergeo"
        },
        {
         "customdata": [
          [
           254
          ]
         ],
         "geo": "geo",
         "hovertemplate": "name=Northwest Africa 4283<br>reclat=%{lat}<br>reclong=%{lon}<br>mass (g)=%{customdata[0]}<extra></extra>",
         "lat": [
          null
         ],
         "legendgroup": "Northwest Africa 4283",
         "lon": [
          null
         ],
         "marker": {
          "color": "#FF6692",
          "symbol": "circle"
         },
         "mode": "markers",
         "name": "Northwest Africa 4283",
         "showlegend": true,
         "type": "scattergeo"
        },
        {
         "customdata": [
          [
           9.2
          ]
         ],
         "geo": "geo",
         "hovertemplate": "name=Lewis Cliff 86333<br>reclat=%{lat}<br>reclong=%{lon}<br>mass (g)=%{customdata[0]}<extra></extra>",
         "lat": [
          -84.28986
         ],
         "legendgroup": "Lewis Cliff 86333",
         "lon": [
          161.28593
         ],
         "marker": {
          "color": "#B6E880",
          "symbol": "circle"
         },
         "mode": "markers",
         "name": "Lewis Cliff 86333",
         "showlegend": true,
         "type": "scattergeo"
        },
        {
         "customdata": [
          [
           31.9
          ]
         ],
         "geo": "geo",
         "hovertemplate": "name=Queen Alexandra Range 97878<br>reclat=%{lat}<br>reclong=%{lon}<br>mass (g)=%{customdata[0]}<extra></extra>",
         "lat": [
          -84
         ],
         "legendgroup": "Queen Alexandra Range 97878",
         "lon": [
          168
         ],
         "marker": {
          "color": "#FF97FF",
          "symbol": "circle"
         },
         "mode": "markers",
         "name": "Queen Alexandra Range 97878",
         "showlegend": true,
         "type": "scattergeo"
        },
        {
         "customdata": [
          [
           1.48
          ]
         ],
         "geo": "geo",
         "hovertemplate": "name=Yamato 86517<br>reclat=%{lat}<br>reclong=%{lon}<br>mass (g)=%{customdata[0]}<extra></extra>",
         "lat": [
          -71.5
         ],
         "legendgroup": "Yamato 86517",
         "lon": [
          35.66667
         ],
         "marker": {
          "color": "#FECB52",
          "symbol": "circle"
         },
         "mode": "markers",
         "name": "Yamato 86517",
         "showlegend": true,
         "type": "scattergeo"
        },
        {
         "customdata": [
          [
           165.8
          ]
         ],
         "geo": "geo",
         "hovertemplate": "name=Sandford Cliffs 03491<br>reclat=%{lat}<br>reclong=%{lon}<br>mass (g)=%{customdata[0]}<extra></extra>",
         "lat": [
          null
         ],
         "legendgroup": "Sandford Cliffs 03491",
         "lon": [
          null
         ],
         "marker": {
          "color": "#636efa",
          "symbol": "circle"
         },
         "mode": "markers",
         "name": "Sandford Cliffs 03491",
         "showlegend": true,
         "type": "scattergeo"
        },
        {
         "customdata": [
          [
           406
          ]
         ],
         "geo": "geo",
         "hovertemplate": "name=Northwest Africa 1520<br>reclat=%{lat}<br>reclong=%{lon}<br>mass (g)=%{customdata[0]}<extra></extra>",
         "lat": [
          null
         ],
         "legendgroup": "Northwest Africa 1520",
         "lon": [
          null
         ],
         "marker": {
          "color": "#EF553B",
          "symbol": "circle"
         },
         "mode": "markers",
         "name": "Northwest Africa 1520",
         "showlegend": true,
         "type": "scattergeo"
        },
        {
         "customdata": [
          [
           35.8
          ]
         ],
         "geo": "geo",
         "hovertemplate": "name=Northwest Africa 1048<br>reclat=%{lat}<br>reclong=%{lon}<br>mass (g)=%{customdata[0]}<extra></extra>",
         "lat": [
          null
         ],
         "legendgroup": "Northwest Africa 1048",
         "lon": [
          null
         ],
         "marker": {
          "color": "#00cc96",
          "symbol": "circle"
         },
         "mode": "markers",
         "name": "Northwest Africa 1048",
         "showlegend": true,
         "type": "scattergeo"
        },
        {
         "customdata": [
          [
           86.63
          ]
         ],
         "geo": "geo",
         "hovertemplate": "name=Yamato 983606<br>reclat=%{lat}<br>reclong=%{lon}<br>mass (g)=%{customdata[0]}<extra></extra>",
         "lat": [
          0
         ],
         "legendgroup": "Yamato 983606",
         "lon": [
          0
         ],
         "marker": {
          "color": "#ab63fa",
          "symbol": "circle"
         },
         "mode": "markers",
         "name": "Yamato 983606",
         "showlegend": true,
         "type": "scattergeo"
        },
        {
         "customdata": [
          [
           1563.1
          ]
         ],
         "geo": "geo",
         "hovertemplate": "name=LaPaz Icefield 02209<br>reclat=%{lat}<br>reclong=%{lon}<br>mass (g)=%{customdata[0]}<extra></extra>",
         "lat": [
          -86.36667
         ],
         "legendgroup": "LaPaz Icefield 02209",
         "lon": [
          -70
         ],
         "marker": {
          "color": "#FFA15A",
          "symbol": "circle"
         },
         "mode": "markers",
         "name": "LaPaz Icefield 02209",
         "showlegend": true,
         "type": "scattergeo"
        },
        {
         "customdata": [
          [
           185.4
          ]
         ],
         "geo": "geo",
         "hovertemplate": "name=Cumulus Hills 04006<br>reclat=%{lat}<br>reclong=%{lon}<br>mass (g)=%{customdata[0]}<extra></extra>",
         "lat": [
          null
         ],
         "legendgroup": "Cumulus Hills 04006",
         "lon": [
          null
         ],
         "marker": {
          "color": "#19d3f3",
          "symbol": "circle"
         },
         "mode": "markers",
         "name": "Cumulus Hills 04006",
         "showlegend": true,
         "type": "scattergeo"
        },
        {
         "customdata": [
          [
           127.1
          ]
         ],
         "geo": "geo",
         "hovertemplate": "name=Yamato 983723<br>reclat=%{lat}<br>reclong=%{lon}<br>mass (g)=%{customdata[0]}<extra></extra>",
         "lat": [
          0
         ],
         "legendgroup": "Yamato 983723",
         "lon": [
          0
         ],
         "marker": {
          "color": "#FF6692",
          "symbol": "circle"
         },
         "mode": "markers",
         "name": "Yamato 983723",
         "showlegend": true,
         "type": "scattergeo"
        },
        {
         "customdata": [
          [
           0.51
          ]
         ],
         "geo": "geo",
         "hovertemplate": "name=Grove Mountains 054544<br>reclat=%{lat}<br>reclong=%{lon}<br>mass (g)=%{customdata[0]}<extra></extra>",
         "lat": [
          -72.99889
         ],
         "legendgroup": "Grove Mountains 054544",
         "lon": [
          75.18722
         ],
         "marker": {
          "color": "#B6E880",
          "symbol": "circle"
         },
         "mode": "markers",
         "name": "Grove Mountains 054544",
         "showlegend": true,
         "type": "scattergeo"
        },
        {
         "customdata": [
          [
           15.5
          ]
         ],
         "geo": "geo",
         "hovertemplate": "name=Queen Alexandra Range 97504<br>reclat=%{lat}<br>reclong=%{lon}<br>mass (g)=%{customdata[0]}<extra></extra>",
         "lat": [
          -84
         ],
         "legendgroup": "Queen Alexandra Range 97504",
         "lon": [
          168
         ],
         "marker": {
          "color": "#FF97FF",
          "symbol": "circle"
         },
         "mode": "markers",
         "name": "Queen Alexandra Range 97504",
         "showlegend": true,
         "type": "scattergeo"
        },
        {
         "customdata": [
          [
           85
          ]
         ],
         "geo": "geo",
         "hovertemplate": "name=Lahmada 017<br>reclat=%{lat}<br>reclong=%{lon}<br>mass (g)=%{customdata[0]}<extra></extra>",
         "lat": [
          27.2265
         ],
         "legendgroup": "Lahmada 017",
         "lon": [
          -9.74117
         ],
         "marker": {
          "color": "#FECB52",
          "symbol": "circle"
         },
         "mode": "markers",
         "name": "Lahmada 017",
         "showlegend": true,
         "type": "scattergeo"
        },
        {
         "customdata": [
          [
           308
          ]
         ],
         "geo": "geo",
         "hovertemplate": "name=Northwest Africa 309<br>reclat=%{lat}<br>reclong=%{lon}<br>mass (g)=%{customdata[0]}<extra></extra>",
         "lat": [
          null
         ],
         "legendgroup": "Northwest Africa 309",
         "lon": [
          null
         ],
         "marker": {
          "color": "#636efa",
          "symbol": "circle"
         },
         "mode": "markers",
         "name": "Northwest Africa 309",
         "showlegend": true,
         "type": "scattergeo"
        },
        {
         "customdata": [
          [
           3.5
          ]
         ],
         "geo": "geo",
         "hovertemplate": "name=Frontier Mountain 90064<br>reclat=%{lat}<br>reclong=%{lon}<br>mass (g)=%{customdata[0]}<extra></extra>",
         "lat": [
          -72.95457
         ],
         "legendgroup": "Frontier Mountain 90064",
         "lon": [
          160.50374
         ],
         "marker": {
          "color": "#EF553B",
          "symbol": "circle"
         },
         "mode": "markers",
         "name": "Frontier Mountain 90064",
         "showlegend": true,
         "type": "scattergeo"
        },
        {
         "customdata": [
          [
           10175
          ]
         ],
         "geo": "geo",
         "hovertemplate": "name=Shişr 036<br>reclat=%{lat}<br>reclong=%{lon}<br>mass (g)=%{customdata[0]}<extra></extra>",
         "lat": [
          18.50755
         ],
         "legendgroup": "Shişr 036",
         "lon": [
          53.99325
         ],
         "marker": {
          "color": "#00cc96",
          "symbol": "circle"
         },
         "mode": "markers",
         "name": "Shişr 036",
         "showlegend": true,
         "type": "scattergeo"
        },
        {
         "customdata": [
          [
           11.1
          ]
         ],
         "geo": "geo",
         "hovertemplate": "name=Lewis Cliff 86423<br>reclat=%{lat}<br>reclong=%{lon}<br>mass (g)=%{customdata[0]}<extra></extra>",
         "lat": [
          -84.25499
         ],
         "legendgroup": "Lewis Cliff 86423",
         "lon": [
          161.40492
         ],
         "marker": {
          "color": "#ab63fa",
          "symbol": "circle"
         },
         "mode": "markers",
         "name": "Lewis Cliff 86423",
         "showlegend": true,
         "type": "scattergeo"
        },
        {
         "customdata": [
          [
           5.9
          ]
         ],
         "geo": "geo",
         "hovertemplate": "name=Lewis Cliff 86362<br>reclat=%{lat}<br>reclong=%{lon}<br>mass (g)=%{customdata[0]}<extra></extra>",
         "lat": [
          -84.27385
         ],
         "legendgroup": "Lewis Cliff 86362",
         "lon": [
          161.68603
         ],
         "marker": {
          "color": "#FFA15A",
          "symbol": "circle"
         },
         "mode": "markers",
         "name": "Lewis Cliff 86362",
         "showlegend": true,
         "type": "scattergeo"
        },
        {
         "customdata": [
          [
           3.19
          ]
         ],
         "geo": "geo",
         "hovertemplate": "name=Yamato 790688<br>reclat=%{lat}<br>reclong=%{lon}<br>mass (g)=%{customdata[0]}<extra></extra>",
         "lat": [
          -71.5
         ],
         "legendgroup": "Yamato 790688",
         "lon": [
          35.66667
         ],
         "marker": {
          "color": "#19d3f3",
          "symbol": "circle"
         },
         "mode": "markers",
         "name": "Yamato 790688",
         "showlegend": true,
         "type": "scattergeo"
        },
        {
         "customdata": [
          [
           0.56
          ]
         ],
         "geo": "geo",
         "hovertemplate": "name=Grove Mountains 021919<br>reclat=%{lat}<br>reclong=%{lon}<br>mass (g)=%{customdata[0]}<extra></extra>",
         "lat": [
          -72.7775
         ],
         "legendgroup": "Grove Mountains 021919",
         "lon": [
          75.334167
         ],
         "marker": {
          "color": "#FF6692",
          "symbol": "circle"
         },
         "mode": "markers",
         "name": "Grove Mountains 021919",
         "showlegend": true,
         "type": "scattergeo"
        },
        {
         "customdata": [
          [
           30
          ]
         ],
         "geo": "geo",
         "hovertemplate": "name=Jodzie<br>reclat=%{lat}<br>reclong=%{lon}<br>mass (g)=%{customdata[0]}<extra></extra>",
         "lat": [
          55.7
         ],
         "legendgroup": "Jodzie",
         "lon": [
          24.4
         ],
         "marker": {
          "color": "#B6E880",
          "symbol": "circle"
         },
         "mode": "markers",
         "name": "Jodzie",
         "showlegend": true,
         "type": "scattergeo"
        },
        {
         "customdata": [
          [
           11.09
          ]
         ],
         "geo": "geo",
         "hovertemplate": "name=Yamato 983185<br>reclat=%{lat}<br>reclong=%{lon}<br>mass (g)=%{customdata[0]}<extra></extra>",
         "lat": [
          0
         ],
         "legendgroup": "Yamato 983185",
         "lon": [
          0
         ],
         "marker": {
          "color": "#FF97FF",
          "symbol": "circle"
         },
         "mode": "markers",
         "name": "Yamato 983185",
         "showlegend": true,
         "type": "scattergeo"
        },
        {
         "customdata": [
          [
           11.9
          ]
         ],
         "geo": "geo",
         "hovertemplate": "name=Queen Alexandra Range 93420<br>reclat=%{lat}<br>reclong=%{lon}<br>mass (g)=%{customdata[0]}<extra></extra>",
         "lat": [
          -84
         ],
         "legendgroup": "Queen Alexandra Range 93420",
         "lon": [
          168
         ],
         "marker": {
          "color": "#FECB52",
          "symbol": "circle"
         },
         "mode": "markers",
         "name": "Queen Alexandra Range 93420",
         "showlegend": true,
         "type": "scattergeo"
        },
        {
         "customdata": [
          [
           29.42
          ]
         ],
         "geo": "geo",
         "hovertemplate": "name=Yamato 790006<br>reclat=%{lat}<br>reclong=%{lon}<br>mass (g)=%{customdata[0]}<extra></extra>",
         "lat": [
          -71.5
         ],
         "legendgroup": "Yamato 790006",
         "lon": [
          35.66667
         ],
         "marker": {
          "color": "#636efa",
          "symbol": "circle"
         },
         "mode": "markers",
         "name": "Yamato 790006",
         "showlegend": true,
         "type": "scattergeo"
        },
        {
         "customdata": [
          [
           27.8
          ]
         ],
         "geo": "geo",
         "hovertemplate": "name=Allan Hills A80123<br>reclat=%{lat}<br>reclong=%{lon}<br>mass (g)=%{customdata[0]}<extra></extra>",
         "lat": [
          -76.68944
         ],
         "legendgroup": "Allan Hills A80123",
         "lon": [
          159.36889
         ],
         "marker": {
          "color": "#EF553B",
          "symbol": "circle"
         },
         "mode": "markers",
         "name": "Allan Hills A80123",
         "showlegend": true,
         "type": "scattergeo"
        },
        {
         "customdata": [
          [
           92.7
          ]
         ],
         "geo": "geo",
         "hovertemplate": "name=Pecora Escarpment 91448<br>reclat=%{lat}<br>reclong=%{lon}<br>mass (g)=%{customdata[0]}<extra></extra>",
         "lat": [
          -85.65807
         ],
         "legendgroup": "Pecora Escarpment 91448",
         "lon": [
          -68.17227
         ],
         "marker": {
          "color": "#00cc96",
          "symbol": "circle"
         },
         "mode": "markers",
         "name": "Pecora Escarpment 91448",
         "showlegend": true,
         "type": "scattergeo"
        },
        {
         "customdata": [
          [
           78.36
          ]
         ],
         "geo": "geo",
         "hovertemplate": "name=Ramlat al Wahibah 040<br>reclat=%{lat}<br>reclong=%{lon}<br>mass (g)=%{customdata[0]}<extra></extra>",
         "lat": [
          21.37107
         ],
         "legendgroup": "Ramlat al Wahibah 040",
         "lon": [
          58.41415
         ],
         "marker": {
          "color": "#ab63fa",
          "symbol": "circle"
         },
         "mode": "markers",
         "name": "Ramlat al Wahibah 040",
         "showlegend": true,
         "type": "scattergeo"
        },
        {
         "customdata": [
          [
           111
          ]
         ],
         "geo": "geo",
         "hovertemplate": "name=El Médano 037<br>reclat=%{lat}<br>reclong=%{lon}<br>mass (g)=%{customdata[0]}<extra></extra>",
         "lat": [
          -24.85
         ],
         "legendgroup": "El Médano 037",
         "lon": [
          -70.53333
         ],
         "marker": {
          "color": "#FFA15A",
          "symbol": "circle"
         },
         "mode": "markers",
         "name": "El Médano 037",
         "showlegend": true,
         "type": "scattergeo"
        },
        {
         "customdata": [
          [
           62.4
          ]
         ],
         "geo": "geo",
         "hovertemplate": "name=Lewis Cliff 86317<br>reclat=%{lat}<br>reclong=%{lon}<br>mass (g)=%{customdata[0]}<extra></extra>",
         "lat": [
          -84.27639
         ],
         "legendgroup": "Lewis Cliff 86317",
         "lon": [
          161.34562
         ],
         "marker": {
          "color": "#19d3f3",
          "symbol": "circle"
         },
         "mode": "markers",
         "name": "Lewis Cliff 86317",
         "showlegend": true,
         "type": "scattergeo"
        },
        {
         "customdata": [
          [
           4.7
          ]
         ],
         "geo": "geo",
         "hovertemplate": "name=Miller Range 090340<br>reclat=%{lat}<br>reclong=%{lon}<br>mass (g)=%{customdata[0]}<extra></extra>",
         "lat": [
          0
         ],
         "legendgroup": "Miller Range 090340",
         "lon": [
          0
         ],
         "marker": {
          "color": "#FF6692",
          "symbol": "circle"
         },
         "mode": "markers",
         "name": "Miller Range 090340",
         "showlegend": true,
         "type": "scattergeo"
        },
        {
         "customdata": [
          [
           144
          ]
         ],
         "geo": "geo",
         "hovertemplate": "name=Dhofar 921<br>reclat=%{lat}<br>reclong=%{lon}<br>mass (g)=%{customdata[0]}<extra></extra>",
         "lat": [
          18.625
         ],
         "legendgroup": "Dhofar 921",
         "lon": [
          54.43
         ],
         "marker": {
          "color": "#B6E880",
          "symbol": "circle"
         },
         "mode": "markers",
         "name": "Dhofar 921",
         "showlegend": true,
         "type": "scattergeo"
        },
        {
         "customdata": [
          [
           23.7
          ]
         ],
         "geo": "geo",
         "hovertemplate": "name=Elephant Moraine 83314<br>reclat=%{lat}<br>reclong=%{lon}<br>mass (g)=%{customdata[0]}<extra></extra>",
         "lat": [
          -76.31028
         ],
         "legendgroup": "Elephant Moraine 83314",
         "lon": [
          157.1975
         ],
         "marker": {
          "color": "#FF97FF",
          "symbol": "circle"
         },
         "mode": "markers",
         "name": "Elephant Moraine 83314",
         "showlegend": true,
         "type": "scattergeo"
        },
        {
         "customdata": [
          [
           215
          ]
         ],
         "geo": "geo",
         "hovertemplate": "name=Pecora Escarpment 91132<br>reclat=%{lat}<br>reclong=%{lon}<br>mass (g)=%{customdata[0]}<extra></extra>",
         "lat": [
          -85.68404
         ],
         "legendgroup": "Pecora Escarpment 91132",
         "lon": [
          -68.87777
         ],
         "marker": {
          "color": "#FECB52",
          "symbol": "circle"
         },
         "mode": "markers",
         "name": "Pecora Escarpment 91132",
         "showlegend": true,
         "type": "scattergeo"
        },
        {
         "customdata": [
          [
           4.93
          ]
         ],
         "geo": "geo",
         "hovertemplate": "name=Yamato 983789<br>reclat=%{lat}<br>reclong=%{lon}<br>mass (g)=%{customdata[0]}<extra></extra>",
         "lat": [
          0
         ],
         "legendgroup": "Yamato 983789",
         "lon": [
          0
         ],
         "marker": {
          "color": "#636efa",
          "symbol": "circle"
         },
         "mode": "markers",
         "name": "Yamato 983789",
         "showlegend": true,
         "type": "scattergeo"
        },
        {
         "customdata": [
          [
           500
          ]
         ],
         "geo": "geo",
         "hovertemplate": "name=Botetourt County<br>reclat=%{lat}<br>reclong=%{lon}<br>mass (g)=%{customdata[0]}<extra></extra>",
         "lat": [
          37.5
         ],
         "legendgroup": "Botetourt County",
         "lon": [
          -79.75
         ],
         "marker": {
          "color": "#EF553B",
          "symbol": "circle"
         },
         "mode": "markers",
         "name": "Botetourt County",
         "showlegend": true,
         "type": "scattergeo"
        },
        {
         "customdata": [
          [
           1149
          ]
         ],
         "geo": "geo",
         "hovertemplate": "name=Tiffa 008<br>reclat=%{lat}<br>reclong=%{lon}<br>mass (g)=%{customdata[0]}<extra></extra>",
         "lat": [
          20.35833
         ],
         "legendgroup": "Tiffa 008",
         "lon": [
          11.85
         ],
         "marker": {
          "color": "#00cc96",
          "symbol": "circle"
         },
         "mode": "markers",
         "name": "Tiffa 008",
         "showlegend": true,
         "type": "scattergeo"
        },
        {
         "customdata": [
          [
           4.1
          ]
         ],
         "geo": "geo",
         "hovertemplate": "name=Yamato 983439<br>reclat=%{lat}<br>reclong=%{lon}<br>mass (g)=%{customdata[0]}<extra></extra>",
         "lat": [
          0
         ],
         "legendgroup": "Yamato 983439",
         "lon": [
          0
         ],
         "marker": {
          "color": "#ab63fa",
          "symbol": "circle"
         },
         "mode": "markers",
         "name": "Yamato 983439",
         "showlegend": true,
         "type": "scattergeo"
        },
        {
         "customdata": [
          [
           2.4
          ]
         ],
         "geo": "geo",
         "hovertemplate": "name=Miller Range 090185<br>reclat=%{lat}<br>reclong=%{lon}<br>mass (g)=%{customdata[0]}<extra></extra>",
         "lat": [
          0
         ],
         "legendgroup": "Miller Range 090185",
         "lon": [
          0
         ],
         "marker": {
          "color": "#FFA15A",
          "symbol": "circle"
         },
         "mode": "markers",
         "name": "Miller Range 090185",
         "showlegend": true,
         "type": "scattergeo"
        },
        {
         "customdata": [
          [
           34.3
          ]
         ],
         "geo": "geo",
         "hovertemplate": "name=Dominion Range 10499<br>reclat=%{lat}<br>reclong=%{lon}<br>mass (g)=%{customdata[0]}<extra></extra>",
         "lat": [
          0
         ],
         "legendgroup": "Dominion Range 10499",
         "lon": [
          0
         ],
         "marker": {
          "color": "#19d3f3",
          "symbol": "circle"
         },
         "mode": "markers",
         "name": "Dominion Range 10499",
         "showlegend": true,
         "type": "scattergeo"
        },
        {
         "customdata": [
          [
           9.8
          ]
         ],
         "geo": "geo",
         "hovertemplate": "name=Miller Range 090995<br>reclat=%{lat}<br>reclong=%{lon}<br>mass (g)=%{customdata[0]}<extra></extra>",
         "lat": [
          0
         ],
         "legendgroup": "Miller Range 090995",
         "lon": [
          0
         ],
         "marker": {
          "color": "#FF6692",
          "symbol": "circle"
         },
         "mode": "markers",
         "name": "Miller Range 090995",
         "showlegend": true,
         "type": "scattergeo"
        },
        {
         "customdata": [
          [
           580
          ]
         ],
         "geo": "geo",
         "hovertemplate": "name=Northwest Africa 5432<br>reclat=%{lat}<br>reclong=%{lon}<br>mass (g)=%{customdata[0]}<extra></extra>",
         "lat": [
          0
         ],
         "legendgroup": "Northwest Africa 5432",
         "lon": [
          0
         ],
         "marker": {
          "color": "#B6E880",
          "symbol": "circle"
         },
         "mode": "markers",
         "name": "Northwest Africa 5432",
         "showlegend": true,
         "type": "scattergeo"
        },
        {
         "customdata": [
          [
           23
          ]
         ],
         "geo": "geo",
         "hovertemplate": "name=Northwest Africa 492<br>reclat=%{lat}<br>reclong=%{lon}<br>mass (g)=%{customdata[0]}<extra></extra>",
         "lat": [
          null
         ],
         "legendgroup": "Northwest Africa 492",
         "lon": [
          null
         ],
         "marker": {
          "color": "#FF97FF",
          "symbol": "circle"
         },
         "mode": "markers",
         "name": "Northwest Africa 492",
         "showlegend": true,
         "type": "scattergeo"
        },
        {
         "customdata": [
          [
           0.46
          ]
         ],
         "geo": "geo",
         "hovertemplate": "name=Grove Mountains 023899<br>reclat=%{lat}<br>reclong=%{lon}<br>mass (g)=%{customdata[0]}<extra></extra>",
         "lat": [
          -72.9822
         ],
         "legendgroup": "Grove Mountains 023899",
         "lon": [
          75.2489
         ],
         "marker": {
          "color": "#FECB52",
          "symbol": "circle"
         },
         "mode": "markers",
         "name": "Grove Mountains 023899",
         "showlegend": true,
         "type": "scattergeo"
        },
        {
         "customdata": [
          [
           14.633
          ]
         ],
         "geo": "geo",
         "hovertemplate": "name=Yamato 980580<br>reclat=%{lat}<br>reclong=%{lon}<br>mass (g)=%{customdata[0]}<extra></extra>",
         "lat": [
          null
         ],
         "legendgroup": "Yamato 980580",
         "lon": [
          null
         ],
         "marker": {
          "color": "#636efa",
          "symbol": "circle"
         },
         "mode": "markers",
         "name": "Yamato 980580",
         "showlegend": true,
         "type": "scattergeo"
        },
        {
         "customdata": [
          [
           3.4
          ]
         ],
         "geo": "geo",
         "hovertemplate": "name=Miller Range 090167<br>reclat=%{lat}<br>reclong=%{lon}<br>mass (g)=%{customdata[0]}<extra></extra>",
         "lat": [
          0
         ],
         "legendgroup": "Miller Range 090167",
         "lon": [
          0
         ],
         "marker": {
          "color": "#EF553B",
          "symbol": "circle"
         },
         "mode": "markers",
         "name": "Miller Range 090167",
         "showlegend": true,
         "type": "scattergeo"
        },
        {
         "customdata": [
          [
           54
          ]
         ],
         "geo": "geo",
         "hovertemplate": "name=Dar al Gani 924<br>reclat=%{lat}<br>reclong=%{lon}<br>mass (g)=%{customdata[0]}<extra></extra>",
         "lat": [
          27.03333
         ],
         "legendgroup": "Dar al Gani 924",
         "lon": [
          16.35
         ],
         "marker": {
          "color": "#00cc96",
          "symbol": "circle"
         },
         "mode": "markers",
         "name": "Dar al Gani 924",
         "showlegend": true,
         "type": "scattergeo"
        },
        {
         "customdata": [
          [
           292.26
          ]
         ],
         "geo": "geo",
         "hovertemplate": "name=Yamato 793249<br>reclat=%{lat}<br>reclong=%{lon}<br>mass (g)=%{customdata[0]}<extra></extra>",
         "lat": [
          -71.5
         ],
         "legendgroup": "Yamato 793249",
         "lon": [
          35.66667
         ],
         "marker": {
          "color": "#ab63fa",
          "symbol": "circle"
         },
         "mode": "markers",
         "name": "Yamato 793249",
         "showlegend": true,
         "type": "scattergeo"
        },
        {
         "customdata": [
          [
           1.3
          ]
         ],
         "geo": "geo",
         "hovertemplate": "name=Queen Alexandra Range 94565<br>reclat=%{lat}<br>reclong=%{lon}<br>mass (g)=%{customdata[0]}<extra></extra>",
         "lat": [
          -84
         ],
         "legendgroup": "Queen Alexandra Range 94565",
         "lon": [
          168
         ],
         "marker": {
          "color": "#FFA15A",
          "symbol": "circle"
         },
         "mode": "markers",
         "name": "Queen Alexandra Range 94565",
         "showlegend": true,
         "type": "scattergeo"
        },
        {
         "customdata": [
          [
           37.8
          ]
         ],
         "geo": "geo",
         "hovertemplate": "name=Queen Alexandra Range 97185<br>reclat=%{lat}<br>reclong=%{lon}<br>mass (g)=%{customdata[0]}<extra></extra>",
         "lat": [
          -84
         ],
         "legendgroup": "Queen Alexandra Range 97185",
         "lon": [
          168
         ],
         "marker": {
          "color": "#19d3f3",
          "symbol": "circle"
         },
         "mode": "markers",
         "name": "Queen Alexandra Range 97185",
         "showlegend": true,
         "type": "scattergeo"
        },
        {
         "customdata": [
          [
           38.99
          ]
         ],
         "geo": "geo",
         "hovertemplate": "name=Meteorite Hills 00493<br>reclat=%{lat}<br>reclong=%{lon}<br>mass (g)=%{customdata[0]}<extra></extra>",
         "lat": [
          -79.68333
         ],
         "legendgroup": "Meteorite Hills 00493",
         "lon": [
          155.75
         ],
         "marker": {
          "color": "#FF6692",
          "symbol": "circle"
         },
         "mode": "markers",
         "name": "Meteorite Hills 00493",
         "showlegend": true,
         "type": "scattergeo"
        },
        {
         "customdata": [
          [
           58.6
          ]
         ],
         "geo": "geo",
         "hovertemplate": "name=Elephant Moraine 87689<br>reclat=%{lat}<br>reclong=%{lon}<br>mass (g)=%{customdata[0]}<extra></extra>",
         "lat": [
          -76.18333
         ],
         "legendgroup": "Elephant Moraine 87689",
         "lon": [
          157.16667
         ],
         "marker": {
          "color": "#B6E880",
          "symbol": "circle"
         },
         "mode": "markers",
         "name": "Elephant Moraine 87689",
         "showlegend": true,
         "type": "scattergeo"
        },
        {
         "customdata": [
          [
           12.7
          ]
         ],
         "geo": "geo",
         "hovertemplate": "name=Northwest Africa 3340<br>reclat=%{lat}<br>reclong=%{lon}<br>mass (g)=%{customdata[0]}<extra></extra>",
         "lat": [
          null
         ],
         "legendgroup": "Northwest Africa 3340",
         "lon": [
          null
         ],
         "marker": {
          "color": "#FF97FF",
          "symbol": "circle"
         },
         "mode": "markers",
         "name": "Northwest Africa 3340",
         "showlegend": true,
         "type": "scattergeo"
        },
        {
         "customdata": [
          [
           4.22
          ]
         ],
         "geo": "geo",
         "hovertemplate": "name=Grove Mountains 022248<br>reclat=%{lat}<br>reclong=%{lon}<br>mass (g)=%{customdata[0]}<extra></extra>",
         "lat": [
          -72.77889
         ],
         "legendgroup": "Grove Mountains 022248",
         "lon": [
          75.31111
         ],
         "marker": {
          "color": "#FECB52",
          "symbol": "circle"
         },
         "mode": "markers",
         "name": "Grove Mountains 022248",
         "showlegend": true,
         "type": "scattergeo"
        },
        {
         "customdata": [
          [
           25.6
          ]
         ],
         "geo": "geo",
         "hovertemplate": "name=Queen Alexandra Range 97410<br>reclat=%{lat}<br>reclong=%{lon}<br>mass (g)=%{customdata[0]}<extra></extra>",
         "lat": [
          -84
         ],
         "legendgroup": "Queen Alexandra Range 97410",
         "lon": [
          168
         ],
         "marker": {
          "color": "#636efa",
          "symbol": "circle"
         },
         "mode": "markers",
         "name": "Queen Alexandra Range 97410",
         "showlegend": true,
         "type": "scattergeo"
        },
        {
         "customdata": [
          [
           45.4
          ]
         ],
         "geo": "geo",
         "hovertemplate": "name=Miller Range 03423<br>reclat=%{lat}<br>reclong=%{lon}<br>mass (g)=%{customdata[0]}<extra></extra>",
         "lat": [
          null
         ],
         "legendgroup": "Miller Range 03423",
         "lon": [
          null
         ],
         "marker": {
          "color": "#EF553B",
          "symbol": "circle"
         },
         "mode": "markers",
         "name": "Miller Range 03423",
         "showlegend": true,
         "type": "scattergeo"
        },
        {
         "customdata": [
          [
           4.9
          ]
         ],
         "geo": "geo",
         "hovertemplate": "name=Queen Alexandra Range 93695<br>reclat=%{lat}<br>reclong=%{lon}<br>mass (g)=%{customdata[0]}<extra></extra>",
         "lat": [
          -84
         ],
         "legendgroup": "Queen Alexandra Range 93695",
         "lon": [
          168
         ],
         "marker": {
          "color": "#00cc96",
          "symbol": "circle"
         },
         "mode": "markers",
         "name": "Queen Alexandra Range 93695",
         "showlegend": true,
         "type": "scattergeo"
        },
        {
         "customdata": [
          [
           39.7
          ]
         ],
         "geo": "geo",
         "hovertemplate": "name=Elephant Moraine 90796<br>reclat=%{lat}<br>reclong=%{lon}<br>mass (g)=%{customdata[0]}<extra></extra>",
         "lat": [
          -76.2858
         ],
         "legendgroup": "Elephant Moraine 90796",
         "lon": [
          156.46845
         ],
         "marker": {
          "color": "#ab63fa",
          "symbol": "circle"
         },
         "mode": "markers",
         "name": "Elephant Moraine 90796",
         "showlegend": true,
         "type": "scattergeo"
        },
        {
         "customdata": [
          [
           14.2
          ]
         ],
         "geo": "geo",
         "hovertemplate": "name=Elephant Moraine 90042<br>reclat=%{lat}<br>reclong=%{lon}<br>mass (g)=%{customdata[0]}<extra></extra>",
         "lat": [
          -76.27972
         ],
         "legendgroup": "Elephant Moraine 90042",
         "lon": [
          156.47219
         ],
         "marker": {
          "color": "#FFA15A",
          "symbol": "circle"
         },
         "mode": "markers",
         "name": "Elephant Moraine 90042",
         "showlegend": true,
         "type": "scattergeo"
        },
        {
         "customdata": [
          [
           336
          ]
         ],
         "geo": "geo",
         "hovertemplate": "name=Grove Mountains 052116<br>reclat=%{lat}<br>reclong=%{lon}<br>mass (g)=%{customdata[0]}<extra></extra>",
         "lat": [
          -72.77472
         ],
         "legendgroup": "Grove Mountains 052116",
         "lon": [
          75.32361
         ],
         "marker": {
          "color": "#19d3f3",
          "symbol": "circle"
         },
         "mode": "markers",
         "name": "Grove Mountains 052116",
         "showlegend": true,
         "type": "scattergeo"
        },
        {
         "customdata": [
          [
           72.4
          ]
         ],
         "geo": "geo",
         "hovertemplate": "name=Mount Prestrud 95406<br>reclat=%{lat}<br>reclong=%{lon}<br>mass (g)=%{customdata[0]}<extra></extra>",
         "lat": [
          -86.56667
         ],
         "legendgroup": "Mount Prestrud 95406",
         "lon": [
          -165.11667
         ],
         "marker": {
          "color": "#FF6692",
          "symbol": "circle"
         },
         "mode": "markers",
         "name": "Mount Prestrud 95406",
         "showlegend": true,
         "type": "scattergeo"
        },
        {
         "customdata": [
          [
           130.3
          ]
         ],
         "geo": "geo",
         "hovertemplate": "name=Miller Range 090860<br>reclat=%{lat}<br>reclong=%{lon}<br>mass (g)=%{customdata[0]}<extra></extra>",
         "lat": [
          0
         ],
         "legendgroup": "Miller Range 090860",
         "lon": [
          0
         ],
         "marker": {
          "color": "#B6E880",
          "symbol": "circle"
         },
         "mode": "markers",
         "name": "Miller Range 090860",
         "showlegend": true,
         "type": "scattergeo"
        },
        {
         "customdata": [
          [
           392.9
          ]
         ],
         "geo": "geo",
         "hovertemplate": "name=Elephant Moraine 96043<br>reclat=%{lat}<br>reclong=%{lon}<br>mass (g)=%{customdata[0]}<extra></extra>",
         "lat": [
          -76.18333
         ],
         "legendgroup": "Elephant Moraine 96043",
         "lon": [
          157.16667
         ],
         "marker": {
          "color": "#FF97FF",
          "symbol": "circle"
         },
         "mode": "markers",
         "name": "Elephant Moraine 96043",
         "showlegend": true,
         "type": "scattergeo"
        },
        {
         "customdata": [
          [
           1006
          ]
         ],
         "geo": "geo",
         "hovertemplate": "name=Northwest Africa 2132<br>reclat=%{lat}<br>reclong=%{lon}<br>mass (g)=%{customdata[0]}<extra></extra>",
         "lat": [
          null
         ],
         "legendgroup": "Northwest Africa 2132",
         "lon": [
          null
         ],
         "marker": {
          "color": "#FECB52",
          "symbol": "circle"
         },
         "mode": "markers",
         "name": "Northwest Africa 2132",
         "showlegend": true,
         "type": "scattergeo"
        },
        {
         "customdata": [
          [
           8.14
          ]
         ],
         "geo": "geo",
         "hovertemplate": "name=Yamato 792755<br>reclat=%{lat}<br>reclong=%{lon}<br>mass (g)=%{customdata[0]}<extra></extra>",
         "lat": [
          -71.5
         ],
         "legendgroup": "Yamato 792755",
         "lon": [
          35.66667
         ],
         "marker": {
          "color": "#636efa",
          "symbol": "circle"
         },
         "mode": "markers",
         "name": "Yamato 792755",
         "showlegend": true,
         "type": "scattergeo"
        },
        {
         "customdata": [
          [
           10.86
          ]
         ],
         "geo": "geo",
         "hovertemplate": "name=Yamato 86291<br>reclat=%{lat}<br>reclong=%{lon}<br>mass (g)=%{customdata[0]}<extra></extra>",
         "lat": [
          -71.5
         ],
         "legendgroup": "Yamato 86291",
         "lon": [
          35.66667
         ],
         "marker": {
          "color": "#EF553B",
          "symbol": "circle"
         },
         "mode": "markers",
         "name": "Yamato 86291",
         "showlegend": true,
         "type": "scattergeo"
        },
        {
         "customdata": [
          [
           12000
          ]
         ],
         "geo": "geo",
         "hovertemplate": "name=Aswan<br>reclat=%{lat}<br>reclong=%{lon}<br>mass (g)=%{customdata[0]}<extra></extra>",
         "lat": [
          23.98611
         ],
         "legendgroup": "Aswan",
         "lon": [
          32.62361
         ],
         "marker": {
          "color": "#00cc96",
          "symbol": "circle"
         },
         "mode": "markers",
         "name": "Aswan",
         "showlegend": true,
         "type": "scattergeo"
        },
        {
         "customdata": [
          [
           6.3
          ]
         ],
         "geo": "geo",
         "hovertemplate": "name=Allan Hills 84201<br>reclat=%{lat}<br>reclong=%{lon}<br>mass (g)=%{customdata[0]}<extra></extra>",
         "lat": [
          -76.7574
         ],
         "legendgroup": "Allan Hills 84201",
         "lon": [
          158.90775
         ],
         "marker": {
          "color": "#ab63fa",
          "symbol": "circle"
         },
         "mode": "markers",
         "name": "Allan Hills 84201",
         "showlegend": true,
         "type": "scattergeo"
        },
        {
         "customdata": [
          [
           426
          ]
         ],
         "geo": "geo",
         "hovertemplate": "name=Dhofar 1148<br>reclat=%{lat}<br>reclong=%{lon}<br>mass (g)=%{customdata[0]}<extra></extra>",
         "lat": [
          19.190417
         ],
         "legendgroup": "Dhofar 1148",
         "lon": [
          54.957194
         ],
         "marker": {
          "color": "#FFA15A",
          "symbol": "circle"
         },
         "mode": "markers",
         "name": "Dhofar 1148",
         "showlegend": true,
         "type": "scattergeo"
        },
        {
         "customdata": [
          [
           48.1
          ]
         ],
         "geo": "geo",
         "hovertemplate": "name=Miller Range 090155<br>reclat=%{lat}<br>reclong=%{lon}<br>mass (g)=%{customdata[0]}<extra></extra>",
         "lat": [
          0
         ],
         "legendgroup": "Miller Range 090155",
         "lon": [
          0
         ],
         "marker": {
          "color": "#19d3f3",
          "symbol": "circle"
         },
         "mode": "markers",
         "name": "Miller Range 090155",
         "showlegend": true,
         "type": "scattergeo"
        },
        {
         "customdata": [
          [
           259
          ]
         ],
         "geo": "geo",
         "hovertemplate": "name=Northwest Africa 7488<br>reclat=%{lat}<br>reclong=%{lon}<br>mass (g)=%{customdata[0]}<extra></extra>",
         "lat": [
          0
         ],
         "legendgroup": "Northwest Africa 7488",
         "lon": [
          0
         ],
         "marker": {
          "color": "#FF6692",
          "symbol": "circle"
         },
         "mode": "markers",
         "name": "Northwest Africa 7488",
         "showlegend": true,
         "type": "scattergeo"
        },
        {
         "customdata": [
          [
           10.36
          ]
         ],
         "geo": "geo",
         "hovertemplate": "name=Asuka 880754<br>reclat=%{lat}<br>reclong=%{lon}<br>mass (g)=%{customdata[0]}<extra></extra>",
         "lat": [
          -72
         ],
         "legendgroup": "Asuka 880754",
         "lon": [
          26
         ],
         "marker": {
          "color": "#B6E880",
          "symbol": "circle"
         },
         "mode": "markers",
         "name": "Asuka 880754",
         "showlegend": true,
         "type": "scattergeo"
        },
        {
         "customdata": [
          [
           6175
          ]
         ],
         "geo": "geo",
         "hovertemplate": "name=Yamato 790957<br>reclat=%{lat}<br>reclong=%{lon}<br>mass (g)=%{customdata[0]}<extra></extra>",
         "lat": [
          -71.5
         ],
         "legendgroup": "Yamato 790957",
         "lon": [
          35.66667
         ],
         "marker": {
          "color": "#FF97FF",
          "symbol": "circle"
         },
         "mode": "markers",
         "name": "Yamato 790957",
         "showlegend": true,
         "type": "scattergeo"
        },
        {
         "customdata": [
          [
           1.33
          ]
         ],
         "geo": "geo",
         "hovertemplate": "name=Grove Mountains 054615<br>reclat=%{lat}<br>reclong=%{lon}<br>mass (g)=%{customdata[0]}<extra></extra>",
         "lat": [
          -72.998889
         ],
         "legendgroup": "Grove Mountains 054615",
         "lon": [
          75.187222
         ],
         "marker": {
          "color": "#FECB52",
          "symbol": "circle"
         },
         "mode": "markers",
         "name": "Grove Mountains 054615",
         "showlegend": true,
         "type": "scattergeo"
        },
        {
         "customdata": [
          [
           4.37
          ]
         ],
         "geo": "geo",
         "hovertemplate": "name=Grove Mountains 052175<br>reclat=%{lat}<br>reclong=%{lon}<br>mass (g)=%{customdata[0]}<extra></extra>",
         "lat": [
          -72.77306
         ],
         "legendgroup": "Grove Mountains 052175",
         "lon": [
          75.33806
         ],
         "marker": {
          "color": "#636efa",
          "symbol": "circle"
         },
         "mode": "markers",
         "name": "Grove Mountains 052175",
         "showlegend": true,
         "type": "scattergeo"
        },
        {
         "customdata": [
          [
           187.5
          ]
         ],
         "geo": "geo",
         "hovertemplate": "name=Sayh al Uhaymir 213<br>reclat=%{lat}<br>reclong=%{lon}<br>mass (g)=%{customdata[0]}<extra></extra>",
         "lat": [
          20.41437
         ],
         "legendgroup": "Sayh al Uhaymir 213",
         "lon": [
          57.06578
         ],
         "marker": {
          "color": "#EF553B",
          "symbol": "circle"
         },
         "mode": "markers",
         "name": "Sayh al Uhaymir 213",
         "showlegend": true,
         "type": "scattergeo"
        },
        {
         "customdata": [
          [
           27000
          ]
         ],
         "geo": "geo",
         "hovertemplate": "name=Northwest Africa 4492<br>reclat=%{lat}<br>reclong=%{lon}<br>mass (g)=%{customdata[0]}<extra></extra>",
         "lat": [
          null
         ],
         "legendgroup": "Northwest Africa 4492",
         "lon": [
          null
         ],
         "marker": {
          "color": "#00cc96",
          "symbol": "circle"
         },
         "mode": "markers",
         "name": "Northwest Africa 4492",
         "showlegend": true,
         "type": "scattergeo"
        },
        {
         "customdata": [
          [
           50000
          ]
         ],
         "geo": "geo",
         "hovertemplate": "name=Waconda<br>reclat=%{lat}<br>reclong=%{lon}<br>mass (g)=%{customdata[0]}<extra></extra>",
         "lat": [
          39.33333
         ],
         "legendgroup": "Waconda",
         "lon": [
          -98.16667
         ],
         "marker": {
          "color": "#ab63fa",
          "symbol": "circle"
         },
         "mode": "markers",
         "name": "Waconda",
         "showlegend": true,
         "type": "scattergeo"
        },
        {
         "customdata": [
          [
           20
          ]
         ],
         "geo": "geo",
         "hovertemplate": "name=Northwest Africa 5574<br>reclat=%{lat}<br>reclong=%{lon}<br>mass (g)=%{customdata[0]}<extra></extra>",
         "lat": [
          0
         ],
         "legendgroup": "Northwest Africa 5574",
         "lon": [
          0
         ],
         "marker": {
          "color": "#FFA15A",
          "symbol": "circle"
         },
         "mode": "markers",
         "name": "Northwest Africa 5574",
         "showlegend": true,
         "type": "scattergeo"
        },
        {
         "customdata": [
          [
           9.5
          ]
         ],
         "geo": "geo",
         "hovertemplate": "name=Lewis Cliff 88570<br>reclat=%{lat}<br>reclong=%{lon}<br>mass (g)=%{customdata[0]}<extra></extra>",
         "lat": [
          -84.24623
         ],
         "legendgroup": "Lewis Cliff 88570",
         "lon": [
          161.41018
         ],
         "marker": {
          "color": "#19d3f3",
          "symbol": "circle"
         },
         "mode": "markers",
         "name": "Lewis Cliff 88570",
         "showlegend": true,
         "type": "scattergeo"
        },
        {
         "customdata": [
          [
           1806
          ]
         ],
         "geo": "geo",
         "hovertemplate": "name=Dhofar 594<br>reclat=%{lat}<br>reclong=%{lon}<br>mass (g)=%{customdata[0]}<extra></extra>",
         "lat": [
          18.7247
         ],
         "legendgroup": "Dhofar 594",
         "lon": [
          54.39503
         ],
         "marker": {
          "color": "#FF6692",
          "symbol": "circle"
         },
         "mode": "markers",
         "name": "Dhofar 594",
         "showlegend": true,
         "type": "scattergeo"
        },
        {
         "customdata": [
          [
           1443
          ]
         ],
         "geo": "geo",
         "hovertemplate": "name=Laundry Rockhole<br>reclat=%{lat}<br>reclong=%{lon}<br>mass (g)=%{customdata[0]}<extra></extra>",
         "lat": [
          -31.53333
         ],
         "legendgroup": "Laundry Rockhole",
         "lon": [
          127.01667
         ],
         "marker": {
          "color": "#B6E880",
          "symbol": "circle"
         },
         "mode": "markers",
         "name": "Laundry Rockhole",
         "showlegend": true,
         "type": "scattergeo"
        },
        {
         "customdata": [
          [
           1.22
          ]
         ],
         "geo": "geo",
         "hovertemplate": "name=Yamato 86608<br>reclat=%{lat}<br>reclong=%{lon}<br>mass (g)=%{customdata[0]}<extra></extra>",
         "lat": [
          -71.5
         ],
         "legendgroup": "Yamato 86608",
         "lon": [
          35.66667
         ],
         "marker": {
          "color": "#FF97FF",
          "symbol": "circle"
         },
         "mode": "markers",
         "name": "Yamato 86608",
         "showlegend": true,
         "type": "scattergeo"
        },
        {
         "customdata": [
          [
           1624
          ]
         ],
         "geo": "geo",
         "hovertemplate": "name=Northwest Africa 1879<br>reclat=%{lat}<br>reclong=%{lon}<br>mass (g)=%{customdata[0]}<extra></extra>",
         "lat": [
          null
         ],
         "legendgroup": "Northwest Africa 1879",
         "lon": [
          null
         ],
         "marker": {
          "color": "#FECB52",
          "symbol": "circle"
         },
         "mode": "markers",
         "name": "Northwest Africa 1879",
         "showlegend": true,
         "type": "scattergeo"
        },
        {
         "customdata": [
          [
           14.03
          ]
         ],
         "geo": "geo",
         "hovertemplate": "name=Yamato 791117<br>reclat=%{lat}<br>reclong=%{lon}<br>mass (g)=%{customdata[0]}<extra></extra>",
         "lat": [
          -71.5
         ],
         "legendgroup": "Yamato 791117",
         "lon": [
          35.66667
         ],
         "marker": {
          "color": "#636efa",
          "symbol": "circle"
         },
         "mode": "markers",
         "name": "Yamato 791117",
         "showlegend": true,
         "type": "scattergeo"
        },
        {
         "customdata": [
          [
           45000
          ]
         ],
         "geo": "geo",
         "hovertemplate": "name=Wellman (c)<br>reclat=%{lat}<br>reclong=%{lon}<br>mass (g)=%{customdata[0]}<extra></extra>",
         "lat": [
          33.03333
         ],
         "legendgroup": "Wellman (c)",
         "lon": [
          -102.33333
         ],
         "marker": {
          "color": "#EF553B",
          "symbol": "circle"
         },
         "mode": "markers",
         "name": "Wellman (c)",
         "showlegend": true,
         "type": "scattergeo"
        },
        {
         "customdata": [
          [
           5.86
          ]
         ],
         "geo": "geo",
         "hovertemplate": "name=Yamato 982246<br>reclat=%{lat}<br>reclong=%{lon}<br>mass (g)=%{customdata[0]}<extra></extra>",
         "lat": [
          0
         ],
         "legendgroup": "Yamato 982246",
         "lon": [
          0
         ],
         "marker": {
          "color": "#00cc96",
          "symbol": "circle"
         },
         "mode": "markers",
         "name": "Yamato 982246",
         "showlegend": true,
         "type": "scattergeo"
        },
        {
         "customdata": [
          [
           87.7
          ]
         ],
         "geo": "geo",
         "hovertemplate": "name=Larkman Nunatak 06459<br>reclat=%{lat}<br>reclong=%{lon}<br>mass (g)=%{customdata[0]}<extra></extra>",
         "lat": [
          null
         ],
         "legendgroup": "Larkman Nunatak 06459",
         "lon": [
          null
         ],
         "marker": {
          "color": "#ab63fa",
          "symbol": "circle"
         },
         "mode": "markers",
         "name": "Larkman Nunatak 06459",
         "showlegend": true,
         "type": "scattergeo"
        },
        {
         "customdata": [
          [
           2700
          ]
         ],
         "geo": "geo",
         "hovertemplate": "name=Stonington<br>reclat=%{lat}<br>reclong=%{lon}<br>mass (g)=%{customdata[0]}<extra></extra>",
         "lat": [
          37.28333
         ],
         "legendgroup": "Stonington",
         "lon": [
          -102.2
         ],
         "marker": {
          "color": "#FFA15A",
          "symbol": "circle"
         },
         "mode": "markers",
         "name": "Stonington",
         "showlegend": true,
         "type": "scattergeo"
        },
        {
         "customdata": [
          [
           20.5
          ]
         ],
         "geo": "geo",
         "hovertemplate": "name=Lewis Cliff 88194<br>reclat=%{lat}<br>reclong=%{lon}<br>mass (g)=%{customdata[0]}<extra></extra>",
         "lat": [
          -84.27985
         ],
         "legendgroup": "Lewis Cliff 88194",
         "lon": [
          161.34894
         ],
         "marker": {
          "color": "#19d3f3",
          "symbol": "circle"
         },
         "mode": "markers",
         "name": "Lewis Cliff 88194",
         "showlegend": true,
         "type": "scattergeo"
        },
        {
         "customdata": [
          [
           80.48
          ]
         ],
         "geo": "geo",
         "hovertemplate": "name=Ramlat as Sahmah 334<br>reclat=%{lat}<br>reclong=%{lon}<br>mass (g)=%{customdata[0]}<extra></extra>",
         "lat": [
          20.7827
         ],
         "legendgroup": "Ramlat as Sahmah 334",
         "lon": [
          55.42668
         ],
         "marker": {
          "color": "#FF6692",
          "symbol": "circle"
         },
         "mode": "markers",
         "name": "Ramlat as Sahmah 334",
         "showlegend": true,
         "type": "scattergeo"
        },
        {
         "customdata": [
          [
           6.45
          ]
         ],
         "geo": "geo",
         "hovertemplate": "name=Grove Mountains 053824<br>reclat=%{lat}<br>reclong=%{lon}<br>mass (g)=%{customdata[0]}<extra></extra>",
         "lat": [
          -72.77944
         ],
         "legendgroup": "Grove Mountains 053824",
         "lon": [
          75.27
         ],
         "marker": {
          "color": "#B6E880",
          "symbol": "circle"
         },
         "mode": "markers",
         "name": "Grove Mountains 053824",
         "showlegend": true,
         "type": "scattergeo"
        },
        {
         "customdata": [
          [
           624
          ]
         ],
         "geo": "geo",
         "hovertemplate": "name=Dhofar 1550<br>reclat=%{lat}<br>reclong=%{lon}<br>mass (g)=%{customdata[0]}<extra></extra>",
         "lat": [
          18.59083
         ],
         "legendgroup": "Dhofar 1550",
         "lon": [
          54.543
         ],
         "marker": {
          "color": "#FF97FF",
          "symbol": "circle"
         },
         "mode": "markers",
         "name": "Dhofar 1550",
         "showlegend": true,
         "type": "scattergeo"
        },
        {
         "customdata": [
          [
           10.9
          ]
         ],
         "geo": "geo",
         "hovertemplate": "name=Meteorite Hills 01326<br>reclat=%{lat}<br>reclong=%{lon}<br>mass (g)=%{customdata[0]}<extra></extra>",
         "lat": [
          -79.68333
         ],
         "legendgroup": "Meteorite Hills 01326",
         "lon": [
          159.75
         ],
         "marker": {
          "color": "#FECB52",
          "symbol": "circle"
         },
         "mode": "markers",
         "name": "Meteorite Hills 01326",
         "showlegend": true,
         "type": "scattergeo"
        },
        {
         "customdata": [
          [
           157.8
          ]
         ],
         "geo": "geo",
         "hovertemplate": "name=Allan Hills 84132<br>reclat=%{lat}<br>reclong=%{lon}<br>mass (g)=%{customdata[0]}<extra></extra>",
         "lat": [
          -77.01706
         ],
         "legendgroup": "Allan Hills 84132",
         "lon": [
          156.96282
         ],
         "marker": {
          "color": "#636efa",
          "symbol": "circle"
         },
         "mode": "markers",
         "name": "Allan Hills 84132",
         "showlegend": true,
         "type": "scattergeo"
        },
        {
         "customdata": [
          [
           1788
          ]
         ],
         "geo": "geo",
         "hovertemplate": "name=Northwest Africa 3051<br>reclat=%{lat}<br>reclong=%{lon}<br>mass (g)=%{customdata[0]}<extra></extra>",
         "lat": [
          null
         ],
         "legendgroup": "Northwest Africa 3051",
         "lon": [
          null
         ],
         "marker": {
          "color": "#EF553B",
          "symbol": "circle"
         },
         "mode": "markers",
         "name": "Northwest Africa 3051",
         "showlegend": true,
         "type": "scattergeo"
        },
        {
         "customdata": [
          [
           2.5
          ]
         ],
         "geo": "geo",
         "hovertemplate": "name=Queen Alexandra Range 93394<br>reclat=%{lat}<br>reclong=%{lon}<br>mass (g)=%{customdata[0]}<extra></extra>",
         "lat": [
          -84
         ],
         "legendgroup": "Queen Alexandra Range 93394",
         "lon": [
          168
         ],
         "marker": {
          "color": "#00cc96",
          "symbol": "circle"
         },
         "mode": "markers",
         "name": "Queen Alexandra Range 93394",
         "showlegend": true,
         "type": "scattergeo"
        },
        {
         "customdata": [
          [
           1798.9
          ]
         ],
         "geo": "geo",
         "hovertemplate": "name=Jiddat al Harasis 276<br>reclat=%{lat}<br>reclong=%{lon}<br>mass (g)=%{customdata[0]}<extra></extra>",
         "lat": [
          19.97933
         ],
         "legendgroup": "Jiddat al Harasis 276",
         "lon": [
          55.95507
         ],
         "marker": {
          "color": "#ab63fa",
          "symbol": "circle"
         },
         "mode": "markers",
         "name": "Jiddat al Harasis 276",
         "showlegend": true,
         "type": "scattergeo"
        },
        {
         "customdata": [
          [
           152
          ]
         ],
         "geo": "geo",
         "hovertemplate": "name=Northwest Africa 2618<br>reclat=%{lat}<br>reclong=%{lon}<br>mass (g)=%{customdata[0]}<extra></extra>",
         "lat": [
          null
         ],
         "legendgroup": "Northwest Africa 2618",
         "lon": [
          null
         ],
         "marker": {
          "color": "#FFA15A",
          "symbol": "circle"
         },
         "mode": "markers",
         "name": "Northwest Africa 2618",
         "showlegend": true,
         "type": "scattergeo"
        },
        {
         "customdata": [
          [
           71000
          ]
         ],
         "geo": "geo",
         "hovertemplate": "name=Wooramel<br>reclat=%{lat}<br>reclong=%{lon}<br>mass (g)=%{customdata[0]}<extra></extra>",
         "lat": [
          -25.65
         ],
         "legendgroup": "Wooramel",
         "lon": [
          114.21667
         ],
         "marker": {
          "color": "#19d3f3",
          "symbol": "circle"
         },
         "mode": "markers",
         "name": "Wooramel",
         "showlegend": true,
         "type": "scattergeo"
        },
        {
         "customdata": [
          [
           170
          ]
         ],
         "geo": "geo",
         "hovertemplate": "name=Bluewing 031<br>reclat=%{lat}<br>reclong=%{lon}<br>mass (g)=%{customdata[0]}<extra></extra>",
         "lat": [
          40.26667
         ],
         "legendgroup": "Bluewing 031",
         "lon": [
          -118.93333
         ],
         "marker": {
          "color": "#FF6692",
          "symbol": "circle"
         },
         "mode": "markers",
         "name": "Bluewing 031",
         "showlegend": true,
         "type": "scattergeo"
        },
        {
         "customdata": [
          [
           9.13
          ]
         ],
         "geo": "geo",
         "hovertemplate": "name=Yamato 86011<br>reclat=%{lat}<br>reclong=%{lon}<br>mass (g)=%{customdata[0]}<extra></extra>",
         "lat": [
          -71.5
         ],
         "legendgroup": "Yamato 86011",
         "lon": [
          35.66667
         ],
         "marker": {
          "color": "#B6E880",
          "symbol": "circle"
         },
         "mode": "markers",
         "name": "Yamato 86011",
         "showlegend": true,
         "type": "scattergeo"
        },
        {
         "customdata": [
          [
           5
          ]
         ],
         "geo": "geo",
         "hovertemplate": "name=Queen Alexandra Range 94454<br>reclat=%{lat}<br>reclong=%{lon}<br>mass (g)=%{customdata[0]}<extra></extra>",
         "lat": [
          -84
         ],
         "legendgroup": "Queen Alexandra Range 94454",
         "lon": [
          168
         ],
         "marker": {
          "color": "#FF97FF",
          "symbol": "circle"
         },
         "mode": "markers",
         "name": "Queen Alexandra Range 94454",
         "showlegend": true,
         "type": "scattergeo"
        },
        {
         "customdata": [
          [
           4.2
          ]
         ],
         "geo": "geo",
         "hovertemplate": "name=Miller Range 090893<br>reclat=%{lat}<br>reclong=%{lon}<br>mass (g)=%{customdata[0]}<extra></extra>",
         "lat": [
          0
         ],
         "legendgroup": "Miller Range 090893",
         "lon": [
          0
         ],
         "marker": {
          "color": "#FECB52",
          "symbol": "circle"
         },
         "mode": "markers",
         "name": "Miller Range 090893",
         "showlegend": true,
         "type": "scattergeo"
        }
       ],
       "layout": {
        "autosize": true,
        "geo": {
         "center": {},
         "domain": {
          "x": [
           0,
           1
          ],
          "y": [
           0,
           1
          ]
         },
         "projection": {
          "rotation": {
           "lat": 154.79166975894844,
           "lon": -45.87988534947187
          },
          "scale": 1.0000000000000002,
          "type": "orthographic"
         }
        },
        "legend": {
         "title": {
          "text": "name"
         },
         "tracegroupgap": 0
        },
        "margin": {
         "t": 60
        },
        "template": {
         "data": {
          "bar": [
           {
            "error_x": {
             "color": "#2a3f5f"
            },
            "error_y": {
             "color": "#2a3f5f"
            },
            "marker": {
             "line": {
              "color": "#E5ECF6",
              "width": 0.5
             },
             "pattern": {
              "fillmode": "overlay",
              "size": 10,
              "solidity": 0.2
             }
            },
            "type": "bar"
           }
          ],
          "barpolar": [
           {
            "marker": {
             "line": {
              "color": "#E5ECF6",
              "width": 0.5
             },
             "pattern": {
              "fillmode": "overlay",
              "size": 10,
              "solidity": 0.2
             }
            },
            "type": "barpolar"
           }
          ],
          "carpet": [
           {
            "aaxis": {
             "endlinecolor": "#2a3f5f",
             "gridcolor": "white",
             "linecolor": "white",
             "minorgridcolor": "white",
             "startlinecolor": "#2a3f5f"
            },
            "baxis": {
             "endlinecolor": "#2a3f5f",
             "gridcolor": "white",
             "linecolor": "white",
             "minorgridcolor": "white",
             "startlinecolor": "#2a3f5f"
            },
            "type": "carpet"
           }
          ],
          "choropleth": [
           {
            "colorbar": {
             "outlinewidth": 0,
             "ticks": ""
            },
            "type": "choropleth"
           }
          ],
          "contour": [
           {
            "colorbar": {
             "outlinewidth": 0,
             "ticks": ""
            },
            "colorscale": [
             [
              0,
              "#0d0887"
             ],
             [
              0.1111111111111111,
              "#46039f"
             ],
             [
              0.2222222222222222,
              "#7201a8"
             ],
             [
              0.3333333333333333,
              "#9c179e"
             ],
             [
              0.4444444444444444,
              "#bd3786"
             ],
             [
              0.5555555555555556,
              "#d8576b"
             ],
             [
              0.6666666666666666,
              "#ed7953"
             ],
             [
              0.7777777777777778,
              "#fb9f3a"
             ],
             [
              0.8888888888888888,
              "#fdca26"
             ],
             [
              1,
              "#f0f921"
             ]
            ],
            "type": "contour"
           }
          ],
          "contourcarpet": [
           {
            "colorbar": {
             "outlinewidth": 0,
             "ticks": ""
            },
            "type": "contourcarpet"
           }
          ],
          "heatmap": [
           {
            "colorbar": {
             "outlinewidth": 0,
             "ticks": ""
            },
            "colorscale": [
             [
              0,
              "#0d0887"
             ],
             [
              0.1111111111111111,
              "#46039f"
             ],
             [
              0.2222222222222222,
              "#7201a8"
             ],
             [
              0.3333333333333333,
              "#9c179e"
             ],
             [
              0.4444444444444444,
              "#bd3786"
             ],
             [
              0.5555555555555556,
              "#d8576b"
             ],
             [
              0.6666666666666666,
              "#ed7953"
             ],
             [
              0.7777777777777778,
              "#fb9f3a"
             ],
             [
              0.8888888888888888,
              "#fdca26"
             ],
             [
              1,
              "#f0f921"
             ]
            ],
            "type": "heatmap"
           }
          ],
          "heatmapgl": [
           {
            "colorbar": {
             "outlinewidth": 0,
             "ticks": ""
            },
            "colorscale": [
             [
              0,
              "#0d0887"
             ],
             [
              0.1111111111111111,
              "#46039f"
             ],
             [
              0.2222222222222222,
              "#7201a8"
             ],
             [
              0.3333333333333333,
              "#9c179e"
             ],
             [
              0.4444444444444444,
              "#bd3786"
             ],
             [
              0.5555555555555556,
              "#d8576b"
             ],
             [
              0.6666666666666666,
              "#ed7953"
             ],
             [
              0.7777777777777778,
              "#fb9f3a"
             ],
             [
              0.8888888888888888,
              "#fdca26"
             ],
             [
              1,
              "#f0f921"
             ]
            ],
            "type": "heatmapgl"
           }
          ],
          "histogram": [
           {
            "marker": {
             "pattern": {
              "fillmode": "overlay",
              "size": 10,
              "solidity": 0.2
             }
            },
            "type": "histogram"
           }
          ],
          "histogram2d": [
           {
            "colorbar": {
             "outlinewidth": 0,
             "ticks": ""
            },
            "colorscale": [
             [
              0,
              "#0d0887"
             ],
             [
              0.1111111111111111,
              "#46039f"
             ],
             [
              0.2222222222222222,
              "#7201a8"
             ],
             [
              0.3333333333333333,
              "#9c179e"
             ],
             [
              0.4444444444444444,
              "#bd3786"
             ],
             [
              0.5555555555555556,
              "#d8576b"
             ],
             [
              0.6666666666666666,
              "#ed7953"
             ],
             [
              0.7777777777777778,
              "#fb9f3a"
             ],
             [
              0.8888888888888888,
              "#fdca26"
             ],
             [
              1,
              "#f0f921"
             ]
            ],
            "type": "histogram2d"
           }
          ],
          "histogram2dcontour": [
           {
            "colorbar": {
             "outlinewidth": 0,
             "ticks": ""
            },
            "colorscale": [
             [
              0,
              "#0d0887"
             ],
             [
              0.1111111111111111,
              "#46039f"
             ],
             [
              0.2222222222222222,
              "#7201a8"
             ],
             [
              0.3333333333333333,
              "#9c179e"
             ],
             [
              0.4444444444444444,
              "#bd3786"
             ],
             [
              0.5555555555555556,
              "#d8576b"
             ],
             [
              0.6666666666666666,
              "#ed7953"
             ],
             [
              0.7777777777777778,
              "#fb9f3a"
             ],
             [
              0.8888888888888888,
              "#fdca26"
             ],
             [
              1,
              "#f0f921"
             ]
            ],
            "type": "histogram2dcontour"
           }
          ],
          "mesh3d": [
           {
            "colorbar": {
             "outlinewidth": 0,
             "ticks": ""
            },
            "type": "mesh3d"
           }
          ],
          "parcoords": [
           {
            "line": {
             "colorbar": {
              "outlinewidth": 0,
              "ticks": ""
             }
            },
            "type": "parcoords"
           }
          ],
          "pie": [
           {
            "automargin": true,
            "type": "pie"
           }
          ],
          "scatter": [
           {
            "fillpattern": {
             "fillmode": "overlay",
             "size": 10,
             "solidity": 0.2
            },
            "type": "scatter"
           }
          ],
          "scatter3d": [
           {
            "line": {
             "colorbar": {
              "outlinewidth": 0,
              "ticks": ""
             }
            },
            "marker": {
             "colorbar": {
              "outlinewidth": 0,
              "ticks": ""
             }
            },
            "type": "scatter3d"
           }
          ],
          "scattercarpet": [
           {
            "marker": {
             "colorbar": {
              "outlinewidth": 0,
              "ticks": ""
             }
            },
            "type": "scattercarpet"
           }
          ],
          "scattergeo": [
           {
            "marker": {
             "colorbar": {
              "outlinewidth": 0,
              "ticks": ""
             }
            },
            "type": "scattergeo"
           }
          ],
          "scattergl": [
           {
            "marker": {
             "colorbar": {
              "outlinewidth": 0,
              "ticks": ""
             }
            },
            "type": "scattergl"
           }
          ],
          "scattermapbox": [
           {
            "marker": {
             "colorbar": {
              "outlinewidth": 0,
              "ticks": ""
             }
            },
            "type": "scattermapbox"
           }
          ],
          "scatterpolar": [
           {
            "marker": {
             "colorbar": {
              "outlinewidth": 0,
              "ticks": ""
             }
            },
            "type": "scatterpolar"
           }
          ],
          "scatterpolargl": [
           {
            "marker": {
             "colorbar": {
              "outlinewidth": 0,
              "ticks": ""
             }
            },
            "type": "scatterpolargl"
           }
          ],
          "scatterternary": [
           {
            "marker": {
             "colorbar": {
              "outlinewidth": 0,
              "ticks": ""
             }
            },
            "type": "scatterternary"
           }
          ],
          "surface": [
           {
            "colorbar": {
             "outlinewidth": 0,
             "ticks": ""
            },
            "colorscale": [
             [
              0,
              "#0d0887"
             ],
             [
              0.1111111111111111,
              "#46039f"
             ],
             [
              0.2222222222222222,
              "#7201a8"
             ],
             [
              0.3333333333333333,
              "#9c179e"
             ],
             [
              0.4444444444444444,
              "#bd3786"
             ],
             [
              0.5555555555555556,
              "#d8576b"
             ],
             [
              0.6666666666666666,
              "#ed7953"
             ],
             [
              0.7777777777777778,
              "#fb9f3a"
             ],
             [
              0.8888888888888888,
              "#fdca26"
             ],
             [
              1,
              "#f0f921"
             ]
            ],
            "type": "surface"
           }
          ],
          "table": [
           {
            "cells": {
             "fill": {
              "color": "#EBF0F8"
             },
             "line": {
              "color": "white"
             }
            },
            "header": {
             "fill": {
              "color": "#C8D4E3"
             },
             "line": {
              "color": "white"
             }
            },
            "type": "table"
           }
          ]
         },
         "layout": {
          "annotationdefaults": {
           "arrowcolor": "#2a3f5f",
           "arrowhead": 0,
           "arrowwidth": 1
          },
          "autotypenumbers": "strict",
          "coloraxis": {
           "colorbar": {
            "outlinewidth": 0,
            "ticks": ""
           }
          },
          "colorscale": {
           "diverging": [
            [
             0,
             "#8e0152"
            ],
            [
             0.1,
             "#c51b7d"
            ],
            [
             0.2,
             "#de77ae"
            ],
            [
             0.3,
             "#f1b6da"
            ],
            [
             0.4,
             "#fde0ef"
            ],
            [
             0.5,
             "#f7f7f7"
            ],
            [
             0.6,
             "#e6f5d0"
            ],
            [
             0.7,
             "#b8e186"
            ],
            [
             0.8,
             "#7fbc41"
            ],
            [
             0.9,
             "#4d9221"
            ],
            [
             1,
             "#276419"
            ]
           ],
           "sequential": [
            [
             0,
             "#0d0887"
            ],
            [
             0.1111111111111111,
             "#46039f"
            ],
            [
             0.2222222222222222,
             "#7201a8"
            ],
            [
             0.3333333333333333,
             "#9c179e"
            ],
            [
             0.4444444444444444,
             "#bd3786"
            ],
            [
             0.5555555555555556,
             "#d8576b"
            ],
            [
             0.6666666666666666,
             "#ed7953"
            ],
            [
             0.7777777777777778,
             "#fb9f3a"
            ],
            [
             0.8888888888888888,
             "#fdca26"
            ],
            [
             1,
             "#f0f921"
            ]
           ],
           "sequentialminus": [
            [
             0,
             "#0d0887"
            ],
            [
             0.1111111111111111,
             "#46039f"
            ],
            [
             0.2222222222222222,
             "#7201a8"
            ],
            [
             0.3333333333333333,
             "#9c179e"
            ],
            [
             0.4444444444444444,
             "#bd3786"
            ],
            [
             0.5555555555555556,
             "#d8576b"
            ],
            [
             0.6666666666666666,
             "#ed7953"
            ],
            [
             0.7777777777777778,
             "#fb9f3a"
            ],
            [
             0.8888888888888888,
             "#fdca26"
            ],
            [
             1,
             "#f0f921"
            ]
           ]
          },
          "colorway": [
           "#636efa",
           "#EF553B",
           "#00cc96",
           "#ab63fa",
           "#FFA15A",
           "#19d3f3",
           "#FF6692",
           "#B6E880",
           "#FF97FF",
           "#FECB52"
          ],
          "font": {
           "color": "#2a3f5f"
          },
          "geo": {
           "bgcolor": "white",
           "lakecolor": "white",
           "landcolor": "#E5ECF6",
           "showlakes": true,
           "showland": true,
           "subunitcolor": "white"
          },
          "hoverlabel": {
           "align": "left"
          },
          "hovermode": "closest",
          "mapbox": {
           "style": "light"
          },
          "paper_bgcolor": "white",
          "plot_bgcolor": "#E5ECF6",
          "polar": {
           "angularaxis": {
            "gridcolor": "white",
            "linecolor": "white",
            "ticks": ""
           },
           "bgcolor": "#E5ECF6",
           "radialaxis": {
            "gridcolor": "white",
            "linecolor": "white",
            "ticks": ""
           }
          },
          "scene": {
           "xaxis": {
            "backgroundcolor": "#E5ECF6",
            "gridcolor": "white",
            "gridwidth": 2,
            "linecolor": "white",
            "showbackground": true,
            "ticks": "",
            "zerolinecolor": "white"
           },
           "yaxis": {
            "backgroundcolor": "#E5ECF6",
            "gridcolor": "white",
            "gridwidth": 2,
            "linecolor": "white",
            "showbackground": true,
            "ticks": "",
            "zerolinecolor": "white"
           },
           "zaxis": {
            "backgroundcolor": "#E5ECF6",
            "gridcolor": "white",
            "gridwidth": 2,
            "linecolor": "white",
            "showbackground": true,
            "ticks": "",
            "zerolinecolor": "white"
           }
          },
          "shapedefaults": {
           "line": {
            "color": "#2a3f5f"
           }
          },
          "ternary": {
           "aaxis": {
            "gridcolor": "white",
            "linecolor": "white",
            "ticks": ""
           },
           "baxis": {
            "gridcolor": "white",
            "linecolor": "white",
            "ticks": ""
           },
           "bgcolor": "#E5ECF6",
           "caxis": {
            "gridcolor": "white",
            "linecolor": "white",
            "ticks": ""
           }
          },
          "title": {
           "x": 0.05
          },
          "xaxis": {
           "automargin": true,
           "gridcolor": "white",
           "linecolor": "white",
           "ticks": "",
           "title": {
            "standoff": 15
           },
           "zerolinecolor": "white",
           "zerolinewidth": 2
          },
          "yaxis": {
           "automargin": true,
           "gridcolor": "white",
           "linecolor": "white",
           "ticks": "",
           "title": {
            "standoff": 15
           },
           "zerolinecolor": "white",
           "zerolinewidth": 2
          }
         }
        }
       }
      },
      "image/png": "[encoded data removed]",
      "text/html": [
       "<div>                            <div id=\"fc2fdee7-111d-415d-9109-599792d3fbf7\" class=\"plotly-graph-div\" style=\"height:525px; width:100%;\"></div>            <script type=\"text/javascript\">                require([\"plotly\"], function(Plotly) {                    window.PLOTLYENV=window.PLOTLYENV || {};                                    if (document.getElementById(\"fc2fdee7-111d-415d-9109-599792d3fbf7\")) {                    Plotly.newPlot(                        \"fc2fdee7-111d-415d-9109-599792d3fbf7\",                        [{\"customdata\":[[173.0]],\"geo\":\"geo\",\"hovertemplate\":\"name=Northwest Africa 3126\\u003cbr\\u003ereclat=%{lat}\\u003cbr\\u003ereclong=%{lon}\\u003cbr\\u003emass (g)=%{customdata[0]}\\u003cextra\\u003e\\u003c\\u002fextra\\u003e\",\"lat\":[null],\"legendgroup\":\"Northwest Africa 3126\",\"lon\":[null],\"marker\":{\"color\":\"#636efa\",\"symbol\":\"circle\"},\"mode\":\"markers\",\"name\":\"Northwest Africa 3126\",\"showlegend\":true,\"type\":\"scattergeo\"},{\"customdata\":[[63.0]],\"geo\":\"geo\",\"hovertemplate\":\"name=LaPaz Icefield 04605\\u003cbr\\u003ereclat=%{lat}\\u003cbr\\u003ereclong=%{lon}\\u003cbr\\u003emass (g)=%{customdata[0]}\\u003cextra\\u003e\\u003c\\u002fextra\\u003e\",\"lat\":[null],\"legendgroup\":\"LaPaz Icefield 04605\",\"lon\":[null],\"marker\":{\"color\":\"#EF553B\",\"symbol\":\"circle\"},\"mode\":\"markers\",\"name\":\"LaPaz Icefield 04605\",\"showlegend\":true,\"type\":\"scattergeo\"},{\"customdata\":[[10.913]],\"geo\":\"geo\",\"hovertemplate\":\"name=Yamato 980593\\u003cbr\\u003ereclat=%{lat}\\u003cbr\\u003ereclong=%{lon}\\u003cbr\\u003emass (g)=%{customdata[0]}\\u003cextra\\u003e\\u003c\\u002fextra\\u003e\",\"lat\":[null],\"legendgroup\":\"Yamato 980593\",\"lon\":[null],\"marker\":{\"color\":\"#00cc96\",\"symbol\":\"circle\"},\"mode\":\"markers\",\"name\":\"Yamato 980593\",\"showlegend\":true,\"type\":\"scattergeo\"},{\"customdata\":[[27.3]],\"geo\":\"geo\",\"hovertemplate\":\"name=Queen Alexandra Range 97279\\u003cbr\\u003ereclat=%{lat}\\u003cbr\\u003ereclong=%{lon}\\u003cbr\\u003emass (g)=%{customdata[0]}\\u003cextra\\u003e\\u003c\\u002fextra\\u003e\",\"lat\":[-84.0],\"legendgroup\":\"Queen Alexandra Range 97279\",\"lon\":[168.0],\"marker\":{\"color\":\"#ab63fa\",\"symbol\":\"circle\"},\"mode\":\"markers\",\"name\":\"Queen Alexandra Range 97279\",\"showlegend\":true,\"type\":\"scattergeo\"},{\"customdata\":[[20.9]],\"geo\":\"geo\",\"hovertemplate\":\"name=Elephant Moraine 90798\\u003cbr\\u003ereclat=%{lat}\\u003cbr\\u003ereclong=%{lon}\\u003cbr\\u003emass (g)=%{customdata[0]}\\u003cextra\\u003e\\u003c\\u002fextra\\u003e\",\"lat\":[-76.28535],\"legendgroup\":\"Elephant Moraine 90798\",\"lon\":[156.44404],\"marker\":{\"color\":\"#FFA15A\",\"symbol\":\"circle\"},\"mode\":\"markers\",\"name\":\"Elephant Moraine 90798\",\"showlegend\":true,\"type\":\"scattergeo\"},{\"customdata\":[[2048.0]],\"geo\":\"geo\",\"hovertemplate\":\"name=Yamato 791406\\u003cbr\\u003ereclat=%{lat}\\u003cbr\\u003ereclong=%{lon}\\u003cbr\\u003emass (g)=%{customdata[0]}\\u003cextra\\u003e\\u003c\\u002fextra\\u003e\",\"lat\":[-71.5],\"legendgroup\":\"Yamato 791406\",\"lon\":[35.66667],\"marker\":{\"color\":\"#19d3f3\",\"symbol\":\"circle\"},\"mode\":\"markers\",\"name\":\"Yamato 791406\",\"showlegend\":true,\"type\":\"scattergeo\"},{\"customdata\":[[150.1]],\"geo\":\"geo\",\"hovertemplate\":\"name=Wisconsin Range 91628\\u003cbr\\u003ereclat=%{lat}\\u003cbr\\u003ereclong=%{lon}\\u003cbr\\u003emass (g)=%{customdata[0]}\\u003cextra\\u003e\\u003c\\u002fextra\\u003e\",\"lat\":[-86.51027],\"legendgroup\":\"Wisconsin Range 91628\",\"lon\":[-122.9522],\"marker\":{\"color\":\"#FF6692\",\"symbol\":\"circle\"},\"mode\":\"markers\",\"name\":\"Wisconsin Range 91628\",\"showlegend\":true,\"type\":\"scattergeo\"},{\"customdata\":[[13.16]],\"geo\":\"geo\",\"hovertemplate\":\"name=MacAlpine Hills 02954\\u003cbr\\u003ereclat=%{lat}\\u003cbr\\u003ereclong=%{lon}\\u003cbr\\u003emass (g)=%{customdata[0]}\\u003cextra\\u003e\\u003c\\u002fextra\\u003e\",\"lat\":[null],\"legendgroup\":\"MacAlpine Hills 02954\",\"lon\":[null],\"marker\":{\"color\":\"#B6E880\",\"symbol\":\"circle\"},\"mode\":\"markers\",\"name\":\"MacAlpine Hills 02954\",\"showlegend\":true,\"type\":\"scattergeo\"},{\"customdata\":[[87.49]],\"geo\":\"geo\",\"hovertemplate\":\"name=Asuka 881874\\u003cbr\\u003ereclat=%{lat}\\u003cbr\\u003ereclong=%{lon}\\u003cbr\\u003emass (g)=%{customdata[0]}\\u003cextra\\u003e\\u003c\\u002fextra\\u003e\",\"lat\":[-72.0],\"legendgroup\":\"Asuka 881874\",\"lon\":[26.0],\"marker\":{\"color\":\"#FF97FF\",\"symbol\":\"circle\"},\"mode\":\"markers\",\"name\":\"Asuka 881874\",\"showlegend\":true,\"type\":\"scattergeo\"},{\"customdata\":[[3.03]],\"geo\":\"geo\",\"hovertemplate\":\"name=Yamato 791391\\u003cbr\\u003ereclat=%{lat}\\u003cbr\\u003ereclong=%{lon}\\u003cbr\\u003emass (g)=%{customdata[0]}\\u003cextra\\u003e\\u003c\\u002fextra\\u003e\",\"lat\":[-71.5],\"legendgroup\":\"Yamato 791391\",\"lon\":[35.66667],\"marker\":{\"color\":\"#FECB52\",\"symbol\":\"circle\"},\"mode\":\"markers\",\"name\":\"Yamato 791391\",\"showlegend\":true,\"type\":\"scattergeo\"},{\"customdata\":[[31.03]],\"geo\":\"geo\",\"hovertemplate\":\"name=Yamato 791220\\u003cbr\\u003ereclat=%{lat}\\u003cbr\\u003ereclong=%{lon}\\u003cbr\\u003emass (g)=%{customdata[0]}\\u003cextra\\u003e\\u003c\\u002fextra\\u003e\",\"lat\":[-71.5],\"legendgroup\":\"Yamato 791220\",\"lon\":[35.66667],\"marker\":{\"color\":\"#636efa\",\"symbol\":\"circle\"},\"mode\":\"markers\",\"name\":\"Yamato 791220\",\"showlegend\":true,\"type\":\"scattergeo\"},{\"customdata\":[[1.2]],\"geo\":\"geo\",\"hovertemplate\":\"name=Lewis Cliff 93850\\u003cbr\\u003ereclat=%{lat}\\u003cbr\\u003ereclong=%{lon}\\u003cbr\\u003emass (g)=%{customdata[0]}\\u003cextra\\u003e\\u003c\\u002fextra\\u003e\",\"lat\":[-84.27378],\"legendgroup\":\"Lewis Cliff 93850\",\"lon\":[161.68545],\"marker\":{\"color\":\"#EF553B\",\"symbol\":\"circle\"},\"mode\":\"markers\",\"name\":\"Lewis Cliff 93850\",\"showlegend\":true,\"type\":\"scattergeo\"},{\"customdata\":[[9.217]],\"geo\":\"geo\",\"hovertemplate\":\"name=Yamato 980011\\u003cbr\\u003ereclat=%{lat}\\u003cbr\\u003ereclong=%{lon}\\u003cbr\\u003emass (g)=%{customdata[0]}\\u003cextra\\u003e\\u003c\\u002fextra\\u003e\",\"lat\":[null],\"legendgroup\":\"Yamato 980011\",\"lon\":[null],\"marker\":{\"color\":\"#00cc96\",\"symbol\":\"circle\"},\"mode\":\"markers\",\"name\":\"Yamato 980011\",\"showlegend\":true,\"type\":\"scattergeo\"},{\"customdata\":[[1000.0]],\"geo\":\"geo\",\"hovertemplate\":\"name=Summit\\u003cbr\\u003ereclat=%{lat}\\u003cbr\\u003ereclong=%{lon}\\u003cbr\\u003emass (g)=%{customdata[0]}\\u003cextra\\u003e\\u003c\\u002fextra\\u003e\",\"lat\":[34.2],\"legendgroup\":\"Summit\",\"lon\":[-86.48333],\"marker\":{\"color\":\"#ab63fa\",\"symbol\":\"circle\"},\"mode\":\"markers\",\"name\":\"Summit\",\"showlegend\":true,\"type\":\"scattergeo\"},{\"customdata\":[[2.4]],\"geo\":\"geo\",\"hovertemplate\":\"name=Lewis Cliff 87228\\u003cbr\\u003ereclat=%{lat}\\u003cbr\\u003ereclong=%{lon}\\u003cbr\\u003emass (g)=%{customdata[0]}\\u003cextra\\u003e\\u003c\\u002fextra\\u003e\",\"lat\":[-84.357],\"legendgroup\":\"Lewis Cliff 87228\",\"lon\":[161.36443],\"marker\":{\"color\":\"#FFA15A\",\"symbol\":\"circle\"},\"mode\":\"markers\",\"name\":\"Lewis Cliff 87228\",\"showlegend\":true,\"type\":\"scattergeo\"},{\"customdata\":[[0.5]],\"geo\":\"geo\",\"hovertemplate\":\"name=Queen Alexandra Range 99817\\u003cbr\\u003ereclat=%{lat}\\u003cbr\\u003ereclong=%{lon}\\u003cbr\\u003emass (g)=%{customdata[0]}\\u003cextra\\u003e\\u003c\\u002fextra\\u003e\",\"lat\":[-84.0],\"legendgroup\":\"Queen Alexandra Range 99817\",\"lon\":[168.0],\"marker\":{\"color\":\"#19d3f3\",\"symbol\":\"circle\"},\"mode\":\"markers\",\"name\":\"Queen Alexandra Range 99817\",\"showlegend\":true,\"type\":\"scattergeo\"},{\"customdata\":[[16.4]],\"geo\":\"geo\",\"hovertemplate\":\"name=Queen Alexandra Range 99160\\u003cbr\\u003ereclat=%{lat}\\u003cbr\\u003ereclong=%{lon}\\u003cbr\\u003emass (g)=%{customdata[0]}\\u003cextra\\u003e\\u003c\\u002fextra\\u003e\",\"lat\":[-84.0],\"legendgroup\":\"Queen Alexandra Range 99160\",\"lon\":[168.0],\"marker\":{\"color\":\"#FF6692\",\"symbol\":\"circle\"},\"mode\":\"markers\",\"name\":\"Queen Alexandra Range 99160\",\"showlegend\":true,\"type\":\"scattergeo\"},{\"customdata\":[[45.21]],\"geo\":\"geo\",\"hovertemplate\":\"name=Asuka 882014\\u003cbr\\u003ereclat=%{lat}\\u003cbr\\u003ereclong=%{lon}\\u003cbr\\u003emass (g)=%{customdata[0]}\\u003cextra\\u003e\\u003c\\u002fextra\\u003e\",\"lat\":[-72.0],\"legendgroup\":\"Asuka 882014\",\"lon\":[26.0],\"marker\":{\"color\":\"#B6E880\",\"symbol\":\"circle\"},\"mode\":\"markers\",\"name\":\"Asuka 882014\",\"showlegend\":true,\"type\":\"scattergeo\"},{\"customdata\":[[1.4]],\"geo\":\"geo\",\"hovertemplate\":\"name=Queen Alexandra Range 99909\\u003cbr\\u003ereclat=%{lat}\\u003cbr\\u003ereclong=%{lon}\\u003cbr\\u003emass (g)=%{customdata[0]}\\u003cextra\\u003e\\u003c\\u002fextra\\u003e\",\"lat\":[-84.0],\"legendgroup\":\"Queen Alexandra Range 99909\",\"lon\":[168.0],\"marker\":{\"color\":\"#FF97FF\",\"symbol\":\"circle\"},\"mode\":\"markers\",\"name\":\"Queen Alexandra Range 99909\",\"showlegend\":true,\"type\":\"scattergeo\"},{\"customdata\":[[2.55]],\"geo\":\"geo\",\"hovertemplate\":\"name=Grove Mountains 022099\\u003cbr\\u003ereclat=%{lat}\\u003cbr\\u003ereclong=%{lon}\\u003cbr\\u003emass (g)=%{customdata[0]}\\u003cextra\\u003e\\u003c\\u002fextra\\u003e\",\"lat\":[-72.77917],\"legendgroup\":\"Grove Mountains 022099\",\"lon\":[75.31056],\"marker\":{\"color\":\"#FECB52\",\"symbol\":\"circle\"},\"mode\":\"markers\",\"name\":\"Grove Mountains 022099\",\"showlegend\":true,\"type\":\"scattergeo\"},{\"customdata\":[[33.8]],\"geo\":\"geo\",\"hovertemplate\":\"name=Bates Nunataks 00301\\u003cbr\\u003ereclat=%{lat}\\u003cbr\\u003ereclong=%{lon}\\u003cbr\\u003emass (g)=%{customdata[0]}\\u003cextra\\u003e\\u003c\\u002fextra\\u003e\",\"lat\":[-80.25],\"legendgroup\":\"Bates Nunataks 00301\",\"lon\":[153.5],\"marker\":{\"color\":\"#636efa\",\"symbol\":\"circle\"},\"mode\":\"markers\",\"name\":\"Bates Nunataks 00301\",\"showlegend\":true,\"type\":\"scattergeo\"},{\"customdata\":[[1.1]],\"geo\":\"geo\",\"hovertemplate\":\"name=MacAlpine Hills 041181\\u003cbr\\u003ereclat=%{lat}\\u003cbr\\u003ereclong=%{lon}\\u003cbr\\u003emass (g)=%{customdata[0]}\\u003cextra\\u003e\\u003c\\u002fextra\\u003e\",\"lat\":[null],\"legendgroup\":\"MacAlpine Hills 041181\",\"lon\":[null],\"marker\":{\"color\":\"#EF553B\",\"symbol\":\"circle\"},\"mode\":\"markers\",\"name\":\"MacAlpine Hills 041181\",\"showlegend\":true,\"type\":\"scattergeo\"},{\"customdata\":[[8.1]],\"geo\":\"geo\",\"hovertemplate\":\"name=Pecora Escarpment 91293\\u003cbr\\u003ereclat=%{lat}\\u003cbr\\u003ereclong=%{lon}\\u003cbr\\u003emass (g)=%{customdata[0]}\\u003cextra\\u003e\\u003c\\u002fextra\\u003e\",\"lat\":[-85.691],\"legendgroup\":\"Pecora Escarpment 91293\",\"lon\":[-68.96836],\"marker\":{\"color\":\"#00cc96\",\"symbol\":\"circle\"},\"mode\":\"markers\",\"name\":\"Pecora Escarpment 91293\",\"showlegend\":true,\"type\":\"scattergeo\"},{\"customdata\":[[52.4]],\"geo\":\"geo\",\"hovertemplate\":\"name=Queen Alexandra Range 99325\\u003cbr\\u003ereclat=%{lat}\\u003cbr\\u003ereclong=%{lon}\\u003cbr\\u003emass (g)=%{customdata[0]}\\u003cextra\\u003e\\u003c\\u002fextra\\u003e\",\"lat\":[-84.0],\"legendgroup\":\"Queen Alexandra Range 99325\",\"lon\":[168.0],\"marker\":{\"color\":\"#ab63fa\",\"symbol\":\"circle\"},\"mode\":\"markers\",\"name\":\"Queen Alexandra Range 99325\",\"showlegend\":true,\"type\":\"scattergeo\"},{\"customdata\":[[197.2]],\"geo\":\"geo\",\"hovertemplate\":\"name=Miller Range 05048\\u003cbr\\u003ereclat=%{lat}\\u003cbr\\u003ereclong=%{lon}\\u003cbr\\u003emass (g)=%{customdata[0]}\\u003cextra\\u003e\\u003c\\u002fextra\\u003e\",\"lat\":[null],\"legendgroup\":\"Miller Range 05048\",\"lon\":[null],\"marker\":{\"color\":\"#FFA15A\",\"symbol\":\"circle\"},\"mode\":\"markers\",\"name\":\"Miller Range 05048\",\"showlegend\":true,\"type\":\"scattergeo\"},{\"customdata\":[[101.4]],\"geo\":\"geo\",\"hovertemplate\":\"name=Roberts Massif 04142\\u003cbr\\u003ereclat=%{lat}\\u003cbr\\u003ereclong=%{lon}\\u003cbr\\u003emass (g)=%{customdata[0]}\\u003cextra\\u003e\\u003c\\u002fextra\\u003e\",\"lat\":[null],\"legendgroup\":\"Roberts Massif 04142\",\"lon\":[null],\"marker\":{\"color\":\"#19d3f3\",\"symbol\":\"circle\"},\"mode\":\"markers\",\"name\":\"Roberts Massif 04142\",\"showlegend\":true,\"type\":\"scattergeo\"},{\"customdata\":[[4.4]],\"geo\":\"geo\",\"hovertemplate\":\"name=Allan Hills A78069\\u003cbr\\u003ereclat=%{lat}\\u003cbr\\u003ereclong=%{lon}\\u003cbr\\u003emass (g)=%{customdata[0]}\\u003cextra\\u003e\\u003c\\u002fextra\\u003e\",\"lat\":[-76.71667],\"legendgroup\":\"Allan Hills A78069\",\"lon\":[159.66667],\"marker\":{\"color\":\"#FF6692\",\"symbol\":\"circle\"},\"mode\":\"markers\",\"name\":\"Allan Hills A78069\",\"showlegend\":true,\"type\":\"scattergeo\"},{\"customdata\":[[12.976]],\"geo\":\"geo\",\"hovertemplate\":\"name=Yamato 980814\\u003cbr\\u003ereclat=%{lat}\\u003cbr\\u003ereclong=%{lon}\\u003cbr\\u003emass (g)=%{customdata[0]}\\u003cextra\\u003e\\u003c\\u002fextra\\u003e\",\"lat\":[null],\"legendgroup\":\"Yamato 980814\",\"lon\":[null],\"marker\":{\"color\":\"#B6E880\",\"symbol\":\"circle\"},\"mode\":\"markers\",\"name\":\"Yamato 980814\",\"showlegend\":true,\"type\":\"scattergeo\"},{\"customdata\":[[579.0]],\"geo\":\"geo\",\"hovertemplate\":\"name=Northwest Africa 4425\\u003cbr\\u003ereclat=%{lat}\\u003cbr\\u003ereclong=%{lon}\\u003cbr\\u003emass (g)=%{customdata[0]}\\u003cextra\\u003e\\u003c\\u002fextra\\u003e\",\"lat\":[null],\"legendgroup\":\"Northwest Africa 4425\",\"lon\":[null],\"marker\":{\"color\":\"#FF97FF\",\"symbol\":\"circle\"},\"mode\":\"markers\",\"name\":\"Northwest Africa 4425\",\"showlegend\":true,\"type\":\"scattergeo\"},{\"customdata\":[[69.9]],\"geo\":\"geo\",\"hovertemplate\":\"name=Yamato 74123\\u003cbr\\u003ereclat=%{lat}\\u003cbr\\u003ereclong=%{lon}\\u003cbr\\u003emass (g)=%{customdata[0]}\\u003cextra\\u003e\\u003c\\u002fextra\\u003e\",\"lat\":[-71.82806],\"legendgroup\":\"Yamato 74123\",\"lon\":[36.20556],\"marker\":{\"color\":\"#FECB52\",\"symbol\":\"circle\"},\"mode\":\"markers\",\"name\":\"Yamato 74123\",\"showlegend\":true,\"type\":\"scattergeo\"},{\"customdata\":[[9.49]],\"geo\":\"geo\",\"hovertemplate\":\"name=Yamato 983261\\u003cbr\\u003ereclat=%{lat}\\u003cbr\\u003ereclong=%{lon}\\u003cbr\\u003emass (g)=%{customdata[0]}\\u003cextra\\u003e\\u003c\\u002fextra\\u003e\",\"lat\":[0.0],\"legendgroup\":\"Yamato 983261\",\"lon\":[0.0],\"marker\":{\"color\":\"#636efa\",\"symbol\":\"circle\"},\"mode\":\"markers\",\"name\":\"Yamato 983261\",\"showlegend\":true,\"type\":\"scattergeo\"},{\"customdata\":[[102.79]],\"geo\":\"geo\",\"hovertemplate\":\"name=Yamato 981304\\u003cbr\\u003ereclat=%{lat}\\u003cbr\\u003ereclong=%{lon}\\u003cbr\\u003emass (g)=%{customdata[0]}\\u003cextra\\u003e\\u003c\\u002fextra\\u003e\",\"lat\":[0.0],\"legendgroup\":\"Yamato 981304\",\"lon\":[0.0],\"marker\":{\"color\":\"#EF553B\",\"symbol\":\"circle\"},\"mode\":\"markers\",\"name\":\"Yamato 981304\",\"showlegend\":true,\"type\":\"scattergeo\"},{\"customdata\":[[1.58]],\"geo\":\"geo\",\"hovertemplate\":\"name=Grove Mountains 054856\\u003cbr\\u003ereclat=%{lat}\\u003cbr\\u003ereclong=%{lon}\\u003cbr\\u003emass (g)=%{customdata[0]}\\u003cextra\\u003e\\u003c\\u002fextra\\u003e\",\"lat\":[-72.99889],\"legendgroup\":\"Grove Mountains 054856\",\"lon\":[75.18722],\"marker\":{\"color\":\"#00cc96\",\"symbol\":\"circle\"},\"mode\":\"markers\",\"name\":\"Grove Mountains 054856\",\"showlegend\":true,\"type\":\"scattergeo\"},{\"customdata\":[[0.45]],\"geo\":\"geo\",\"hovertemplate\":\"name=Grove Mountains 021911\\u003cbr\\u003ereclat=%{lat}\\u003cbr\\u003ereclong=%{lon}\\u003cbr\\u003emass (g)=%{customdata[0]}\\u003cextra\\u003e\\u003c\\u002fextra\\u003e\",\"lat\":[-72.7769],\"legendgroup\":\"Grove Mountains 021911\",\"lon\":[75.3264],\"marker\":{\"color\":\"#ab63fa\",\"symbol\":\"circle\"},\"mode\":\"markers\",\"name\":\"Grove Mountains 021911\",\"showlegend\":true,\"type\":\"scattergeo\"},{\"customdata\":[[3879.0]],\"geo\":\"geo\",\"hovertemplate\":\"name=Ramlat as Sahmah 422\\u003cbr\\u003ereclat=%{lat}\\u003cbr\\u003ereclong=%{lon}\\u003cbr\\u003emass (g)=%{customdata[0]}\\u003cextra\\u003e\\u003c\\u002fextra\\u003e\",\"lat\":[20.5052],\"legendgroup\":\"Ramlat as Sahmah 422\",\"lon\":[56.48438],\"marker\":{\"color\":\"#FFA15A\",\"symbol\":\"circle\"},\"mode\":\"markers\",\"name\":\"Ramlat as Sahmah 422\",\"showlegend\":true,\"type\":\"scattergeo\"},{\"customdata\":[[5100.0]],\"geo\":\"geo\",\"hovertemplate\":\"name=Pasamonte\\u003cbr\\u003ereclat=%{lat}\\u003cbr\\u003ereclong=%{lon}\\u003cbr\\u003emass (g)=%{customdata[0]}\\u003cextra\\u003e\\u003c\\u002fextra\\u003e\",\"lat\":[36.21667],\"legendgroup\":\"Pasamonte\",\"lon\":[-103.4],\"marker\":{\"color\":\"#19d3f3\",\"symbol\":\"circle\"},\"mode\":\"markers\",\"name\":\"Pasamonte\",\"showlegend\":true,\"type\":\"scattergeo\"},{\"customdata\":[[3.26]],\"geo\":\"geo\",\"hovertemplate\":\"name=Grove Mountains 053128\\u003cbr\\u003ereclat=%{lat}\\u003cbr\\u003ereclong=%{lon}\\u003cbr\\u003emass (g)=%{customdata[0]}\\u003cextra\\u003e\\u003c\\u002fextra\\u003e\",\"lat\":[-72.76944],\"legendgroup\":\"Grove Mountains 053128\",\"lon\":[75.3375],\"marker\":{\"color\":\"#FF6692\",\"symbol\":\"circle\"},\"mode\":\"markers\",\"name\":\"Grove Mountains 053128\",\"showlegend\":true,\"type\":\"scattergeo\"},{\"customdata\":[[16300.0]],\"geo\":\"geo\",\"hovertemplate\":\"name=Forsyth\\u003cbr\\u003ereclat=%{lat}\\u003cbr\\u003ereclong=%{lon}\\u003cbr\\u003emass (g)=%{customdata[0]}\\u003cextra\\u003e\\u003c\\u002fextra\\u003e\",\"lat\":[33.01667],\"legendgroup\":\"Forsyth\",\"lon\":[-83.96667],\"marker\":{\"color\":\"#B6E880\",\"symbol\":\"circle\"},\"mode\":\"markers\",\"name\":\"Forsyth\",\"showlegend\":true,\"type\":\"scattergeo\"},{\"customdata\":[[3.49]],\"geo\":\"geo\",\"hovertemplate\":\"name=LaPaz Icefield 02291\\u003cbr\\u003ereclat=%{lat}\\u003cbr\\u003ereclong=%{lon}\\u003cbr\\u003emass (g)=%{customdata[0]}\\u003cextra\\u003e\\u003c\\u002fextra\\u003e\",\"lat\":[-86.36667],\"legendgroup\":\"LaPaz Icefield 02291\",\"lon\":[-70.0],\"marker\":{\"color\":\"#FF97FF\",\"symbol\":\"circle\"},\"mode\":\"markers\",\"name\":\"LaPaz Icefield 02291\",\"showlegend\":true,\"type\":\"scattergeo\"},{\"customdata\":[[0.54]],\"geo\":\"geo\",\"hovertemplate\":\"name=Yamato 74324\\u003cbr\\u003ereclat=%{lat}\\u003cbr\\u003ereclong=%{lon}\\u003cbr\\u003emass (g)=%{customdata[0]}\\u003cextra\\u003e\\u003c\\u002fextra\\u003e\",\"lat\":[-71.5],\"legendgroup\":\"Yamato 74324\",\"lon\":[35.66667],\"marker\":{\"color\":\"#FECB52\",\"symbol\":\"circle\"},\"mode\":\"markers\",\"name\":\"Yamato 74324\",\"showlegend\":true,\"type\":\"scattergeo\"},{\"customdata\":[[17.54]],\"geo\":\"geo\",\"hovertemplate\":\"name=LaPaz Icefield 02419\\u003cbr\\u003ereclat=%{lat}\\u003cbr\\u003ereclong=%{lon}\\u003cbr\\u003emass (g)=%{customdata[0]}\\u003cextra\\u003e\\u003c\\u002fextra\\u003e\",\"lat\":[-86.36667],\"legendgroup\":\"LaPaz Icefield 02419\",\"lon\":[-70.0],\"marker\":{\"color\":\"#636efa\",\"symbol\":\"circle\"},\"mode\":\"markers\",\"name\":\"LaPaz Icefield 02419\",\"showlegend\":true,\"type\":\"scattergeo\"},{\"customdata\":[[4.6]],\"geo\":\"geo\",\"hovertemplate\":\"name=O'Malley 002\\u003cbr\\u003ereclat=%{lat}\\u003cbr\\u003ereclong=%{lon}\\u003cbr\\u003emass (g)=%{customdata[0]}\\u003cextra\\u003e\\u003c\\u002fextra\\u003e\",\"lat\":[-30.99311],\"legendgroup\":\"O'Malley 002\",\"lon\":[131.33253],\"marker\":{\"color\":\"#EF553B\",\"symbol\":\"circle\"},\"mode\":\"markers\",\"name\":\"O'Malley 002\",\"showlegend\":true,\"type\":\"scattergeo\"},{\"customdata\":[[613.0]],\"geo\":\"geo\",\"hovertemplate\":\"name=Sayh al Uhaymir 293\\u003cbr\\u003ereclat=%{lat}\\u003cbr\\u003ereclong=%{lon}\\u003cbr\\u003emass (g)=%{customdata[0]}\\u003cextra\\u003e\\u003c\\u002fextra\\u003e\",\"lat\":[20.60837],\"legendgroup\":\"Sayh al Uhaymir 293\",\"lon\":[57.16007],\"marker\":{\"color\":\"#00cc96\",\"symbol\":\"circle\"},\"mode\":\"markers\",\"name\":\"Sayh al Uhaymir 293\",\"showlegend\":true,\"type\":\"scattergeo\"},{\"customdata\":[[48.2]],\"geo\":\"geo\",\"hovertemplate\":\"name=Frontier Mountain 84002\\u003cbr\\u003ereclat=%{lat}\\u003cbr\\u003ereclong=%{lon}\\u003cbr\\u003emass (g)=%{customdata[0]}\\u003cextra\\u003e\\u003c\\u002fextra\\u003e\",\"lat\":[-72.95488],\"legendgroup\":\"Frontier Mountain 84002\",\"lon\":[160.47328],\"marker\":{\"color\":\"#ab63fa\",\"symbol\":\"circle\"},\"mode\":\"markers\",\"name\":\"Frontier Mountain 84002\",\"showlegend\":true,\"type\":\"scattergeo\"},{\"customdata\":[[8.6]],\"geo\":\"geo\",\"hovertemplate\":\"name=Elephant Moraine 83224\\u003cbr\\u003ereclat=%{lat}\\u003cbr\\u003ereclong=%{lon}\\u003cbr\\u003emass (g)=%{customdata[0]}\\u003cextra\\u003e\\u003c\\u002fextra\\u003e\",\"lat\":[-76.31222],\"legendgroup\":\"Elephant Moraine 83224\",\"lon\":[157.39528],\"marker\":{\"color\":\"#FFA15A\",\"symbol\":\"circle\"},\"mode\":\"markers\",\"name\":\"Elephant Moraine 83224\",\"showlegend\":true,\"type\":\"scattergeo\"},{\"customdata\":[[24.2]],\"geo\":\"geo\",\"hovertemplate\":\"name=Yamato 792055\\u003cbr\\u003ereclat=%{lat}\\u003cbr\\u003ereclong=%{lon}\\u003cbr\\u003emass (g)=%{customdata[0]}\\u003cextra\\u003e\\u003c\\u002fextra\\u003e\",\"lat\":[-71.5],\"legendgroup\":\"Yamato 792055\",\"lon\":[35.66667],\"marker\":{\"color\":\"#19d3f3\",\"symbol\":\"circle\"},\"mode\":\"markers\",\"name\":\"Yamato 792055\",\"showlegend\":true,\"type\":\"scattergeo\"},{\"customdata\":[[0.74]],\"geo\":\"geo\",\"hovertemplate\":\"name=Frontier Mountain 03097\\u003cbr\\u003ereclat=%{lat}\\u003cbr\\u003ereclong=%{lon}\\u003cbr\\u003emass (g)=%{customdata[0]}\\u003cextra\\u003e\\u003c\\u002fextra\\u003e\",\"lat\":[-72.95222],\"legendgroup\":\"Frontier Mountain 03097\",\"lon\":[160.50161],\"marker\":{\"color\":\"#FF6692\",\"symbol\":\"circle\"},\"mode\":\"markers\",\"name\":\"Frontier Mountain 03097\",\"showlegend\":true,\"type\":\"scattergeo\"},{\"customdata\":[[8.3]],\"geo\":\"geo\",\"hovertemplate\":\"name=Miller Range 090160\\u003cbr\\u003ereclat=%{lat}\\u003cbr\\u003ereclong=%{lon}\\u003cbr\\u003emass (g)=%{customdata[0]}\\u003cextra\\u003e\\u003c\\u002fextra\\u003e\",\"lat\":[0.0],\"legendgroup\":\"Miller Range 090160\",\"lon\":[0.0],\"marker\":{\"color\":\"#B6E880\",\"symbol\":\"circle\"},\"mode\":\"markers\",\"name\":\"Miller Range 090160\",\"showlegend\":true,\"type\":\"scattergeo\"},{\"customdata\":[[7500.0]],\"geo\":\"geo\",\"hovertemplate\":\"name=Northwest Africa 2304\\u003cbr\\u003ereclat=%{lat}\\u003cbr\\u003ereclong=%{lon}\\u003cbr\\u003emass (g)=%{customdata[0]}\\u003cextra\\u003e\\u003c\\u002fextra\\u003e\",\"lat\":[null],\"legendgroup\":\"Northwest Africa 2304\",\"lon\":[null],\"marker\":{\"color\":\"#FF97FF\",\"symbol\":\"circle\"},\"mode\":\"markers\",\"name\":\"Northwest Africa 2304\",\"showlegend\":true,\"type\":\"scattergeo\"},{\"customdata\":[[26.7]],\"geo\":\"geo\",\"hovertemplate\":\"name=LaPaz Icefield 04585\\u003cbr\\u003ereclat=%{lat}\\u003cbr\\u003ereclong=%{lon}\\u003cbr\\u003emass (g)=%{customdata[0]}\\u003cextra\\u003e\\u003c\\u002fextra\\u003e\",\"lat\":[null],\"legendgroup\":\"LaPaz Icefield 04585\",\"lon\":[null],\"marker\":{\"color\":\"#FECB52\",\"symbol\":\"circle\"},\"mode\":\"markers\",\"name\":\"LaPaz Icefield 04585\",\"showlegend\":true,\"type\":\"scattergeo\"},{\"customdata\":[[13600.0]],\"geo\":\"geo\",\"hovertemplate\":\"name=Bridgewater\\u003cbr\\u003ereclat=%{lat}\\u003cbr\\u003ereclong=%{lon}\\u003cbr\\u003emass (g)=%{customdata[0]}\\u003cextra\\u003e\\u003c\\u002fextra\\u003e\",\"lat\":[35.71667],\"legendgroup\":\"Bridgewater\",\"lon\":[-81.86667],\"marker\":{\"color\":\"#636efa\",\"symbol\":\"circle\"},\"mode\":\"markers\",\"name\":\"Bridgewater\",\"showlegend\":true,\"type\":\"scattergeo\"},{\"customdata\":[[34.1]],\"geo\":\"geo\",\"hovertemplate\":\"name=Mount Wisting 95307\\u003cbr\\u003ereclat=%{lat}\\u003cbr\\u003ereclong=%{lon}\\u003cbr\\u003emass (g)=%{customdata[0]}\\u003cextra\\u003e\\u003c\\u002fextra\\u003e\",\"lat\":[-86.45],\"legendgroup\":\"Mount Wisting 95307\",\"lon\":[-165.43333],\"marker\":{\"color\":\"#EF553B\",\"symbol\":\"circle\"},\"mode\":\"markers\",\"name\":\"Mount Wisting 95307\",\"showlegend\":true,\"type\":\"scattergeo\"},{\"customdata\":[[45.0]],\"geo\":\"geo\",\"hovertemplate\":\"name=Sahara 98430\\u003cbr\\u003ereclat=%{lat}\\u003cbr\\u003ereclong=%{lon}\\u003cbr\\u003emass (g)=%{customdata[0]}\\u003cextra\\u003e\\u003c\\u002fextra\\u003e\",\"lat\":[null],\"legendgroup\":\"Sahara 98430\",\"lon\":[null],\"marker\":{\"color\":\"#00cc96\",\"symbol\":\"circle\"},\"mode\":\"markers\",\"name\":\"Sahara 98430\",\"showlegend\":true,\"type\":\"scattergeo\"},{\"customdata\":[[56.82]],\"geo\":\"geo\",\"hovertemplate\":\"name=Yamato 74456\\u003cbr\\u003ereclat=%{lat}\\u003cbr\\u003ereclong=%{lon}\\u003cbr\\u003emass (g)=%{customdata[0]}\\u003cextra\\u003e\\u003c\\u002fextra\\u003e\",\"lat\":[-71.5],\"legendgroup\":\"Yamato 74456\",\"lon\":[35.66667],\"marker\":{\"color\":\"#ab63fa\",\"symbol\":\"circle\"},\"mode\":\"markers\",\"name\":\"Yamato 74456\",\"showlegend\":true,\"type\":\"scattergeo\"},{\"customdata\":[[1.59]],\"geo\":\"geo\",\"hovertemplate\":\"name=Yamato 86585\\u003cbr\\u003ereclat=%{lat}\\u003cbr\\u003ereclong=%{lon}\\u003cbr\\u003emass (g)=%{customdata[0]}\\u003cextra\\u003e\\u003c\\u002fextra\\u003e\",\"lat\":[-71.5],\"legendgroup\":\"Yamato 86585\",\"lon\":[35.66667],\"marker\":{\"color\":\"#FFA15A\",\"symbol\":\"circle\"},\"mode\":\"markers\",\"name\":\"Yamato 86585\",\"showlegend\":true,\"type\":\"scattergeo\"},{\"customdata\":[[8.4]],\"geo\":\"geo\",\"hovertemplate\":\"name=Elephant Moraine 96180\\u003cbr\\u003ereclat=%{lat}\\u003cbr\\u003ereclong=%{lon}\\u003cbr\\u003emass (g)=%{customdata[0]}\\u003cextra\\u003e\\u003c\\u002fextra\\u003e\",\"lat\":[-76.18333],\"legendgroup\":\"Elephant Moraine 96180\",\"lon\":[157.16667],\"marker\":{\"color\":\"#19d3f3\",\"symbol\":\"circle\"},\"mode\":\"markers\",\"name\":\"Elephant Moraine 96180\",\"showlegend\":true,\"type\":\"scattergeo\"},{\"customdata\":[[7.3]],\"geo\":\"geo\",\"hovertemplate\":\"name=Miller Range 090186\\u003cbr\\u003ereclat=%{lat}\\u003cbr\\u003ereclong=%{lon}\\u003cbr\\u003emass (g)=%{customdata[0]}\\u003cextra\\u003e\\u003c\\u002fextra\\u003e\",\"lat\":[0.0],\"legendgroup\":\"Miller Range 090186\",\"lon\":[0.0],\"marker\":{\"color\":\"#FF6692\",\"symbol\":\"circle\"},\"mode\":\"markers\",\"name\":\"Miller Range 090186\",\"showlegend\":true,\"type\":\"scattergeo\"},{\"customdata\":[[1.7]],\"geo\":\"geo\",\"hovertemplate\":\"name=Miller Range 090324\\u003cbr\\u003ereclat=%{lat}\\u003cbr\\u003ereclong=%{lon}\\u003cbr\\u003emass (g)=%{customdata[0]}\\u003cextra\\u003e\\u003c\\u002fextra\\u003e\",\"lat\":[0.0],\"legendgroup\":\"Miller Range 090324\",\"lon\":[0.0],\"marker\":{\"color\":\"#B6E880\",\"symbol\":\"circle\"},\"mode\":\"markers\",\"name\":\"Miller Range 090324\",\"showlegend\":true,\"type\":\"scattergeo\"},{\"customdata\":[[2.09]],\"geo\":\"geo\",\"hovertemplate\":\"name=Yamato 75217\\u003cbr\\u003ereclat=%{lat}\\u003cbr\\u003ereclong=%{lon}\\u003cbr\\u003emass (g)=%{customdata[0]}\\u003cextra\\u003e\\u003c\\u002fextra\\u003e\",\"lat\":[-71.5],\"legendgroup\":\"Yamato 75217\",\"lon\":[35.66667],\"marker\":{\"color\":\"#FF97FF\",\"symbol\":\"circle\"},\"mode\":\"markers\",\"name\":\"Yamato 75217\",\"showlegend\":true,\"type\":\"scattergeo\"},{\"customdata\":[[74.0]],\"geo\":\"geo\",\"hovertemplate\":\"name=Dhofar 449\\u003cbr\\u003ereclat=%{lat}\\u003cbr\\u003ereclong=%{lon}\\u003cbr\\u003emass (g)=%{customdata[0]}\\u003cextra\\u003e\\u003c\\u002fextra\\u003e\",\"lat\":[18.90573],\"legendgroup\":\"Dhofar 449\",\"lon\":[54.50885],\"marker\":{\"color\":\"#FECB52\",\"symbol\":\"circle\"},\"mode\":\"markers\",\"name\":\"Dhofar 449\",\"showlegend\":true,\"type\":\"scattergeo\"},{\"customdata\":[[495.4]],\"geo\":\"geo\",\"hovertemplate\":\"name=Roberts Massif 04121\\u003cbr\\u003ereclat=%{lat}\\u003cbr\\u003ereclong=%{lon}\\u003cbr\\u003emass (g)=%{customdata[0]}\\u003cextra\\u003e\\u003c\\u002fextra\\u003e\",\"lat\":[null],\"legendgroup\":\"Roberts Massif 04121\",\"lon\":[null],\"marker\":{\"color\":\"#636efa\",\"symbol\":\"circle\"},\"mode\":\"markers\",\"name\":\"Roberts Massif 04121\",\"showlegend\":true,\"type\":\"scattergeo\"},{\"customdata\":[[89.6]],\"geo\":\"geo\",\"hovertemplate\":\"name=Queen Alexandra Range 99611\\u003cbr\\u003ereclat=%{lat}\\u003cbr\\u003ereclong=%{lon}\\u003cbr\\u003emass (g)=%{customdata[0]}\\u003cextra\\u003e\\u003c\\u002fextra\\u003e\",\"lat\":[-84.0],\"legendgroup\":\"Queen Alexandra Range 99611\",\"lon\":[168.0],\"marker\":{\"color\":\"#EF553B\",\"symbol\":\"circle\"},\"mode\":\"markers\",\"name\":\"Queen Alexandra Range 99611\",\"showlegend\":true,\"type\":\"scattergeo\"},{\"customdata\":[[420.0]],\"geo\":\"geo\",\"hovertemplate\":\"name=Acfer 093\\u003cbr\\u003ereclat=%{lat}\\u003cbr\\u003ereclong=%{lon}\\u003cbr\\u003emass (g)=%{customdata[0]}\\u003cextra\\u003e\\u003c\\u002fextra\\u003e\",\"lat\":[27.71667],\"legendgroup\":\"Acfer 093\",\"lon\":[4.13333],\"marker\":{\"color\":\"#00cc96\",\"symbol\":\"circle\"},\"mode\":\"markers\",\"name\":\"Acfer 093\",\"showlegend\":true,\"type\":\"scattergeo\"},{\"customdata\":[[849.0]],\"geo\":\"geo\",\"hovertemplate\":\"name=Dhofar 1176\\u003cbr\\u003ereclat=%{lat}\\u003cbr\\u003ereclong=%{lon}\\u003cbr\\u003emass (g)=%{customdata[0]}\\u003cextra\\u003e\\u003c\\u002fextra\\u003e\",\"lat\":[18.741611],\"legendgroup\":\"Dhofar 1176\",\"lon\":[54.26175],\"marker\":{\"color\":\"#ab63fa\",\"symbol\":\"circle\"},\"mode\":\"markers\",\"name\":\"Dhofar 1176\",\"showlegend\":true,\"type\":\"scattergeo\"},{\"customdata\":[[208.0]],\"geo\":\"geo\",\"hovertemplate\":\"name=Dhofar 163\\u003cbr\\u003ereclat=%{lat}\\u003cbr\\u003ereclong=%{lon}\\u003cbr\\u003emass (g)=%{customdata[0]}\\u003cextra\\u003e\\u003c\\u002fextra\\u003e\",\"lat\":[19.14611],\"legendgroup\":\"Dhofar 163\",\"lon\":[54.40111],\"marker\":{\"color\":\"#FFA15A\",\"symbol\":\"circle\"},\"mode\":\"markers\",\"name\":\"Dhofar 163\",\"showlegend\":true,\"type\":\"scattergeo\"},{\"customdata\":[[8300.0]],\"geo\":\"geo\",\"hovertemplate\":\"name=St. Mesmin\\u003cbr\\u003ereclat=%{lat}\\u003cbr\\u003ereclong=%{lon}\\u003cbr\\u003emass (g)=%{customdata[0]}\\u003cextra\\u003e\\u003c\\u002fextra\\u003e\",\"lat\":[48.45],\"legendgroup\":\"St. Mesmin\",\"lon\":[3.93333],\"marker\":{\"color\":\"#19d3f3\",\"symbol\":\"circle\"},\"mode\":\"markers\",\"name\":\"St. Mesmin\",\"showlegend\":true,\"type\":\"scattergeo\"},{\"customdata\":[[228.0]],\"geo\":\"geo\",\"hovertemplate\":\"name=Catalina 005\\u003cbr\\u003ereclat=%{lat}\\u003cbr\\u003ereclong=%{lon}\\u003cbr\\u003emass (g)=%{customdata[0]}\\u003cextra\\u003e\\u003c\\u002fextra\\u003e\",\"lat\":[-25.23333],\"legendgroup\":\"Catalina 005\",\"lon\":[-69.71667],\"marker\":{\"color\":\"#FF6692\",\"symbol\":\"circle\"},\"mode\":\"markers\",\"name\":\"Catalina 005\",\"showlegend\":true,\"type\":\"scattergeo\"},{\"customdata\":[[2.98]],\"geo\":\"geo\",\"hovertemplate\":\"name=Yamato 792614\\u003cbr\\u003ereclat=%{lat}\\u003cbr\\u003ereclong=%{lon}\\u003cbr\\u003emass (g)=%{customdata[0]}\\u003cextra\\u003e\\u003c\\u002fextra\\u003e\",\"lat\":[-71.5],\"legendgroup\":\"Yamato 792614\",\"lon\":[35.66667],\"marker\":{\"color\":\"#B6E880\",\"symbol\":\"circle\"},\"mode\":\"markers\",\"name\":\"Yamato 792614\",\"showlegend\":true,\"type\":\"scattergeo\"},{\"customdata\":[[53.8]],\"geo\":\"geo\",\"hovertemplate\":\"name=Pecora Escarpment 91257\\u003cbr\\u003ereclat=%{lat}\\u003cbr\\u003ereclong=%{lon}\\u003cbr\\u003emass (g)=%{customdata[0]}\\u003cextra\\u003e\\u003c\\u002fextra\\u003e\",\"lat\":[-85.66787],\"legendgroup\":\"Pecora Escarpment 91257\",\"lon\":[-68.25751],\"marker\":{\"color\":\"#FF97FF\",\"symbol\":\"circle\"},\"mode\":\"markers\",\"name\":\"Pecora Escarpment 91257\",\"showlegend\":true,\"type\":\"scattergeo\"},{\"customdata\":[[55.9]],\"geo\":\"geo\",\"hovertemplate\":\"name=Grosvenor Mountains 03126\\u003cbr\\u003ereclat=%{lat}\\u003cbr\\u003ereclong=%{lon}\\u003cbr\\u003emass (g)=%{customdata[0]}\\u003cextra\\u003e\\u003c\\u002fextra\\u003e\",\"lat\":[null],\"legendgroup\":\"Grosvenor Mountains 03126\",\"lon\":[null],\"marker\":{\"color\":\"#FECB52\",\"symbol\":\"circle\"},\"mode\":\"markers\",\"name\":\"Grosvenor Mountains 03126\",\"showlegend\":true,\"type\":\"scattergeo\"},{\"customdata\":[[73.0]],\"geo\":\"geo\",\"hovertemplate\":\"name=Dhofar 570\\u003cbr\\u003ereclat=%{lat}\\u003cbr\\u003ereclong=%{lon}\\u003cbr\\u003emass (g)=%{customdata[0]}\\u003cextra\\u003e\\u003c\\u002fextra\\u003e\",\"lat\":[18.70115],\"legendgroup\":\"Dhofar 570\",\"lon\":[54.36907],\"marker\":{\"color\":\"#636efa\",\"symbol\":\"circle\"},\"mode\":\"markers\",\"name\":\"Dhofar 570\",\"showlegend\":true,\"type\":\"scattergeo\"},{\"customdata\":[[53.0]],\"geo\":\"geo\",\"hovertemplate\":\"name=Bronco (c)\\u003cbr\\u003ereclat=%{lat}\\u003cbr\\u003ereclong=%{lon}\\u003cbr\\u003emass (g)=%{customdata[0]}\\u003cextra\\u003e\\u003c\\u002fextra\\u003e\",\"lat\":[33.275],\"legendgroup\":\"Bronco (c)\",\"lon\":[-102.96],\"marker\":{\"color\":\"#EF553B\",\"symbol\":\"circle\"},\"mode\":\"markers\",\"name\":\"Bronco (c)\",\"showlegend\":true,\"type\":\"scattergeo\"},{\"customdata\":[[0.9]],\"geo\":\"geo\",\"hovertemplate\":\"name=MacAlpine Hills 041138\\u003cbr\\u003ereclat=%{lat}\\u003cbr\\u003ereclong=%{lon}\\u003cbr\\u003emass (g)=%{customdata[0]}\\u003cextra\\u003e\\u003c\\u002fextra\\u003e\",\"lat\":[null],\"legendgroup\":\"MacAlpine Hills 041138\",\"lon\":[null],\"marker\":{\"color\":\"#00cc96\",\"symbol\":\"circle\"},\"mode\":\"markers\",\"name\":\"MacAlpine Hills 041138\",\"showlegend\":true,\"type\":\"scattergeo\"},{\"customdata\":[[1230.8]],\"geo\":\"geo\",\"hovertemplate\":\"name=Elephant Moraine 87535\\u003cbr\\u003ereclat=%{lat}\\u003cbr\\u003ereclong=%{lon}\\u003cbr\\u003emass (g)=%{customdata[0]}\\u003cextra\\u003e\\u003c\\u002fextra\\u003e\",\"lat\":[-76.27512],\"legendgroup\":\"Elephant Moraine 87535\",\"lon\":[156.36181],\"marker\":{\"color\":\"#ab63fa\",\"symbol\":\"circle\"},\"mode\":\"markers\",\"name\":\"Elephant Moraine 87535\",\"showlegend\":true,\"type\":\"scattergeo\"},{\"customdata\":[[587.7]],\"geo\":\"geo\",\"hovertemplate\":\"name=Wisconsin Range 91601\\u003cbr\\u003ereclat=%{lat}\\u003cbr\\u003ereclong=%{lon}\\u003cbr\\u003emass (g)=%{customdata[0]}\\u003cextra\\u003e\\u003c\\u002fextra\\u003e\",\"lat\":[-86.52222],\"legendgroup\":\"Wisconsin Range 91601\",\"lon\":[-123.79341],\"marker\":{\"color\":\"#FFA15A\",\"symbol\":\"circle\"},\"mode\":\"markers\",\"name\":\"Wisconsin Range 91601\",\"showlegend\":true,\"type\":\"scattergeo\"},{\"customdata\":[[8725.0]],\"geo\":\"geo\",\"hovertemplate\":\"name=Allan Hills A80101\\u003cbr\\u003ereclat=%{lat}\\u003cbr\\u003ereclong=%{lon}\\u003cbr\\u003emass (g)=%{customdata[0]}\\u003cextra\\u003e\\u003c\\u002fextra\\u003e\",\"lat\":[-76.77389],\"legendgroup\":\"Allan Hills A80101\",\"lon\":[159.275],\"marker\":{\"color\":\"#19d3f3\",\"symbol\":\"circle\"},\"mode\":\"markers\",\"name\":\"Allan Hills A80101\",\"showlegend\":true,\"type\":\"scattergeo\"},{\"customdata\":[[17.5]],\"geo\":\"geo\",\"hovertemplate\":\"name=Elephant Moraine 96155\\u003cbr\\u003ereclat=%{lat}\\u003cbr\\u003ereclong=%{lon}\\u003cbr\\u003emass (g)=%{customdata[0]}\\u003cextra\\u003e\\u003c\\u002fextra\\u003e\",\"lat\":[-76.18333],\"legendgroup\":\"Elephant Moraine 96155\",\"lon\":[157.16667],\"marker\":{\"color\":\"#FF6692\",\"symbol\":\"circle\"},\"mode\":\"markers\",\"name\":\"Elephant Moraine 96155\",\"showlegend\":true,\"type\":\"scattergeo\"},{\"customdata\":[[112.86]],\"geo\":\"geo\",\"hovertemplate\":\"name=Yamato 982042\\u003cbr\\u003ereclat=%{lat}\\u003cbr\\u003ereclong=%{lon}\\u003cbr\\u003emass (g)=%{customdata[0]}\\u003cextra\\u003e\\u003c\\u002fextra\\u003e\",\"lat\":[0.0],\"legendgroup\":\"Yamato 982042\",\"lon\":[0.0],\"marker\":{\"color\":\"#B6E880\",\"symbol\":\"circle\"},\"mode\":\"markers\",\"name\":\"Yamato 982042\",\"showlegend\":true,\"type\":\"scattergeo\"},{\"customdata\":[[8.9]],\"geo\":\"geo\",\"hovertemplate\":\"name=Lewis Cliff 88596\\u003cbr\\u003ereclat=%{lat}\\u003cbr\\u003ereclong=%{lon}\\u003cbr\\u003emass (g)=%{customdata[0]}\\u003cextra\\u003e\\u003c\\u002fextra\\u003e\",\"lat\":[-84.25231],\"legendgroup\":\"Lewis Cliff 88596\",\"lon\":[161.45413],\"marker\":{\"color\":\"#FF97FF\",\"symbol\":\"circle\"},\"mode\":\"markers\",\"name\":\"Lewis Cliff 88596\",\"showlegend\":true,\"type\":\"scattergeo\"},{\"customdata\":[[779.6]],\"geo\":\"geo\",\"hovertemplate\":\"name=Allan Hills A77003\\u003cbr\\u003ereclat=%{lat}\\u003cbr\\u003ereclong=%{lon}\\u003cbr\\u003emass (g)=%{customdata[0]}\\u003cextra\\u003e\\u003c\\u002fextra\\u003e\",\"lat\":[-76.71667],\"legendgroup\":\"Allan Hills A77003\",\"lon\":[159.66667],\"marker\":{\"color\":\"#FECB52\",\"symbol\":\"circle\"},\"mode\":\"markers\",\"name\":\"Allan Hills A77003\",\"showlegend\":true,\"type\":\"scattergeo\"},{\"customdata\":[[2250.0]],\"geo\":\"geo\",\"hovertemplate\":\"name=Bulls Run\\u003cbr\\u003ereclat=%{lat}\\u003cbr\\u003ereclong=%{lon}\\u003cbr\\u003emass (g)=%{customdata[0]}\\u003cextra\\u003e\\u003c\\u002fextra\\u003e\",\"lat\":[null],\"legendgroup\":\"Bulls Run\",\"lon\":[null],\"marker\":{\"color\":\"#636efa\",\"symbol\":\"circle\"},\"mode\":\"markers\",\"name\":\"Bulls Run\",\"showlegend\":true,\"type\":\"scattergeo\"},{\"customdata\":[[3.8]],\"geo\":\"geo\",\"hovertemplate\":\"name=Queen Alexandra Range 97831\\u003cbr\\u003ereclat=%{lat}\\u003cbr\\u003ereclong=%{lon}\\u003cbr\\u003emass (g)=%{customdata[0]}\\u003cextra\\u003e\\u003c\\u002fextra\\u003e\",\"lat\":[-84.0],\"legendgroup\":\"Queen Alexandra Range 97831\",\"lon\":[168.0],\"marker\":{\"color\":\"#EF553B\",\"symbol\":\"circle\"},\"mode\":\"markers\",\"name\":\"Queen Alexandra Range 97831\",\"showlegend\":true,\"type\":\"scattergeo\"},{\"customdata\":[[188.0]],\"geo\":\"geo\",\"hovertemplate\":\"name=Northwest Africa 1056\\u003cbr\\u003ereclat=%{lat}\\u003cbr\\u003ereclong=%{lon}\\u003cbr\\u003emass (g)=%{customdata[0]}\\u003cextra\\u003e\\u003c\\u002fextra\\u003e\",\"lat\":[null],\"legendgroup\":\"Northwest Africa 1056\",\"lon\":[null],\"marker\":{\"color\":\"#00cc96\",\"symbol\":\"circle\"},\"mode\":\"markers\",\"name\":\"Northwest Africa 1056\",\"showlegend\":true,\"type\":\"scattergeo\"},{\"customdata\":[[37.1]],\"geo\":\"geo\",\"hovertemplate\":\"name=Pecora Escarpment 91080\\u003cbr\\u003ereclat=%{lat}\\u003cbr\\u003ereclong=%{lon}\\u003cbr\\u003emass (g)=%{customdata[0]}\\u003cextra\\u003e\\u003c\\u002fextra\\u003e\",\"lat\":[-85.68006],\"legendgroup\":\"Pecora Escarpment 91080\",\"lon\":[-68.68107],\"marker\":{\"color\":\"#ab63fa\",\"symbol\":\"circle\"},\"mode\":\"markers\",\"name\":\"Pecora Escarpment 91080\",\"showlegend\":true,\"type\":\"scattergeo\"},{\"customdata\":[[86.1]],\"geo\":\"geo\",\"hovertemplate\":\"name=Queen Alexandra Range 99445\\u003cbr\\u003ereclat=%{lat}\\u003cbr\\u003ereclong=%{lon}\\u003cbr\\u003emass (g)=%{customdata[0]}\\u003cextra\\u003e\\u003c\\u002fextra\\u003e\",\"lat\":[-84.0],\"legendgroup\":\"Queen Alexandra Range 99445\",\"lon\":[168.0],\"marker\":{\"color\":\"#FFA15A\",\"symbol\":\"circle\"},\"mode\":\"markers\",\"name\":\"Queen Alexandra Range 99445\",\"showlegend\":true,\"type\":\"scattergeo\"},{\"customdata\":[[68.4]],\"geo\":\"geo\",\"hovertemplate\":\"name=Elephant Moraine 90838\\u003cbr\\u003ereclat=%{lat}\\u003cbr\\u003ereclong=%{lon}\\u003cbr\\u003emass (g)=%{customdata[0]}\\u003cextra\\u003e\\u003c\\u002fextra\\u003e\",\"lat\":[-76.28565],\"legendgroup\":\"Elephant Moraine 90838\",\"lon\":[156.48143],\"marker\":{\"color\":\"#19d3f3\",\"symbol\":\"circle\"},\"mode\":\"markers\",\"name\":\"Elephant Moraine 90838\",\"showlegend\":true,\"type\":\"scattergeo\"},{\"customdata\":[[3.54]],\"geo\":\"geo\",\"hovertemplate\":\"name=Yamato 86122\\u003cbr\\u003ereclat=%{lat}\\u003cbr\\u003ereclong=%{lon}\\u003cbr\\u003emass (g)=%{customdata[0]}\\u003cextra\\u003e\\u003c\\u002fextra\\u003e\",\"lat\":[-71.5],\"legendgroup\":\"Yamato 86122\",\"lon\":[35.66667],\"marker\":{\"color\":\"#FF6692\",\"symbol\":\"circle\"},\"mode\":\"markers\",\"name\":\"Yamato 86122\",\"showlegend\":true,\"type\":\"scattergeo\"},{\"customdata\":[[244.0]],\"geo\":\"geo\",\"hovertemplate\":\"name=Dar al Gani 234\\u003cbr\\u003ereclat=%{lat}\\u003cbr\\u003ereclong=%{lon}\\u003cbr\\u003emass (g)=%{customdata[0]}\\u003cextra\\u003e\\u003c\\u002fextra\\u003e\",\"lat\":[27.17717],\"legendgroup\":\"Dar al Gani 234\",\"lon\":[16.26683],\"marker\":{\"color\":\"#B6E880\",\"symbol\":\"circle\"},\"mode\":\"markers\",\"name\":\"Dar al Gani 234\",\"showlegend\":true,\"type\":\"scattergeo\"},{\"customdata\":[[9.97]],\"geo\":\"geo\",\"hovertemplate\":\"name=Yamato 790428\\u003cbr\\u003ereclat=%{lat}\\u003cbr\\u003ereclong=%{lon}\\u003cbr\\u003emass (g)=%{customdata[0]}\\u003cextra\\u003e\\u003c\\u002fextra\\u003e\",\"lat\":[-71.5],\"legendgroup\":\"Yamato 790428\",\"lon\":[35.66667],\"marker\":{\"color\":\"#FF97FF\",\"symbol\":\"circle\"},\"mode\":\"markers\",\"name\":\"Yamato 790428\",\"showlegend\":true,\"type\":\"scattergeo\"},{\"customdata\":[[12.31]],\"geo\":\"geo\",\"hovertemplate\":\"name=Frontier Mountain 03041\\u003cbr\\u003ereclat=%{lat}\\u003cbr\\u003ereclong=%{lon}\\u003cbr\\u003emass (g)=%{customdata[0]}\\u003cextra\\u003e\\u003c\\u002fextra\\u003e\",\"lat\":[-72.95108],\"legendgroup\":\"Frontier Mountain 03041\",\"lon\":[160.51425],\"marker\":{\"color\":\"#FECB52\",\"symbol\":\"circle\"},\"mode\":\"markers\",\"name\":\"Frontier Mountain 03041\",\"showlegend\":true,\"type\":\"scattergeo\"},{\"customdata\":[[18.7]],\"geo\":\"geo\",\"hovertemplate\":\"name=Meteorite Hills 001117\\u003cbr\\u003ereclat=%{lat}\\u003cbr\\u003ereclong=%{lon}\\u003cbr\\u003emass (g)=%{customdata[0]}\\u003cextra\\u003e\\u003c\\u002fextra\\u003e\",\"lat\":[-79.68333],\"legendgroup\":\"Meteorite Hills 001117\",\"lon\":[159.75],\"marker\":{\"color\":\"#636efa\",\"symbol\":\"circle\"},\"mode\":\"markers\",\"name\":\"Meteorite Hills 001117\",\"showlegend\":true,\"type\":\"scattergeo\"},{\"customdata\":[[78.8]],\"geo\":\"geo\",\"hovertemplate\":\"name=Meteorite Hills 01120\\u003cbr\\u003ereclat=%{lat}\\u003cbr\\u003ereclong=%{lon}\\u003cbr\\u003emass (g)=%{customdata[0]}\\u003cextra\\u003e\\u003c\\u002fextra\\u003e\",\"lat\":[-79.68333],\"legendgroup\":\"Meteorite Hills 01120\",\"lon\":[159.75],\"marker\":{\"color\":\"#EF553B\",\"symbol\":\"circle\"},\"mode\":\"markers\",\"name\":\"Meteorite Hills 01120\",\"showlegend\":true,\"type\":\"scattergeo\"},{\"customdata\":[[18.2]],\"geo\":\"geo\",\"hovertemplate\":\"name=Lewis Cliff 86165\\u003cbr\\u003ereclat=%{lat}\\u003cbr\\u003ereclong=%{lon}\\u003cbr\\u003emass (g)=%{customdata[0]}\\u003cextra\\u003e\\u003c\\u002fextra\\u003e\",\"lat\":[-84.25909],\"legendgroup\":\"Lewis Cliff 86165\",\"lon\":[161.41026],\"marker\":{\"color\":\"#00cc96\",\"symbol\":\"circle\"},\"mode\":\"markers\",\"name\":\"Lewis Cliff 86165\",\"showlegend\":true,\"type\":\"scattergeo\"},{\"customdata\":[[4100.0]],\"geo\":\"geo\",\"hovertemplate\":\"name=Dwight\\u003cbr\\u003ereclat=%{lat}\\u003cbr\\u003ereclong=%{lon}\\u003cbr\\u003emass (g)=%{customdata[0]}\\u003cextra\\u003e\\u003c\\u002fextra\\u003e\",\"lat\":[38.85],\"legendgroup\":\"Dwight\",\"lon\":[-96.58333],\"marker\":{\"color\":\"#ab63fa\",\"symbol\":\"circle\"},\"mode\":\"markers\",\"name\":\"Dwight\",\"showlegend\":true,\"type\":\"scattergeo\"},{\"customdata\":[[815.0]],\"geo\":\"geo\",\"hovertemplate\":\"name=Northwest Africa 5779\\u003cbr\\u003ereclat=%{lat}\\u003cbr\\u003ereclong=%{lon}\\u003cbr\\u003emass (g)=%{customdata[0]}\\u003cextra\\u003e\\u003c\\u002fextra\\u003e\",\"lat\":[0.0],\"legendgroup\":\"Northwest Africa 5779\",\"lon\":[0.0],\"marker\":{\"color\":\"#FFA15A\",\"symbol\":\"circle\"},\"mode\":\"markers\",\"name\":\"Northwest Africa 5779\",\"showlegend\":true,\"type\":\"scattergeo\"},{\"customdata\":[[1095.0]],\"geo\":\"geo\",\"hovertemplate\":\"name=Dhofar 095\\u003cbr\\u003ereclat=%{lat}\\u003cbr\\u003ereclong=%{lon}\\u003cbr\\u003emass (g)=%{customdata[0]}\\u003cextra\\u003e\\u003c\\u002fextra\\u003e\",\"lat\":[18.67917],\"legendgroup\":\"Dhofar 095\",\"lon\":[54.58783],\"marker\":{\"color\":\"#19d3f3\",\"symbol\":\"circle\"},\"mode\":\"markers\",\"name\":\"Dhofar 095\",\"showlegend\":true,\"type\":\"scattergeo\"},{\"customdata\":[[254.0]],\"geo\":\"geo\",\"hovertemplate\":\"name=Northwest Africa 4283\\u003cbr\\u003ereclat=%{lat}\\u003cbr\\u003ereclong=%{lon}\\u003cbr\\u003emass (g)=%{customdata[0]}\\u003cextra\\u003e\\u003c\\u002fextra\\u003e\",\"lat\":[null],\"legendgroup\":\"Northwest Africa 4283\",\"lon\":[null],\"marker\":{\"color\":\"#FF6692\",\"symbol\":\"circle\"},\"mode\":\"markers\",\"name\":\"Northwest Africa 4283\",\"showlegend\":true,\"type\":\"scattergeo\"},{\"customdata\":[[9.2]],\"geo\":\"geo\",\"hovertemplate\":\"name=Lewis Cliff 86333\\u003cbr\\u003ereclat=%{lat}\\u003cbr\\u003ereclong=%{lon}\\u003cbr\\u003emass (g)=%{customdata[0]}\\u003cextra\\u003e\\u003c\\u002fextra\\u003e\",\"lat\":[-84.28986],\"legendgroup\":\"Lewis Cliff 86333\",\"lon\":[161.28593],\"marker\":{\"color\":\"#B6E880\",\"symbol\":\"circle\"},\"mode\":\"markers\",\"name\":\"Lewis Cliff 86333\",\"showlegend\":true,\"type\":\"scattergeo\"},{\"customdata\":[[31.9]],\"geo\":\"geo\",\"hovertemplate\":\"name=Queen Alexandra Range 97878\\u003cbr\\u003ereclat=%{lat}\\u003cbr\\u003ereclong=%{lon}\\u003cbr\\u003emass (g)=%{customdata[0]}\\u003cextra\\u003e\\u003c\\u002fextra\\u003e\",\"lat\":[-84.0],\"legendgroup\":\"Queen Alexandra Range 97878\",\"lon\":[168.0],\"marker\":{\"color\":\"#FF97FF\",\"symbol\":\"circle\"},\"mode\":\"markers\",\"name\":\"Queen Alexandra Range 97878\",\"showlegend\":true,\"type\":\"scattergeo\"},{\"customdata\":[[1.48]],\"geo\":\"geo\",\"hovertemplate\":\"name=Yamato 86517\\u003cbr\\u003ereclat=%{lat}\\u003cbr\\u003ereclong=%{lon}\\u003cbr\\u003emass (g)=%{customdata[0]}\\u003cextra\\u003e\\u003c\\u002fextra\\u003e\",\"lat\":[-71.5],\"legendgroup\":\"Yamato 86517\",\"lon\":[35.66667],\"marker\":{\"color\":\"#FECB52\",\"symbol\":\"circle\"},\"mode\":\"markers\",\"name\":\"Yamato 86517\",\"showlegend\":true,\"type\":\"scattergeo\"},{\"customdata\":[[165.8]],\"geo\":\"geo\",\"hovertemplate\":\"name=Sandford Cliffs 03491\\u003cbr\\u003ereclat=%{lat}\\u003cbr\\u003ereclong=%{lon}\\u003cbr\\u003emass (g)=%{customdata[0]}\\u003cextra\\u003e\\u003c\\u002fextra\\u003e\",\"lat\":[null],\"legendgroup\":\"Sandford Cliffs 03491\",\"lon\":[null],\"marker\":{\"color\":\"#636efa\",\"symbol\":\"circle\"},\"mode\":\"markers\",\"name\":\"Sandford Cliffs 03491\",\"showlegend\":true,\"type\":\"scattergeo\"},{\"customdata\":[[406.0]],\"geo\":\"geo\",\"hovertemplate\":\"name=Northwest Africa 1520\\u003cbr\\u003ereclat=%{lat}\\u003cbr\\u003ereclong=%{lon}\\u003cbr\\u003emass (g)=%{customdata[0]}\\u003cextra\\u003e\\u003c\\u002fextra\\u003e\",\"lat\":[null],\"legendgroup\":\"Northwest Africa 1520\",\"lon\":[null],\"marker\":{\"color\":\"#EF553B\",\"symbol\":\"circle\"},\"mode\":\"markers\",\"name\":\"Northwest Africa 1520\",\"showlegend\":true,\"type\":\"scattergeo\"},{\"customdata\":[[35.8]],\"geo\":\"geo\",\"hovertemplate\":\"name=Northwest Africa 1048\\u003cbr\\u003ereclat=%{lat}\\u003cbr\\u003ereclong=%{lon}\\u003cbr\\u003emass (g)=%{customdata[0]}\\u003cextra\\u003e\\u003c\\u002fextra\\u003e\",\"lat\":[null],\"legendgroup\":\"Northwest Africa 1048\",\"lon\":[null],\"marker\":{\"color\":\"#00cc96\",\"symbol\":\"circle\"},\"mode\":\"markers\",\"name\":\"Northwest Africa 1048\",\"showlegend\":true,\"type\":\"scattergeo\"},{\"customdata\":[[86.63]],\"geo\":\"geo\",\"hovertemplate\":\"name=Yamato 983606\\u003cbr\\u003ereclat=%{lat}\\u003cbr\\u003ereclong=%{lon}\\u003cbr\\u003emass (g)=%{customdata[0]}\\u003cextra\\u003e\\u003c\\u002fextra\\u003e\",\"lat\":[0.0],\"legendgroup\":\"Yamato 983606\",\"lon\":[0.0],\"marker\":{\"color\":\"#ab63fa\",\"symbol\":\"circle\"},\"mode\":\"markers\",\"name\":\"Yamato 983606\",\"showlegend\":true,\"type\":\"scattergeo\"},{\"customdata\":[[1563.1]],\"geo\":\"geo\",\"hovertemplate\":\"name=LaPaz Icefield 02209\\u003cbr\\u003ereclat=%{lat}\\u003cbr\\u003ereclong=%{lon}\\u003cbr\\u003emass (g)=%{customdata[0]}\\u003cextra\\u003e\\u003c\\u002fextra\\u003e\",\"lat\":[-86.36667],\"legendgroup\":\"LaPaz Icefield 02209\",\"lon\":[-70.0],\"marker\":{\"color\":\"#FFA15A\",\"symbol\":\"circle\"},\"mode\":\"markers\",\"name\":\"LaPaz Icefield 02209\",\"showlegend\":true,\"type\":\"scattergeo\"},{\"customdata\":[[185.4]],\"geo\":\"geo\",\"hovertemplate\":\"name=Cumulus Hills 04006\\u003cbr\\u003ereclat=%{lat}\\u003cbr\\u003ereclong=%{lon}\\u003cbr\\u003emass (g)=%{customdata[0]}\\u003cextra\\u003e\\u003c\\u002fextra\\u003e\",\"lat\":[null],\"legendgroup\":\"Cumulus Hills 04006\",\"lon\":[null],\"marker\":{\"color\":\"#19d3f3\",\"symbol\":\"circle\"},\"mode\":\"markers\",\"name\":\"Cumulus Hills 04006\",\"showlegend\":true,\"type\":\"scattergeo\"},{\"customdata\":[[127.1]],\"geo\":\"geo\",\"hovertemplate\":\"name=Yamato 983723\\u003cbr\\u003ereclat=%{lat}\\u003cbr\\u003ereclong=%{lon}\\u003cbr\\u003emass (g)=%{customdata[0]}\\u003cextra\\u003e\\u003c\\u002fextra\\u003e\",\"lat\":[0.0],\"legendgroup\":\"Yamato 983723\",\"lon\":[0.0],\"marker\":{\"color\":\"#FF6692\",\"symbol\":\"circle\"},\"mode\":\"markers\",\"name\":\"Yamato 983723\",\"showlegend\":true,\"type\":\"scattergeo\"},{\"customdata\":[[0.51]],\"geo\":\"geo\",\"hovertemplate\":\"name=Grove Mountains 054544\\u003cbr\\u003ereclat=%{lat}\\u003cbr\\u003ereclong=%{lon}\\u003cbr\\u003emass (g)=%{customdata[0]}\\u003cextra\\u003e\\u003c\\u002fextra\\u003e\",\"lat\":[-72.99889],\"legendgroup\":\"Grove Mountains 054544\",\"lon\":[75.18722],\"marker\":{\"color\":\"#B6E880\",\"symbol\":\"circle\"},\"mode\":\"markers\",\"name\":\"Grove Mountains 054544\",\"showlegend\":true,\"type\":\"scattergeo\"},{\"customdata\":[[15.5]],\"geo\":\"geo\",\"hovertemplate\":\"name=Queen Alexandra Range 97504\\u003cbr\\u003ereclat=%{lat}\\u003cbr\\u003ereclong=%{lon}\\u003cbr\\u003emass (g)=%{customdata[0]}\\u003cextra\\u003e\\u003c\\u002fextra\\u003e\",\"lat\":[-84.0],\"legendgroup\":\"Queen Alexandra Range 97504\",\"lon\":[168.0],\"marker\":{\"color\":\"#FF97FF\",\"symbol\":\"circle\"},\"mode\":\"markers\",\"name\":\"Queen Alexandra Range 97504\",\"showlegend\":true,\"type\":\"scattergeo\"},{\"customdata\":[[85.0]],\"geo\":\"geo\",\"hovertemplate\":\"name=Lahmada 017\\u003cbr\\u003ereclat=%{lat}\\u003cbr\\u003ereclong=%{lon}\\u003cbr\\u003emass (g)=%{customdata[0]}\\u003cextra\\u003e\\u003c\\u002fextra\\u003e\",\"lat\":[27.2265],\"legendgroup\":\"Lahmada 017\",\"lon\":[-9.74117],\"marker\":{\"color\":\"#FECB52\",\"symbol\":\"circle\"},\"mode\":\"markers\",\"name\":\"Lahmada 017\",\"showlegend\":true,\"type\":\"scattergeo\"},{\"customdata\":[[308.0]],\"geo\":\"geo\",\"hovertemplate\":\"name=Northwest Africa 309\\u003cbr\\u003ereclat=%{lat}\\u003cbr\\u003ereclong=%{lon}\\u003cbr\\u003emass (g)=%{customdata[0]}\\u003cextra\\u003e\\u003c\\u002fextra\\u003e\",\"lat\":[null],\"legendgroup\":\"Northwest Africa 309\",\"lon\":[null],\"marker\":{\"color\":\"#636efa\",\"symbol\":\"circle\"},\"mode\":\"markers\",\"name\":\"Northwest Africa 309\",\"showlegend\":true,\"type\":\"scattergeo\"},{\"customdata\":[[3.5]],\"geo\":\"geo\",\"hovertemplate\":\"name=Frontier Mountain 90064\\u003cbr\\u003ereclat=%{lat}\\u003cbr\\u003ereclong=%{lon}\\u003cbr\\u003emass (g)=%{customdata[0]}\\u003cextra\\u003e\\u003c\\u002fextra\\u003e\",\"lat\":[-72.95457],\"legendgroup\":\"Frontier Mountain 90064\",\"lon\":[160.50374],\"marker\":{\"color\":\"#EF553B\",\"symbol\":\"circle\"},\"mode\":\"markers\",\"name\":\"Frontier Mountain 90064\",\"showlegend\":true,\"type\":\"scattergeo\"},{\"customdata\":[[10175.0]],\"geo\":\"geo\",\"hovertemplate\":\"name=Shi\\u015fr 036\\u003cbr\\u003ereclat=%{lat}\\u003cbr\\u003ereclong=%{lon}\\u003cbr\\u003emass (g)=%{customdata[0]}\\u003cextra\\u003e\\u003c\\u002fextra\\u003e\",\"lat\":[18.50755],\"legendgroup\":\"Shi\\u015fr 036\",\"lon\":[53.99325],\"marker\":{\"color\":\"#00cc96\",\"symbol\":\"circle\"},\"mode\":\"markers\",\"name\":\"Shi\\u015fr 036\",\"showlegend\":true,\"type\":\"scattergeo\"},{\"customdata\":[[11.1]],\"geo\":\"geo\",\"hovertemplate\":\"name=Lewis Cliff 86423\\u003cbr\\u003ereclat=%{lat}\\u003cbr\\u003ereclong=%{lon}\\u003cbr\\u003emass (g)=%{customdata[0]}\\u003cextra\\u003e\\u003c\\u002fextra\\u003e\",\"lat\":[-84.25499],\"legendgroup\":\"Lewis Cliff 86423\",\"lon\":[161.40492],\"marker\":{\"color\":\"#ab63fa\",\"symbol\":\"circle\"},\"mode\":\"markers\",\"name\":\"Lewis Cliff 86423\",\"showlegend\":true,\"type\":\"scattergeo\"},{\"customdata\":[[5.9]],\"geo\":\"geo\",\"hovertemplate\":\"name=Lewis Cliff 86362\\u003cbr\\u003ereclat=%{lat}\\u003cbr\\u003ereclong=%{lon}\\u003cbr\\u003emass (g)=%{customdata[0]}\\u003cextra\\u003e\\u003c\\u002fextra\\u003e\",\"lat\":[-84.27385],\"legendgroup\":\"Lewis Cliff 86362\",\"lon\":[161.68603],\"marker\":{\"color\":\"#FFA15A\",\"symbol\":\"circle\"},\"mode\":\"markers\",\"name\":\"Lewis Cliff 86362\",\"showlegend\":true,\"type\":\"scattergeo\"},{\"customdata\":[[3.19]],\"geo\":\"geo\",\"hovertemplate\":\"name=Yamato 790688\\u003cbr\\u003ereclat=%{lat}\\u003cbr\\u003ereclong=%{lon}\\u003cbr\\u003emass (g)=%{customdata[0]}\\u003cextra\\u003e\\u003c\\u002fextra\\u003e\",\"lat\":[-71.5],\"legendgroup\":\"Yamato 790688\",\"lon\":[35.66667],\"marker\":{\"color\":\"#19d3f3\",\"symbol\":\"circle\"},\"mode\":\"markers\",\"name\":\"Yamato 790688\",\"showlegend\":true,\"type\":\"scattergeo\"},{\"customdata\":[[0.56]],\"geo\":\"geo\",\"hovertemplate\":\"name=Grove Mountains 021919\\u003cbr\\u003ereclat=%{lat}\\u003cbr\\u003ereclong=%{lon}\\u003cbr\\u003emass (g)=%{customdata[0]}\\u003cextra\\u003e\\u003c\\u002fextra\\u003e\",\"lat\":[-72.7775],\"legendgroup\":\"Grove Mountains 021919\",\"lon\":[75.334167],\"marker\":{\"color\":\"#FF6692\",\"symbol\":\"circle\"},\"mode\":\"markers\",\"name\":\"Grove Mountains 021919\",\"showlegend\":true,\"type\":\"scattergeo\"},{\"customdata\":[[30.0]],\"geo\":\"geo\",\"hovertemplate\":\"name=Jodzie\\u003cbr\\u003ereclat=%{lat}\\u003cbr\\u003ereclong=%{lon}\\u003cbr\\u003emass (g)=%{customdata[0]}\\u003cextra\\u003e\\u003c\\u002fextra\\u003e\",\"lat\":[55.7],\"legendgroup\":\"Jodzie\",\"lon\":[24.4],\"marker\":{\"color\":\"#B6E880\",\"symbol\":\"circle\"},\"mode\":\"markers\",\"name\":\"Jodzie\",\"showlegend\":true,\"type\":\"scattergeo\"},{\"customdata\":[[11.09]],\"geo\":\"geo\",\"hovertemplate\":\"name=Yamato 983185\\u003cbr\\u003ereclat=%{lat}\\u003cbr\\u003ereclong=%{lon}\\u003cbr\\u003emass (g)=%{customdata[0]}\\u003cextra\\u003e\\u003c\\u002fextra\\u003e\",\"lat\":[0.0],\"legendgroup\":\"Yamato 983185\",\"lon\":[0.0],\"marker\":{\"color\":\"#FF97FF\",\"symbol\":\"circle\"},\"mode\":\"markers\",\"name\":\"Yamato 983185\",\"showlegend\":true,\"type\":\"scattergeo\"},{\"customdata\":[[11.9]],\"geo\":\"geo\",\"hovertemplate\":\"name=Queen Alexandra Range 93420\\u003cbr\\u003ereclat=%{lat}\\u003cbr\\u003ereclong=%{lon}\\u003cbr\\u003emass (g)=%{customdata[0]}\\u003cextra\\u003e\\u003c\\u002fextra\\u003e\",\"lat\":[-84.0],\"legendgroup\":\"Queen Alexandra Range 93420\",\"lon\":[168.0],\"marker\":{\"color\":\"#FECB52\",\"symbol\":\"circle\"},\"mode\":\"markers\",\"name\":\"Queen Alexandra Range 93420\",\"showlegend\":true,\"type\":\"scattergeo\"},{\"customdata\":[[29.42]],\"geo\":\"geo\",\"hovertemplate\":\"name=Yamato 790006\\u003cbr\\u003ereclat=%{lat}\\u003cbr\\u003ereclong=%{lon}\\u003cbr\\u003emass (g)=%{customdata[0]}\\u003cextra\\u003e\\u003c\\u002fextra\\u003e\",\"lat\":[-71.5],\"legendgroup\":\"Yamato 790006\",\"lon\":[35.66667],\"marker\":{\"color\":\"#636efa\",\"symbol\":\"circle\"},\"mode\":\"markers\",\"name\":\"Yamato 790006\",\"showlegend\":true,\"type\":\"scattergeo\"},{\"customdata\":[[27.8]],\"geo\":\"geo\",\"hovertemplate\":\"name=Allan Hills A80123\\u003cbr\\u003ereclat=%{lat}\\u003cbr\\u003ereclong=%{lon}\\u003cbr\\u003emass (g)=%{customdata[0]}\\u003cextra\\u003e\\u003c\\u002fextra\\u003e\",\"lat\":[-76.68944],\"legendgroup\":\"Allan Hills A80123\",\"lon\":[159.36889],\"marker\":{\"color\":\"#EF553B\",\"symbol\":\"circle\"},\"mode\":\"markers\",\"name\":\"Allan Hills A80123\",\"showlegend\":true,\"type\":\"scattergeo\"},{\"customdata\":[[92.7]],\"geo\":\"geo\",\"hovertemplate\":\"name=Pecora Escarpment 91448\\u003cbr\\u003ereclat=%{lat}\\u003cbr\\u003ereclong=%{lon}\\u003cbr\\u003emass (g)=%{customdata[0]}\\u003cextra\\u003e\\u003c\\u002fextra\\u003e\",\"lat\":[-85.65807],\"legendgroup\":\"Pecora Escarpment 91448\",\"lon\":[-68.17227],\"marker\":{\"color\":\"#00cc96\",\"symbol\":\"circle\"},\"mode\":\"markers\",\"name\":\"Pecora Escarpment 91448\",\"showlegend\":true,\"type\":\"scattergeo\"},{\"customdata\":[[78.36]],\"geo\":\"geo\",\"hovertemplate\":\"name=Ramlat al Wahibah 040\\u003cbr\\u003ereclat=%{lat}\\u003cbr\\u003ereclong=%{lon}\\u003cbr\\u003emass (g)=%{customdata[0]}\\u003cextra\\u003e\\u003c\\u002fextra\\u003e\",\"lat\":[21.37107],\"legendgroup\":\"Ramlat al Wahibah 040\",\"lon\":[58.41415],\"marker\":{\"color\":\"#ab63fa\",\"symbol\":\"circle\"},\"mode\":\"markers\",\"name\":\"Ramlat al Wahibah 040\",\"showlegend\":true,\"type\":\"scattergeo\"},{\"customdata\":[[111.0]],\"geo\":\"geo\",\"hovertemplate\":\"name=El M\\u00e9dano 037\\u003cbr\\u003ereclat=%{lat}\\u003cbr\\u003ereclong=%{lon}\\u003cbr\\u003emass (g)=%{customdata[0]}\\u003cextra\\u003e\\u003c\\u002fextra\\u003e\",\"lat\":[-24.85],\"legendgroup\":\"El M\\u00e9dano 037\",\"lon\":[-70.53333],\"marker\":{\"color\":\"#FFA15A\",\"symbol\":\"circle\"},\"mode\":\"markers\",\"name\":\"El M\\u00e9dano 037\",\"showlegend\":true,\"type\":\"scattergeo\"},{\"customdata\":[[62.4]],\"geo\":\"geo\",\"hovertemplate\":\"name=Lewis Cliff 86317\\u003cbr\\u003ereclat=%{lat}\\u003cbr\\u003ereclong=%{lon}\\u003cbr\\u003emass (g)=%{customdata[0]}\\u003cextra\\u003e\\u003c\\u002fextra\\u003e\",\"lat\":[-84.27639],\"legendgroup\":\"Lewis Cliff 86317\",\"lon\":[161.34562],\"marker\":{\"color\":\"#19d3f3\",\"symbol\":\"circle\"},\"mode\":\"markers\",\"name\":\"Lewis Cliff 86317\",\"showlegend\":true,\"type\":\"scattergeo\"},{\"customdata\":[[4.7]],\"geo\":\"geo\",\"hovertemplate\":\"name=Miller Range 090340\\u003cbr\\u003ereclat=%{lat}\\u003cbr\\u003ereclong=%{lon}\\u003cbr\\u003emass (g)=%{customdata[0]}\\u003cextra\\u003e\\u003c\\u002fextra\\u003e\",\"lat\":[0.0],\"legendgroup\":\"Miller Range 090340\",\"lon\":[0.0],\"marker\":{\"color\":\"#FF6692\",\"symbol\":\"circle\"},\"mode\":\"markers\",\"name\":\"Miller Range 090340\",\"showlegend\":true,\"type\":\"scattergeo\"},{\"customdata\":[[144.0]],\"geo\":\"geo\",\"hovertemplate\":\"name=Dhofar 921\\u003cbr\\u003ereclat=%{lat}\\u003cbr\\u003ereclong=%{lon}\\u003cbr\\u003emass (g)=%{customdata[0]}\\u003cextra\\u003e\\u003c\\u002fextra\\u003e\",\"lat\":[18.625],\"legendgroup\":\"Dhofar 921\",\"lon\":[54.43],\"marker\":{\"color\":\"#B6E880\",\"symbol\":\"circle\"},\"mode\":\"markers\",\"name\":\"Dhofar 921\",\"showlegend\":true,\"type\":\"scattergeo\"},{\"customdata\":[[23.7]],\"geo\":\"geo\",\"hovertemplate\":\"name=Elephant Moraine 83314\\u003cbr\\u003ereclat=%{lat}\\u003cbr\\u003ereclong=%{lon}\\u003cbr\\u003emass (g)=%{customdata[0]}\\u003cextra\\u003e\\u003c\\u002fextra\\u003e\",\"lat\":[-76.31028],\"legendgroup\":\"Elephant Moraine 83314\",\"lon\":[157.1975],\"marker\":{\"color\":\"#FF97FF\",\"symbol\":\"circle\"},\"mode\":\"markers\",\"name\":\"Elephant Moraine 83314\",\"showlegend\":true,\"type\":\"scattergeo\"},{\"customdata\":[[215.0]],\"geo\":\"geo\",\"hovertemplate\":\"name=Pecora Escarpment 91132\\u003cbr\\u003ereclat=%{lat}\\u003cbr\\u003ereclong=%{lon}\\u003cbr\\u003emass (g)=%{customdata[0]}\\u003cextra\\u003e\\u003c\\u002fextra\\u003e\",\"lat\":[-85.68404],\"legendgroup\":\"Pecora Escarpment 91132\",\"lon\":[-68.87777],\"marker\":{\"color\":\"#FECB52\",\"symbol\":\"circle\"},\"mode\":\"markers\",\"name\":\"Pecora Escarpment 91132\",\"showlegend\":true,\"type\":\"scattergeo\"},{\"customdata\":[[4.93]],\"geo\":\"geo\",\"hovertemplate\":\"name=Yamato 983789\\u003cbr\\u003ereclat=%{lat}\\u003cbr\\u003ereclong=%{lon}\\u003cbr\\u003emass (g)=%{customdata[0]}\\u003cextra\\u003e\\u003c\\u002fextra\\u003e\",\"lat\":[0.0],\"legendgroup\":\"Yamato 983789\",\"lon\":[0.0],\"marker\":{\"color\":\"#636efa\",\"symbol\":\"circle\"},\"mode\":\"markers\",\"name\":\"Yamato 983789\",\"showlegend\":true,\"type\":\"scattergeo\"},{\"customdata\":[[500.0]],\"geo\":\"geo\",\"hovertemplate\":\"name=Botetourt County\\u003cbr\\u003ereclat=%{lat}\\u003cbr\\u003ereclong=%{lon}\\u003cbr\\u003emass (g)=%{customdata[0]}\\u003cextra\\u003e\\u003c\\u002fextra\\u003e\",\"lat\":[37.5],\"legendgroup\":\"Botetourt County\",\"lon\":[-79.75],\"marker\":{\"color\":\"#EF553B\",\"symbol\":\"circle\"},\"mode\":\"markers\",\"name\":\"Botetourt County\",\"showlegend\":true,\"type\":\"scattergeo\"},{\"customdata\":[[1149.0]],\"geo\":\"geo\",\"hovertemplate\":\"name=Tiffa 008\\u003cbr\\u003ereclat=%{lat}\\u003cbr\\u003ereclong=%{lon}\\u003cbr\\u003emass (g)=%{customdata[0]}\\u003cextra\\u003e\\u003c\\u002fextra\\u003e\",\"lat\":[20.35833],\"legendgroup\":\"Tiffa 008\",\"lon\":[11.85],\"marker\":{\"color\":\"#00cc96\",\"symbol\":\"circle\"},\"mode\":\"markers\",\"name\":\"Tiffa 008\",\"showlegend\":true,\"type\":\"scattergeo\"},{\"customdata\":[[4.1]],\"geo\":\"geo\",\"hovertemplate\":\"name=Yamato 983439\\u003cbr\\u003ereclat=%{lat}\\u003cbr\\u003ereclong=%{lon}\\u003cbr\\u003emass (g)=%{customdata[0]}\\u003cextra\\u003e\\u003c\\u002fextra\\u003e\",\"lat\":[0.0],\"legendgroup\":\"Yamato 983439\",\"lon\":[0.0],\"marker\":{\"color\":\"#ab63fa\",\"symbol\":\"circle\"},\"mode\":\"markers\",\"name\":\"Yamato 983439\",\"showlegend\":true,\"type\":\"scattergeo\"},{\"customdata\":[[2.4]],\"geo\":\"geo\",\"hovertemplate\":\"name=Miller Range 090185\\u003cbr\\u003ereclat=%{lat}\\u003cbr\\u003ereclong=%{lon}\\u003cbr\\u003emass (g)=%{customdata[0]}\\u003cextra\\u003e\\u003c\\u002fextra\\u003e\",\"lat\":[0.0],\"legendgroup\":\"Miller Range 090185\",\"lon\":[0.0],\"marker\":{\"color\":\"#FFA15A\",\"symbol\":\"circle\"},\"mode\":\"markers\",\"name\":\"Miller Range 090185\",\"showlegend\":true,\"type\":\"scattergeo\"},{\"customdata\":[[34.3]],\"geo\":\"geo\",\"hovertemplate\":\"name=Dominion Range 10499\\u003cbr\\u003ereclat=%{lat}\\u003cbr\\u003ereclong=%{lon}\\u003cbr\\u003emass (g)=%{customdata[0]}\\u003cextra\\u003e\\u003c\\u002fextra\\u003e\",\"lat\":[0.0],\"legendgroup\":\"Dominion Range 10499\",\"lon\":[0.0],\"marker\":{\"color\":\"#19d3f3\",\"symbol\":\"circle\"},\"mode\":\"markers\",\"name\":\"Dominion Range 10499\",\"showlegend\":true,\"type\":\"scattergeo\"},{\"customdata\":[[9.8]],\"geo\":\"geo\",\"hovertemplate\":\"name=Miller Range 090995\\u003cbr\\u003ereclat=%{lat}\\u003cbr\\u003ereclong=%{lon}\\u003cbr\\u003emass (g)=%{customdata[0]}\\u003cextra\\u003e\\u003c\\u002fextra\\u003e\",\"lat\":[0.0],\"legendgroup\":\"Miller Range 090995\",\"lon\":[0.0],\"marker\":{\"color\":\"#FF6692\",\"symbol\":\"circle\"},\"mode\":\"markers\",\"name\":\"Miller Range 090995\",\"showlegend\":true,\"type\":\"scattergeo\"},{\"customdata\":[[580.0]],\"geo\":\"geo\",\"hovertemplate\":\"name=Northwest Africa 5432\\u003cbr\\u003ereclat=%{lat}\\u003cbr\\u003ereclong=%{lon}\\u003cbr\\u003emass (g)=%{customdata[0]}\\u003cextra\\u003e\\u003c\\u002fextra\\u003e\",\"lat\":[0.0],\"legendgroup\":\"Northwest Africa 5432\",\"lon\":[0.0],\"marker\":{\"color\":\"#B6E880\",\"symbol\":\"circle\"},\"mode\":\"markers\",\"name\":\"Northwest Africa 5432\",\"showlegend\":true,\"type\":\"scattergeo\"},{\"customdata\":[[23.0]],\"geo\":\"geo\",\"hovertemplate\":\"name=Northwest Africa 492\\u003cbr\\u003ereclat=%{lat}\\u003cbr\\u003ereclong=%{lon}\\u003cbr\\u003emass (g)=%{customdata[0]}\\u003cextra\\u003e\\u003c\\u002fextra\\u003e\",\"lat\":[null],\"legendgroup\":\"Northwest Africa 492\",\"lon\":[null],\"marker\":{\"color\":\"#FF97FF\",\"symbol\":\"circle\"},\"mode\":\"markers\",\"name\":\"Northwest Africa 492\",\"showlegend\":true,\"type\":\"scattergeo\"},{\"customdata\":[[0.46]],\"geo\":\"geo\",\"hovertemplate\":\"name=Grove Mountains 023899\\u003cbr\\u003ereclat=%{lat}\\u003cbr\\u003ereclong=%{lon}\\u003cbr\\u003emass (g)=%{customdata[0]}\\u003cextra\\u003e\\u003c\\u002fextra\\u003e\",\"lat\":[-72.9822],\"legendgroup\":\"Grove Mountains 023899\",\"lon\":[75.2489],\"marker\":{\"color\":\"#FECB52\",\"symbol\":\"circle\"},\"mode\":\"markers\",\"name\":\"Grove Mountains 023899\",\"showlegend\":true,\"type\":\"scattergeo\"},{\"customdata\":[[14.633]],\"geo\":\"geo\",\"hovertemplate\":\"name=Yamato 980580\\u003cbr\\u003ereclat=%{lat}\\u003cbr\\u003ereclong=%{lon}\\u003cbr\\u003emass (g)=%{customdata[0]}\\u003cextra\\u003e\\u003c\\u002fextra\\u003e\",\"lat\":[null],\"legendgroup\":\"Yamato 980580\",\"lon\":[null],\"marker\":{\"color\":\"#636efa\",\"symbol\":\"circle\"},\"mode\":\"markers\",\"name\":\"Yamato 980580\",\"showlegend\":true,\"type\":\"scattergeo\"},{\"customdata\":[[3.4]],\"geo\":\"geo\",\"hovertemplate\":\"name=Miller Range 090167\\u003cbr\\u003ereclat=%{lat}\\u003cbr\\u003ereclong=%{lon}\\u003cbr\\u003emass (g)=%{customdata[0]}\\u003cextra\\u003e\\u003c\\u002fextra\\u003e\",\"lat\":[0.0],\"legendgroup\":\"Miller Range 090167\",\"lon\":[0.0],\"marker\":{\"color\":\"#EF553B\",\"symbol\":\"circle\"},\"mode\":\"markers\",\"name\":\"Miller Range 090167\",\"showlegend\":true,\"type\":\"scattergeo\"},{\"customdata\":[[54.0]],\"geo\":\"geo\",\"hovertemplate\":\"name=Dar al Gani 924\\u003cbr\\u003ereclat=%{lat}\\u003cbr\\u003ereclong=%{lon}\\u003cbr\\u003emass (g)=%{customdata[0]}\\u003cextra\\u003e\\u003c\\u002fextra\\u003e\",\"lat\":[27.03333],\"legendgroup\":\"Dar al Gani 924\",\"lon\":[16.35],\"marker\":{\"color\":\"#00cc96\",\"symbol\":\"circle\"},\"mode\":\"markers\",\"name\":\"Dar al Gani 924\",\"showlegend\":true,\"type\":\"scattergeo\"},{\"customdata\":[[292.26]],\"geo\":\"geo\",\"hovertemplate\":\"name=Yamato 793249\\u003cbr\\u003ereclat=%{lat}\\u003cbr\\u003ereclong=%{lon}\\u003cbr\\u003emass (g)=%{customdata[0]}\\u003cextra\\u003e\\u003c\\u002fextra\\u003e\",\"lat\":[-71.5],\"legendgroup\":\"Yamato 793249\",\"lon\":[35.66667],\"marker\":{\"color\":\"#ab63fa\",\"symbol\":\"circle\"},\"mode\":\"markers\",\"name\":\"Yamato 793249\",\"showlegend\":true,\"type\":\"scattergeo\"},{\"customdata\":[[1.3]],\"geo\":\"geo\",\"hovertemplate\":\"name=Queen Alexandra Range 94565\\u003cbr\\u003ereclat=%{lat}\\u003cbr\\u003ereclong=%{lon}\\u003cbr\\u003emass (g)=%{customdata[0]}\\u003cextra\\u003e\\u003c\\u002fextra\\u003e\",\"lat\":[-84.0],\"legendgroup\":\"Queen Alexandra Range 94565\",\"lon\":[168.0],\"marker\":{\"color\":\"#FFA15A\",\"symbol\":\"circle\"},\"mode\":\"markers\",\"name\":\"Queen Alexandra Range 94565\",\"showlegend\":true,\"type\":\"scattergeo\"},{\"customdata\":[[37.8]],\"geo\":\"geo\",\"hovertemplate\":\"name=Queen Alexandra Range 97185\\u003cbr\\u003ereclat=%{lat}\\u003cbr\\u003ereclong=%{lon}\\u003cbr\\u003emass (g)=%{customdata[0]}\\u003cextra\\u003e\\u003c\\u002fextra\\u003e\",\"lat\":[-84.0],\"legendgroup\":\"Queen Alexandra Range 97185\",\"lon\":[168.0],\"marker\":{\"color\":\"#19d3f3\",\"symbol\":\"circle\"},\"mode\":\"markers\",\"name\":\"Queen Alexandra Range 97185\",\"showlegend\":true,\"type\":\"scattergeo\"},{\"customdata\":[[38.99]],\"geo\":\"geo\",\"hovertemplate\":\"name=Meteorite Hills 00493\\u003cbr\\u003ereclat=%{lat}\\u003cbr\\u003ereclong=%{lon}\\u003cbr\\u003emass (g)=%{customdata[0]}\\u003cextra\\u003e\\u003c\\u002fextra\\u003e\",\"lat\":[-79.68333],\"legendgroup\":\"Meteorite Hills 00493\",\"lon\":[155.75],\"marker\":{\"color\":\"#FF6692\",\"symbol\":\"circle\"},\"mode\":\"markers\",\"name\":\"Meteorite Hills 00493\",\"showlegend\":true,\"type\":\"scattergeo\"},{\"customdata\":[[58.6]],\"geo\":\"geo\",\"hovertemplate\":\"name=Elephant Moraine 87689\\u003cbr\\u003ereclat=%{lat}\\u003cbr\\u003ereclong=%{lon}\\u003cbr\\u003emass (g)=%{customdata[0]}\\u003cextra\\u003e\\u003c\\u002fextra\\u003e\",\"lat\":[-76.18333],\"legendgroup\":\"Elephant Moraine 87689\",\"lon\":[157.16667],\"marker\":{\"color\":\"#B6E880\",\"symbol\":\"circle\"},\"mode\":\"markers\",\"name\":\"Elephant Moraine 87689\",\"showlegend\":true,\"type\":\"scattergeo\"},{\"customdata\":[[12.7]],\"geo\":\"geo\",\"hovertemplate\":\"name=Northwest Africa 3340\\u003cbr\\u003ereclat=%{lat}\\u003cbr\\u003ereclong=%{lon}\\u003cbr\\u003emass (g)=%{customdata[0]}\\u003cextra\\u003e\\u003c\\u002fextra\\u003e\",\"lat\":[null],\"legendgroup\":\"Northwest Africa 3340\",\"lon\":[null],\"marker\":{\"color\":\"#FF97FF\",\"symbol\":\"circle\"},\"mode\":\"markers\",\"name\":\"Northwest Africa 3340\",\"showlegend\":true,\"type\":\"scattergeo\"},{\"customdata\":[[4.22]],\"geo\":\"geo\",\"hovertemplate\":\"name=Grove Mountains 022248\\u003cbr\\u003ereclat=%{lat}\\u003cbr\\u003ereclong=%{lon}\\u003cbr\\u003emass (g)=%{customdata[0]}\\u003cextra\\u003e\\u003c\\u002fextra\\u003e\",\"lat\":[-72.77889],\"legendgroup\":\"Grove Mountains 022248\",\"lon\":[75.31111],\"marker\":{\"color\":\"#FECB52\",\"symbol\":\"circle\"},\"mode\":\"markers\",\"name\":\"Grove Mountains 022248\",\"showlegend\":true,\"type\":\"scattergeo\"},{\"customdata\":[[25.6]],\"geo\":\"geo\",\"hovertemplate\":\"name=Queen Alexandra Range 97410\\u003cbr\\u003ereclat=%{lat}\\u003cbr\\u003ereclong=%{lon}\\u003cbr\\u003emass (g)=%{customdata[0]}\\u003cextra\\u003e\\u003c\\u002fextra\\u003e\",\"lat\":[-84.0],\"legendgroup\":\"Queen Alexandra Range 97410\",\"lon\":[168.0],\"marker\":{\"color\":\"#636efa\",\"symbol\":\"circle\"},\"mode\":\"markers\",\"name\":\"Queen Alexandra Range 97410\",\"showlegend\":true,\"type\":\"scattergeo\"},{\"customdata\":[[45.4]],\"geo\":\"geo\",\"hovertemplate\":\"name=Miller Range 03423\\u003cbr\\u003ereclat=%{lat}\\u003cbr\\u003ereclong=%{lon}\\u003cbr\\u003emass (g)=%{customdata[0]}\\u003cextra\\u003e\\u003c\\u002fextra\\u003e\",\"lat\":[null],\"legendgroup\":\"Miller Range 03423\",\"lon\":[null],\"marker\":{\"color\":\"#EF553B\",\"symbol\":\"circle\"},\"mode\":\"markers\",\"name\":\"Miller Range 03423\",\"showlegend\":true,\"type\":\"scattergeo\"},{\"customdata\":[[4.9]],\"geo\":\"geo\",\"hovertemplate\":\"name=Queen Alexandra Range 93695\\u003cbr\\u003ereclat=%{lat}\\u003cbr\\u003ereclong=%{lon}\\u003cbr\\u003emass (g)=%{customdata[0]}\\u003cextra\\u003e\\u003c\\u002fextra\\u003e\",\"lat\":[-84.0],\"legendgroup\":\"Queen Alexandra Range 93695\",\"lon\":[168.0],\"marker\":{\"color\":\"#00cc96\",\"symbol\":\"circle\"},\"mode\":\"markers\",\"name\":\"Queen Alexandra Range 93695\",\"showlegend\":true,\"type\":\"scattergeo\"},{\"customdata\":[[39.7]],\"geo\":\"geo\",\"hovertemplate\":\"name=Elephant Moraine 90796\\u003cbr\\u003ereclat=%{lat}\\u003cbr\\u003ereclong=%{lon}\\u003cbr\\u003emass (g)=%{customdata[0]}\\u003cextra\\u003e\\u003c\\u002fextra\\u003e\",\"lat\":[-76.2858],\"legendgroup\":\"Elephant Moraine 90796\",\"lon\":[156.46845],\"marker\":{\"color\":\"#ab63fa\",\"symbol\":\"circle\"},\"mode\":\"markers\",\"name\":\"Elephant Moraine 90796\",\"showlegend\":true,\"type\":\"scattergeo\"},{\"customdata\":[[14.2]],\"geo\":\"geo\",\"hovertemplate\":\"name=Elephant Moraine 90042\\u003cbr\\u003ereclat=%{lat}\\u003cbr\\u003ereclong=%{lon}\\u003cbr\\u003emass (g)=%{customdata[0]}\\u003cextra\\u003e\\u003c\\u002fextra\\u003e\",\"lat\":[-76.27972],\"legendgroup\":\"Elephant Moraine 90042\",\"lon\":[156.47219],\"marker\":{\"color\":\"#FFA15A\",\"symbol\":\"circle\"},\"mode\":\"markers\",\"name\":\"Elephant Moraine 90042\",\"showlegend\":true,\"type\":\"scattergeo\"},{\"customdata\":[[336.0]],\"geo\":\"geo\",\"hovertemplate\":\"name=Grove Mountains 052116\\u003cbr\\u003ereclat=%{lat}\\u003cbr\\u003ereclong=%{lon}\\u003cbr\\u003emass (g)=%{customdata[0]}\\u003cextra\\u003e\\u003c\\u002fextra\\u003e\",\"lat\":[-72.77472],\"legendgroup\":\"Grove Mountains 052116\",\"lon\":[75.32361],\"marker\":{\"color\":\"#19d3f3\",\"symbol\":\"circle\"},\"mode\":\"markers\",\"name\":\"Grove Mountains 052116\",\"showlegend\":true,\"type\":\"scattergeo\"},{\"customdata\":[[72.4]],\"geo\":\"geo\",\"hovertemplate\":\"name=Mount Prestrud 95406\\u003cbr\\u003ereclat=%{lat}\\u003cbr\\u003ereclong=%{lon}\\u003cbr\\u003emass (g)=%{customdata[0]}\\u003cextra\\u003e\\u003c\\u002fextra\\u003e\",\"lat\":[-86.56667],\"legendgroup\":\"Mount Prestrud 95406\",\"lon\":[-165.11667],\"marker\":{\"color\":\"#FF6692\",\"symbol\":\"circle\"},\"mode\":\"markers\",\"name\":\"Mount Prestrud 95406\",\"showlegend\":true,\"type\":\"scattergeo\"},{\"customdata\":[[130.3]],\"geo\":\"geo\",\"hovertemplate\":\"name=Miller Range 090860\\u003cbr\\u003ereclat=%{lat}\\u003cbr\\u003ereclong=%{lon}\\u003cbr\\u003emass (g)=%{customdata[0]}\\u003cextra\\u003e\\u003c\\u002fextra\\u003e\",\"lat\":[0.0],\"legendgroup\":\"Miller Range 090860\",\"lon\":[0.0],\"marker\":{\"color\":\"#B6E880\",\"symbol\":\"circle\"},\"mode\":\"markers\",\"name\":\"Miller Range 090860\",\"showlegend\":true,\"type\":\"scattergeo\"},{\"customdata\":[[392.9]],\"geo\":\"geo\",\"hovertemplate\":\"name=Elephant Moraine 96043\\u003cbr\\u003ereclat=%{lat}\\u003cbr\\u003ereclong=%{lon}\\u003cbr\\u003emass (g)=%{customdata[0]}\\u003cextra\\u003e\\u003c\\u002fextra\\u003e\",\"lat\":[-76.18333],\"legendgroup\":\"Elephant Moraine 96043\",\"lon\":[157.16667],\"marker\":{\"color\":\"#FF97FF\",\"symbol\":\"circle\"},\"mode\":\"markers\",\"name\":\"Elephant Moraine 96043\",\"showlegend\":true,\"type\":\"scattergeo\"},{\"customdata\":[[1006.0]],\"geo\":\"geo\",\"hovertemplate\":\"name=Northwest Africa 2132\\u003cbr\\u003ereclat=%{lat}\\u003cbr\\u003ereclong=%{lon}\\u003cbr\\u003emass (g)=%{customdata[0]}\\u003cextra\\u003e\\u003c\\u002fextra\\u003e\",\"lat\":[null],\"legendgroup\":\"Northwest Africa 2132\",\"lon\":[null],\"marker\":{\"color\":\"#FECB52\",\"symbol\":\"circle\"},\"mode\":\"markers\",\"name\":\"Northwest Africa 2132\",\"showlegend\":true,\"type\":\"scattergeo\"},{\"customdata\":[[8.14]],\"geo\":\"geo\",\"hovertemplate\":\"name=Yamato 792755\\u003cbr\\u003ereclat=%{lat}\\u003cbr\\u003ereclong=%{lon}\\u003cbr\\u003emass (g)=%{customdata[0]}\\u003cextra\\u003e\\u003c\\u002fextra\\u003e\",\"lat\":[-71.5],\"legendgroup\":\"Yamato 792755\",\"lon\":[35.66667],\"marker\":{\"color\":\"#636efa\",\"symbol\":\"circle\"},\"mode\":\"markers\",\"name\":\"Yamato 792755\",\"showlegend\":true,\"type\":\"scattergeo\"},{\"customdata\":[[10.86]],\"geo\":\"geo\",\"hovertemplate\":\"name=Yamato 86291\\u003cbr\\u003ereclat=%{lat}\\u003cbr\\u003ereclong=%{lon}\\u003cbr\\u003emass (g)=%{customdata[0]}\\u003cextra\\u003e\\u003c\\u002fextra\\u003e\",\"lat\":[-71.5],\"legendgroup\":\"Yamato 86291\",\"lon\":[35.66667],\"marker\":{\"color\":\"#EF553B\",\"symbol\":\"circle\"},\"mode\":\"markers\",\"name\":\"Yamato 86291\",\"showlegend\":true,\"type\":\"scattergeo\"},{\"customdata\":[[12000.0]],\"geo\":\"geo\",\"hovertemplate\":\"name=Aswan\\u003cbr\\u003ereclat=%{lat}\\u003cbr\\u003ereclong=%{lon}\\u003cbr\\u003emass (g)=%{customdata[0]}\\u003cextra\\u003e\\u003c\\u002fextra\\u003e\",\"lat\":[23.98611],\"legendgroup\":\"Aswan\",\"lon\":[32.62361],\"marker\":{\"color\":\"#00cc96\",\"symbol\":\"circle\"},\"mode\":\"markers\",\"name\":\"Aswan\",\"showlegend\":true,\"type\":\"scattergeo\"},{\"customdata\":[[6.3]],\"geo\":\"geo\",\"hovertemplate\":\"name=Allan Hills 84201\\u003cbr\\u003ereclat=%{lat}\\u003cbr\\u003ereclong=%{lon}\\u003cbr\\u003emass (g)=%{customdata[0]}\\u003cextra\\u003e\\u003c\\u002fextra\\u003e\",\"lat\":[-76.7574],\"legendgroup\":\"Allan Hills 84201\",\"lon\":[158.90775],\"marker\":{\"color\":\"#ab63fa\",\"symbol\":\"circle\"},\"mode\":\"markers\",\"name\":\"Allan Hills 84201\",\"showlegend\":true,\"type\":\"scattergeo\"},{\"customdata\":[[426.0]],\"geo\":\"geo\",\"hovertemplate\":\"name=Dhofar 1148\\u003cbr\\u003ereclat=%{lat}\\u003cbr\\u003ereclong=%{lon}\\u003cbr\\u003emass (g)=%{customdata[0]}\\u003cextra\\u003e\\u003c\\u002fextra\\u003e\",\"lat\":[19.190417],\"legendgroup\":\"Dhofar 1148\",\"lon\":[54.957194],\"marker\":{\"color\":\"#FFA15A\",\"symbol\":\"circle\"},\"mode\":\"markers\",\"name\":\"Dhofar 1148\",\"showlegend\":true,\"type\":\"scattergeo\"},{\"customdata\":[[48.1]],\"geo\":\"geo\",\"hovertemplate\":\"name=Miller Range 090155\\u003cbr\\u003ereclat=%{lat}\\u003cbr\\u003ereclong=%{lon}\\u003cbr\\u003emass (g)=%{customdata[0]}\\u003cextra\\u003e\\u003c\\u002fextra\\u003e\",\"lat\":[0.0],\"legendgroup\":\"Miller Range 090155\",\"lon\":[0.0],\"marker\":{\"color\":\"#19d3f3\",\"symbol\":\"circle\"},\"mode\":\"markers\",\"name\":\"Miller Range 090155\",\"showlegend\":true,\"type\":\"scattergeo\"},{\"customdata\":[[259.0]],\"geo\":\"geo\",\"hovertemplate\":\"name=Northwest Africa 7488\\u003cbr\\u003ereclat=%{lat}\\u003cbr\\u003ereclong=%{lon}\\u003cbr\\u003emass (g)=%{customdata[0]}\\u003cextra\\u003e\\u003c\\u002fextra\\u003e\",\"lat\":[0.0],\"legendgroup\":\"Northwest Africa 7488\",\"lon\":[0.0],\"marker\":{\"color\":\"#FF6692\",\"symbol\":\"circle\"},\"mode\":\"markers\",\"name\":\"Northwest Africa 7488\",\"showlegend\":true,\"type\":\"scattergeo\"},{\"customdata\":[[10.36]],\"geo\":\"geo\",\"hovertemplate\":\"name=Asuka 880754\\u003cbr\\u003ereclat=%{lat}\\u003cbr\\u003ereclong=%{lon}\\u003cbr\\u003emass (g)=%{customdata[0]}\\u003cextra\\u003e\\u003c\\u002fextra\\u003e\",\"lat\":[-72.0],\"legendgroup\":\"Asuka 880754\",\"lon\":[26.0],\"marker\":{\"color\":\"#B6E880\",\"symbol\":\"circle\"},\"mode\":\"markers\",\"name\":\"Asuka 880754\",\"showlegend\":true,\"type\":\"scattergeo\"},{\"customdata\":[[6175.0]],\"geo\":\"geo\",\"hovertemplate\":\"name=Yamato 790957\\u003cbr\\u003ereclat=%{lat}\\u003cbr\\u003ereclong=%{lon}\\u003cbr\\u003emass (g)=%{customdata[0]}\\u003cextra\\u003e\\u003c\\u002fextra\\u003e\",\"lat\":[-71.5],\"legendgroup\":\"Yamato 790957\",\"lon\":[35.66667],\"marker\":{\"color\":\"#FF97FF\",\"symbol\":\"circle\"},\"mode\":\"markers\",\"name\":\"Yamato 790957\",\"showlegend\":true,\"type\":\"scattergeo\"},{\"customdata\":[[1.33]],\"geo\":\"geo\",\"hovertemplate\":\"name=Grove Mountains 054615\\u003cbr\\u003ereclat=%{lat}\\u003cbr\\u003ereclong=%{lon}\\u003cbr\\u003emass (g)=%{customdata[0]}\\u003cextra\\u003e\\u003c\\u002fextra\\u003e\",\"lat\":[-72.998889],\"legendgroup\":\"Grove Mountains 054615\",\"lon\":[75.187222],\"marker\":{\"color\":\"#FECB52\",\"symbol\":\"circle\"},\"mode\":\"markers\",\"name\":\"Grove Mountains 054615\",\"showlegend\":true,\"type\":\"scattergeo\"},{\"customdata\":[[4.37]],\"geo\":\"geo\",\"hovertemplate\":\"name=Grove Mountains 052175\\u003cbr\\u003ereclat=%{lat}\\u003cbr\\u003ereclong=%{lon}\\u003cbr\\u003emass (g)=%{customdata[0]}\\u003cextra\\u003e\\u003c\\u002fextra\\u003e\",\"lat\":[-72.77306],\"legendgroup\":\"Grove Mountains 052175\",\"lon\":[75.33806],\"marker\":{\"color\":\"#636efa\",\"symbol\":\"circle\"},\"mode\":\"markers\",\"name\":\"Grove Mountains 052175\",\"showlegend\":true,\"type\":\"scattergeo\"},{\"customdata\":[[187.5]],\"geo\":\"geo\",\"hovertemplate\":\"name=Sayh al Uhaymir 213\\u003cbr\\u003ereclat=%{lat}\\u003cbr\\u003ereclong=%{lon}\\u003cbr\\u003emass (g)=%{customdata[0]}\\u003cextra\\u003e\\u003c\\u002fextra\\u003e\",\"lat\":[20.41437],\"legendgroup\":\"Sayh al Uhaymir 213\",\"lon\":[57.06578],\"marker\":{\"color\":\"#EF553B\",\"symbol\":\"circle\"},\"mode\":\"markers\",\"name\":\"Sayh al Uhaymir 213\",\"showlegend\":true,\"type\":\"scattergeo\"},{\"customdata\":[[27000.0]],\"geo\":\"geo\",\"hovertemplate\":\"name=Northwest Africa 4492\\u003cbr\\u003ereclat=%{lat}\\u003cbr\\u003ereclong=%{lon}\\u003cbr\\u003emass (g)=%{customdata[0]}\\u003cextra\\u003e\\u003c\\u002fextra\\u003e\",\"lat\":[null],\"legendgroup\":\"Northwest Africa 4492\",\"lon\":[null],\"marker\":{\"color\":\"#00cc96\",\"symbol\":\"circle\"},\"mode\":\"markers\",\"name\":\"Northwest Africa 4492\",\"showlegend\":true,\"type\":\"scattergeo\"},{\"customdata\":[[50000.0]],\"geo\":\"geo\",\"hovertemplate\":\"name=Waconda\\u003cbr\\u003ereclat=%{lat}\\u003cbr\\u003ereclong=%{lon}\\u003cbr\\u003emass (g)=%{customdata[0]}\\u003cextra\\u003e\\u003c\\u002fextra\\u003e\",\"lat\":[39.33333],\"legendgroup\":\"Waconda\",\"lon\":[-98.16667],\"marker\":{\"color\":\"#ab63fa\",\"symbol\":\"circle\"},\"mode\":\"markers\",\"name\":\"Waconda\",\"showlegend\":true,\"type\":\"scattergeo\"},{\"customdata\":[[20.0]],\"geo\":\"geo\",\"hovertemplate\":\"name=Northwest Africa 5574\\u003cbr\\u003ereclat=%{lat}\\u003cbr\\u003ereclong=%{lon}\\u003cbr\\u003emass (g)=%{customdata[0]}\\u003cextra\\u003e\\u003c\\u002fextra\\u003e\",\"lat\":[0.0],\"legendgroup\":\"Northwest Africa 5574\",\"lon\":[0.0],\"marker\":{\"color\":\"#FFA15A\",\"symbol\":\"circle\"},\"mode\":\"markers\",\"name\":\"Northwest Africa 5574\",\"showlegend\":true,\"type\":\"scattergeo\"},{\"customdata\":[[9.5]],\"geo\":\"geo\",\"hovertemplate\":\"name=Lewis Cliff 88570\\u003cbr\\u003ereclat=%{lat}\\u003cbr\\u003ereclong=%{lon}\\u003cbr\\u003emass (g)=%{customdata[0]}\\u003cextra\\u003e\\u003c\\u002fextra\\u003e\",\"lat\":[-84.24623],\"legendgroup\":\"Lewis Cliff 88570\",\"lon\":[161.41018],\"marker\":{\"color\":\"#19d3f3\",\"symbol\":\"circle\"},\"mode\":\"markers\",\"name\":\"Lewis Cliff 88570\",\"showlegend\":true,\"type\":\"scattergeo\"},{\"customdata\":[[1806.0]],\"geo\":\"geo\",\"hovertemplate\":\"name=Dhofar 594\\u003cbr\\u003ereclat=%{lat}\\u003cbr\\u003ereclong=%{lon}\\u003cbr\\u003emass (g)=%{customdata[0]}\\u003cextra\\u003e\\u003c\\u002fextra\\u003e\",\"lat\":[18.7247],\"legendgroup\":\"Dhofar 594\",\"lon\":[54.39503],\"marker\":{\"color\":\"#FF6692\",\"symbol\":\"circle\"},\"mode\":\"markers\",\"name\":\"Dhofar 594\",\"showlegend\":true,\"type\":\"scattergeo\"},{\"customdata\":[[1443.0]],\"geo\":\"geo\",\"hovertemplate\":\"name=Laundry Rockhole\\u003cbr\\u003ereclat=%{lat}\\u003cbr\\u003ereclong=%{lon}\\u003cbr\\u003emass (g)=%{customdata[0]}\\u003cextra\\u003e\\u003c\\u002fextra\\u003e\",\"lat\":[-31.53333],\"legendgroup\":\"Laundry Rockhole\",\"lon\":[127.01667],\"marker\":{\"color\":\"#B6E880\",\"symbol\":\"circle\"},\"mode\":\"markers\",\"name\":\"Laundry Rockhole\",\"showlegend\":true,\"type\":\"scattergeo\"},{\"customdata\":[[1.22]],\"geo\":\"geo\",\"hovertemplate\":\"name=Yamato 86608\\u003cbr\\u003ereclat=%{lat}\\u003cbr\\u003ereclong=%{lon}\\u003cbr\\u003emass (g)=%{customdata[0]}\\u003cextra\\u003e\\u003c\\u002fextra\\u003e\",\"lat\":[-71.5],\"legendgroup\":\"Yamato 86608\",\"lon\":[35.66667],\"marker\":{\"color\":\"#FF97FF\",\"symbol\":\"circle\"},\"mode\":\"markers\",\"name\":\"Yamato 86608\",\"showlegend\":true,\"type\":\"scattergeo\"},{\"customdata\":[[1624.0]],\"geo\":\"geo\",\"hovertemplate\":\"name=Northwest Africa 1879\\u003cbr\\u003ereclat=%{lat}\\u003cbr\\u003ereclong=%{lon}\\u003cbr\\u003emass (g)=%{customdata[0]}\\u003cextra\\u003e\\u003c\\u002fextra\\u003e\",\"lat\":[null],\"legendgroup\":\"Northwest Africa 1879\",\"lon\":[null],\"marker\":{\"color\":\"#FECB52\",\"symbol\":\"circle\"},\"mode\":\"markers\",\"name\":\"Northwest Africa 1879\",\"showlegend\":true,\"type\":\"scattergeo\"},{\"customdata\":[[14.03]],\"geo\":\"geo\",\"hovertemplate\":\"name=Yamato 791117\\u003cbr\\u003ereclat=%{lat}\\u003cbr\\u003ereclong=%{lon}\\u003cbr\\u003emass (g)=%{customdata[0]}\\u003cextra\\u003e\\u003c\\u002fextra\\u003e\",\"lat\":[-71.5],\"legendgroup\":\"Yamato 791117\",\"lon\":[35.66667],\"marker\":{\"color\":\"#636efa\",\"symbol\":\"circle\"},\"mode\":\"markers\",\"name\":\"Yamato 791117\",\"showlegend\":true,\"type\":\"scattergeo\"},{\"customdata\":[[45000.0]],\"geo\":\"geo\",\"hovertemplate\":\"name=Wellman (c)\\u003cbr\\u003ereclat=%{lat}\\u003cbr\\u003ereclong=%{lon}\\u003cbr\\u003emass (g)=%{customdata[0]}\\u003cextra\\u003e\\u003c\\u002fextra\\u003e\",\"lat\":[33.03333],\"legendgroup\":\"Wellman (c)\",\"lon\":[-102.33333],\"marker\":{\"color\":\"#EF553B\",\"symbol\":\"circle\"},\"mode\":\"markers\",\"name\":\"Wellman (c)\",\"showlegend\":true,\"type\":\"scattergeo\"},{\"customdata\":[[5.86]],\"geo\":\"geo\",\"hovertemplate\":\"name=Yamato 982246\\u003cbr\\u003ereclat=%{lat}\\u003cbr\\u003ereclong=%{lon}\\u003cbr\\u003emass (g)=%{customdata[0]}\\u003cextra\\u003e\\u003c\\u002fextra\\u003e\",\"lat\":[0.0],\"legendgroup\":\"Yamato 982246\",\"lon\":[0.0],\"marker\":{\"color\":\"#00cc96\",\"symbol\":\"circle\"},\"mode\":\"markers\",\"name\":\"Yamato 982246\",\"showlegend\":true,\"type\":\"scattergeo\"},{\"customdata\":[[87.7]],\"geo\":\"geo\",\"hovertemplate\":\"name=Larkman Nunatak 06459\\u003cbr\\u003ereclat=%{lat}\\u003cbr\\u003ereclong=%{lon}\\u003cbr\\u003emass (g)=%{customdata[0]}\\u003cextra\\u003e\\u003c\\u002fextra\\u003e\",\"lat\":[null],\"legendgroup\":\"Larkman Nunatak 06459\",\"lon\":[null],\"marker\":{\"color\":\"#ab63fa\",\"symbol\":\"circle\"},\"mode\":\"markers\",\"name\":\"Larkman Nunatak 06459\",\"showlegend\":true,\"type\":\"scattergeo\"},{\"customdata\":[[2700.0]],\"geo\":\"geo\",\"hovertemplate\":\"name=Stonington\\u003cbr\\u003ereclat=%{lat}\\u003cbr\\u003ereclong=%{lon}\\u003cbr\\u003emass (g)=%{customdata[0]}\\u003cextra\\u003e\\u003c\\u002fextra\\u003e\",\"lat\":[37.28333],\"legendgroup\":\"Stonington\",\"lon\":[-102.2],\"marker\":{\"color\":\"#FFA15A\",\"symbol\":\"circle\"},\"mode\":\"markers\",\"name\":\"Stonington\",\"showlegend\":true,\"type\":\"scattergeo\"},{\"customdata\":[[20.5]],\"geo\":\"geo\",\"hovertemplate\":\"name=Lewis Cliff 88194\\u003cbr\\u003ereclat=%{lat}\\u003cbr\\u003ereclong=%{lon}\\u003cbr\\u003emass (g)=%{customdata[0]}\\u003cextra\\u003e\\u003c\\u002fextra\\u003e\",\"lat\":[-84.27985],\"legendgroup\":\"Lewis Cliff 88194\",\"lon\":[161.34894],\"marker\":{\"color\":\"#19d3f3\",\"symbol\":\"circle\"},\"mode\":\"markers\",\"name\":\"Lewis Cliff 88194\",\"showlegend\":true,\"type\":\"scattergeo\"},{\"customdata\":[[80.48]],\"geo\":\"geo\",\"hovertemplate\":\"name=Ramlat as Sahmah 334\\u003cbr\\u003ereclat=%{lat}\\u003cbr\\u003ereclong=%{lon}\\u003cbr\\u003emass (g)=%{customdata[0]}\\u003cextra\\u003e\\u003c\\u002fextra\\u003e\",\"lat\":[20.7827],\"legendgroup\":\"Ramlat as Sahmah 334\",\"lon\":[55.42668],\"marker\":{\"color\":\"#FF6692\",\"symbol\":\"circle\"},\"mode\":\"markers\",\"name\":\"Ramlat as Sahmah 334\",\"showlegend\":true,\"type\":\"scattergeo\"},{\"customdata\":[[6.45]],\"geo\":\"geo\",\"hovertemplate\":\"name=Grove Mountains 053824\\u003cbr\\u003ereclat=%{lat}\\u003cbr\\u003ereclong=%{lon}\\u003cbr\\u003emass (g)=%{customdata[0]}\\u003cextra\\u003e\\u003c\\u002fextra\\u003e\",\"lat\":[-72.77944],\"legendgroup\":\"Grove Mountains 053824\",\"lon\":[75.27],\"marker\":{\"color\":\"#B6E880\",\"symbol\":\"circle\"},\"mode\":\"markers\",\"name\":\"Grove Mountains 053824\",\"showlegend\":true,\"type\":\"scattergeo\"},{\"customdata\":[[624.0]],\"geo\":\"geo\",\"hovertemplate\":\"name=Dhofar 1550\\u003cbr\\u003ereclat=%{lat}\\u003cbr\\u003ereclong=%{lon}\\u003cbr\\u003emass (g)=%{customdata[0]}\\u003cextra\\u003e\\u003c\\u002fextra\\u003e\",\"lat\":[18.59083],\"legendgroup\":\"Dhofar 1550\",\"lon\":[54.543],\"marker\":{\"color\":\"#FF97FF\",\"symbol\":\"circle\"},\"mode\":\"markers\",\"name\":\"Dhofar 1550\",\"showlegend\":true,\"type\":\"scattergeo\"},{\"customdata\":[[10.9]],\"geo\":\"geo\",\"hovertemplate\":\"name=Meteorite Hills 01326\\u003cbr\\u003ereclat=%{lat}\\u003cbr\\u003ereclong=%{lon}\\u003cbr\\u003emass (g)=%{customdata[0]}\\u003cextra\\u003e\\u003c\\u002fextra\\u003e\",\"lat\":[-79.68333],\"legendgroup\":\"Meteorite Hills 01326\",\"lon\":[159.75],\"marker\":{\"color\":\"#FECB52\",\"symbol\":\"circle\"},\"mode\":\"markers\",\"name\":\"Meteorite Hills 01326\",\"showlegend\":true,\"type\":\"scattergeo\"},{\"customdata\":[[157.8]],\"geo\":\"geo\",\"hovertemplate\":\"name=Allan Hills 84132\\u003cbr\\u003ereclat=%{lat}\\u003cbr\\u003ereclong=%{lon}\\u003cbr\\u003emass (g)=%{customdata[0]}\\u003cextra\\u003e\\u003c\\u002fextra\\u003e\",\"lat\":[-77.01706],\"legendgroup\":\"Allan Hills 84132\",\"lon\":[156.96282],\"marker\":{\"color\":\"#636efa\",\"symbol\":\"circle\"},\"mode\":\"markers\",\"name\":\"Allan Hills 84132\",\"showlegend\":true,\"type\":\"scattergeo\"},{\"customdata\":[[1788.0]],\"geo\":\"geo\",\"hovertemplate\":\"name=Northwest Africa 3051\\u003cbr\\u003ereclat=%{lat}\\u003cbr\\u003ereclong=%{lon}\\u003cbr\\u003emass (g)=%{customdata[0]}\\u003cextra\\u003e\\u003c\\u002fextra\\u003e\",\"lat\":[null],\"legendgroup\":\"Northwest Africa 3051\",\"lon\":[null],\"marker\":{\"color\":\"#EF553B\",\"symbol\":\"circle\"},\"mode\":\"markers\",\"name\":\"Northwest Africa 3051\",\"showlegend\":true,\"type\":\"scattergeo\"},{\"customdata\":[[2.5]],\"geo\":\"geo\",\"hovertemplate\":\"name=Queen Alexandra Range 93394\\u003cbr\\u003ereclat=%{lat}\\u003cbr\\u003ereclong=%{lon}\\u003cbr\\u003emass (g)=%{customdata[0]}\\u003cextra\\u003e\\u003c\\u002fextra\\u003e\",\"lat\":[-84.0],\"legendgroup\":\"Queen Alexandra Range 93394\",\"lon\":[168.0],\"marker\":{\"color\":\"#00cc96\",\"symbol\":\"circle\"},\"mode\":\"markers\",\"name\":\"Queen Alexandra Range 93394\",\"showlegend\":true,\"type\":\"scattergeo\"},{\"customdata\":[[1798.9]],\"geo\":\"geo\",\"hovertemplate\":\"name=Jiddat al Harasis 276\\u003cbr\\u003ereclat=%{lat}\\u003cbr\\u003ereclong=%{lon}\\u003cbr\\u003emass (g)=%{customdata[0]}\\u003cextra\\u003e\\u003c\\u002fextra\\u003e\",\"lat\":[19.97933],\"legendgroup\":\"Jiddat al Harasis 276\",\"lon\":[55.95507],\"marker\":{\"color\":\"#ab63fa\",\"symbol\":\"circle\"},\"mode\":\"markers\",\"name\":\"Jiddat al Harasis 276\",\"showlegend\":true,\"type\":\"scattergeo\"},{\"customdata\":[[152.0]],\"geo\":\"geo\",\"hovertemplate\":\"name=Northwest Africa 2618\\u003cbr\\u003ereclat=%{lat}\\u003cbr\\u003ereclong=%{lon}\\u003cbr\\u003emass (g)=%{customdata[0]}\\u003cextra\\u003e\\u003c\\u002fextra\\u003e\",\"lat\":[null],\"legendgroup\":\"Northwest Africa 2618\",\"lon\":[null],\"marker\":{\"color\":\"#FFA15A\",\"symbol\":\"circle\"},\"mode\":\"markers\",\"name\":\"Northwest Africa 2618\",\"showlegend\":true,\"type\":\"scattergeo\"},{\"customdata\":[[71000.0]],\"geo\":\"geo\",\"hovertemplate\":\"name=Wooramel\\u003cbr\\u003ereclat=%{lat}\\u003cbr\\u003ereclong=%{lon}\\u003cbr\\u003emass (g)=%{customdata[0]}\\u003cextra\\u003e\\u003c\\u002fextra\\u003e\",\"lat\":[-25.65],\"legendgroup\":\"Wooramel\",\"lon\":[114.21667],\"marker\":{\"color\":\"#19d3f3\",\"symbol\":\"circle\"},\"mode\":\"markers\",\"name\":\"Wooramel\",\"showlegend\":true,\"type\":\"scattergeo\"},{\"customdata\":[[170.0]],\"geo\":\"geo\",\"hovertemplate\":\"name=Bluewing 031\\u003cbr\\u003ereclat=%{lat}\\u003cbr\\u003ereclong=%{lon}\\u003cbr\\u003emass (g)=%{customdata[0]}\\u003cextra\\u003e\\u003c\\u002fextra\\u003e\",\"lat\":[40.26667],\"legendgroup\":\"Bluewing 031\",\"lon\":[-118.93333],\"marker\":{\"color\":\"#FF6692\",\"symbol\":\"circle\"},\"mode\":\"markers\",\"name\":\"Bluewing 031\",\"showlegend\":true,\"type\":\"scattergeo\"},{\"customdata\":[[9.13]],\"geo\":\"geo\",\"hovertemplate\":\"name=Yamato 86011\\u003cbr\\u003ereclat=%{lat}\\u003cbr\\u003ereclong=%{lon}\\u003cbr\\u003emass (g)=%{customdata[0]}\\u003cextra\\u003e\\u003c\\u002fextra\\u003e\",\"lat\":[-71.5],\"legendgroup\":\"Yamato 86011\",\"lon\":[35.66667],\"marker\":{\"color\":\"#B6E880\",\"symbol\":\"circle\"},\"mode\":\"markers\",\"name\":\"Yamato 86011\",\"showlegend\":true,\"type\":\"scattergeo\"},{\"customdata\":[[5.0]],\"geo\":\"geo\",\"hovertemplate\":\"name=Queen Alexandra Range 94454\\u003cbr\\u003ereclat=%{lat}\\u003cbr\\u003ereclong=%{lon}\\u003cbr\\u003emass (g)=%{customdata[0]}\\u003cextra\\u003e\\u003c\\u002fextra\\u003e\",\"lat\":[-84.0],\"legendgroup\":\"Queen Alexandra Range 94454\",\"lon\":[168.0],\"marker\":{\"color\":\"#FF97FF\",\"symbol\":\"circle\"},\"mode\":\"markers\",\"name\":\"Queen Alexandra Range 94454\",\"showlegend\":true,\"type\":\"scattergeo\"},{\"customdata\":[[4.2]],\"geo\":\"geo\",\"hovertemplate\":\"name=Miller Range 090893\\u003cbr\\u003ereclat=%{lat}\\u003cbr\\u003ereclong=%{lon}\\u003cbr\\u003emass (g)=%{customdata[0]}\\u003cextra\\u003e\\u003c\\u002fextra\\u003e\",\"lat\":[0.0],\"legendgroup\":\"Miller Range 090893\",\"lon\":[0.0],\"marker\":{\"color\":\"#FECB52\",\"symbol\":\"circle\"},\"mode\":\"markers\",\"name\":\"Miller Range 090893\",\"showlegend\":true,\"type\":\"scattergeo\"}],                        {\"template\":{\"data\":{\"histogram2dcontour\":[{\"type\":\"histogram2dcontour\",\"colorbar\":{\"outlinewidth\":0,\"ticks\":\"\"},\"colorscale\":[[0.0,\"#0d0887\"],[0.1111111111111111,\"#46039f\"],[0.2222222222222222,\"#7201a8\"],[0.3333333333333333,\"#9c179e\"],[0.4444444444444444,\"#bd3786\"],[0.5555555555555556,\"#d8576b\"],[0.6666666666666666,\"#ed7953\"],[0.7777777777777778,\"#fb9f3a\"],[0.8888888888888888,\"#fdca26\"],[1.0,\"#f0f921\"]]}],\"choropleth\":[{\"type\":\"choropleth\",\"colorbar\":{\"outlinewidth\":0,\"ticks\":\"\"}}],\"histogram2d\":[{\"type\":\"histogram2d\",\"colorbar\":{\"outlinewidth\":0,\"ticks\":\"\"},\"colorscale\":[[0.0,\"#0d0887\"],[0.1111111111111111,\"#46039f\"],[0.2222222222222222,\"#7201a8\"],[0.3333333333333333,\"#9c179e\"],[0.4444444444444444,\"#bd3786\"],[0.5555555555555556,\"#d8576b\"],[0.6666666666666666,\"#ed7953\"],[0.7777777777777778,\"#fb9f3a\"],[0.8888888888888888,\"#fdca26\"],[1.0,\"#f0f921\"]]}],\"heatmap\":[{\"type\":\"heatmap\",\"colorbar\":{\"outlinewidth\":0,\"ticks\":\"\"},\"colorscale\":[[0.0,\"#0d0887\"],[0.1111111111111111,\"#46039f\"],[0.2222222222222222,\"#7201a8\"],[0.3333333333333333,\"#9c179e\"],[0.4444444444444444,\"#bd3786\"],[0.5555555555555556,\"#d8576b\"],[0.6666666666666666,\"#ed7953\"],[0.7777777777777778,\"#fb9f3a\"],[0.8888888888888888,\"#fdca26\"],[1.0,\"#f0f921\"]]}],\"heatmapgl\":[{\"type\":\"heatmapgl\",\"colorbar\":{\"outlinewidth\":0,\"ticks\":\"\"},\"colorscale\":[[0.0,\"#0d0887\"],[0.1111111111111111,\"#46039f\"],[0.2222222222222222,\"#7201a8\"],[0.3333333333333333,\"#9c179e\"],[0.4444444444444444,\"#bd3786\"],[0.5555555555555556,\"#d8576b\"],[0.6666666666666666,\"#ed7953\"],[0.7777777777777778,\"#fb9f3a\"],[0.8888888888888888,\"#fdca26\"],[1.0,\"#f0f921\"]]}],\"contourcarpet\":[{\"type\":\"contourcarpet\",\"colorbar\":{\"outlinewidth\":0,\"ticks\":\"\"}}],\"contour\":[{\"type\":\"contour\",\"colorbar\":{\"outlinewidth\":0,\"ticks\":\"\"},\"colorscale\":[[0.0,\"#0d0887\"],[0.1111111111111111,\"#46039f\"],[0.2222222222222222,\"#7201a8\"],[0.3333333333333333,\"#9c179e\"],[0.4444444444444444,\"#bd3786\"],[0.5555555555555556,\"#d8576b\"],[0.6666666666666666,\"#ed7953\"],[0.7777777777777778,\"#fb9f3a\"],[0.8888888888888888,\"#fdca26\"],[1.0,\"#f0f921\"]]}],\"surface\":[{\"type\":\"surface\",\"colorbar\":{\"outlinewidth\":0,\"ticks\":\"\"},\"colorscale\":[[0.0,\"#0d0887\"],[0.1111111111111111,\"#46039f\"],[0.2222222222222222,\"#7201a8\"],[0.3333333333333333,\"#9c179e\"],[0.4444444444444444,\"#bd3786\"],[0.5555555555555556,\"#d8576b\"],[0.6666666666666666,\"#ed7953\"],[0.7777777777777778,\"#fb9f3a\"],[0.8888888888888888,\"#fdca26\"],[1.0,\"#f0f921\"]]}],\"mesh3d\":[{\"type\":\"mesh3d\",\"colorbar\":{\"outlinewidth\":0,\"ticks\":\"\"}}],\"scatter\":[{\"fillpattern\":{\"fillmode\":\"overlay\",\"size\":10,\"solidity\":0.2},\"type\":\"scatter\"}],\"parcoords\":[{\"type\":\"parcoords\",\"line\":{\"colorbar\":{\"outlinewidth\":0,\"ticks\":\"\"}}}],\"scatterpolargl\":[{\"type\":\"scatterpolargl\",\"marker\":{\"colorbar\":{\"outlinewidth\":0,\"ticks\":\"\"}}}],\"bar\":[{\"error_x\":{\"color\":\"#2a3f5f\"},\"error_y\":{\"color\":\"#2a3f5f\"},\"marker\":{\"line\":{\"color\":\"#E5ECF6\",\"width\":0.5},\"pattern\":{\"fillmode\":\"overlay\",\"size\":10,\"solidity\":0.2}},\"type\":\"bar\"}],\"scattergeo\":[{\"type\":\"scattergeo\",\"marker\":{\"colorbar\":{\"outlinewidth\":0,\"ticks\":\"\"}}}],\"scatterpolar\":[{\"type\":\"scatterpolar\",\"marker\":{\"colorbar\":{\"outlinewidth\":0,\"ticks\":\"\"}}}],\"histogram\":[{\"marker\":{\"pattern\":{\"fillmode\":\"overlay\",\"size\":10,\"solidity\":0.2}},\"type\":\"histogram\"}],\"scattergl\":[{\"type\":\"scattergl\",\"marker\":{\"colorbar\":{\"outlinewidth\":0,\"ticks\":\"\"}}}],\"scatter3d\":[{\"type\":\"scatter3d\",\"line\":{\"colorbar\":{\"outlinewidth\":0,\"ticks\":\"\"}},\"marker\":{\"colorbar\":{\"outlinewidth\":0,\"ticks\":\"\"}}}],\"scattermapbox\":[{\"type\":\"scattermapbox\",\"marker\":{\"colorbar\":{\"outlinewidth\":0,\"ticks\":\"\"}}}],\"scatterternary\":[{\"type\":\"scatterternary\",\"marker\":{\"colorbar\":{\"outlinewidth\":0,\"ticks\":\"\"}}}],\"scattercarpet\":[{\"type\":\"scattercarpet\",\"marker\":{\"colorbar\":{\"outlinewidth\":0,\"ticks\":\"\"}}}],\"carpet\":[{\"aaxis\":{\"endlinecolor\":\"#2a3f5f\",\"gridcolor\":\"white\",\"linecolor\":\"white\",\"minorgridcolor\":\"white\",\"startlinecolor\":\"#2a3f5f\"},\"baxis\":{\"endlinecolor\":\"#2a3f5f\",\"gridcolor\":\"white\",\"linecolor\":\"white\",\"minorgridcolor\":\"white\",\"startlinecolor\":\"#2a3f5f\"},\"type\":\"carpet\"}],\"table\":[{\"cells\":{\"fill\":{\"color\":\"#EBF0F8\"},\"line\":{\"color\":\"white\"}},\"header\":{\"fill\":{\"color\":\"#C8D4E3\"},\"line\":{\"color\":\"white\"}},\"type\":\"table\"}],\"barpolar\":[{\"marker\":{\"line\":{\"color\":\"#E5ECF6\",\"width\":0.5},\"pattern\":{\"fillmode\":\"overlay\",\"size\":10,\"solidity\":0.2}},\"type\":\"barpolar\"}],\"pie\":[{\"automargin\":true,\"type\":\"pie\"}]},\"layout\":{\"autotypenumbers\":\"strict\",\"colorway\":[\"#636efa\",\"#EF553B\",\"#00cc96\",\"#ab63fa\",\"#FFA15A\",\"#19d3f3\",\"#FF6692\",\"#B6E880\",\"#FF97FF\",\"#FECB52\"],\"font\":{\"color\":\"#2a3f5f\"},\"hovermode\":\"closest\",\"hoverlabel\":{\"align\":\"left\"},\"paper_bgcolor\":\"white\",\"plot_bgcolor\":\"#E5ECF6\",\"polar\":{\"bgcolor\":\"#E5ECF6\",\"angularaxis\":{\"gridcolor\":\"white\",\"linecolor\":\"white\",\"ticks\":\"\"},\"radialaxis\":{\"gridcolor\":\"white\",\"linecolor\":\"white\",\"ticks\":\"\"}},\"ternary\":{\"bgcolor\":\"#E5ECF6\",\"aaxis\":{\"gridcolor\":\"white\",\"linecolor\":\"white\",\"ticks\":\"\"},\"baxis\":{\"gridcolor\":\"white\",\"linecolor\":\"white\",\"ticks\":\"\"},\"caxis\":{\"gridcolor\":\"white\",\"linecolor\":\"white\",\"ticks\":\"\"}},\"coloraxis\":{\"colorbar\":{\"outlinewidth\":0,\"ticks\":\"\"}},\"colorscale\":{\"sequential\":[[0.0,\"#0d0887\"],[0.1111111111111111,\"#46039f\"],[0.2222222222222222,\"#7201a8\"],[0.3333333333333333,\"#9c179e\"],[0.4444444444444444,\"#bd3786\"],[0.5555555555555556,\"#d8576b\"],[0.6666666666666666,\"#ed7953\"],[0.7777777777777778,\"#fb9f3a\"],[0.8888888888888888,\"#fdca26\"],[1.0,\"#f0f921\"]],\"sequentialminus\":[[0.0,\"#0d0887\"],[0.1111111111111111,\"#46039f\"],[0.2222222222222222,\"#7201a8\"],[0.3333333333333333,\"#9c179e\"],[0.4444444444444444,\"#bd3786\"],[0.5555555555555556,\"#d8576b\"],[0.6666666666666666,\"#ed7953\"],[0.7777777777777778,\"#fb9f3a\"],[0.8888888888888888,\"#fdca26\"],[1.0,\"#f0f921\"]],\"diverging\":[[0,\"#8e0152\"],[0.1,\"#c51b7d\"],[0.2,\"#de77ae\"],[0.3,\"#f1b6da\"],[0.4,\"#fde0ef\"],[0.5,\"#f7f7f7\"],[0.6,\"#e6f5d0\"],[0.7,\"#b8e186\"],[0.8,\"#7fbc41\"],[0.9,\"#4d9221\"],[1,\"#276419\"]]},\"xaxis\":{\"gridcolor\":\"white\",\"linecolor\":\"white\",\"ticks\":\"\",\"title\":{\"standoff\":15},\"zerolinecolor\":\"white\",\"automargin\":true,\"zerolinewidth\":2},\"yaxis\":{\"gridcolor\":\"white\",\"linecolor\":\"white\",\"ticks\":\"\",\"title\":{\"standoff\":15},\"zerolinecolor\":\"white\",\"automargin\":true,\"zerolinewidth\":2},\"scene\":{\"xaxis\":{\"backgroundcolor\":\"#E5ECF6\",\"gridcolor\":\"white\",\"linecolor\":\"white\",\"showbackground\":true,\"ticks\":\"\",\"zerolinecolor\":\"white\",\"gridwidth\":2},\"yaxis\":{\"backgroundcolor\":\"#E5ECF6\",\"gridcolor\":\"white\",\"linecolor\":\"white\",\"showbackground\":true,\"ticks\":\"\",\"zerolinecolor\":\"white\",\"gridwidth\":2},\"zaxis\":{\"backgroundcolor\":\"#E5ECF6\",\"gridcolor\":\"white\",\"linecolor\":\"white\",\"showbackground\":true,\"ticks\":\"\",\"zerolinecolor\":\"white\",\"gridwidth\":2}},\"shapedefaults\":{\"line\":{\"color\":\"#2a3f5f\"}},\"annotationdefaults\":{\"arrowcolor\":\"#2a3f5f\",\"arrowhead\":0,\"arrowwidth\":1},\"geo\":{\"bgcolor\":\"white\",\"landcolor\":\"#E5ECF6\",\"subunitcolor\":\"white\",\"showland\":true,\"showlakes\":true,\"lakecolor\":\"white\"},\"title\":{\"x\":0.05},\"mapbox\":{\"style\":\"light\"}}},\"geo\":{\"domain\":{\"x\":[0.0,1.0],\"y\":[0.0,1.0]},\"projection\":{\"type\":\"orthographic\"},\"center\":{}},\"legend\":{\"title\":{\"text\":\"name\"},\"tracegroupgap\":0},\"margin\":{\"t\":60}},                        {\"responsive\": true}                    ).then(function(){\n",
       "                            \n",
       "var gd = document.getElementById('fc2fdee7-111d-415d-9109-599792d3fbf7');\n",
       "var x = new MutationObserver(function (mutations, observer) {{\n",
       "        var display = window.getComputedStyle(gd).display;\n",
       "        if (!display || display === 'none') {{\n",
       "            console.log([gd, 'removed!']);\n",
       "            Plotly.purge(gd);\n",
       "            observer.disconnect();\n",
       "        }}\n",
       "}});\n",
       "\n",
       "// Listen for the removal of the full notebook cells\n",
       "var notebookContainer = gd.closest('#notebook-container');\n",
       "if (notebookContainer) {{\n",
       "    x.observe(notebookContainer, {childList: true});\n",
       "}}\n",
       "\n",
       "// Listen for the clearing of the current output cell\n",
       "var outputEl = gd.closest('.output');\n",
       "if (outputEl) {{\n",
       "    x.observe(outputEl, {childList: true});\n",
       "}}\n",
       "\n",
       "                        })                };                });            </script>        </div>"
      ]
     },
     "metadata": {},
     "output_type": "display_data"
    }
   ],
   "source": [
    "fig_globe = px.scatter_geo(data,lat=\"reclat\",lon=\"reclong\",hover_data={\"mass (g)\": True},color = 'name',\n",
    "    projection=\"orthographic\"\n",
    ")\n",
    "fig_globe.show()"
   ]
  },
  {
   "cell_type": "code",
   "execution_count": 31,
   "id": "bc8a0671-27ec-48d0-8ead-4f5a55ff739f",
   "metadata": {},
   "outputs": [
    {
     "data": {
      "application/vnd.plotly.v1+json": {
       "config": {
        "plotlyServerURL": "https://plot.ly"
       },
       "data": [
        {
         "customdata": [
          [
           173
          ]
         ],
         "geo": "geo",
         "hovertemplate": "name=Northwest Africa 3126<br>reclat=%{lat}<br>reclong=%{lon}<br>mass (g)=%{customdata[0]}<extra></extra>",
         "lat": [
          null
         ],
         "legendgroup": "Northwest Africa 3126",
         "lon": [
          null
         ],
         "marker": {
          "color": "#636efa",
          "symbol": "circle"
         },
         "mode": "markers",
         "name": "Northwest Africa 3126",
         "showlegend": true,
         "type": "scattergeo"
        },
        {
         "customdata": [
          [
           63
          ]
         ],
         "geo": "geo",
         "hovertemplate": "name=LaPaz Icefield 04605<br>reclat=%{lat}<br>reclong=%{lon}<br>mass (g)=%{customdata[0]}<extra></extra>",
         "lat": [
          null
         ],
         "legendgroup": "LaPaz Icefield 04605",
         "lon": [
          null
         ],
         "marker": {
          "color": "#EF553B",
          "symbol": "circle"
         },
         "mode": "markers",
         "name": "LaPaz Icefield 04605",
         "showlegend": true,
         "type": "scattergeo"
        },
        {
         "customdata": [
          [
           10.913
          ]
         ],
         "geo": "geo",
         "hovertemplate": "name=Yamato 980593<br>reclat=%{lat}<br>reclong=%{lon}<br>mass (g)=%{customdata[0]}<extra></extra>",
         "lat": [
          null
         ],
         "legendgroup": "Yamato 980593",
         "lon": [
          null
         ],
         "marker": {
          "color": "#00cc96",
          "symbol": "circle"
         },
         "mode": "markers",
         "name": "Yamato 980593",
         "showlegend": true,
         "type": "scattergeo"
        },
        {
         "customdata": [
          [
           27.3
          ]
         ],
         "geo": "geo",
         "hovertemplate": "name=Queen Alexandra Range 97279<br>reclat=%{lat}<br>reclong=%{lon}<br>mass (g)=%{customdata[0]}<extra></extra>",
         "lat": [
          -84
         ],
         "legendgroup": "Queen Alexandra Range 97279",
         "lon": [
          168
         ],
         "marker": {
          "color": "#ab63fa",
          "symbol": "circle"
         },
         "mode": "markers",
         "name": "Queen Alexandra Range 97279",
         "showlegend": true,
         "type": "scattergeo"
        },
        {
         "customdata": [
          [
           20.9
          ]
         ],
         "geo": "geo",
         "hovertemplate": "name=Elephant Moraine 90798<br>reclat=%{lat}<br>reclong=%{lon}<br>mass (g)=%{customdata[0]}<extra></extra>",
         "lat": [
          -76.28535
         ],
         "legendgroup": "Elephant Moraine 90798",
         "lon": [
          156.44404
         ],
         "marker": {
          "color": "#FFA15A",
          "symbol": "circle"
         },
         "mode": "markers",
         "name": "Elephant Moraine 90798",
         "showlegend": true,
         "type": "scattergeo"
        },
        {
         "customdata": [
          [
           2048
          ]
         ],
         "geo": "geo",
         "hovertemplate": "name=Yamato 791406<br>reclat=%{lat}<br>reclong=%{lon}<br>mass (g)=%{customdata[0]}<extra></extra>",
         "lat": [
          -71.5
         ],
         "legendgroup": "Yamato 791406",
         "lon": [
          35.66667
         ],
         "marker": {
          "color": "#19d3f3",
          "symbol": "circle"
         },
         "mode": "markers",
         "name": "Yamato 791406",
         "showlegend": true,
         "type": "scattergeo"
        },
        {
         "customdata": [
          [
           150.1
          ]
         ],
         "geo": "geo",
         "hovertemplate": "name=Wisconsin Range 91628<br>reclat=%{lat}<br>reclong=%{lon}<br>mass (g)=%{customdata[0]}<extra></extra>",
         "lat": [
          -86.51027
         ],
         "legendgroup": "Wisconsin Range 91628",
         "lon": [
          -122.9522
         ],
         "marker": {
          "color": "#FF6692",
          "symbol": "circle"
         },
         "mode": "markers",
         "name": "Wisconsin Range 91628",
         "showlegend": true,
         "type": "scattergeo"
        },
        {
         "customdata": [
          [
           13.16
          ]
         ],
         "geo": "geo",
         "hovertemplate": "name=MacAlpine Hills 02954<br>reclat=%{lat}<br>reclong=%{lon}<br>mass (g)=%{customdata[0]}<extra></extra>",
         "lat": [
          null
         ],
         "legendgroup": "MacAlpine Hills 02954",
         "lon": [
          null
         ],
         "marker": {
          "color": "#B6E880",
          "symbol": "circle"
         },
         "mode": "markers",
         "name": "MacAlpine Hills 02954",
         "showlegend": true,
         "type": "scattergeo"
        },
        {
         "customdata": [
          [
           87.49
          ]
         ],
         "geo": "geo",
         "hovertemplate": "name=Asuka 881874<br>reclat=%{lat}<br>reclong=%{lon}<br>mass (g)=%{customdata[0]}<extra></extra>",
         "lat": [
          -72
         ],
         "legendgroup": "Asuka 881874",
         "lon": [
          26
         ],
         "marker": {
          "color": "#FF97FF",
          "symbol": "circle"
         },
         "mode": "markers",
         "name": "Asuka 881874",
         "showlegend": true,
         "type": "scattergeo"
        },
        {
         "customdata": [
          [
           3.03
          ]
         ],
         "geo": "geo",
         "hovertemplate": "name=Yamato 791391<br>reclat=%{lat}<br>reclong=%{lon}<br>mass (g)=%{customdata[0]}<extra></extra>",
         "lat": [
          -71.5
         ],
         "legendgroup": "Yamato 791391",
         "lon": [
          35.66667
         ],
         "marker": {
          "color": "#FECB52",
          "symbol": "circle"
         },
         "mode": "markers",
         "name": "Yamato 791391",
         "showlegend": true,
         "type": "scattergeo"
        },
        {
         "customdata": [
          [
           31.03
          ]
         ],
         "geo": "geo",
         "hovertemplate": "name=Yamato 791220<br>reclat=%{lat}<br>reclong=%{lon}<br>mass (g)=%{customdata[0]}<extra></extra>",
         "lat": [
          -71.5
         ],
         "legendgroup": "Yamato 791220",
         "lon": [
          35.66667
         ],
         "marker": {
          "color": "#636efa",
          "symbol": "circle"
         },
         "mode": "markers",
         "name": "Yamato 791220",
         "showlegend": true,
         "type": "scattergeo"
        },
        {
         "customdata": [
          [
           1.2
          ]
         ],
         "geo": "geo",
         "hovertemplate": "name=Lewis Cliff 93850<br>reclat=%{lat}<br>reclong=%{lon}<br>mass (g)=%{customdata[0]}<extra></extra>",
         "lat": [
          -84.27378
         ],
         "legendgroup": "Lewis Cliff 93850",
         "lon": [
          161.68545
         ],
         "marker": {
          "color": "#EF553B",
          "symbol": "circle"
         },
         "mode": "markers",
         "name": "Lewis Cliff 93850",
         "showlegend": true,
         "type": "scattergeo"
        },
        {
         "customdata": [
          [
           9.217
          ]
         ],
         "geo": "geo",
         "hovertemplate": "name=Yamato 980011<br>reclat=%{lat}<br>reclong=%{lon}<br>mass (g)=%{customdata[0]}<extra></extra>",
         "lat": [
          null
         ],
         "legendgroup": "Yamato 980011",
         "lon": [
          null
         ],
         "marker": {
          "color": "#00cc96",
          "symbol": "circle"
         },
         "mode": "markers",
         "name": "Yamato 980011",
         "showlegend": true,
         "type": "scattergeo"
        },
        {
         "customdata": [
          [
           1000
          ]
         ],
         "geo": "geo",
         "hovertemplate": "name=Summit<br>reclat=%{lat}<br>reclong=%{lon}<br>mass (g)=%{customdata[0]}<extra></extra>",
         "lat": [
          34.2
         ],
         "legendgroup": "Summit",
         "lon": [
          -86.48333
         ],
         "marker": {
          "color": "#ab63fa",
          "symbol": "circle"
         },
         "mode": "markers",
         "name": "Summit",
         "showlegend": true,
         "type": "scattergeo"
        },
        {
         "customdata": [
          [
           2.4
          ]
         ],
         "geo": "geo",
         "hovertemplate": "name=Lewis Cliff 87228<br>reclat=%{lat}<br>reclong=%{lon}<br>mass (g)=%{customdata[0]}<extra></extra>",
         "lat": [
          -84.357
         ],
         "legendgroup": "Lewis Cliff 87228",
         "lon": [
          161.36443
         ],
         "marker": {
          "color": "#FFA15A",
          "symbol": "circle"
         },
         "mode": "markers",
         "name": "Lewis Cliff 87228",
         "showlegend": true,
         "type": "scattergeo"
        },
        {
         "customdata": [
          [
           0.5
          ]
         ],
         "geo": "geo",
         "hovertemplate": "name=Queen Alexandra Range 99817<br>reclat=%{lat}<br>reclong=%{lon}<br>mass (g)=%{customdata[0]}<extra></extra>",
         "lat": [
          -84
         ],
         "legendgroup": "Queen Alexandra Range 99817",
         "lon": [
          168
         ],
         "marker": {
          "color": "#19d3f3",
          "symbol": "circle"
         },
         "mode": "markers",
         "name": "Queen Alexandra Range 99817",
         "showlegend": true,
         "type": "scattergeo"
        },
        {
         "customdata": [
          [
           16.4
          ]
         ],
         "geo": "geo",
         "hovertemplate": "name=Queen Alexandra Range 99160<br>reclat=%{lat}<br>reclong=%{lon}<br>mass (g)=%{customdata[0]}<extra></extra>",
         "lat": [
          -84
         ],
         "legendgroup": "Queen Alexandra Range 99160",
         "lon": [
          168
         ],
         "marker": {
          "color": "#FF6692",
          "symbol": "circle"
         },
         "mode": "markers",
         "name": "Queen Alexandra Range 99160",
         "showlegend": true,
         "type": "scattergeo"
        },
        {
         "customdata": [
          [
           45.21
          ]
         ],
         "geo": "geo",
         "hovertemplate": "name=Asuka 882014<br>reclat=%{lat}<br>reclong=%{lon}<br>mass (g)=%{customdata[0]}<extra></extra>",
         "lat": [
          -72
         ],
         "legendgroup": "Asuka 882014",
         "lon": [
          26
         ],
         "marker": {
          "color": "#B6E880",
          "symbol": "circle"
         },
         "mode": "markers",
         "name": "Asuka 882014",
         "showlegend": true,
         "type": "scattergeo"
        },
        {
         "customdata": [
          [
           1.4
          ]
         ],
         "geo": "geo",
         "hovertemplate": "name=Queen Alexandra Range 99909<br>reclat=%{lat}<br>reclong=%{lon}<br>mass (g)=%{customdata[0]}<extra></extra>",
         "lat": [
          -84
         ],
         "legendgroup": "Queen Alexandra Range 99909",
         "lon": [
          168
         ],
         "marker": {
          "color": "#FF97FF",
          "symbol": "circle"
         },
         "mode": "markers",
         "name": "Queen Alexandra Range 99909",
         "showlegend": true,
         "type": "scattergeo"
        },
        {
         "customdata": [
          [
           2.55
          ]
         ],
         "geo": "geo",
         "hovertemplate": "name=Grove Mountains 022099<br>reclat=%{lat}<br>reclong=%{lon}<br>mass (g)=%{customdata[0]}<extra></extra>",
         "lat": [
          -72.77917
         ],
         "legendgroup": "Grove Mountains 022099",
         "lon": [
          75.31056
         ],
         "marker": {
          "color": "#FECB52",
          "symbol": "circle"
         },
         "mode": "markers",
         "name": "Grove Mountains 022099",
         "showlegend": true,
         "type": "scattergeo"
        },
        {
         "customdata": [
          [
           33.8
          ]
         ],
         "geo": "geo",
         "hovertemplate": "name=Bates Nunataks 00301<br>reclat=%{lat}<br>reclong=%{lon}<br>mass (g)=%{customdata[0]}<extra></extra>",
         "lat": [
          -80.25
         ],
         "legendgroup": "Bates Nunataks 00301",
         "lon": [
          153.5
         ],
         "marker": {
          "color": "#636efa",
          "symbol": "circle"
         },
         "mode": "markers",
         "name": "Bates Nunataks 00301",
         "showlegend": true,
         "type": "scattergeo"
        },
        {
         "customdata": [
          [
           1.1
          ]
         ],
         "geo": "geo",
         "hovertemplate": "name=MacAlpine Hills 041181<br>reclat=%{lat}<br>reclong=%{lon}<br>mass (g)=%{customdata[0]}<extra></extra>",
         "lat": [
          null
         ],
         "legendgroup": "MacAlpine Hills 041181",
         "lon": [
          null
         ],
         "marker": {
          "color": "#EF553B",
          "symbol": "circle"
         },
         "mode": "markers",
         "name": "MacAlpine Hills 041181",
         "showlegend": true,
         "type": "scattergeo"
        },
        {
         "customdata": [
          [
           8.1
          ]
         ],
         "geo": "geo",
         "hovertemplate": "name=Pecora Escarpment 91293<br>reclat=%{lat}<br>reclong=%{lon}<br>mass (g)=%{customdata[0]}<extra></extra>",
         "lat": [
          -85.691
         ],
         "legendgroup": "Pecora Escarpment 91293",
         "lon": [
          -68.96836
         ],
         "marker": {
          "color": "#00cc96",
          "symbol": "circle"
         },
         "mode": "markers",
         "name": "Pecora Escarpment 91293",
         "showlegend": true,
         "type": "scattergeo"
        },
        {
         "customdata": [
          [
           52.4
          ]
         ],
         "geo": "geo",
         "hovertemplate": "name=Queen Alexandra Range 99325<br>reclat=%{lat}<br>reclong=%{lon}<br>mass (g)=%{customdata[0]}<extra></extra>",
         "lat": [
          -84
         ],
         "legendgroup": "Queen Alexandra Range 99325",
         "lon": [
          168
         ],
         "marker": {
          "color": "#ab63fa",
          "symbol": "circle"
         },
         "mode": "markers",
         "name": "Queen Alexandra Range 99325",
         "showlegend": true,
         "type": "scattergeo"
        },
        {
         "customdata": [
          [
           197.2
          ]
         ],
         "geo": "geo",
         "hovertemplate": "name=Miller Range 05048<br>reclat=%{lat}<br>reclong=%{lon}<br>mass (g)=%{customdata[0]}<extra></extra>",
         "lat": [
          null
         ],
         "legendgroup": "Miller Range 05048",
         "lon": [
          null
         ],
         "marker": {
          "color": "#FFA15A",
          "symbol": "circle"
         },
         "mode": "markers",
         "name": "Miller Range 05048",
         "showlegend": true,
         "type": "scattergeo"
        },
        {
         "customdata": [
          [
           101.4
          ]
         ],
         "geo": "geo",
         "hovertemplate": "name=Roberts Massif 04142<br>reclat=%{lat}<br>reclong=%{lon}<br>mass (g)=%{customdata[0]}<extra></extra>",
         "lat": [
          null
         ],
         "legendgroup": "Roberts Massif 04142",
         "lon": [
          null
         ],
         "marker": {
          "color": "#19d3f3",
          "symbol": "circle"
         },
         "mode": "markers",
         "name": "Roberts Massif 04142",
         "showlegend": true,
         "type": "scattergeo"
        },
        {
         "customdata": [
          [
           4.4
          ]
         ],
         "geo": "geo",
         "hovertemplate": "name=Allan Hills A78069<br>reclat=%{lat}<br>reclong=%{lon}<br>mass (g)=%{customdata[0]}<extra></extra>",
         "lat": [
          -76.71667
         ],
         "legendgroup": "Allan Hills A78069",
         "lon": [
          159.66667
         ],
         "marker": {
          "color": "#FF6692",
          "symbol": "circle"
         },
         "mode": "markers",
         "name": "Allan Hills A78069",
         "showlegend": true,
         "type": "scattergeo"
        },
        {
         "customdata": [
          [
           12.976
          ]
         ],
         "geo": "geo",
         "hovertemplate": "name=Yamato 980814<br>reclat=%{lat}<br>reclong=%{lon}<br>mass (g)=%{customdata[0]}<extra></extra>",
         "lat": [
          null
         ],
         "legendgroup": "Yamato 980814",
         "lon": [
          null
         ],
         "marker": {
          "color": "#B6E880",
          "symbol": "circle"
         },
         "mode": "markers",
         "name": "Yamato 980814",
         "showlegend": true,
         "type": "scattergeo"
        },
        {
         "customdata": [
          [
           579
          ]
         ],
         "geo": "geo",
         "hovertemplate": "name=Northwest Africa 4425<br>reclat=%{lat}<br>reclong=%{lon}<br>mass (g)=%{customdata[0]}<extra></extra>",
         "lat": [
          null
         ],
         "legendgroup": "Northwest Africa 4425",
         "lon": [
          null
         ],
         "marker": {
          "color": "#FF97FF",
          "symbol": "circle"
         },
         "mode": "markers",
         "name": "Northwest Africa 4425",
         "showlegend": true,
         "type": "scattergeo"
        },
        {
         "customdata": [
          [
           69.9
          ]
         ],
         "geo": "geo",
         "hovertemplate": "name=Yamato 74123<br>reclat=%{lat}<br>reclong=%{lon}<br>mass (g)=%{customdata[0]}<extra></extra>",
         "lat": [
          -71.82806
         ],
         "legendgroup": "Yamato 74123",
         "lon": [
          36.20556
         ],
         "marker": {
          "color": "#FECB52",
          "symbol": "circle"
         },
         "mode": "markers",
         "name": "Yamato 74123",
         "showlegend": true,
         "type": "scattergeo"
        },
        {
         "customdata": [
          [
           9.49
          ]
         ],
         "geo": "geo",
         "hovertemplate": "name=Yamato 983261<br>reclat=%{lat}<br>reclong=%{lon}<br>mass (g)=%{customdata[0]}<extra></extra>",
         "lat": [
          0
         ],
         "legendgroup": "Yamato 983261",
         "lon": [
          0
         ],
         "marker": {
          "color": "#636efa",
          "symbol": "circle"
         },
         "mode": "markers",
         "name": "Yamato 983261",
         "showlegend": true,
         "type": "scattergeo"
        },
        {
         "customdata": [
          [
           102.79
          ]
         ],
         "geo": "geo",
         "hovertemplate": "name=Yamato 981304<br>reclat=%{lat}<br>reclong=%{lon}<br>mass (g)=%{customdata[0]}<extra></extra>",
         "lat": [
          0
         ],
         "legendgroup": "Yamato 981304",
         "lon": [
          0
         ],
         "marker": {
          "color": "#EF553B",
          "symbol": "circle"
         },
         "mode": "markers",
         "name": "Yamato 981304",
         "showlegend": true,
         "type": "scattergeo"
        },
        {
         "customdata": [
          [
           1.58
          ]
         ],
         "geo": "geo",
         "hovertemplate": "name=Grove Mountains 054856<br>reclat=%{lat}<br>reclong=%{lon}<br>mass (g)=%{customdata[0]}<extra></extra>",
         "lat": [
          -72.99889
         ],
         "legendgroup": "Grove Mountains 054856",
         "lon": [
          75.18722
         ],
         "marker": {
          "color": "#00cc96",
          "symbol": "circle"
         },
         "mode": "markers",
         "name": "Grove Mountains 054856",
         "showlegend": true,
         "type": "scattergeo"
        },
        {
         "customdata": [
          [
           0.45
          ]
         ],
         "geo": "geo",
         "hovertemplate": "name=Grove Mountains 021911<br>reclat=%{lat}<br>reclong=%{lon}<br>mass (g)=%{customdata[0]}<extra></extra>",
         "lat": [
          -72.7769
         ],
         "legendgroup": "Grove Mountains 021911",
         "lon": [
          75.3264
         ],
         "marker": {
          "color": "#ab63fa",
          "symbol": "circle"
         },
         "mode": "markers",
         "name": "Grove Mountains 021911",
         "showlegend": true,
         "type": "scattergeo"
        },
        {
         "customdata": [
          [
           3879
          ]
         ],
         "geo": "geo",
         "hovertemplate": "name=Ramlat as Sahmah 422<br>reclat=%{lat}<br>reclong=%{lon}<br>mass (g)=%{customdata[0]}<extra></extra>",
         "lat": [
          20.5052
         ],
         "legendgroup": "Ramlat as Sahmah 422",
         "lon": [
          56.48438
         ],
         "marker": {
          "color": "#FFA15A",
          "symbol": "circle"
         },
         "mode": "markers",
         "name": "Ramlat as Sahmah 422",
         "showlegend": true,
         "type": "scattergeo"
        },
        {
         "customdata": [
          [
           5100
          ]
         ],
         "geo": "geo",
         "hovertemplate": "name=Pasamonte<br>reclat=%{lat}<br>reclong=%{lon}<br>mass (g)=%{customdata[0]}<extra></extra>",
         "lat": [
          36.21667
         ],
         "legendgroup": "Pasamonte",
         "lon": [
          -103.4
         ],
         "marker": {
          "color": "#19d3f3",
          "symbol": "circle"
         },
         "mode": "markers",
         "name": "Pasamonte",
         "showlegend": true,
         "type": "scattergeo"
        },
        {
         "customdata": [
          [
           3.26
          ]
         ],
         "geo": "geo",
         "hovertemplate": "name=Grove Mountains 053128<br>reclat=%{lat}<br>reclong=%{lon}<br>mass (g)=%{customdata[0]}<extra></extra>",
         "lat": [
          -72.76944
         ],
         "legendgroup": "Grove Mountains 053128",
         "lon": [
          75.3375
         ],
         "marker": {
          "color": "#FF6692",
          "symbol": "circle"
         },
         "mode": "markers",
         "name": "Grove Mountains 053128",
         "showlegend": true,
         "type": "scattergeo"
        },
        {
         "customdata": [
          [
           16300
          ]
         ],
         "geo": "geo",
         "hovertemplate": "name=Forsyth<br>reclat=%{lat}<br>reclong=%{lon}<br>mass (g)=%{customdata[0]}<extra></extra>",
         "lat": [
          33.01667
         ],
         "legendgroup": "Forsyth",
         "lon": [
          -83.96667
         ],
         "marker": {
          "color": "#B6E880",
          "symbol": "circle"
         },
         "mode": "markers",
         "name": "Forsyth",
         "showlegend": true,
         "type": "scattergeo"
        },
        {
         "customdata": [
          [
           3.49
          ]
         ],
         "geo": "geo",
         "hovertemplate": "name=LaPaz Icefield 02291<br>reclat=%{lat}<br>reclong=%{lon}<br>mass (g)=%{customdata[0]}<extra></extra>",
         "lat": [
          -86.36667
         ],
         "legendgroup": "LaPaz Icefield 02291",
         "lon": [
          -70
         ],
         "marker": {
          "color": "#FF97FF",
          "symbol": "circle"
         },
         "mode": "markers",
         "name": "LaPaz Icefield 02291",
         "showlegend": true,
         "type": "scattergeo"
        },
        {
         "customdata": [
          [
           0.54
          ]
         ],
         "geo": "geo",
         "hovertemplate": "name=Yamato 74324<br>reclat=%{lat}<br>reclong=%{lon}<br>mass (g)=%{customdata[0]}<extra></extra>",
         "lat": [
          -71.5
         ],
         "legendgroup": "Yamato 74324",
         "lon": [
          35.66667
         ],
         "marker": {
          "color": "#FECB52",
          "symbol": "circle"
         },
         "mode": "markers",
         "name": "Yamato 74324",
         "showlegend": true,
         "type": "scattergeo"
        },
        {
         "customdata": [
          [
           17.54
          ]
         ],
         "geo": "geo",
         "hovertemplate": "name=LaPaz Icefield 02419<br>reclat=%{lat}<br>reclong=%{lon}<br>mass (g)=%{customdata[0]}<extra></extra>",
         "lat": [
          -86.36667
         ],
         "legendgroup": "LaPaz Icefield 02419",
         "lon": [
          -70
         ],
         "marker": {
          "color": "#636efa",
          "symbol": "circle"
         },
         "mode": "markers",
         "name": "LaPaz Icefield 02419",
         "showlegend": true,
         "type": "scattergeo"
        },
        {
         "customdata": [
          [
           4.6
          ]
         ],
         "geo": "geo",
         "hovertemplate": "name=O'Malley 002<br>reclat=%{lat}<br>reclong=%{lon}<br>mass (g)=%{customdata[0]}<extra></extra>",
         "lat": [
          -30.99311
         ],
         "legendgroup": "O'Malley 002",
         "lon": [
          131.33253
         ],
         "marker": {
          "color": "#EF553B",
          "symbol": "circle"
         },
         "mode": "markers",
         "name": "O'Malley 002",
         "showlegend": true,
         "type": "scattergeo"
        },
        {
         "customdata": [
          [
           613
          ]
         ],
         "geo": "geo",
         "hovertemplate": "name=Sayh al Uhaymir 293<br>reclat=%{lat}<br>reclong=%{lon}<br>mass (g)=%{customdata[0]}<extra></extra>",
         "lat": [
          20.60837
         ],
         "legendgroup": "Sayh al Uhaymir 293",
         "lon": [
          57.16007
         ],
         "marker": {
          "color": "#00cc96",
          "symbol": "circle"
         },
         "mode": "markers",
         "name": "Sayh al Uhaymir 293",
         "showlegend": true,
         "type": "scattergeo"
        },
        {
         "customdata": [
          [
           48.2
          ]
         ],
         "geo": "geo",
         "hovertemplate": "name=Frontier Mountain 84002<br>reclat=%{lat}<br>reclong=%{lon}<br>mass (g)=%{customdata[0]}<extra></extra>",
         "lat": [
          -72.95488
         ],
         "legendgroup": "Frontier Mountain 84002",
         "lon": [
          160.47328
         ],
         "marker": {
          "color": "#ab63fa",
          "symbol": "circle"
         },
         "mode": "markers",
         "name": "Frontier Mountain 84002",
         "showlegend": true,
         "type": "scattergeo"
        },
        {
         "customdata": [
          [
           8.6
          ]
         ],
         "geo": "geo",
         "hovertemplate": "name=Elephant Moraine 83224<br>reclat=%{lat}<br>reclong=%{lon}<br>mass (g)=%{customdata[0]}<extra></extra>",
         "lat": [
          -76.31222
         ],
         "legendgroup": "Elephant Moraine 83224",
         "lon": [
          157.39528
         ],
         "marker": {
          "color": "#FFA15A",
          "symbol": "circle"
         },
         "mode": "markers",
         "name": "Elephant Moraine 83224",
         "showlegend": true,
         "type": "scattergeo"
        },
        {
         "customdata": [
          [
           24.2
          ]
         ],
         "geo": "geo",
         "hovertemplate": "name=Yamato 792055<br>reclat=%{lat}<br>reclong=%{lon}<br>mass (g)=%{customdata[0]}<extra></extra>",
         "lat": [
          -71.5
         ],
         "legendgroup": "Yamato 792055",
         "lon": [
          35.66667
         ],
         "marker": {
          "color": "#19d3f3",
          "symbol": "circle"
         },
         "mode": "markers",
         "name": "Yamato 792055",
         "showlegend": true,
         "type": "scattergeo"
        },
        {
         "customdata": [
          [
           0.74
          ]
         ],
         "geo": "geo",
         "hovertemplate": "name=Frontier Mountain 03097<br>reclat=%{lat}<br>reclong=%{lon}<br>mass (g)=%{customdata[0]}<extra></extra>",
         "lat": [
          -72.95222
         ],
         "legendgroup": "Frontier Mountain 03097",
         "lon": [
          160.50161
         ],
         "marker": {
          "color": "#FF6692",
          "symbol": "circle"
         },
         "mode": "markers",
         "name": "Frontier Mountain 03097",
         "showlegend": true,
         "type": "scattergeo"
        },
        {
         "customdata": [
          [
           8.3
          ]
         ],
         "geo": "geo",
         "hovertemplate": "name=Miller Range 090160<br>reclat=%{lat}<br>reclong=%{lon}<br>mass (g)=%{customdata[0]}<extra></extra>",
         "lat": [
          0
         ],
         "legendgroup": "Miller Range 090160",
         "lon": [
          0
         ],
         "marker": {
          "color": "#B6E880",
          "symbol": "circle"
         },
         "mode": "markers",
         "name": "Miller Range 090160",
         "showlegend": true,
         "type": "scattergeo"
        },
        {
         "customdata": [
          [
           7500
          ]
         ],
         "geo": "geo",
         "hovertemplate": "name=Northwest Africa 2304<br>reclat=%{lat}<br>reclong=%{lon}<br>mass (g)=%{customdata[0]}<extra></extra>",
         "lat": [
          null
         ],
         "legendgroup": "Northwest Africa 2304",
         "lon": [
          null
         ],
         "marker": {
          "color": "#FF97FF",
          "symbol": "circle"
         },
         "mode": "markers",
         "name": "Northwest Africa 2304",
         "showlegend": true,
         "type": "scattergeo"
        },
        {
         "customdata": [
          [
           26.7
          ]
         ],
         "geo": "geo",
         "hovertemplate": "name=LaPaz Icefield 04585<br>reclat=%{lat}<br>reclong=%{lon}<br>mass (g)=%{customdata[0]}<extra></extra>",
         "lat": [
          null
         ],
         "legendgroup": "LaPaz Icefield 04585",
         "lon": [
          null
         ],
         "marker": {
          "color": "#FECB52",
          "symbol": "circle"
         },
         "mode": "markers",
         "name": "LaPaz Icefield 04585",
         "showlegend": true,
         "type": "scattergeo"
        },
        {
         "customdata": [
          [
           13600
          ]
         ],
         "geo": "geo",
         "hovertemplate": "name=Bridgewater<br>reclat=%{lat}<br>reclong=%{lon}<br>mass (g)=%{customdata[0]}<extra></extra>",
         "lat": [
          35.71667
         ],
         "legendgroup": "Bridgewater",
         "lon": [
          -81.86667
         ],
         "marker": {
          "color": "#636efa",
          "symbol": "circle"
         },
         "mode": "markers",
         "name": "Bridgewater",
         "showlegend": true,
         "type": "scattergeo"
        },
        {
         "customdata": [
          [
           34.1
          ]
         ],
         "geo": "geo",
         "hovertemplate": "name=Mount Wisting 95307<br>reclat=%{lat}<br>reclong=%{lon}<br>mass (g)=%{customdata[0]}<extra></extra>",
         "lat": [
          -86.45
         ],
         "legendgroup": "Mount Wisting 95307",
         "lon": [
          -165.43333
         ],
         "marker": {
          "color": "#EF553B",
          "symbol": "circle"
         },
         "mode": "markers",
         "name": "Mount Wisting 95307",
         "showlegend": true,
         "type": "scattergeo"
        },
        {
         "customdata": [
          [
           45
          ]
         ],
         "geo": "geo",
         "hovertemplate": "name=Sahara 98430<br>reclat=%{lat}<br>reclong=%{lon}<br>mass (g)=%{customdata[0]}<extra></extra>",
         "lat": [
          null
         ],
         "legendgroup": "Sahara 98430",
         "lon": [
          null
         ],
         "marker": {
          "color": "#00cc96",
          "symbol": "circle"
         },
         "mode": "markers",
         "name": "Sahara 98430",
         "showlegend": true,
         "type": "scattergeo"
        },
        {
         "customdata": [
          [
           56.82
          ]
         ],
         "geo": "geo",
         "hovertemplate": "name=Yamato 74456<br>reclat=%{lat}<br>reclong=%{lon}<br>mass (g)=%{customdata[0]}<extra></extra>",
         "lat": [
          -71.5
         ],
         "legendgroup": "Yamato 74456",
         "lon": [
          35.66667
         ],
         "marker": {
          "color": "#ab63fa",
          "symbol": "circle"
         },
         "mode": "markers",
         "name": "Yamato 74456",
         "showlegend": true,
         "type": "scattergeo"
        },
        {
         "customdata": [
          [
           1.59
          ]
         ],
         "geo": "geo",
         "hovertemplate": "name=Yamato 86585<br>reclat=%{lat}<br>reclong=%{lon}<br>mass (g)=%{customdata[0]}<extra></extra>",
         "lat": [
          -71.5
         ],
         "legendgroup": "Yamato 86585",
         "lon": [
          35.66667
         ],
         "marker": {
          "color": "#FFA15A",
          "symbol": "circle"
         },
         "mode": "markers",
         "name": "Yamato 86585",
         "showlegend": true,
         "type": "scattergeo"
        },
        {
         "customdata": [
          [
           8.4
          ]
         ],
         "geo": "geo",
         "hovertemplate": "name=Elephant Moraine 96180<br>reclat=%{lat}<br>reclong=%{lon}<br>mass (g)=%{customdata[0]}<extra></extra>",
         "lat": [
          -76.18333
         ],
         "legendgroup": "Elephant Moraine 96180",
         "lon": [
          157.16667
         ],
         "marker": {
          "color": "#19d3f3",
          "symbol": "circle"
         },
         "mode": "markers",
         "name": "Elephant Moraine 96180",
         "showlegend": true,
         "type": "scattergeo"
        },
        {
         "customdata": [
          [
           7.3
          ]
         ],
         "geo": "geo",
         "hovertemplate": "name=Miller Range 090186<br>reclat=%{lat}<br>reclong=%{lon}<br>mass (g)=%{customdata[0]}<extra></extra>",
         "lat": [
          0
         ],
         "legendgroup": "Miller Range 090186",
         "lon": [
          0
         ],
         "marker": {
          "color": "#FF6692",
          "symbol": "circle"
         },
         "mode": "markers",
         "name": "Miller Range 090186",
         "showlegend": true,
         "type": "scattergeo"
        },
        {
         "customdata": [
          [
           1.7
          ]
         ],
         "geo": "geo",
         "hovertemplate": "name=Miller Range 090324<br>reclat=%{lat}<br>reclong=%{lon}<br>mass (g)=%{customdata[0]}<extra></extra>",
         "lat": [
          0
         ],
         "legendgroup": "Miller Range 090324",
         "lon": [
          0
         ],
         "marker": {
          "color": "#B6E880",
          "symbol": "circle"
         },
         "mode": "markers",
         "name": "Miller Range 090324",
         "showlegend": true,
         "type": "scattergeo"
        },
        {
         "customdata": [
          [
           2.09
          ]
         ],
         "geo": "geo",
         "hovertemplate": "name=Yamato 75217<br>reclat=%{lat}<br>reclong=%{lon}<br>mass (g)=%{customdata[0]}<extra></extra>",
         "lat": [
          -71.5
         ],
         "legendgroup": "Yamato 75217",
         "lon": [
          35.66667
         ],
         "marker": {
          "color": "#FF97FF",
          "symbol": "circle"
         },
         "mode": "markers",
         "name": "Yamato 75217",
         "showlegend": true,
         "type": "scattergeo"
        },
        {
         "customdata": [
          [
           74
          ]
         ],
         "geo": "geo",
         "hovertemplate": "name=Dhofar 449<br>reclat=%{lat}<br>reclong=%{lon}<br>mass (g)=%{customdata[0]}<extra></extra>",
         "lat": [
          18.90573
         ],
         "legendgroup": "Dhofar 449",
         "lon": [
          54.50885
         ],
         "marker": {
          "color": "#FECB52",
          "symbol": "circle"
         },
         "mode": "markers",
         "name": "Dhofar 449",
         "showlegend": true,
         "type": "scattergeo"
        },
        {
         "customdata": [
          [
           495.4
          ]
         ],
         "geo": "geo",
         "hovertemplate": "name=Roberts Massif 04121<br>reclat=%{lat}<br>reclong=%{lon}<br>mass (g)=%{customdata[0]}<extra></extra>",
         "lat": [
          null
         ],
         "legendgroup": "Roberts Massif 04121",
         "lon": [
          null
         ],
         "marker": {
          "color": "#636efa",
          "symbol": "circle"
         },
         "mode": "markers",
         "name": "Roberts Massif 04121",
         "showlegend": true,
         "type": "scattergeo"
        },
        {
         "customdata": [
          [
           89.6
          ]
         ],
         "geo": "geo",
         "hovertemplate": "name=Queen Alexandra Range 99611<br>reclat=%{lat}<br>reclong=%{lon}<br>mass (g)=%{customdata[0]}<extra></extra>",
         "lat": [
          -84
         ],
         "legendgroup": "Queen Alexandra Range 99611",
         "lon": [
          168
         ],
         "marker": {
          "color": "#EF553B",
          "symbol": "circle"
         },
         "mode": "markers",
         "name": "Queen Alexandra Range 99611",
         "showlegend": true,
         "type": "scattergeo"
        },
        {
         "customdata": [
          [
           420
          ]
         ],
         "geo": "geo",
         "hovertemplate": "name=Acfer 093<br>reclat=%{lat}<br>reclong=%{lon}<br>mass (g)=%{customdata[0]}<extra></extra>",
         "lat": [
          27.71667
         ],
         "legendgroup": "Acfer 093",
         "lon": [
          4.13333
         ],
         "marker": {
          "color": "#00cc96",
          "symbol": "circle"
         },
         "mode": "markers",
         "name": "Acfer 093",
         "showlegend": true,
         "type": "scattergeo"
        },
        {
         "customdata": [
          [
           849
          ]
         ],
         "geo": "geo",
         "hovertemplate": "name=Dhofar 1176<br>reclat=%{lat}<br>reclong=%{lon}<br>mass (g)=%{customdata[0]}<extra></extra>",
         "lat": [
          18.741611
         ],
         "legendgroup": "Dhofar 1176",
         "lon": [
          54.26175
         ],
         "marker": {
          "color": "#ab63fa",
          "symbol": "circle"
         },
         "mode": "markers",
         "name": "Dhofar 1176",
         "showlegend": true,
         "type": "scattergeo"
        },
        {
         "customdata": [
          [
           208
          ]
         ],
         "geo": "geo",
         "hovertemplate": "name=Dhofar 163<br>reclat=%{lat}<br>reclong=%{lon}<br>mass (g)=%{customdata[0]}<extra></extra>",
         "lat": [
          19.14611
         ],
         "legendgroup": "Dhofar 163",
         "lon": [
          54.40111
         ],
         "marker": {
          "color": "#FFA15A",
          "symbol": "circle"
         },
         "mode": "markers",
         "name": "Dhofar 163",
         "showlegend": true,
         "type": "scattergeo"
        },
        {
         "customdata": [
          [
           8300
          ]
         ],
         "geo": "geo",
         "hovertemplate": "name=St. Mesmin<br>reclat=%{lat}<br>reclong=%{lon}<br>mass (g)=%{customdata[0]}<extra></extra>",
         "lat": [
          48.45
         ],
         "legendgroup": "St. Mesmin",
         "lon": [
          3.93333
         ],
         "marker": {
          "color": "#19d3f3",
          "symbol": "circle"
         },
         "mode": "markers",
         "name": "St. Mesmin",
         "showlegend": true,
         "type": "scattergeo"
        },
        {
         "customdata": [
          [
           228
          ]
         ],
         "geo": "geo",
         "hovertemplate": "name=Catalina 005<br>reclat=%{lat}<br>reclong=%{lon}<br>mass (g)=%{customdata[0]}<extra></extra>",
         "lat": [
          -25.23333
         ],
         "legendgroup": "Catalina 005",
         "lon": [
          -69.71667
         ],
         "marker": {
          "color": "#FF6692",
          "symbol": "circle"
         },
         "mode": "markers",
         "name": "Catalina 005",
         "showlegend": true,
         "type": "scattergeo"
        },
        {
         "customdata": [
          [
           2.98
          ]
         ],
         "geo": "geo",
         "hovertemplate": "name=Yamato 792614<br>reclat=%{lat}<br>reclong=%{lon}<br>mass (g)=%{customdata[0]}<extra></extra>",
         "lat": [
          -71.5
         ],
         "legendgroup": "Yamato 792614",
         "lon": [
          35.66667
         ],
         "marker": {
          "color": "#B6E880",
          "symbol": "circle"
         },
         "mode": "markers",
         "name": "Yamato 792614",
         "showlegend": true,
         "type": "scattergeo"
        },
        {
         "customdata": [
          [
           53.8
          ]
         ],
         "geo": "geo",
         "hovertemplate": "name=Pecora Escarpment 91257<br>reclat=%{lat}<br>reclong=%{lon}<br>mass (g)=%{customdata[0]}<extra></extra>",
         "lat": [
          -85.66787
         ],
         "legendgroup": "Pecora Escarpment 91257",
         "lon": [
          -68.25751
         ],
         "marker": {
          "color": "#FF97FF",
          "symbol": "circle"
         },
         "mode": "markers",
         "name": "Pecora Escarpment 91257",
         "showlegend": true,
         "type": "scattergeo"
        },
        {
         "customdata": [
          [
           55.9
          ]
         ],
         "geo": "geo",
         "hovertemplate": "name=Grosvenor Mountains 03126<br>reclat=%{lat}<br>reclong=%{lon}<br>mass (g)=%{customdata[0]}<extra></extra>",
         "lat": [
          null
         ],
         "legendgroup": "Grosvenor Mountains 03126",
         "lon": [
          null
         ],
         "marker": {
          "color": "#FECB52",
          "symbol": "circle"
         },
         "mode": "markers",
         "name": "Grosvenor Mountains 03126",
         "showlegend": true,
         "type": "scattergeo"
        },
        {
         "customdata": [
          [
           73
          ]
         ],
         "geo": "geo",
         "hovertemplate": "name=Dhofar 570<br>reclat=%{lat}<br>reclong=%{lon}<br>mass (g)=%{customdata[0]}<extra></extra>",
         "lat": [
          18.70115
         ],
         "legendgroup": "Dhofar 570",
         "lon": [
          54.36907
         ],
         "marker": {
          "color": "#636efa",
          "symbol": "circle"
         },
         "mode": "markers",
         "name": "Dhofar 570",
         "showlegend": true,
         "type": "scattergeo"
        },
        {
         "customdata": [
          [
           53
          ]
         ],
         "geo": "geo",
         "hovertemplate": "name=Bronco (c)<br>reclat=%{lat}<br>reclong=%{lon}<br>mass (g)=%{customdata[0]}<extra></extra>",
         "lat": [
          33.275
         ],
         "legendgroup": "Bronco (c)",
         "lon": [
          -102.96
         ],
         "marker": {
          "color": "#EF553B",
          "symbol": "circle"
         },
         "mode": "markers",
         "name": "Bronco (c)",
         "showlegend": true,
         "type": "scattergeo"
        },
        {
         "customdata": [
          [
           0.9
          ]
         ],
         "geo": "geo",
         "hovertemplate": "name=MacAlpine Hills 041138<br>reclat=%{lat}<br>reclong=%{lon}<br>mass (g)=%{customdata[0]}<extra></extra>",
         "lat": [
          null
         ],
         "legendgroup": "MacAlpine Hills 041138",
         "lon": [
          null
         ],
         "marker": {
          "color": "#00cc96",
          "symbol": "circle"
         },
         "mode": "markers",
         "name": "MacAlpine Hills 041138",
         "showlegend": true,
         "type": "scattergeo"
        },
        {
         "customdata": [
          [
           1230.8
          ]
         ],
         "geo": "geo",
         "hovertemplate": "name=Elephant Moraine 87535<br>reclat=%{lat}<br>reclong=%{lon}<br>mass (g)=%{customdata[0]}<extra></extra>",
         "lat": [
          -76.27512
         ],
         "legendgroup": "Elephant Moraine 87535",
         "lon": [
          156.36181
         ],
         "marker": {
          "color": "#ab63fa",
          "symbol": "circle"
         },
         "mode": "markers",
         "name": "Elephant Moraine 87535",
         "showlegend": true,
         "type": "scattergeo"
        },
        {
         "customdata": [
          [
           587.7
          ]
         ],
         "geo": "geo",
         "hovertemplate": "name=Wisconsin Range 91601<br>reclat=%{lat}<br>reclong=%{lon}<br>mass (g)=%{customdata[0]}<extra></extra>",
         "lat": [
          -86.52222
         ],
         "legendgroup": "Wisconsin Range 91601",
         "lon": [
          -123.79341
         ],
         "marker": {
          "color": "#FFA15A",
          "symbol": "circle"
         },
         "mode": "markers",
         "name": "Wisconsin Range 91601",
         "showlegend": true,
         "type": "scattergeo"
        },
        {
         "customdata": [
          [
           8725
          ]
         ],
         "geo": "geo",
         "hovertemplate": "name=Allan Hills A80101<br>reclat=%{lat}<br>reclong=%{lon}<br>mass (g)=%{customdata[0]}<extra></extra>",
         "lat": [
          -76.77389
         ],
         "legendgroup": "Allan Hills A80101",
         "lon": [
          159.275
         ],
         "marker": {
          "color": "#19d3f3",
          "symbol": "circle"
         },
         "mode": "markers",
         "name": "Allan Hills A80101",
         "showlegend": true,
         "type": "scattergeo"
        },
        {
         "customdata": [
          [
           17.5
          ]
         ],
         "geo": "geo",
         "hovertemplate": "name=Elephant Moraine 96155<br>reclat=%{lat}<br>reclong=%{lon}<br>mass (g)=%{customdata[0]}<extra></extra>",
         "lat": [
          -76.18333
         ],
         "legendgroup": "Elephant Moraine 96155",
         "lon": [
          157.16667
         ],
         "marker": {
          "color": "#FF6692",
          "symbol": "circle"
         },
         "mode": "markers",
         "name": "Elephant Moraine 96155",
         "showlegend": true,
         "type": "scattergeo"
        },
        {
         "customdata": [
          [
           112.86
          ]
         ],
         "geo": "geo",
         "hovertemplate": "name=Yamato 982042<br>reclat=%{lat}<br>reclong=%{lon}<br>mass (g)=%{customdata[0]}<extra></extra>",
         "lat": [
          0
         ],
         "legendgroup": "Yamato 982042",
         "lon": [
          0
         ],
         "marker": {
          "color": "#B6E880",
          "symbol": "circle"
         },
         "mode": "markers",
         "name": "Yamato 982042",
         "showlegend": true,
         "type": "scattergeo"
        },
        {
         "customdata": [
          [
           8.9
          ]
         ],
         "geo": "geo",
         "hovertemplate": "name=Lewis Cliff 88596<br>reclat=%{lat}<br>reclong=%{lon}<br>mass (g)=%{customdata[0]}<extra></extra>",
         "lat": [
          -84.25231
         ],
         "legendgroup": "Lewis Cliff 88596",
         "lon": [
          161.45413
         ],
         "marker": {
          "color": "#FF97FF",
          "symbol": "circle"
         },
         "mode": "markers",
         "name": "Lewis Cliff 88596",
         "showlegend": true,
         "type": "scattergeo"
        },
        {
         "customdata": [
          [
           779.6
          ]
         ],
         "geo": "geo",
         "hovertemplate": "name=Allan Hills A77003<br>reclat=%{lat}<br>reclong=%{lon}<br>mass (g)=%{customdata[0]}<extra></extra>",
         "lat": [
          -76.71667
         ],
         "legendgroup": "Allan Hills A77003",
         "lon": [
          159.66667
         ],
         "marker": {
          "color": "#FECB52",
          "symbol": "circle"
         },
         "mode": "markers",
         "name": "Allan Hills A77003",
         "showlegend": true,
         "type": "scattergeo"
        },
        {
         "customdata": [
          [
           2250
          ]
         ],
         "geo": "geo",
         "hovertemplate": "name=Bulls Run<br>reclat=%{lat}<br>reclong=%{lon}<br>mass (g)=%{customdata[0]}<extra></extra>",
         "lat": [
          null
         ],
         "legendgroup": "Bulls Run",
         "lon": [
          null
         ],
         "marker": {
          "color": "#636efa",
          "symbol": "circle"
         },
         "mode": "markers",
         "name": "Bulls Run",
         "showlegend": true,
         "type": "scattergeo"
        },
        {
         "customdata": [
          [
           3.8
          ]
         ],
         "geo": "geo",
         "hovertemplate": "name=Queen Alexandra Range 97831<br>reclat=%{lat}<br>reclong=%{lon}<br>mass (g)=%{customdata[0]}<extra></extra>",
         "lat": [
          -84
         ],
         "legendgroup": "Queen Alexandra Range 97831",
         "lon": [
          168
         ],
         "marker": {
          "color": "#EF553B",
          "symbol": "circle"
         },
         "mode": "markers",
         "name": "Queen Alexandra Range 97831",
         "showlegend": true,
         "type": "scattergeo"
        },
        {
         "customdata": [
          [
           188
          ]
         ],
         "geo": "geo",
         "hovertemplate": "name=Northwest Africa 1056<br>reclat=%{lat}<br>reclong=%{lon}<br>mass (g)=%{customdata[0]}<extra></extra>",
         "lat": [
          null
         ],
         "legendgroup": "Northwest Africa 1056",
         "lon": [
          null
         ],
         "marker": {
          "color": "#00cc96",
          "symbol": "circle"
         },
         "mode": "markers",
         "name": "Northwest Africa 1056",
         "showlegend": true,
         "type": "scattergeo"
        },
        {
         "customdata": [
          [
           37.1
          ]
         ],
         "geo": "geo",
         "hovertemplate": "name=Pecora Escarpment 91080<br>reclat=%{lat}<br>reclong=%{lon}<br>mass (g)=%{customdata[0]}<extra></extra>",
         "lat": [
          -85.68006
         ],
         "legendgroup": "Pecora Escarpment 91080",
         "lon": [
          -68.68107
         ],
         "marker": {
          "color": "#ab63fa",
          "symbol": "circle"
         },
         "mode": "markers",
         "name": "Pecora Escarpment 91080",
         "showlegend": true,
         "type": "scattergeo"
        },
        {
         "customdata": [
          [
           86.1
          ]
         ],
         "geo": "geo",
         "hovertemplate": "name=Queen Alexandra Range 99445<br>reclat=%{lat}<br>reclong=%{lon}<br>mass (g)=%{customdata[0]}<extra></extra>",
         "lat": [
          -84
         ],
         "legendgroup": "Queen Alexandra Range 99445",
         "lon": [
          168
         ],
         "marker": {
          "color": "#FFA15A",
          "symbol": "circle"
         },
         "mode": "markers",
         "name": "Queen Alexandra Range 99445",
         "showlegend": true,
         "type": "scattergeo"
        },
        {
         "customdata": [
          [
           68.4
          ]
         ],
         "geo": "geo",
         "hovertemplate": "name=Elephant Moraine 90838<br>reclat=%{lat}<br>reclong=%{lon}<br>mass (g)=%{customdata[0]}<extra></extra>",
         "lat": [
          -76.28565
         ],
         "legendgroup": "Elephant Moraine 90838",
         "lon": [
          156.48143
         ],
         "marker": {
          "color": "#19d3f3",
          "symbol": "circle"
         },
         "mode": "markers",
         "name": "Elephant Moraine 90838",
         "showlegend": true,
         "type": "scattergeo"
        },
        {
         "customdata": [
          [
           3.54
          ]
         ],
         "geo": "geo",
         "hovertemplate": "name=Yamato 86122<br>reclat=%{lat}<br>reclong=%{lon}<br>mass (g)=%{customdata[0]}<extra></extra>",
         "lat": [
          -71.5
         ],
         "legendgroup": "Yamato 86122",
         "lon": [
          35.66667
         ],
         "marker": {
          "color": "#FF6692",
          "symbol": "circle"
         },
         "mode": "markers",
         "name": "Yamato 86122",
         "showlegend": true,
         "type": "scattergeo"
        },
        {
         "customdata": [
          [
           244
          ]
         ],
         "geo": "geo",
         "hovertemplate": "name=Dar al Gani 234<br>reclat=%{lat}<br>reclong=%{lon}<br>mass (g)=%{customdata[0]}<extra></extra>",
         "lat": [
          27.17717
         ],
         "legendgroup": "Dar al Gani 234",
         "lon": [
          16.26683
         ],
         "marker": {
          "color": "#B6E880",
          "symbol": "circle"
         },
         "mode": "markers",
         "name": "Dar al Gani 234",
         "showlegend": true,
         "type": "scattergeo"
        },
        {
         "customdata": [
          [
           9.97
          ]
         ],
         "geo": "geo",
         "hovertemplate": "name=Yamato 790428<br>reclat=%{lat}<br>reclong=%{lon}<br>mass (g)=%{customdata[0]}<extra></extra>",
         "lat": [
          -71.5
         ],
         "legendgroup": "Yamato 790428",
         "lon": [
          35.66667
         ],
         "marker": {
          "color": "#FF97FF",
          "symbol": "circle"
         },
         "mode": "markers",
         "name": "Yamato 790428",
         "showlegend": true,
         "type": "scattergeo"
        },
        {
         "customdata": [
          [
           12.31
          ]
         ],
         "geo": "geo",
         "hovertemplate": "name=Frontier Mountain 03041<br>reclat=%{lat}<br>reclong=%{lon}<br>mass (g)=%{customdata[0]}<extra></extra>",
         "lat": [
          -72.95108
         ],
         "legendgroup": "Frontier Mountain 03041",
         "lon": [
          160.51425
         ],
         "marker": {
          "color": "#FECB52",
          "symbol": "circle"
         },
         "mode": "markers",
         "name": "Frontier Mountain 03041",
         "showlegend": true,
         "type": "scattergeo"
        },
        {
         "customdata": [
          [
           18.7
          ]
         ],
         "geo": "geo",
         "hovertemplate": "name=Meteorite Hills 001117<br>reclat=%{lat}<br>reclong=%{lon}<br>mass (g)=%{customdata[0]}<extra></extra>",
         "lat": [
          -79.68333
         ],
         "legendgroup": "Meteorite Hills 001117",
         "lon": [
          159.75
         ],
         "marker": {
          "color": "#636efa",
          "symbol": "circle"
         },
         "mode": "markers",
         "name": "Meteorite Hills 001117",
         "showlegend": true,
         "type": "scattergeo"
        },
        {
         "customdata": [
          [
           78.8
          ]
         ],
         "geo": "geo",
         "hovertemplate": "name=Meteorite Hills 01120<br>reclat=%{lat}<br>reclong=%{lon}<br>mass (g)=%{customdata[0]}<extra></extra>",
         "lat": [
          -79.68333
         ],
         "legendgroup": "Meteorite Hills 01120",
         "lon": [
          159.75
         ],
         "marker": {
          "color": "#EF553B",
          "symbol": "circle"
         },
         "mode": "markers",
         "name": "Meteorite Hills 01120",
         "showlegend": true,
         "type": "scattergeo"
        },
        {
         "customdata": [
          [
           18.2
          ]
         ],
         "geo": "geo",
         "hovertemplate": "name=Lewis Cliff 86165<br>reclat=%{lat}<br>reclong=%{lon}<br>mass (g)=%{customdata[0]}<extra></extra>",
         "lat": [
          -84.25909
         ],
         "legendgroup": "Lewis Cliff 86165",
         "lon": [
          161.41026
         ],
         "marker": {
          "color": "#00cc96",
          "symbol": "circle"
         },
         "mode": "markers",
         "name": "Lewis Cliff 86165",
         "showlegend": true,
         "type": "scattergeo"
        },
        {
         "customdata": [
          [
           4100
          ]
         ],
         "geo": "geo",
         "hovertemplate": "name=Dwight<br>reclat=%{lat}<br>reclong=%{lon}<br>mass (g)=%{customdata[0]}<extra></extra>",
         "lat": [
          38.85
         ],
         "legendgroup": "Dwight",
         "lon": [
          -96.58333
         ],
         "marker": {
          "color": "#ab63fa",
          "symbol": "circle"
         },
         "mode": "markers",
         "name": "Dwight",
         "showlegend": true,
         "type": "scattergeo"
        },
        {
         "customdata": [
          [
           815
          ]
         ],
         "geo": "geo",
         "hovertemplate": "name=Northwest Africa 5779<br>reclat=%{lat}<br>reclong=%{lon}<br>mass (g)=%{customdata[0]}<extra></extra>",
         "lat": [
          0
         ],
         "legendgroup": "Northwest Africa 5779",
         "lon": [
          0
         ],
         "marker": {
          "color": "#FFA15A",
          "symbol": "circle"
         },
         "mode": "markers",
         "name": "Northwest Africa 5779",
         "showlegend": true,
         "type": "scattergeo"
        },
        {
         "customdata": [
          [
           1095
          ]
         ],
         "geo": "geo",
         "hovertemplate": "name=Dhofar 095<br>reclat=%{lat}<br>reclong=%{lon}<br>mass (g)=%{customdata[0]}<extra></extra>",
         "lat": [
          18.67917
         ],
         "legendgroup": "Dhofar 095",
         "lon": [
          54.58783
         ],
         "marker": {
          "color": "#19d3f3",
          "symbol": "circle"
         },
         "mode": "markers",
         "name": "Dhofar 095",
         "showlegend": true,
         "type": "scattergeo"
        },
        {
         "customdata": [
          [
           254
          ]
         ],
         "geo": "geo",
         "hovertemplate": "name=Northwest Africa 4283<br>reclat=%{lat}<br>reclong=%{lon}<br>mass (g)=%{customdata[0]}<extra></extra>",
         "lat": [
          null
         ],
         "legendgroup": "Northwest Africa 4283",
         "lon": [
          null
         ],
         "marker": {
          "color": "#FF6692",
          "symbol": "circle"
         },
         "mode": "markers",
         "name": "Northwest Africa 4283",
         "showlegend": true,
         "type": "scattergeo"
        },
        {
         "customdata": [
          [
           9.2
          ]
         ],
         "geo": "geo",
         "hovertemplate": "name=Lewis Cliff 86333<br>reclat=%{lat}<br>reclong=%{lon}<br>mass (g)=%{customdata[0]}<extra></extra>",
         "lat": [
          -84.28986
         ],
         "legendgroup": "Lewis Cliff 86333",
         "lon": [
          161.28593
         ],
         "marker": {
          "color": "#B6E880",
          "symbol": "circle"
         },
         "mode": "markers",
         "name": "Lewis Cliff 86333",
         "showlegend": true,
         "type": "scattergeo"
        },
        {
         "customdata": [
          [
           31.9
          ]
         ],
         "geo": "geo",
         "hovertemplate": "name=Queen Alexandra Range 97878<br>reclat=%{lat}<br>reclong=%{lon}<br>mass (g)=%{customdata[0]}<extra></extra>",
         "lat": [
          -84
         ],
         "legendgroup": "Queen Alexandra Range 97878",
         "lon": [
          168
         ],
         "marker": {
          "color": "#FF97FF",
          "symbol": "circle"
         },
         "mode": "markers",
         "name": "Queen Alexandra Range 97878",
         "showlegend": true,
         "type": "scattergeo"
        },
        {
         "customdata": [
          [
           1.48
          ]
         ],
         "geo": "geo",
         "hovertemplate": "name=Yamato 86517<br>reclat=%{lat}<br>reclong=%{lon}<br>mass (g)=%{customdata[0]}<extra></extra>",
         "lat": [
          -71.5
         ],
         "legendgroup": "Yamato 86517",
         "lon": [
          35.66667
         ],
         "marker": {
          "color": "#FECB52",
          "symbol": "circle"
         },
         "mode": "markers",
         "name": "Yamato 86517",
         "showlegend": true,
         "type": "scattergeo"
        },
        {
         "customdata": [
          [
           165.8
          ]
         ],
         "geo": "geo",
         "hovertemplate": "name=Sandford Cliffs 03491<br>reclat=%{lat}<br>reclong=%{lon}<br>mass (g)=%{customdata[0]}<extra></extra>",
         "lat": [
          null
         ],
         "legendgroup": "Sandford Cliffs 03491",
         "lon": [
          null
         ],
         "marker": {
          "color": "#636efa",
          "symbol": "circle"
         },
         "mode": "markers",
         "name": "Sandford Cliffs 03491",
         "showlegend": true,
         "type": "scattergeo"
        },
        {
         "customdata": [
          [
           406
          ]
         ],
         "geo": "geo",
         "hovertemplate": "name=Northwest Africa 1520<br>reclat=%{lat}<br>reclong=%{lon}<br>mass (g)=%{customdata[0]}<extra></extra>",
         "lat": [
          null
         ],
         "legendgroup": "Northwest Africa 1520",
         "lon": [
          null
         ],
         "marker": {
          "color": "#EF553B",
          "symbol": "circle"
         },
         "mode": "markers",
         "name": "Northwest Africa 1520",
         "showlegend": true,
         "type": "scattergeo"
        },
        {
         "customdata": [
          [
           35.8
          ]
         ],
         "geo": "geo",
         "hovertemplate": "name=Northwest Africa 1048<br>reclat=%{lat}<br>reclong=%{lon}<br>mass (g)=%{customdata[0]}<extra></extra>",
         "lat": [
          null
         ],
         "legendgroup": "Northwest Africa 1048",
         "lon": [
          null
         ],
         "marker": {
          "color": "#00cc96",
          "symbol": "circle"
         },
         "mode": "markers",
         "name": "Northwest Africa 1048",
         "showlegend": true,
         "type": "scattergeo"
        },
        {
         "customdata": [
          [
           86.63
          ]
         ],
         "geo": "geo",
         "hovertemplate": "name=Yamato 983606<br>reclat=%{lat}<br>reclong=%{lon}<br>mass (g)=%{customdata[0]}<extra></extra>",
         "lat": [
          0
         ],
         "legendgroup": "Yamato 983606",
         "lon": [
          0
         ],
         "marker": {
          "color": "#ab63fa",
          "symbol": "circle"
         },
         "mode": "markers",
         "name": "Yamato 983606",
         "showlegend": true,
         "type": "scattergeo"
        },
        {
         "customdata": [
          [
           1563.1
          ]
         ],
         "geo": "geo",
         "hovertemplate": "name=LaPaz Icefield 02209<br>reclat=%{lat}<br>reclong=%{lon}<br>mass (g)=%{customdata[0]}<extra></extra>",
         "lat": [
          -86.36667
         ],
         "legendgroup": "LaPaz Icefield 02209",
         "lon": [
          -70
         ],
         "marker": {
          "color": "#FFA15A",
          "symbol": "circle"
         },
         "mode": "markers",
         "name": "LaPaz Icefield 02209",
         "showlegend": true,
         "type": "scattergeo"
        },
        {
         "customdata": [
          [
           185.4
          ]
         ],
         "geo": "geo",
         "hovertemplate": "name=Cumulus Hills 04006<br>reclat=%{lat}<br>reclong=%{lon}<br>mass (g)=%{customdata[0]}<extra></extra>",
         "lat": [
          null
         ],
         "legendgroup": "Cumulus Hills 04006",
         "lon": [
          null
         ],
         "marker": {
          "color": "#19d3f3",
          "symbol": "circle"
         },
         "mode": "markers",
         "name": "Cumulus Hills 04006",
         "showlegend": true,
         "type": "scattergeo"
        },
        {
         "customdata": [
          [
           127.1
          ]
         ],
         "geo": "geo",
         "hovertemplate": "name=Yamato 983723<br>reclat=%{lat}<br>reclong=%{lon}<br>mass (g)=%{customdata[0]}<extra></extra>",
         "lat": [
          0
         ],
         "legendgroup": "Yamato 983723",
         "lon": [
          0
         ],
         "marker": {
          "color": "#FF6692",
          "symbol": "circle"
         },
         "mode": "markers",
         "name": "Yamato 983723",
         "showlegend": true,
         "type": "scattergeo"
        },
        {
         "customdata": [
          [
           0.51
          ]
         ],
         "geo": "geo",
         "hovertemplate": "name=Grove Mountains 054544<br>reclat=%{lat}<br>reclong=%{lon}<br>mass (g)=%{customdata[0]}<extra></extra>",
         "lat": [
          -72.99889
         ],
         "legendgroup": "Grove Mountains 054544",
         "lon": [
          75.18722
         ],
         "marker": {
          "color": "#B6E880",
          "symbol": "circle"
         },
         "mode": "markers",
         "name": "Grove Mountains 054544",
         "showlegend": true,
         "type": "scattergeo"
        },
        {
         "customdata": [
          [
           15.5
          ]
         ],
         "geo": "geo",
         "hovertemplate": "name=Queen Alexandra Range 97504<br>reclat=%{lat}<br>reclong=%{lon}<br>mass (g)=%{customdata[0]}<extra></extra>",
         "lat": [
          -84
         ],
         "legendgroup": "Queen Alexandra Range 97504",
         "lon": [
          168
         ],
         "marker": {
          "color": "#FF97FF",
          "symbol": "circle"
         },
         "mode": "markers",
         "name": "Queen Alexandra Range 97504",
         "showlegend": true,
         "type": "scattergeo"
        },
        {
         "customdata": [
          [
           85
          ]
         ],
         "geo": "geo",
         "hovertemplate": "name=Lahmada 017<br>reclat=%{lat}<br>reclong=%{lon}<br>mass (g)=%{customdata[0]}<extra></extra>",
         "lat": [
          27.2265
         ],
         "legendgroup": "Lahmada 017",
         "lon": [
          -9.74117
         ],
         "marker": {
          "color": "#FECB52",
          "symbol": "circle"
         },
         "mode": "markers",
         "name": "Lahmada 017",
         "showlegend": true,
         "type": "scattergeo"
        },
        {
         "customdata": [
          [
           308
          ]
         ],
         "geo": "geo",
         "hovertemplate": "name=Northwest Africa 309<br>reclat=%{lat}<br>reclong=%{lon}<br>mass (g)=%{customdata[0]}<extra></extra>",
         "lat": [
          null
         ],
         "legendgroup": "Northwest Africa 309",
         "lon": [
          null
         ],
         "marker": {
          "color": "#636efa",
          "symbol": "circle"
         },
         "mode": "markers",
         "name": "Northwest Africa 309",
         "showlegend": true,
         "type": "scattergeo"
        },
        {
         "customdata": [
          [
           3.5
          ]
         ],
         "geo": "geo",
         "hovertemplate": "name=Frontier Mountain 90064<br>reclat=%{lat}<br>reclong=%{lon}<br>mass (g)=%{customdata[0]}<extra></extra>",
         "lat": [
          -72.95457
         ],
         "legendgroup": "Frontier Mountain 90064",
         "lon": [
          160.50374
         ],
         "marker": {
          "color": "#EF553B",
          "symbol": "circle"
         },
         "mode": "markers",
         "name": "Frontier Mountain 90064",
         "showlegend": true,
         "type": "scattergeo"
        },
        {
         "customdata": [
          [
           10175
          ]
         ],
         "geo": "geo",
         "hovertemplate": "name=Shişr 036<br>reclat=%{lat}<br>reclong=%{lon}<br>mass (g)=%{customdata[0]}<extra></extra>",
         "lat": [
          18.50755
         ],
         "legendgroup": "Shişr 036",
         "lon": [
          53.99325
         ],
         "marker": {
          "color": "#00cc96",
          "symbol": "circle"
         },
         "mode": "markers",
         "name": "Shişr 036",
         "showlegend": true,
         "type": "scattergeo"
        },
        {
         "customdata": [
          [
           11.1
          ]
         ],
         "geo": "geo",
         "hovertemplate": "name=Lewis Cliff 86423<br>reclat=%{lat}<br>reclong=%{lon}<br>mass (g)=%{customdata[0]}<extra></extra>",
         "lat": [
          -84.25499
         ],
         "legendgroup": "Lewis Cliff 86423",
         "lon": [
          161.40492
         ],
         "marker": {
          "color": "#ab63fa",
          "symbol": "circle"
         },
         "mode": "markers",
         "name": "Lewis Cliff 86423",
         "showlegend": true,
         "type": "scattergeo"
        },
        {
         "customdata": [
          [
           5.9
          ]
         ],
         "geo": "geo",
         "hovertemplate": "name=Lewis Cliff 86362<br>reclat=%{lat}<br>reclong=%{lon}<br>mass (g)=%{customdata[0]}<extra></extra>",
         "lat": [
          -84.27385
         ],
         "legendgroup": "Lewis Cliff 86362",
         "lon": [
          161.68603
         ],
         "marker": {
          "color": "#FFA15A",
          "symbol": "circle"
         },
         "mode": "markers",
         "name": "Lewis Cliff 86362",
         "showlegend": true,
         "type": "scattergeo"
        },
        {
         "customdata": [
          [
           3.19
          ]
         ],
         "geo": "geo",
         "hovertemplate": "name=Yamato 790688<br>reclat=%{lat}<br>reclong=%{lon}<br>mass (g)=%{customdata[0]}<extra></extra>",
         "lat": [
          -71.5
         ],
         "legendgroup": "Yamato 790688",
         "lon": [
          35.66667
         ],
         "marker": {
          "color": "#19d3f3",
          "symbol": "circle"
         },
         "mode": "markers",
         "name": "Yamato 790688",
         "showlegend": true,
         "type": "scattergeo"
        },
        {
         "customdata": [
          [
           0.56
          ]
         ],
         "geo": "geo",
         "hovertemplate": "name=Grove Mountains 021919<br>reclat=%{lat}<br>reclong=%{lon}<br>mass (g)=%{customdata[0]}<extra></extra>",
         "lat": [
          -72.7775
         ],
         "legendgroup": "Grove Mountains 021919",
         "lon": [
          75.334167
         ],
         "marker": {
          "color": "#FF6692",
          "symbol": "circle"
         },
         "mode": "markers",
         "name": "Grove Mountains 021919",
         "showlegend": true,
         "type": "scattergeo"
        },
        {
         "customdata": [
          [
           30
          ]
         ],
         "geo": "geo",
         "hovertemplate": "name=Jodzie<br>reclat=%{lat}<br>reclong=%{lon}<br>mass (g)=%{customdata[0]}<extra></extra>",
         "lat": [
          55.7
         ],
         "legendgroup": "Jodzie",
         "lon": [
          24.4
         ],
         "marker": {
          "color": "#B6E880",
          "symbol": "circle"
         },
         "mode": "markers",
         "name": "Jodzie",
         "showlegend": true,
         "type": "scattergeo"
        },
        {
         "customdata": [
          [
           11.09
          ]
         ],
         "geo": "geo",
         "hovertemplate": "name=Yamato 983185<br>reclat=%{lat}<br>reclong=%{lon}<br>mass (g)=%{customdata[0]}<extra></extra>",
         "lat": [
          0
         ],
         "legendgroup": "Yamato 983185",
         "lon": [
          0
         ],
         "marker": {
          "color": "#FF97FF",
          "symbol": "circle"
         },
         "mode": "markers",
         "name": "Yamato 983185",
         "showlegend": true,
         "type": "scattergeo"
        },
        {
         "customdata": [
          [
           11.9
          ]
         ],
         "geo": "geo",
         "hovertemplate": "name=Queen Alexandra Range 93420<br>reclat=%{lat}<br>reclong=%{lon}<br>mass (g)=%{customdata[0]}<extra></extra>",
         "lat": [
          -84
         ],
         "legendgroup": "Queen Alexandra Range 93420",
         "lon": [
          168
         ],
         "marker": {
          "color": "#FECB52",
          "symbol": "circle"
         },
         "mode": "markers",
         "name": "Queen Alexandra Range 93420",
         "showlegend": true,
         "type": "scattergeo"
        },
        {
         "customdata": [
          [
           29.42
          ]
         ],
         "geo": "geo",
         "hovertemplate": "name=Yamato 790006<br>reclat=%{lat}<br>reclong=%{lon}<br>mass (g)=%{customdata[0]}<extra></extra>",
         "lat": [
          -71.5
         ],
         "legendgroup": "Yamato 790006",
         "lon": [
          35.66667
         ],
         "marker": {
          "color": "#636efa",
          "symbol": "circle"
         },
         "mode": "markers",
         "name": "Yamato 790006",
         "showlegend": true,
         "type": "scattergeo"
        },
        {
         "customdata": [
          [
           27.8
          ]
         ],
         "geo": "geo",
         "hovertemplate": "name=Allan Hills A80123<br>reclat=%{lat}<br>reclong=%{lon}<br>mass (g)=%{customdata[0]}<extra></extra>",
         "lat": [
          -76.68944
         ],
         "legendgroup": "Allan Hills A80123",
         "lon": [
          159.36889
         ],
         "marker": {
          "color": "#EF553B",
          "symbol": "circle"
         },
         "mode": "markers",
         "name": "Allan Hills A80123",
         "showlegend": true,
         "type": "scattergeo"
        },
        {
         "customdata": [
          [
           92.7
          ]
         ],
         "geo": "geo",
         "hovertemplate": "name=Pecora Escarpment 91448<br>reclat=%{lat}<br>reclong=%{lon}<br>mass (g)=%{customdata[0]}<extra></extra>",
         "lat": [
          -85.65807
         ],
         "legendgroup": "Pecora Escarpment 91448",
         "lon": [
          -68.17227
         ],
         "marker": {
          "color": "#00cc96",
          "symbol": "circle"
         },
         "mode": "markers",
         "name": "Pecora Escarpment 91448",
         "showlegend": true,
         "type": "scattergeo"
        },
        {
         "customdata": [
          [
           78.36
          ]
         ],
         "geo": "geo",
         "hovertemplate": "name=Ramlat al Wahibah 040<br>reclat=%{lat}<br>reclong=%{lon}<br>mass (g)=%{customdata[0]}<extra></extra>",
         "lat": [
          21.37107
         ],
         "legendgroup": "Ramlat al Wahibah 040",
         "lon": [
          58.41415
         ],
         "marker": {
          "color": "#ab63fa",
          "symbol": "circle"
         },
         "mode": "markers",
         "name": "Ramlat al Wahibah 040",
         "showlegend": true,
         "type": "scattergeo"
        },
        {
         "customdata": [
          [
           111
          ]
         ],
         "geo": "geo",
         "hovertemplate": "name=El Médano 037<br>reclat=%{lat}<br>reclong=%{lon}<br>mass (g)=%{customdata[0]}<extra></extra>",
         "lat": [
          -24.85
         ],
         "legendgroup": "El Médano 037",
         "lon": [
          -70.53333
         ],
         "marker": {
          "color": "#FFA15A",
          "symbol": "circle"
         },
         "mode": "markers",
         "name": "El Médano 037",
         "showlegend": true,
         "type": "scattergeo"
        },
        {
         "customdata": [
          [
           62.4
          ]
         ],
         "geo": "geo",
         "hovertemplate": "name=Lewis Cliff 86317<br>reclat=%{lat}<br>reclong=%{lon}<br>mass (g)=%{customdata[0]}<extra></extra>",
         "lat": [
          -84.27639
         ],
         "legendgroup": "Lewis Cliff 86317",
         "lon": [
          161.34562
         ],
         "marker": {
          "color": "#19d3f3",
          "symbol": "circle"
         },
         "mode": "markers",
         "name": "Lewis Cliff 86317",
         "showlegend": true,
         "type": "scattergeo"
        },
        {
         "customdata": [
          [
           4.7
          ]
         ],
         "geo": "geo",
         "hovertemplate": "name=Miller Range 090340<br>reclat=%{lat}<br>reclong=%{lon}<br>mass (g)=%{customdata[0]}<extra></extra>",
         "lat": [
          0
         ],
         "legendgroup": "Miller Range 090340",
         "lon": [
          0
         ],
         "marker": {
          "color": "#FF6692",
          "symbol": "circle"
         },
         "mode": "markers",
         "name": "Miller Range 090340",
         "showlegend": true,
         "type": "scattergeo"
        },
        {
         "customdata": [
          [
           144
          ]
         ],
         "geo": "geo",
         "hovertemplate": "name=Dhofar 921<br>reclat=%{lat}<br>reclong=%{lon}<br>mass (g)=%{customdata[0]}<extra></extra>",
         "lat": [
          18.625
         ],
         "legendgroup": "Dhofar 921",
         "lon": [
          54.43
         ],
         "marker": {
          "color": "#B6E880",
          "symbol": "circle"
         },
         "mode": "markers",
         "name": "Dhofar 921",
         "showlegend": true,
         "type": "scattergeo"
        },
        {
         "customdata": [
          [
           23.7
          ]
         ],
         "geo": "geo",
         "hovertemplate": "name=Elephant Moraine 83314<br>reclat=%{lat}<br>reclong=%{lon}<br>mass (g)=%{customdata[0]}<extra></extra>",
         "lat": [
          -76.31028
         ],
         "legendgroup": "Elephant Moraine 83314",
         "lon": [
          157.1975
         ],
         "marker": {
          "color": "#FF97FF",
          "symbol": "circle"
         },
         "mode": "markers",
         "name": "Elephant Moraine 83314",
         "showlegend": true,
         "type": "scattergeo"
        },
        {
         "customdata": [
          [
           215
          ]
         ],
         "geo": "geo",
         "hovertemplate": "name=Pecora Escarpment 91132<br>reclat=%{lat}<br>reclong=%{lon}<br>mass (g)=%{customdata[0]}<extra></extra>",
         "lat": [
          -85.68404
         ],
         "legendgroup": "Pecora Escarpment 91132",
         "lon": [
          -68.87777
         ],
         "marker": {
          "color": "#FECB52",
          "symbol": "circle"
         },
         "mode": "markers",
         "name": "Pecora Escarpment 91132",
         "showlegend": true,
         "type": "scattergeo"
        },
        {
         "customdata": [
          [
           4.93
          ]
         ],
         "geo": "geo",
         "hovertemplate": "name=Yamato 983789<br>reclat=%{lat}<br>reclong=%{lon}<br>mass (g)=%{customdata[0]}<extra></extra>",
         "lat": [
          0
         ],
         "legendgroup": "Yamato 983789",
         "lon": [
          0
         ],
         "marker": {
          "color": "#636efa",
          "symbol": "circle"
         },
         "mode": "markers",
         "name": "Yamato 983789",
         "showlegend": true,
         "type": "scattergeo"
        },
        {
         "customdata": [
          [
           500
          ]
         ],
         "geo": "geo",
         "hovertemplate": "name=Botetourt County<br>reclat=%{lat}<br>reclong=%{lon}<br>mass (g)=%{customdata[0]}<extra></extra>",
         "lat": [
          37.5
         ],
         "legendgroup": "Botetourt County",
         "lon": [
          -79.75
         ],
         "marker": {
          "color": "#EF553B",
          "symbol": "circle"
         },
         "mode": "markers",
         "name": "Botetourt County",
         "showlegend": true,
         "type": "scattergeo"
        },
        {
         "customdata": [
          [
           1149
          ]
         ],
         "geo": "geo",
         "hovertemplate": "name=Tiffa 008<br>reclat=%{lat}<br>reclong=%{lon}<br>mass (g)=%{customdata[0]}<extra></extra>",
         "lat": [
          20.35833
         ],
         "legendgroup": "Tiffa 008",
         "lon": [
          11.85
         ],
         "marker": {
          "color": "#00cc96",
          "symbol": "circle"
         },
         "mode": "markers",
         "name": "Tiffa 008",
         "showlegend": true,
         "type": "scattergeo"
        },
        {
         "customdata": [
          [
           4.1
          ]
         ],
         "geo": "geo",
         "hovertemplate": "name=Yamato 983439<br>reclat=%{lat}<br>reclong=%{lon}<br>mass (g)=%{customdata[0]}<extra></extra>",
         "lat": [
          0
         ],
         "legendgroup": "Yamato 983439",
         "lon": [
          0
         ],
         "marker": {
          "color": "#ab63fa",
          "symbol": "circle"
         },
         "mode": "markers",
         "name": "Yamato 983439",
         "showlegend": true,
         "type": "scattergeo"
        },
        {
         "customdata": [
          [
           2.4
          ]
         ],
         "geo": "geo",
         "hovertemplate": "name=Miller Range 090185<br>reclat=%{lat}<br>reclong=%{lon}<br>mass (g)=%{customdata[0]}<extra></extra>",
         "lat": [
          0
         ],
         "legendgroup": "Miller Range 090185",
         "lon": [
          0
         ],
         "marker": {
          "color": "#FFA15A",
          "symbol": "circle"
         },
         "mode": "markers",
         "name": "Miller Range 090185",
         "showlegend": true,
         "type": "scattergeo"
        },
        {
         "customdata": [
          [
           34.3
          ]
         ],
         "geo": "geo",
         "hovertemplate": "name=Dominion Range 10499<br>reclat=%{lat}<br>reclong=%{lon}<br>mass (g)=%{customdata[0]}<extra></extra>",
         "lat": [
          0
         ],
         "legendgroup": "Dominion Range 10499",
         "lon": [
          0
         ],
         "marker": {
          "color": "#19d3f3",
          "symbol": "circle"
         },
         "mode": "markers",
         "name": "Dominion Range 10499",
         "showlegend": true,
         "type": "scattergeo"
        },
        {
         "customdata": [
          [
           9.8
          ]
         ],
         "geo": "geo",
         "hovertemplate": "name=Miller Range 090995<br>reclat=%{lat}<br>reclong=%{lon}<br>mass (g)=%{customdata[0]}<extra></extra>",
         "lat": [
          0
         ],
         "legendgroup": "Miller Range 090995",
         "lon": [
          0
         ],
         "marker": {
          "color": "#FF6692",
          "symbol": "circle"
         },
         "mode": "markers",
         "name": "Miller Range 090995",
         "showlegend": true,
         "type": "scattergeo"
        },
        {
         "customdata": [
          [
           580
          ]
         ],
         "geo": "geo",
         "hovertemplate": "name=Northwest Africa 5432<br>reclat=%{lat}<br>reclong=%{lon}<br>mass (g)=%{customdata[0]}<extra></extra>",
         "lat": [
          0
         ],
         "legendgroup": "Northwest Africa 5432",
         "lon": [
          0
         ],
         "marker": {
          "color": "#B6E880",
          "symbol": "circle"
         },
         "mode": "markers",
         "name": "Northwest Africa 5432",
         "showlegend": true,
         "type": "scattergeo"
        },
        {
         "customdata": [
          [
           23
          ]
         ],
         "geo": "geo",
         "hovertemplate": "name=Northwest Africa 492<br>reclat=%{lat}<br>reclong=%{lon}<br>mass (g)=%{customdata[0]}<extra></extra>",
         "lat": [
          null
         ],
         "legendgroup": "Northwest Africa 492",
         "lon": [
          null
         ],
         "marker": {
          "color": "#FF97FF",
          "symbol": "circle"
         },
         "mode": "markers",
         "name": "Northwest Africa 492",
         "showlegend": true,
         "type": "scattergeo"
        },
        {
         "customdata": [
          [
           0.46
          ]
         ],
         "geo": "geo",
         "hovertemplate": "name=Grove Mountains 023899<br>reclat=%{lat}<br>reclong=%{lon}<br>mass (g)=%{customdata[0]}<extra></extra>",
         "lat": [
          -72.9822
         ],
         "legendgroup": "Grove Mountains 023899",
         "lon": [
          75.2489
         ],
         "marker": {
          "color": "#FECB52",
          "symbol": "circle"
         },
         "mode": "markers",
         "name": "Grove Mountains 023899",
         "showlegend": true,
         "type": "scattergeo"
        },
        {
         "customdata": [
          [
           14.633
          ]
         ],
         "geo": "geo",
         "hovertemplate": "name=Yamato 980580<br>reclat=%{lat}<br>reclong=%{lon}<br>mass (g)=%{customdata[0]}<extra></extra>",
         "lat": [
          null
         ],
         "legendgroup": "Yamato 980580",
         "lon": [
          null
         ],
         "marker": {
          "color": "#636efa",
          "symbol": "circle"
         },
         "mode": "markers",
         "name": "Yamato 980580",
         "showlegend": true,
         "type": "scattergeo"
        },
        {
         "customdata": [
          [
           3.4
          ]
         ],
         "geo": "geo",
         "hovertemplate": "name=Miller Range 090167<br>reclat=%{lat}<br>reclong=%{lon}<br>mass (g)=%{customdata[0]}<extra></extra>",
         "lat": [
          0
         ],
         "legendgroup": "Miller Range 090167",
         "lon": [
          0
         ],
         "marker": {
          "color": "#EF553B",
          "symbol": "circle"
         },
         "mode": "markers",
         "name": "Miller Range 090167",
         "showlegend": true,
         "type": "scattergeo"
        },
        {
         "customdata": [
          [
           54
          ]
         ],
         "geo": "geo",
         "hovertemplate": "name=Dar al Gani 924<br>reclat=%{lat}<br>reclong=%{lon}<br>mass (g)=%{customdata[0]}<extra></extra>",
         "lat": [
          27.03333
         ],
         "legendgroup": "Dar al Gani 924",
         "lon": [
          16.35
         ],
         "marker": {
          "color": "#00cc96",
          "symbol": "circle"
         },
         "mode": "markers",
         "name": "Dar al Gani 924",
         "showlegend": true,
         "type": "scattergeo"
        },
        {
         "customdata": [
          [
           292.26
          ]
         ],
         "geo": "geo",
         "hovertemplate": "name=Yamato 793249<br>reclat=%{lat}<br>reclong=%{lon}<br>mass (g)=%{customdata[0]}<extra></extra>",
         "lat": [
          -71.5
         ],
         "legendgroup": "Yamato 793249",
         "lon": [
          35.66667
         ],
         "marker": {
          "color": "#ab63fa",
          "symbol": "circle"
         },
         "mode": "markers",
         "name": "Yamato 793249",
         "showlegend": true,
         "type": "scattergeo"
        },
        {
         "customdata": [
          [
           1.3
          ]
         ],
         "geo": "geo",
         "hovertemplate": "name=Queen Alexandra Range 94565<br>reclat=%{lat}<br>reclong=%{lon}<br>mass (g)=%{customdata[0]}<extra></extra>",
         "lat": [
          -84
         ],
         "legendgroup": "Queen Alexandra Range 94565",
         "lon": [
          168
         ],
         "marker": {
          "color": "#FFA15A",
          "symbol": "circle"
         },
         "mode": "markers",
         "name": "Queen Alexandra Range 94565",
         "showlegend": true,
         "type": "scattergeo"
        },
        {
         "customdata": [
          [
           37.8
          ]
         ],
         "geo": "geo",
         "hovertemplate": "name=Queen Alexandra Range 97185<br>reclat=%{lat}<br>reclong=%{lon}<br>mass (g)=%{customdata[0]}<extra></extra>",
         "lat": [
          -84
         ],
         "legendgroup": "Queen Alexandra Range 97185",
         "lon": [
          168
         ],
         "marker": {
          "color": "#19d3f3",
          "symbol": "circle"
         },
         "mode": "markers",
         "name": "Queen Alexandra Range 97185",
         "showlegend": true,
         "type": "scattergeo"
        },
        {
         "customdata": [
          [
           38.99
          ]
         ],
         "geo": "geo",
         "hovertemplate": "name=Meteorite Hills 00493<br>reclat=%{lat}<br>reclong=%{lon}<br>mass (g)=%{customdata[0]}<extra></extra>",
         "lat": [
          -79.68333
         ],
         "legendgroup": "Meteorite Hills 00493",
         "lon": [
          155.75
         ],
         "marker": {
          "color": "#FF6692",
          "symbol": "circle"
         },
         "mode": "markers",
         "name": "Meteorite Hills 00493",
         "showlegend": true,
         "type": "scattergeo"
        },
        {
         "customdata": [
          [
           58.6
          ]
         ],
         "geo": "geo",
         "hovertemplate": "name=Elephant Moraine 87689<br>reclat=%{lat}<br>reclong=%{lon}<br>mass (g)=%{customdata[0]}<extra></extra>",
         "lat": [
          -76.18333
         ],
         "legendgroup": "Elephant Moraine 87689",
         "lon": [
          157.16667
         ],
         "marker": {
          "color": "#B6E880",
          "symbol": "circle"
         },
         "mode": "markers",
         "name": "Elephant Moraine 87689",
         "showlegend": true,
         "type": "scattergeo"
        },
        {
         "customdata": [
          [
           12.7
          ]
         ],
         "geo": "geo",
         "hovertemplate": "name=Northwest Africa 3340<br>reclat=%{lat}<br>reclong=%{lon}<br>mass (g)=%{customdata[0]}<extra></extra>",
         "lat": [
          null
         ],
         "legendgroup": "Northwest Africa 3340",
         "lon": [
          null
         ],
         "marker": {
          "color": "#FF97FF",
          "symbol": "circle"
         },
         "mode": "markers",
         "name": "Northwest Africa 3340",
         "showlegend": true,
         "type": "scattergeo"
        },
        {
         "customdata": [
          [
           4.22
          ]
         ],
         "geo": "geo",
         "hovertemplate": "name=Grove Mountains 022248<br>reclat=%{lat}<br>reclong=%{lon}<br>mass (g)=%{customdata[0]}<extra></extra>",
         "lat": [
          -72.77889
         ],
         "legendgroup": "Grove Mountains 022248",
         "lon": [
          75.31111
         ],
         "marker": {
          "color": "#FECB52",
          "symbol": "circle"
         },
         "mode": "markers",
         "name": "Grove Mountains 022248",
         "showlegend": true,
         "type": "scattergeo"
        },
        {
         "customdata": [
          [
           25.6
          ]
         ],
         "geo": "geo",
         "hovertemplate": "name=Queen Alexandra Range 97410<br>reclat=%{lat}<br>reclong=%{lon}<br>mass (g)=%{customdata[0]}<extra></extra>",
         "lat": [
          -84
         ],
         "legendgroup": "Queen Alexandra Range 97410",
         "lon": [
          168
         ],
         "marker": {
          "color": "#636efa",
          "symbol": "circle"
         },
         "mode": "markers",
         "name": "Queen Alexandra Range 97410",
         "showlegend": true,
         "type": "scattergeo"
        },
        {
         "customdata": [
          [
           45.4
          ]
         ],
         "geo": "geo",
         "hovertemplate": "name=Miller Range 03423<br>reclat=%{lat}<br>reclong=%{lon}<br>mass (g)=%{customdata[0]}<extra></extra>",
         "lat": [
          null
         ],
         "legendgroup": "Miller Range 03423",
         "lon": [
          null
         ],
         "marker": {
          "color": "#EF553B",
          "symbol": "circle"
         },
         "mode": "markers",
         "name": "Miller Range 03423",
         "showlegend": true,
         "type": "scattergeo"
        },
        {
         "customdata": [
          [
           4.9
          ]
         ],
         "geo": "geo",
         "hovertemplate": "name=Queen Alexandra Range 93695<br>reclat=%{lat}<br>reclong=%{lon}<br>mass (g)=%{customdata[0]}<extra></extra>",
         "lat": [
          -84
         ],
         "legendgroup": "Queen Alexandra Range 93695",
         "lon": [
          168
         ],
         "marker": {
          "color": "#00cc96",
          "symbol": "circle"
         },
         "mode": "markers",
         "name": "Queen Alexandra Range 93695",
         "showlegend": true,
         "type": "scattergeo"
        },
        {
         "customdata": [
          [
           39.7
          ]
         ],
         "geo": "geo",
         "hovertemplate": "name=Elephant Moraine 90796<br>reclat=%{lat}<br>reclong=%{lon}<br>mass (g)=%{customdata[0]}<extra></extra>",
         "lat": [
          -76.2858
         ],
         "legendgroup": "Elephant Moraine 90796",
         "lon": [
          156.46845
         ],
         "marker": {
          "color": "#ab63fa",
          "symbol": "circle"
         },
         "mode": "markers",
         "name": "Elephant Moraine 90796",
         "showlegend": true,
         "type": "scattergeo"
        },
        {
         "customdata": [
          [
           14.2
          ]
         ],
         "geo": "geo",
         "hovertemplate": "name=Elephant Moraine 90042<br>reclat=%{lat}<br>reclong=%{lon}<br>mass (g)=%{customdata[0]}<extra></extra>",
         "lat": [
          -76.27972
         ],
         "legendgroup": "Elephant Moraine 90042",
         "lon": [
          156.47219
         ],
         "marker": {
          "color": "#FFA15A",
          "symbol": "circle"
         },
         "mode": "markers",
         "name": "Elephant Moraine 90042",
         "showlegend": true,
         "type": "scattergeo"
        },
        {
         "customdata": [
          [
           336
          ]
         ],
         "geo": "geo",
         "hovertemplate": "name=Grove Mountains 052116<br>reclat=%{lat}<br>reclong=%{lon}<br>mass (g)=%{customdata[0]}<extra></extra>",
         "lat": [
          -72.77472
         ],
         "legendgroup": "Grove Mountains 052116",
         "lon": [
          75.32361
         ],
         "marker": {
          "color": "#19d3f3",
          "symbol": "circle"
         },
         "mode": "markers",
         "name": "Grove Mountains 052116",
         "showlegend": true,
         "type": "scattergeo"
        },
        {
         "customdata": [
          [
           72.4
          ]
         ],
         "geo": "geo",
         "hovertemplate": "name=Mount Prestrud 95406<br>reclat=%{lat}<br>reclong=%{lon}<br>mass (g)=%{customdata[0]}<extra></extra>",
         "lat": [
          -86.56667
         ],
         "legendgroup": "Mount Prestrud 95406",
         "lon": [
          -165.11667
         ],
         "marker": {
          "color": "#FF6692",
          "symbol": "circle"
         },
         "mode": "markers",
         "name": "Mount Prestrud 95406",
         "showlegend": true,
         "type": "scattergeo"
        },
        {
         "customdata": [
          [
           130.3
          ]
         ],
         "geo": "geo",
         "hovertemplate": "name=Miller Range 090860<br>reclat=%{lat}<br>reclong=%{lon}<br>mass (g)=%{customdata[0]}<extra></extra>",
         "lat": [
          0
         ],
         "legendgroup": "Miller Range 090860",
         "lon": [
          0
         ],
         "marker": {
          "color": "#B6E880",
          "symbol": "circle"
         },
         "mode": "markers",
         "name": "Miller Range 090860",
         "showlegend": true,
         "type": "scattergeo"
        },
        {
         "customdata": [
          [
           392.9
          ]
         ],
         "geo": "geo",
         "hovertemplate": "name=Elephant Moraine 96043<br>reclat=%{lat}<br>reclong=%{lon}<br>mass (g)=%{customdata[0]}<extra></extra>",
         "lat": [
          -76.18333
         ],
         "legendgroup": "Elephant Moraine 96043",
         "lon": [
          157.16667
         ],
         "marker": {
          "color": "#FF97FF",
          "symbol": "circle"
         },
         "mode": "markers",
         "name": "Elephant Moraine 96043",
         "showlegend": true,
         "type": "scattergeo"
        },
        {
         "customdata": [
          [
           1006
          ]
         ],
         "geo": "geo",
         "hovertemplate": "name=Northwest Africa 2132<br>reclat=%{lat}<br>reclong=%{lon}<br>mass (g)=%{customdata[0]}<extra></extra>",
         "lat": [
          null
         ],
         "legendgroup": "Northwest Africa 2132",
         "lon": [
          null
         ],
         "marker": {
          "color": "#FECB52",
          "symbol": "circle"
         },
         "mode": "markers",
         "name": "Northwest Africa 2132",
         "showlegend": true,
         "type": "scattergeo"
        },
        {
         "customdata": [
          [
           8.14
          ]
         ],
         "geo": "geo",
         "hovertemplate": "name=Yamato 792755<br>reclat=%{lat}<br>reclong=%{lon}<br>mass (g)=%{customdata[0]}<extra></extra>",
         "lat": [
          -71.5
         ],
         "legendgroup": "Yamato 792755",
         "lon": [
          35.66667
         ],
         "marker": {
          "color": "#636efa",
          "symbol": "circle"
         },
         "mode": "markers",
         "name": "Yamato 792755",
         "showlegend": true,
         "type": "scattergeo"
        },
        {
         "customdata": [
          [
           10.86
          ]
         ],
         "geo": "geo",
         "hovertemplate": "name=Yamato 86291<br>reclat=%{lat}<br>reclong=%{lon}<br>mass (g)=%{customdata[0]}<extra></extra>",
         "lat": [
          -71.5
         ],
         "legendgroup": "Yamato 86291",
         "lon": [
          35.66667
         ],
         "marker": {
          "color": "#EF553B",
          "symbol": "circle"
         },
         "mode": "markers",
         "name": "Yamato 86291",
         "showlegend": true,
         "type": "scattergeo"
        },
        {
         "customdata": [
          [
           12000
          ]
         ],
         "geo": "geo",
         "hovertemplate": "name=Aswan<br>reclat=%{lat}<br>reclong=%{lon}<br>mass (g)=%{customdata[0]}<extra></extra>",
         "lat": [
          23.98611
         ],
         "legendgroup": "Aswan",
         "lon": [
          32.62361
         ],
         "marker": {
          "color": "#00cc96",
          "symbol": "circle"
         },
         "mode": "markers",
         "name": "Aswan",
         "showlegend": true,
         "type": "scattergeo"
        },
        {
         "customdata": [
          [
           6.3
          ]
         ],
         "geo": "geo",
         "hovertemplate": "name=Allan Hills 84201<br>reclat=%{lat}<br>reclong=%{lon}<br>mass (g)=%{customdata[0]}<extra></extra>",
         "lat": [
          -76.7574
         ],
         "legendgroup": "Allan Hills 84201",
         "lon": [
          158.90775
         ],
         "marker": {
          "color": "#ab63fa",
          "symbol": "circle"
         },
         "mode": "markers",
         "name": "Allan Hills 84201",
         "showlegend": true,
         "type": "scattergeo"
        },
        {
         "customdata": [
          [
           426
          ]
         ],
         "geo": "geo",
         "hovertemplate": "name=Dhofar 1148<br>reclat=%{lat}<br>reclong=%{lon}<br>mass (g)=%{customdata[0]}<extra></extra>",
         "lat": [
          19.190417
         ],
         "legendgroup": "Dhofar 1148",
         "lon": [
          54.957194
         ],
         "marker": {
          "color": "#FFA15A",
          "symbol": "circle"
         },
         "mode": "markers",
         "name": "Dhofar 1148",
         "showlegend": true,
         "type": "scattergeo"
        },
        {
         "customdata": [
          [
           48.1
          ]
         ],
         "geo": "geo",
         "hovertemplate": "name=Miller Range 090155<br>reclat=%{lat}<br>reclong=%{lon}<br>mass (g)=%{customdata[0]}<extra></extra>",
         "lat": [
          0
         ],
         "legendgroup": "Miller Range 090155",
         "lon": [
          0
         ],
         "marker": {
          "color": "#19d3f3",
          "symbol": "circle"
         },
         "mode": "markers",
         "name": "Miller Range 090155",
         "showlegend": true,
         "type": "scattergeo"
        },
        {
         "customdata": [
          [
           259
          ]
         ],
         "geo": "geo",
         "hovertemplate": "name=Northwest Africa 7488<br>reclat=%{lat}<br>reclong=%{lon}<br>mass (g)=%{customdata[0]}<extra></extra>",
         "lat": [
          0
         ],
         "legendgroup": "Northwest Africa 7488",
         "lon": [
          0
         ],
         "marker": {
          "color": "#FF6692",
          "symbol": "circle"
         },
         "mode": "markers",
         "name": "Northwest Africa 7488",
         "showlegend": true,
         "type": "scattergeo"
        },
        {
         "customdata": [
          [
           10.36
          ]
         ],
         "geo": "geo",
         "hovertemplate": "name=Asuka 880754<br>reclat=%{lat}<br>reclong=%{lon}<br>mass (g)=%{customdata[0]}<extra></extra>",
         "lat": [
          -72
         ],
         "legendgroup": "Asuka 880754",
         "lon": [
          26
         ],
         "marker": {
          "color": "#B6E880",
          "symbol": "circle"
         },
         "mode": "markers",
         "name": "Asuka 880754",
         "showlegend": true,
         "type": "scattergeo"
        },
        {
         "customdata": [
          [
           6175
          ]
         ],
         "geo": "geo",
         "hovertemplate": "name=Yamato 790957<br>reclat=%{lat}<br>reclong=%{lon}<br>mass (g)=%{customdata[0]}<extra></extra>",
         "lat": [
          -71.5
         ],
         "legendgroup": "Yamato 790957",
         "lon": [
          35.66667
         ],
         "marker": {
          "color": "#FF97FF",
          "symbol": "circle"
         },
         "mode": "markers",
         "name": "Yamato 790957",
         "showlegend": true,
         "type": "scattergeo"
        },
        {
         "customdata": [
          [
           1.33
          ]
         ],
         "geo": "geo",
         "hovertemplate": "name=Grove Mountains 054615<br>reclat=%{lat}<br>reclong=%{lon}<br>mass (g)=%{customdata[0]}<extra></extra>",
         "lat": [
          -72.998889
         ],
         "legendgroup": "Grove Mountains 054615",
         "lon": [
          75.187222
         ],
         "marker": {
          "color": "#FECB52",
          "symbol": "circle"
         },
         "mode": "markers",
         "name": "Grove Mountains 054615",
         "showlegend": true,
         "type": "scattergeo"
        },
        {
         "customdata": [
          [
           4.37
          ]
         ],
         "geo": "geo",
         "hovertemplate": "name=Grove Mountains 052175<br>reclat=%{lat}<br>reclong=%{lon}<br>mass (g)=%{customdata[0]}<extra></extra>",
         "lat": [
          -72.77306
         ],
         "legendgroup": "Grove Mountains 052175",
         "lon": [
          75.33806
         ],
         "marker": {
          "color": "#636efa",
          "symbol": "circle"
         },
         "mode": "markers",
         "name": "Grove Mountains 052175",
         "showlegend": true,
         "type": "scattergeo"
        },
        {
         "customdata": [
          [
           187.5
          ]
         ],
         "geo": "geo",
         "hovertemplate": "name=Sayh al Uhaymir 213<br>reclat=%{lat}<br>reclong=%{lon}<br>mass (g)=%{customdata[0]}<extra></extra>",
         "lat": [
          20.41437
         ],
         "legendgroup": "Sayh al Uhaymir 213",
         "lon": [
          57.06578
         ],
         "marker": {
          "color": "#EF553B",
          "symbol": "circle"
         },
         "mode": "markers",
         "name": "Sayh al Uhaymir 213",
         "showlegend": true,
         "type": "scattergeo"
        },
        {
         "customdata": [
          [
           27000
          ]
         ],
         "geo": "geo",
         "hovertemplate": "name=Northwest Africa 4492<br>reclat=%{lat}<br>reclong=%{lon}<br>mass (g)=%{customdata[0]}<extra></extra>",
         "lat": [
          null
         ],
         "legendgroup": "Northwest Africa 4492",
         "lon": [
          null
         ],
         "marker": {
          "color": "#00cc96",
          "symbol": "circle"
         },
         "mode": "markers",
         "name": "Northwest Africa 4492",
         "showlegend": true,
         "type": "scattergeo"
        },
        {
         "customdata": [
          [
           50000
          ]
         ],
         "geo": "geo",
         "hovertemplate": "name=Waconda<br>reclat=%{lat}<br>reclong=%{lon}<br>mass (g)=%{customdata[0]}<extra></extra>",
         "lat": [
          39.33333
         ],
         "legendgroup": "Waconda",
         "lon": [
          -98.16667
         ],
         "marker": {
          "color": "#ab63fa",
          "symbol": "circle"
         },
         "mode": "markers",
         "name": "Waconda",
         "showlegend": true,
         "type": "scattergeo"
        },
        {
         "customdata": [
          [
           20
          ]
         ],
         "geo": "geo",
         "hovertemplate": "name=Northwest Africa 5574<br>reclat=%{lat}<br>reclong=%{lon}<br>mass (g)=%{customdata[0]}<extra></extra>",
         "lat": [
          0
         ],
         "legendgroup": "Northwest Africa 5574",
         "lon": [
          0
         ],
         "marker": {
          "color": "#FFA15A",
          "symbol": "circle"
         },
         "mode": "markers",
         "name": "Northwest Africa 5574",
         "showlegend": true,
         "type": "scattergeo"
        },
        {
         "customdata": [
          [
           9.5
          ]
         ],
         "geo": "geo",
         "hovertemplate": "name=Lewis Cliff 88570<br>reclat=%{lat}<br>reclong=%{lon}<br>mass (g)=%{customdata[0]}<extra></extra>",
         "lat": [
          -84.24623
         ],
         "legendgroup": "Lewis Cliff 88570",
         "lon": [
          161.41018
         ],
         "marker": {
          "color": "#19d3f3",
          "symbol": "circle"
         },
         "mode": "markers",
         "name": "Lewis Cliff 88570",
         "showlegend": true,
         "type": "scattergeo"
        },
        {
         "customdata": [
          [
           1806
          ]
         ],
         "geo": "geo",
         "hovertemplate": "name=Dhofar 594<br>reclat=%{lat}<br>reclong=%{lon}<br>mass (g)=%{customdata[0]}<extra></extra>",
         "lat": [
          18.7247
         ],
         "legendgroup": "Dhofar 594",
         "lon": [
          54.39503
         ],
         "marker": {
          "color": "#FF6692",
          "symbol": "circle"
         },
         "mode": "markers",
         "name": "Dhofar 594",
         "showlegend": true,
         "type": "scattergeo"
        },
        {
         "customdata": [
          [
           1443
          ]
         ],
         "geo": "geo",
         "hovertemplate": "name=Laundry Rockhole<br>reclat=%{lat}<br>reclong=%{lon}<br>mass (g)=%{customdata[0]}<extra></extra>",
         "lat": [
          -31.53333
         ],
         "legendgroup": "Laundry Rockhole",
         "lon": [
          127.01667
         ],
         "marker": {
          "color": "#B6E880",
          "symbol": "circle"
         },
         "mode": "markers",
         "name": "Laundry Rockhole",
         "showlegend": true,
         "type": "scattergeo"
        },
        {
         "customdata": [
          [
           1.22
          ]
         ],
         "geo": "geo",
         "hovertemplate": "name=Yamato 86608<br>reclat=%{lat}<br>reclong=%{lon}<br>mass (g)=%{customdata[0]}<extra></extra>",
         "lat": [
          -71.5
         ],
         "legendgroup": "Yamato 86608",
         "lon": [
          35.66667
         ],
         "marker": {
          "color": "#FF97FF",
          "symbol": "circle"
         },
         "mode": "markers",
         "name": "Yamato 86608",
         "showlegend": true,
         "type": "scattergeo"
        },
        {
         "customdata": [
          [
           1624
          ]
         ],
         "geo": "geo",
         "hovertemplate": "name=Northwest Africa 1879<br>reclat=%{lat}<br>reclong=%{lon}<br>mass (g)=%{customdata[0]}<extra></extra>",
         "lat": [
          null
         ],
         "legendgroup": "Northwest Africa 1879",
         "lon": [
          null
         ],
         "marker": {
          "color": "#FECB52",
          "symbol": "circle"
         },
         "mode": "markers",
         "name": "Northwest Africa 1879",
         "showlegend": true,
         "type": "scattergeo"
        },
        {
         "customdata": [
          [
           14.03
          ]
         ],
         "geo": "geo",
         "hovertemplate": "name=Yamato 791117<br>reclat=%{lat}<br>reclong=%{lon}<br>mass (g)=%{customdata[0]}<extra></extra>",
         "lat": [
          -71.5
         ],
         "legendgroup": "Yamato 791117",
         "lon": [
          35.66667
         ],
         "marker": {
          "color": "#636efa",
          "symbol": "circle"
         },
         "mode": "markers",
         "name": "Yamato 791117",
         "showlegend": true,
         "type": "scattergeo"
        },
        {
         "customdata": [
          [
           45000
          ]
         ],
         "geo": "geo",
         "hovertemplate": "name=Wellman (c)<br>reclat=%{lat}<br>reclong=%{lon}<br>mass (g)=%{customdata[0]}<extra></extra>",
         "lat": [
          33.03333
         ],
         "legendgroup": "Wellman (c)",
         "lon": [
          -102.33333
         ],
         "marker": {
          "color": "#EF553B",
          "symbol": "circle"
         },
         "mode": "markers",
         "name": "Wellman (c)",
         "showlegend": true,
         "type": "scattergeo"
        },
        {
         "customdata": [
          [
           5.86
          ]
         ],
         "geo": "geo",
         "hovertemplate": "name=Yamato 982246<br>reclat=%{lat}<br>reclong=%{lon}<br>mass (g)=%{customdata[0]}<extra></extra>",
         "lat": [
          0
         ],
         "legendgroup": "Yamato 982246",
         "lon": [
          0
         ],
         "marker": {
          "color": "#00cc96",
          "symbol": "circle"
         },
         "mode": "markers",
         "name": "Yamato 982246",
         "showlegend": true,
         "type": "scattergeo"
        },
        {
         "customdata": [
          [
           87.7
          ]
         ],
         "geo": "geo",
         "hovertemplate": "name=Larkman Nunatak 06459<br>reclat=%{lat}<br>reclong=%{lon}<br>mass (g)=%{customdata[0]}<extra></extra>",
         "lat": [
          null
         ],
         "legendgroup": "Larkman Nunatak 06459",
         "lon": [
          null
         ],
         "marker": {
          "color": "#ab63fa",
          "symbol": "circle"
         },
         "mode": "markers",
         "name": "Larkman Nunatak 06459",
         "showlegend": true,
         "type": "scattergeo"
        },
        {
         "customdata": [
          [
           2700
          ]
         ],
         "geo": "geo",
         "hovertemplate": "name=Stonington<br>reclat=%{lat}<br>reclong=%{lon}<br>mass (g)=%{customdata[0]}<extra></extra>",
         "lat": [
          37.28333
         ],
         "legendgroup": "Stonington",
         "lon": [
          -102.2
         ],
         "marker": {
          "color": "#FFA15A",
          "symbol": "circle"
         },
         "mode": "markers",
         "name": "Stonington",
         "showlegend": true,
         "type": "scattergeo"
        },
        {
         "customdata": [
          [
           20.5
          ]
         ],
         "geo": "geo",
         "hovertemplate": "name=Lewis Cliff 88194<br>reclat=%{lat}<br>reclong=%{lon}<br>mass (g)=%{customdata[0]}<extra></extra>",
         "lat": [
          -84.27985
         ],
         "legendgroup": "Lewis Cliff 88194",
         "lon": [
          161.34894
         ],
         "marker": {
          "color": "#19d3f3",
          "symbol": "circle"
         },
         "mode": "markers",
         "name": "Lewis Cliff 88194",
         "showlegend": true,
         "type": "scattergeo"
        },
        {
         "customdata": [
          [
           80.48
          ]
         ],
         "geo": "geo",
         "hovertemplate": "name=Ramlat as Sahmah 334<br>reclat=%{lat}<br>reclong=%{lon}<br>mass (g)=%{customdata[0]}<extra></extra>",
         "lat": [
          20.7827
         ],
         "legendgroup": "Ramlat as Sahmah 334",
         "lon": [
          55.42668
         ],
         "marker": {
          "color": "#FF6692",
          "symbol": "circle"
         },
         "mode": "markers",
         "name": "Ramlat as Sahmah 334",
         "showlegend": true,
         "type": "scattergeo"
        },
        {
         "customdata": [
          [
           6.45
          ]
         ],
         "geo": "geo",
         "hovertemplate": "name=Grove Mountains 053824<br>reclat=%{lat}<br>reclong=%{lon}<br>mass (g)=%{customdata[0]}<extra></extra>",
         "lat": [
          -72.77944
         ],
         "legendgroup": "Grove Mountains 053824",
         "lon": [
          75.27
         ],
         "marker": {
          "color": "#B6E880",
          "symbol": "circle"
         },
         "mode": "markers",
         "name": "Grove Mountains 053824",
         "showlegend": true,
         "type": "scattergeo"
        },
        {
         "customdata": [
          [
           624
          ]
         ],
         "geo": "geo",
         "hovertemplate": "name=Dhofar 1550<br>reclat=%{lat}<br>reclong=%{lon}<br>mass (g)=%{customdata[0]}<extra></extra>",
         "lat": [
          18.59083
         ],
         "legendgroup": "Dhofar 1550",
         "lon": [
          54.543
         ],
         "marker": {
          "color": "#FF97FF",
          "symbol": "circle"
         },
         "mode": "markers",
         "name": "Dhofar 1550",
         "showlegend": true,
         "type": "scattergeo"
        },
        {
         "customdata": [
          [
           10.9
          ]
         ],
         "geo": "geo",
         "hovertemplate": "name=Meteorite Hills 01326<br>reclat=%{lat}<br>reclong=%{lon}<br>mass (g)=%{customdata[0]}<extra></extra>",
         "lat": [
          -79.68333
         ],
         "legendgroup": "Meteorite Hills 01326",
         "lon": [
          159.75
         ],
         "marker": {
          "color": "#FECB52",
          "symbol": "circle"
         },
         "mode": "markers",
         "name": "Meteorite Hills 01326",
         "showlegend": true,
         "type": "scattergeo"
        },
        {
         "customdata": [
          [
           157.8
          ]
         ],
         "geo": "geo",
         "hovertemplate": "name=Allan Hills 84132<br>reclat=%{lat}<br>reclong=%{lon}<br>mass (g)=%{customdata[0]}<extra></extra>",
         "lat": [
          -77.01706
         ],
         "legendgroup": "Allan Hills 84132",
         "lon": [
          156.96282
         ],
         "marker": {
          "color": "#636efa",
          "symbol": "circle"
         },
         "mode": "markers",
         "name": "Allan Hills 84132",
         "showlegend": true,
         "type": "scattergeo"
        },
        {
         "customdata": [
          [
           1788
          ]
         ],
         "geo": "geo",
         "hovertemplate": "name=Northwest Africa 3051<br>reclat=%{lat}<br>reclong=%{lon}<br>mass (g)=%{customdata[0]}<extra></extra>",
         "lat": [
          null
         ],
         "legendgroup": "Northwest Africa 3051",
         "lon": [
          null
         ],
         "marker": {
          "color": "#EF553B",
          "symbol": "circle"
         },
         "mode": "markers",
         "name": "Northwest Africa 3051",
         "showlegend": true,
         "type": "scattergeo"
        },
        {
         "customdata": [
          [
           2.5
          ]
         ],
         "geo": "geo",
         "hovertemplate": "name=Queen Alexandra Range 93394<br>reclat=%{lat}<br>reclong=%{lon}<br>mass (g)=%{customdata[0]}<extra></extra>",
         "lat": [
          -84
         ],
         "legendgroup": "Queen Alexandra Range 93394",
         "lon": [
          168
         ],
         "marker": {
          "color": "#00cc96",
          "symbol": "circle"
         },
         "mode": "markers",
         "name": "Queen Alexandra Range 93394",
         "showlegend": true,
         "type": "scattergeo"
        },
        {
         "customdata": [
          [
           1798.9
          ]
         ],
         "geo": "geo",
         "hovertemplate": "name=Jiddat al Harasis 276<br>reclat=%{lat}<br>reclong=%{lon}<br>mass (g)=%{customdata[0]}<extra></extra>",
         "lat": [
          19.97933
         ],
         "legendgroup": "Jiddat al Harasis 276",
         "lon": [
          55.95507
         ],
         "marker": {
          "color": "#ab63fa",
          "symbol": "circle"
         },
         "mode": "markers",
         "name": "Jiddat al Harasis 276",
         "showlegend": true,
         "type": "scattergeo"
        },
        {
         "customdata": [
          [
           152
          ]
         ],
         "geo": "geo",
         "hovertemplate": "name=Northwest Africa 2618<br>reclat=%{lat}<br>reclong=%{lon}<br>mass (g)=%{customdata[0]}<extra></extra>",
         "lat": [
          null
         ],
         "legendgroup": "Northwest Africa 2618",
         "lon": [
          null
         ],
         "marker": {
          "color": "#FFA15A",
          "symbol": "circle"
         },
         "mode": "markers",
         "name": "Northwest Africa 2618",
         "showlegend": true,
         "type": "scattergeo"
        },
        {
         "customdata": [
          [
           71000
          ]
         ],
         "geo": "geo",
         "hovertemplate": "name=Wooramel<br>reclat=%{lat}<br>reclong=%{lon}<br>mass (g)=%{customdata[0]}<extra></extra>",
         "lat": [
          -25.65
         ],
         "legendgroup": "Wooramel",
         "lon": [
          114.21667
         ],
         "marker": {
          "color": "#19d3f3",
          "symbol": "circle"
         },
         "mode": "markers",
         "name": "Wooramel",
         "showlegend": true,
         "type": "scattergeo"
        },
        {
         "customdata": [
          [
           170
          ]
         ],
         "geo": "geo",
         "hovertemplate": "name=Bluewing 031<br>reclat=%{lat}<br>reclong=%{lon}<br>mass (g)=%{customdata[0]}<extra></extra>",
         "lat": [
          40.26667
         ],
         "legendgroup": "Bluewing 031",
         "lon": [
          -118.93333
         ],
         "marker": {
          "color": "#FF6692",
          "symbol": "circle"
         },
         "mode": "markers",
         "name": "Bluewing 031",
         "showlegend": true,
         "type": "scattergeo"
        },
        {
         "customdata": [
          [
           9.13
          ]
         ],
         "geo": "geo",
         "hovertemplate": "name=Yamato 86011<br>reclat=%{lat}<br>reclong=%{lon}<br>mass (g)=%{customdata[0]}<extra></extra>",
         "lat": [
          -71.5
         ],
         "legendgroup": "Yamato 86011",
         "lon": [
          35.66667
         ],
         "marker": {
          "color": "#B6E880",
          "symbol": "circle"
         },
         "mode": "markers",
         "name": "Yamato 86011",
         "showlegend": true,
         "type": "scattergeo"
        },
        {
         "customdata": [
          [
           5
          ]
         ],
         "geo": "geo",
         "hovertemplate": "name=Queen Alexandra Range 94454<br>reclat=%{lat}<br>reclong=%{lon}<br>mass (g)=%{customdata[0]}<extra></extra>",
         "lat": [
          -84
         ],
         "legendgroup": "Queen Alexandra Range 94454",
         "lon": [
          168
         ],
         "marker": {
          "color": "#FF97FF",
          "symbol": "circle"
         },
         "mode": "markers",
         "name": "Queen Alexandra Range 94454",
         "showlegend": true,
         "type": "scattergeo"
        },
        {
         "customdata": [
          [
           4.2
          ]
         ],
         "geo": "geo",
         "hovertemplate": "name=Miller Range 090893<br>reclat=%{lat}<br>reclong=%{lon}<br>mass (g)=%{customdata[0]}<extra></extra>",
         "lat": [
          0
         ],
         "legendgroup": "Miller Range 090893",
         "lon": [
          0
         ],
         "marker": {
          "color": "#FECB52",
          "symbol": "circle"
         },
         "mode": "markers",
         "name": "Miller Range 090893",
         "showlegend": true,
         "type": "scattergeo"
        }
       ],
       "layout": {
        "autosize": true,
        "geo": {
         "center": {
          "lat": 8.18776987308561,
          "lon": -23.09040773565197
         },
         "domain": {
          "x": [
           0,
           1
          ],
          "y": [
           0,
           1
          ]
         },
         "projection": {
          "autorange": true,
          "rotation": {
           "lon": -23.09040773565197
          },
          "scale": 0.7578582832551991,
          "type": "natural earth"
         }
        },
        "legend": {
         "title": {
          "text": "name"
         },
         "tracegroupgap": 0
        },
        "margin": {
         "t": 60
        },
        "template": {
         "data": {
          "bar": [
           {
            "error_x": {
             "color": "#2a3f5f"
            },
            "error_y": {
             "color": "#2a3f5f"
            },
            "marker": {
             "line": {
              "color": "#E5ECF6",
              "width": 0.5
             },
             "pattern": {
              "fillmode": "overlay",
              "size": 10,
              "solidity": 0.2
             }
            },
            "type": "bar"
           }
          ],
          "barpolar": [
           {
            "marker": {
             "line": {
              "color": "#E5ECF6",
              "width": 0.5
             },
             "pattern": {
              "fillmode": "overlay",
              "size": 10,
              "solidity": 0.2
             }
            },
            "type": "barpolar"
           }
          ],
          "carpet": [
           {
            "aaxis": {
             "endlinecolor": "#2a3f5f",
             "gridcolor": "white",
             "linecolor": "white",
             "minorgridcolor": "white",
             "startlinecolor": "#2a3f5f"
            },
            "baxis": {
             "endlinecolor": "#2a3f5f",
             "gridcolor": "white",
             "linecolor": "white",
             "minorgridcolor": "white",
             "startlinecolor": "#2a3f5f"
            },
            "type": "carpet"
           }
          ],
          "choropleth": [
           {
            "colorbar": {
             "outlinewidth": 0,
             "ticks": ""
            },
            "type": "choropleth"
           }
          ],
          "contour": [
           {
            "colorbar": {
             "outlinewidth": 0,
             "ticks": ""
            },
            "colorscale": [
             [
              0,
              "#0d0887"
             ],
             [
              0.1111111111111111,
              "#46039f"
             ],
             [
              0.2222222222222222,
              "#7201a8"
             ],
             [
              0.3333333333333333,
              "#9c179e"
             ],
             [
              0.4444444444444444,
              "#bd3786"
             ],
             [
              0.5555555555555556,
              "#d8576b"
             ],
             [
              0.6666666666666666,
              "#ed7953"
             ],
             [
              0.7777777777777778,
              "#fb9f3a"
             ],
             [
              0.8888888888888888,
              "#fdca26"
             ],
             [
              1,
              "#f0f921"
             ]
            ],
            "type": "contour"
           }
          ],
          "contourcarpet": [
           {
            "colorbar": {
             "outlinewidth": 0,
             "ticks": ""
            },
            "type": "contourcarpet"
           }
          ],
          "heatmap": [
           {
            "colorbar": {
             "outlinewidth": 0,
             "ticks": ""
            },
            "colorscale": [
             [
              0,
              "#0d0887"
             ],
             [
              0.1111111111111111,
              "#46039f"
             ],
             [
              0.2222222222222222,
              "#7201a8"
             ],
             [
              0.3333333333333333,
              "#9c179e"
             ],
             [
              0.4444444444444444,
              "#bd3786"
             ],
             [
              0.5555555555555556,
              "#d8576b"
             ],
             [
              0.6666666666666666,
              "#ed7953"
             ],
             [
              0.7777777777777778,
              "#fb9f3a"
             ],
             [
              0.8888888888888888,
              "#fdca26"
             ],
             [
              1,
              "#f0f921"
             ]
            ],
            "type": "heatmap"
           }
          ],
          "heatmapgl": [
           {
            "colorbar": {
             "outlinewidth": 0,
             "ticks": ""
            },
            "colorscale": [
             [
              0,
              "#0d0887"
             ],
             [
              0.1111111111111111,
              "#46039f"
             ],
             [
              0.2222222222222222,
              "#7201a8"
             ],
             [
              0.3333333333333333,
              "#9c179e"
             ],
             [
              0.4444444444444444,
              "#bd3786"
             ],
             [
              0.5555555555555556,
              "#d8576b"
             ],
             [
              0.6666666666666666,
              "#ed7953"
             ],
             [
              0.7777777777777778,
              "#fb9f3a"
             ],
             [
              0.8888888888888888,
              "#fdca26"
             ],
             [
              1,
              "#f0f921"
             ]
            ],
            "type": "heatmapgl"
           }
          ],
          "histogram": [
           {
            "marker": {
             "pattern": {
              "fillmode": "overlay",
              "size": 10,
              "solidity": 0.2
             }
            },
            "type": "histogram"
           }
          ],
          "histogram2d": [
           {
            "colorbar": {
             "outlinewidth": 0,
             "ticks": ""
            },
            "colorscale": [
             [
              0,
              "#0d0887"
             ],
             [
              0.1111111111111111,
              "#46039f"
             ],
             [
              0.2222222222222222,
              "#7201a8"
             ],
             [
              0.3333333333333333,
              "#9c179e"
             ],
             [
              0.4444444444444444,
              "#bd3786"
             ],
             [
              0.5555555555555556,
              "#d8576b"
             ],
             [
              0.6666666666666666,
              "#ed7953"
             ],
             [
              0.7777777777777778,
              "#fb9f3a"
             ],
             [
              0.8888888888888888,
              "#fdca26"
             ],
             [
              1,
              "#f0f921"
             ]
            ],
            "type": "histogram2d"
           }
          ],
          "histogram2dcontour": [
           {
            "colorbar": {
             "outlinewidth": 0,
             "ticks": ""
            },
            "colorscale": [
             [
              0,
              "#0d0887"
             ],
             [
              0.1111111111111111,
              "#46039f"
             ],
             [
              0.2222222222222222,
              "#7201a8"
             ],
             [
              0.3333333333333333,
              "#9c179e"
             ],
             [
              0.4444444444444444,
              "#bd3786"
             ],
             [
              0.5555555555555556,
              "#d8576b"
             ],
             [
              0.6666666666666666,
              "#ed7953"
             ],
             [
              0.7777777777777778,
              "#fb9f3a"
             ],
             [
              0.8888888888888888,
              "#fdca26"
             ],
             [
              1,
              "#f0f921"
             ]
            ],
            "type": "histogram2dcontour"
           }
          ],
          "mesh3d": [
           {
            "colorbar": {
             "outlinewidth": 0,
             "ticks": ""
            },
            "type": "mesh3d"
           }
          ],
          "parcoords": [
           {
            "line": {
             "colorbar": {
              "outlinewidth": 0,
              "ticks": ""
             }
            },
            "type": "parcoords"
           }
          ],
          "pie": [
           {
            "automargin": true,
            "type": "pie"
           }
          ],
          "scatter": [
           {
            "fillpattern": {
             "fillmode": "overlay",
             "size": 10,
             "solidity": 0.2
            },
            "type": "scatter"
           }
          ],
          "scatter3d": [
           {
            "line": {
             "colorbar": {
              "outlinewidth": 0,
              "ticks": ""
             }
            },
            "marker": {
             "colorbar": {
              "outlinewidth": 0,
              "ticks": ""
             }
            },
            "type": "scatter3d"
           }
          ],
          "scattercarpet": [
           {
            "marker": {
             "colorbar": {
              "outlinewidth": 0,
              "ticks": ""
             }
            },
            "type": "scattercarpet"
           }
          ],
          "scattergeo": [
           {
            "marker": {
             "colorbar": {
              "outlinewidth": 0,
              "ticks": ""
             }
            },
            "type": "scattergeo"
           }
          ],
          "scattergl": [
           {
            "marker": {
             "colorbar": {
              "outlinewidth": 0,
              "ticks": ""
             }
            },
            "type": "scattergl"
           }
          ],
          "scattermapbox": [
           {
            "marker": {
             "colorbar": {
              "outlinewidth": 0,
              "ticks": ""
             }
            },
            "type": "scattermapbox"
           }
          ],
          "scatterpolar": [
           {
            "marker": {
             "colorbar": {
              "outlinewidth": 0,
              "ticks": ""
             }
            },
            "type": "scatterpolar"
           }
          ],
          "scatterpolargl": [
           {
            "marker": {
             "colorbar": {
              "outlinewidth": 0,
              "ticks": ""
             }
            },
            "type": "scatterpolargl"
           }
          ],
          "scatterternary": [
           {
            "marker": {
             "colorbar": {
              "outlinewidth": 0,
              "ticks": ""
             }
            },
            "type": "scatterternary"
           }
          ],
          "surface": [
           {
            "colorbar": {
             "outlinewidth": 0,
             "ticks": ""
            },
            "colorscale": [
             [
              0,
              "#0d0887"
             ],
             [
              0.1111111111111111,
              "#46039f"
             ],
             [
              0.2222222222222222,
              "#7201a8"
             ],
             [
              0.3333333333333333,
              "#9c179e"
             ],
             [
              0.4444444444444444,
              "#bd3786"
             ],
             [
              0.5555555555555556,
              "#d8576b"
             ],
             [
              0.6666666666666666,
              "#ed7953"
             ],
             [
              0.7777777777777778,
              "#fb9f3a"
             ],
             [
              0.8888888888888888,
              "#fdca26"
             ],
             [
              1,
              "#f0f921"
             ]
            ],
            "type": "surface"
           }
          ],
          "table": [
           {
            "cells": {
             "fill": {
              "color": "#EBF0F8"
             },
             "line": {
              "color": "white"
             }
            },
            "header": {
             "fill": {
              "color": "#C8D4E3"
             },
             "line": {
              "color": "white"
             }
            },
            "type": "table"
           }
          ]
         },
         "layout": {
          "annotationdefaults": {
           "arrowcolor": "#2a3f5f",
           "arrowhead": 0,
           "arrowwidth": 1
          },
          "autotypenumbers": "strict",
          "coloraxis": {
           "colorbar": {
            "outlinewidth": 0,
            "ticks": ""
           }
          },
          "colorscale": {
           "diverging": [
            [
             0,
             "#8e0152"
            ],
            [
             0.1,
             "#c51b7d"
            ],
            [
             0.2,
             "#de77ae"
            ],
            [
             0.3,
             "#f1b6da"
            ],
            [
             0.4,
             "#fde0ef"
            ],
            [
             0.5,
             "#f7f7f7"
            ],
            [
             0.6,
             "#e6f5d0"
            ],
            [
             0.7,
             "#b8e186"
            ],
            [
             0.8,
             "#7fbc41"
            ],
            [
             0.9,
             "#4d9221"
            ],
            [
             1,
             "#276419"
            ]
           ],
           "sequential": [
            [
             0,
             "#0d0887"
            ],
            [
             0.1111111111111111,
             "#46039f"
            ],
            [
             0.2222222222222222,
             "#7201a8"
            ],
            [
             0.3333333333333333,
             "#9c179e"
            ],
            [
             0.4444444444444444,
             "#bd3786"
            ],
            [
             0.5555555555555556,
             "#d8576b"
            ],
            [
             0.6666666666666666,
             "#ed7953"
            ],
            [
             0.7777777777777778,
             "#fb9f3a"
            ],
            [
             0.8888888888888888,
             "#fdca26"
            ],
            [
             1,
             "#f0f921"
            ]
           ],
           "sequentialminus": [
            [
             0,
             "#0d0887"
            ],
            [
             0.1111111111111111,
             "#46039f"
            ],
            [
             0.2222222222222222,
             "#7201a8"
            ],
            [
             0.3333333333333333,
             "#9c179e"
            ],
            [
             0.4444444444444444,
             "#bd3786"
            ],
            [
             0.5555555555555556,
             "#d8576b"
            ],
            [
             0.6666666666666666,
             "#ed7953"
            ],
            [
             0.7777777777777778,
             "#fb9f3a"
            ],
            [
             0.8888888888888888,
             "#fdca26"
            ],
            [
             1,
             "#f0f921"
            ]
           ]
          },
          "colorway": [
           "#636efa",
           "#EF553B",
           "#00cc96",
           "#ab63fa",
           "#FFA15A",
           "#19d3f3",
           "#FF6692",
           "#B6E880",
           "#FF97FF",
           "#FECB52"
          ],
          "font": {
           "color": "#2a3f5f"
          },
          "geo": {
           "bgcolor": "white",
           "lakecolor": "white",
           "landcolor": "#E5ECF6",
           "showlakes": true,
           "showland": true,
           "subunitcolor": "white"
          },
          "hoverlabel": {
           "align": "left"
          },
          "hovermode": "closest",
          "mapbox": {
           "style": "light"
          },
          "paper_bgcolor": "white",
          "plot_bgcolor": "#E5ECF6",
          "polar": {
           "angularaxis": {
            "gridcolor": "white",
            "linecolor": "white",
            "ticks": ""
           },
           "bgcolor": "#E5ECF6",
           "radialaxis": {
            "gridcolor": "white",
            "linecolor": "white",
            "ticks": ""
           }
          },
          "scene": {
           "xaxis": {
            "backgroundcolor": "#E5ECF6",
            "gridcolor": "white",
            "gridwidth": 2,
            "linecolor": "white",
            "showbackground": true,
            "ticks": "",
            "zerolinecolor": "white"
           },
           "yaxis": {
            "backgroundcolor": "#E5ECF6",
            "gridcolor": "white",
            "gridwidth": 2,
            "linecolor": "white",
            "showbackground": true,
            "ticks": "",
            "zerolinecolor": "white"
           },
           "zaxis": {
            "backgroundcolor": "#E5ECF6",
            "gridcolor": "white",
            "gridwidth": 2,
            "linecolor": "white",
            "showbackground": true,
            "ticks": "",
            "zerolinecolor": "white"
           }
          },
          "shapedefaults": {
           "line": {
            "color": "#2a3f5f"
           }
          },
          "ternary": {
           "aaxis": {
            "gridcolor": "white",
            "linecolor": "white",
            "ticks": ""
           },
           "baxis": {
            "gridcolor": "white",
            "linecolor": "white",
            "ticks": ""
           },
           "bgcolor": "#E5ECF6",
           "caxis": {
            "gridcolor": "white",
            "linecolor": "white",
            "ticks": ""
           }
          },
          "title": {
           "x": 0.05
          },
          "xaxis": {
           "automargin": true,
           "gridcolor": "white",
           "linecolor": "white",
           "ticks": "",
           "title": {
            "standoff": 15
           },
           "zerolinecolor": "white",
           "zerolinewidth": 2
          },
          "yaxis": {
           "automargin": true,
           "gridcolor": "white",
           "linecolor": "white",
           "ticks": "",
           "title": {
            "standoff": 15
           },
           "zerolinecolor": "white",
           "zerolinewidth": 2
          }
         }
        },
        "updatemenus": [
         {
          "active": 0,
          "buttons": [
           {
            "args": [
             "geo.projection.type",
             "natural earth"
            ],
            "label": "Map View",
            "method": "relayout"
           },
           {
            "args": [
             "geo.projection.type",
             "orthographic"
            ],
            "label": "Globe View",
            "method": "relayout"
           }
          ],
          "direction": "down",
          "showactive": true
         }
        ]
       }
      },
      "image/png": "[encoded data removed]",
      "text/html": [
       "<div>                            <div id=\"8ad92060-6c7c-4c96-b672-ff64437e4160\" class=\"plotly-graph-div\" style=\"height:525px; width:100%;\"></div>            <script type=\"text/javascript\">                require([\"plotly\"], function(Plotly) {                    window.PLOTLYENV=window.PLOTLYENV || {};                                    if (document.getElementById(\"8ad92060-6c7c-4c96-b672-ff64437e4160\")) {                    Plotly.newPlot(                        \"8ad92060-6c7c-4c96-b672-ff64437e4160\",                        [{\"customdata\":[[173.0]],\"geo\":\"geo\",\"hovertemplate\":\"name=Northwest Africa 3126\\u003cbr\\u003ereclat=%{lat}\\u003cbr\\u003ereclong=%{lon}\\u003cbr\\u003emass (g)=%{customdata[0]}\\u003cextra\\u003e\\u003c\\u002fextra\\u003e\",\"lat\":[null],\"legendgroup\":\"Northwest Africa 3126\",\"lon\":[null],\"marker\":{\"color\":\"#636efa\",\"symbol\":\"circle\"},\"mode\":\"markers\",\"name\":\"Northwest Africa 3126\",\"showlegend\":true,\"type\":\"scattergeo\"},{\"customdata\":[[63.0]],\"geo\":\"geo\",\"hovertemplate\":\"name=LaPaz Icefield 04605\\u003cbr\\u003ereclat=%{lat}\\u003cbr\\u003ereclong=%{lon}\\u003cbr\\u003emass (g)=%{customdata[0]}\\u003cextra\\u003e\\u003c\\u002fextra\\u003e\",\"lat\":[null],\"legendgroup\":\"LaPaz Icefield 04605\",\"lon\":[null],\"marker\":{\"color\":\"#EF553B\",\"symbol\":\"circle\"},\"mode\":\"markers\",\"name\":\"LaPaz Icefield 04605\",\"showlegend\":true,\"type\":\"scattergeo\"},{\"customdata\":[[10.913]],\"geo\":\"geo\",\"hovertemplate\":\"name=Yamato 980593\\u003cbr\\u003ereclat=%{lat}\\u003cbr\\u003ereclong=%{lon}\\u003cbr\\u003emass (g)=%{customdata[0]}\\u003cextra\\u003e\\u003c\\u002fextra\\u003e\",\"lat\":[null],\"legendgroup\":\"Yamato 980593\",\"lon\":[null],\"marker\":{\"color\":\"#00cc96\",\"symbol\":\"circle\"},\"mode\":\"markers\",\"name\":\"Yamato 980593\",\"showlegend\":true,\"type\":\"scattergeo\"},{\"customdata\":[[27.3]],\"geo\":\"geo\",\"hovertemplate\":\"name=Queen Alexandra Range 97279\\u003cbr\\u003ereclat=%{lat}\\u003cbr\\u003ereclong=%{lon}\\u003cbr\\u003emass (g)=%{customdata[0]}\\u003cextra\\u003e\\u003c\\u002fextra\\u003e\",\"lat\":[-84.0],\"legendgroup\":\"Queen Alexandra Range 97279\",\"lon\":[168.0],\"marker\":{\"color\":\"#ab63fa\",\"symbol\":\"circle\"},\"mode\":\"markers\",\"name\":\"Queen Alexandra Range 97279\",\"showlegend\":true,\"type\":\"scattergeo\"},{\"customdata\":[[20.9]],\"geo\":\"geo\",\"hovertemplate\":\"name=Elephant Moraine 90798\\u003cbr\\u003ereclat=%{lat}\\u003cbr\\u003ereclong=%{lon}\\u003cbr\\u003emass (g)=%{customdata[0]}\\u003cextra\\u003e\\u003c\\u002fextra\\u003e\",\"lat\":[-76.28535],\"legendgroup\":\"Elephant Moraine 90798\",\"lon\":[156.44404],\"marker\":{\"color\":\"#FFA15A\",\"symbol\":\"circle\"},\"mode\":\"markers\",\"name\":\"Elephant Moraine 90798\",\"showlegend\":true,\"type\":\"scattergeo\"},{\"customdata\":[[2048.0]],\"geo\":\"geo\",\"hovertemplate\":\"name=Yamato 791406\\u003cbr\\u003ereclat=%{lat}\\u003cbr\\u003ereclong=%{lon}\\u003cbr\\u003emass (g)=%{customdata[0]}\\u003cextra\\u003e\\u003c\\u002fextra\\u003e\",\"lat\":[-71.5],\"legendgroup\":\"Yamato 791406\",\"lon\":[35.66667],\"marker\":{\"color\":\"#19d3f3\",\"symbol\":\"circle\"},\"mode\":\"markers\",\"name\":\"Yamato 791406\",\"showlegend\":true,\"type\":\"scattergeo\"},{\"customdata\":[[150.1]],\"geo\":\"geo\",\"hovertemplate\":\"name=Wisconsin Range 91628\\u003cbr\\u003ereclat=%{lat}\\u003cbr\\u003ereclong=%{lon}\\u003cbr\\u003emass (g)=%{customdata[0]}\\u003cextra\\u003e\\u003c\\u002fextra\\u003e\",\"lat\":[-86.51027],\"legendgroup\":\"Wisconsin Range 91628\",\"lon\":[-122.9522],\"marker\":{\"color\":\"#FF6692\",\"symbol\":\"circle\"},\"mode\":\"markers\",\"name\":\"Wisconsin Range 91628\",\"showlegend\":true,\"type\":\"scattergeo\"},{\"customdata\":[[13.16]],\"geo\":\"geo\",\"hovertemplate\":\"name=MacAlpine Hills 02954\\u003cbr\\u003ereclat=%{lat}\\u003cbr\\u003ereclong=%{lon}\\u003cbr\\u003emass (g)=%{customdata[0]}\\u003cextra\\u003e\\u003c\\u002fextra\\u003e\",\"lat\":[null],\"legendgroup\":\"MacAlpine Hills 02954\",\"lon\":[null],\"marker\":{\"color\":\"#B6E880\",\"symbol\":\"circle\"},\"mode\":\"markers\",\"name\":\"MacAlpine Hills 02954\",\"showlegend\":true,\"type\":\"scattergeo\"},{\"customdata\":[[87.49]],\"geo\":\"geo\",\"hovertemplate\":\"name=Asuka 881874\\u003cbr\\u003ereclat=%{lat}\\u003cbr\\u003ereclong=%{lon}\\u003cbr\\u003emass (g)=%{customdata[0]}\\u003cextra\\u003e\\u003c\\u002fextra\\u003e\",\"lat\":[-72.0],\"legendgroup\":\"Asuka 881874\",\"lon\":[26.0],\"marker\":{\"color\":\"#FF97FF\",\"symbol\":\"circle\"},\"mode\":\"markers\",\"name\":\"Asuka 881874\",\"showlegend\":true,\"type\":\"scattergeo\"},{\"customdata\":[[3.03]],\"geo\":\"geo\",\"hovertemplate\":\"name=Yamato 791391\\u003cbr\\u003ereclat=%{lat}\\u003cbr\\u003ereclong=%{lon}\\u003cbr\\u003emass (g)=%{customdata[0]}\\u003cextra\\u003e\\u003c\\u002fextra\\u003e\",\"lat\":[-71.5],\"legendgroup\":\"Yamato 791391\",\"lon\":[35.66667],\"marker\":{\"color\":\"#FECB52\",\"symbol\":\"circle\"},\"mode\":\"markers\",\"name\":\"Yamato 791391\",\"showlegend\":true,\"type\":\"scattergeo\"},{\"customdata\":[[31.03]],\"geo\":\"geo\",\"hovertemplate\":\"name=Yamato 791220\\u003cbr\\u003ereclat=%{lat}\\u003cbr\\u003ereclong=%{lon}\\u003cbr\\u003emass (g)=%{customdata[0]}\\u003cextra\\u003e\\u003c\\u002fextra\\u003e\",\"lat\":[-71.5],\"legendgroup\":\"Yamato 791220\",\"lon\":[35.66667],\"marker\":{\"color\":\"#636efa\",\"symbol\":\"circle\"},\"mode\":\"markers\",\"name\":\"Yamato 791220\",\"showlegend\":true,\"type\":\"scattergeo\"},{\"customdata\":[[1.2]],\"geo\":\"geo\",\"hovertemplate\":\"name=Lewis Cliff 93850\\u003cbr\\u003ereclat=%{lat}\\u003cbr\\u003ereclong=%{lon}\\u003cbr\\u003emass (g)=%{customdata[0]}\\u003cextra\\u003e\\u003c\\u002fextra\\u003e\",\"lat\":[-84.27378],\"legendgroup\":\"Lewis Cliff 93850\",\"lon\":[161.68545],\"marker\":{\"color\":\"#EF553B\",\"symbol\":\"circle\"},\"mode\":\"markers\",\"name\":\"Lewis Cliff 93850\",\"showlegend\":true,\"type\":\"scattergeo\"},{\"customdata\":[[9.217]],\"geo\":\"geo\",\"hovertemplate\":\"name=Yamato 980011\\u003cbr\\u003ereclat=%{lat}\\u003cbr\\u003ereclong=%{lon}\\u003cbr\\u003emass (g)=%{customdata[0]}\\u003cextra\\u003e\\u003c\\u002fextra\\u003e\",\"lat\":[null],\"legendgroup\":\"Yamato 980011\",\"lon\":[null],\"marker\":{\"color\":\"#00cc96\",\"symbol\":\"circle\"},\"mode\":\"markers\",\"name\":\"Yamato 980011\",\"showlegend\":true,\"type\":\"scattergeo\"},{\"customdata\":[[1000.0]],\"geo\":\"geo\",\"hovertemplate\":\"name=Summit\\u003cbr\\u003ereclat=%{lat}\\u003cbr\\u003ereclong=%{lon}\\u003cbr\\u003emass (g)=%{customdata[0]}\\u003cextra\\u003e\\u003c\\u002fextra\\u003e\",\"lat\":[34.2],\"legendgroup\":\"Summit\",\"lon\":[-86.48333],\"marker\":{\"color\":\"#ab63fa\",\"symbol\":\"circle\"},\"mode\":\"markers\",\"name\":\"Summit\",\"showlegend\":true,\"type\":\"scattergeo\"},{\"customdata\":[[2.4]],\"geo\":\"geo\",\"hovertemplate\":\"name=Lewis Cliff 87228\\u003cbr\\u003ereclat=%{lat}\\u003cbr\\u003ereclong=%{lon}\\u003cbr\\u003emass (g)=%{customdata[0]}\\u003cextra\\u003e\\u003c\\u002fextra\\u003e\",\"lat\":[-84.357],\"legendgroup\":\"Lewis Cliff 87228\",\"lon\":[161.36443],\"marker\":{\"color\":\"#FFA15A\",\"symbol\":\"circle\"},\"mode\":\"markers\",\"name\":\"Lewis Cliff 87228\",\"showlegend\":true,\"type\":\"scattergeo\"},{\"customdata\":[[0.5]],\"geo\":\"geo\",\"hovertemplate\":\"name=Queen Alexandra Range 99817\\u003cbr\\u003ereclat=%{lat}\\u003cbr\\u003ereclong=%{lon}\\u003cbr\\u003emass (g)=%{customdata[0]}\\u003cextra\\u003e\\u003c\\u002fextra\\u003e\",\"lat\":[-84.0],\"legendgroup\":\"Queen Alexandra Range 99817\",\"lon\":[168.0],\"marker\":{\"color\":\"#19d3f3\",\"symbol\":\"circle\"},\"mode\":\"markers\",\"name\":\"Queen Alexandra Range 99817\",\"showlegend\":true,\"type\":\"scattergeo\"},{\"customdata\":[[16.4]],\"geo\":\"geo\",\"hovertemplate\":\"name=Queen Alexandra Range 99160\\u003cbr\\u003ereclat=%{lat}\\u003cbr\\u003ereclong=%{lon}\\u003cbr\\u003emass (g)=%{customdata[0]}\\u003cextra\\u003e\\u003c\\u002fextra\\u003e\",\"lat\":[-84.0],\"legendgroup\":\"Queen Alexandra Range 99160\",\"lon\":[168.0],\"marker\":{\"color\":\"#FF6692\",\"symbol\":\"circle\"},\"mode\":\"markers\",\"name\":\"Queen Alexandra Range 99160\",\"showlegend\":true,\"type\":\"scattergeo\"},{\"customdata\":[[45.21]],\"geo\":\"geo\",\"hovertemplate\":\"name=Asuka 882014\\u003cbr\\u003ereclat=%{lat}\\u003cbr\\u003ereclong=%{lon}\\u003cbr\\u003emass (g)=%{customdata[0]}\\u003cextra\\u003e\\u003c\\u002fextra\\u003e\",\"lat\":[-72.0],\"legendgroup\":\"Asuka 882014\",\"lon\":[26.0],\"marker\":{\"color\":\"#B6E880\",\"symbol\":\"circle\"},\"mode\":\"markers\",\"name\":\"Asuka 882014\",\"showlegend\":true,\"type\":\"scattergeo\"},{\"customdata\":[[1.4]],\"geo\":\"geo\",\"hovertemplate\":\"name=Queen Alexandra Range 99909\\u003cbr\\u003ereclat=%{lat}\\u003cbr\\u003ereclong=%{lon}\\u003cbr\\u003emass (g)=%{customdata[0]}\\u003cextra\\u003e\\u003c\\u002fextra\\u003e\",\"lat\":[-84.0],\"legendgroup\":\"Queen Alexandra Range 99909\",\"lon\":[168.0],\"marker\":{\"color\":\"#FF97FF\",\"symbol\":\"circle\"},\"mode\":\"markers\",\"name\":\"Queen Alexandra Range 99909\",\"showlegend\":true,\"type\":\"scattergeo\"},{\"customdata\":[[2.55]],\"geo\":\"geo\",\"hovertemplate\":\"name=Grove Mountains 022099\\u003cbr\\u003ereclat=%{lat}\\u003cbr\\u003ereclong=%{lon}\\u003cbr\\u003emass (g)=%{customdata[0]}\\u003cextra\\u003e\\u003c\\u002fextra\\u003e\",\"lat\":[-72.77917],\"legendgroup\":\"Grove Mountains 022099\",\"lon\":[75.31056],\"marker\":{\"color\":\"#FECB52\",\"symbol\":\"circle\"},\"mode\":\"markers\",\"name\":\"Grove Mountains 022099\",\"showlegend\":true,\"type\":\"scattergeo\"},{\"customdata\":[[33.8]],\"geo\":\"geo\",\"hovertemplate\":\"name=Bates Nunataks 00301\\u003cbr\\u003ereclat=%{lat}\\u003cbr\\u003ereclong=%{lon}\\u003cbr\\u003emass (g)=%{customdata[0]}\\u003cextra\\u003e\\u003c\\u002fextra\\u003e\",\"lat\":[-80.25],\"legendgroup\":\"Bates Nunataks 00301\",\"lon\":[153.5],\"marker\":{\"color\":\"#636efa\",\"symbol\":\"circle\"},\"mode\":\"markers\",\"name\":\"Bates Nunataks 00301\",\"showlegend\":true,\"type\":\"scattergeo\"},{\"customdata\":[[1.1]],\"geo\":\"geo\",\"hovertemplate\":\"name=MacAlpine Hills 041181\\u003cbr\\u003ereclat=%{lat}\\u003cbr\\u003ereclong=%{lon}\\u003cbr\\u003emass (g)=%{customdata[0]}\\u003cextra\\u003e\\u003c\\u002fextra\\u003e\",\"lat\":[null],\"legendgroup\":\"MacAlpine Hills 041181\",\"lon\":[null],\"marker\":{\"color\":\"#EF553B\",\"symbol\":\"circle\"},\"mode\":\"markers\",\"name\":\"MacAlpine Hills 041181\",\"showlegend\":true,\"type\":\"scattergeo\"},{\"customdata\":[[8.1]],\"geo\":\"geo\",\"hovertemplate\":\"name=Pecora Escarpment 91293\\u003cbr\\u003ereclat=%{lat}\\u003cbr\\u003ereclong=%{lon}\\u003cbr\\u003emass (g)=%{customdata[0]}\\u003cextra\\u003e\\u003c\\u002fextra\\u003e\",\"lat\":[-85.691],\"legendgroup\":\"Pecora Escarpment 91293\",\"lon\":[-68.96836],\"marker\":{\"color\":\"#00cc96\",\"symbol\":\"circle\"},\"mode\":\"markers\",\"name\":\"Pecora Escarpment 91293\",\"showlegend\":true,\"type\":\"scattergeo\"},{\"customdata\":[[52.4]],\"geo\":\"geo\",\"hovertemplate\":\"name=Queen Alexandra Range 99325\\u003cbr\\u003ereclat=%{lat}\\u003cbr\\u003ereclong=%{lon}\\u003cbr\\u003emass (g)=%{customdata[0]}\\u003cextra\\u003e\\u003c\\u002fextra\\u003e\",\"lat\":[-84.0],\"legendgroup\":\"Queen Alexandra Range 99325\",\"lon\":[168.0],\"marker\":{\"color\":\"#ab63fa\",\"symbol\":\"circle\"},\"mode\":\"markers\",\"name\":\"Queen Alexandra Range 99325\",\"showlegend\":true,\"type\":\"scattergeo\"},{\"customdata\":[[197.2]],\"geo\":\"geo\",\"hovertemplate\":\"name=Miller Range 05048\\u003cbr\\u003ereclat=%{lat}\\u003cbr\\u003ereclong=%{lon}\\u003cbr\\u003emass (g)=%{customdata[0]}\\u003cextra\\u003e\\u003c\\u002fextra\\u003e\",\"lat\":[null],\"legendgroup\":\"Miller Range 05048\",\"lon\":[null],\"marker\":{\"color\":\"#FFA15A\",\"symbol\":\"circle\"},\"mode\":\"markers\",\"name\":\"Miller Range 05048\",\"showlegend\":true,\"type\":\"scattergeo\"},{\"customdata\":[[101.4]],\"geo\":\"geo\",\"hovertemplate\":\"name=Roberts Massif 04142\\u003cbr\\u003ereclat=%{lat}\\u003cbr\\u003ereclong=%{lon}\\u003cbr\\u003emass (g)=%{customdata[0]}\\u003cextra\\u003e\\u003c\\u002fextra\\u003e\",\"lat\":[null],\"legendgroup\":\"Roberts Massif 04142\",\"lon\":[null],\"marker\":{\"color\":\"#19d3f3\",\"symbol\":\"circle\"},\"mode\":\"markers\",\"name\":\"Roberts Massif 04142\",\"showlegend\":true,\"type\":\"scattergeo\"},{\"customdata\":[[4.4]],\"geo\":\"geo\",\"hovertemplate\":\"name=Allan Hills A78069\\u003cbr\\u003ereclat=%{lat}\\u003cbr\\u003ereclong=%{lon}\\u003cbr\\u003emass (g)=%{customdata[0]}\\u003cextra\\u003e\\u003c\\u002fextra\\u003e\",\"lat\":[-76.71667],\"legendgroup\":\"Allan Hills A78069\",\"lon\":[159.66667],\"marker\":{\"color\":\"#FF6692\",\"symbol\":\"circle\"},\"mode\":\"markers\",\"name\":\"Allan Hills A78069\",\"showlegend\":true,\"type\":\"scattergeo\"},{\"customdata\":[[12.976]],\"geo\":\"geo\",\"hovertemplate\":\"name=Yamato 980814\\u003cbr\\u003ereclat=%{lat}\\u003cbr\\u003ereclong=%{lon}\\u003cbr\\u003emass (g)=%{customdata[0]}\\u003cextra\\u003e\\u003c\\u002fextra\\u003e\",\"lat\":[null],\"legendgroup\":\"Yamato 980814\",\"lon\":[null],\"marker\":{\"color\":\"#B6E880\",\"symbol\":\"circle\"},\"mode\":\"markers\",\"name\":\"Yamato 980814\",\"showlegend\":true,\"type\":\"scattergeo\"},{\"customdata\":[[579.0]],\"geo\":\"geo\",\"hovertemplate\":\"name=Northwest Africa 4425\\u003cbr\\u003ereclat=%{lat}\\u003cbr\\u003ereclong=%{lon}\\u003cbr\\u003emass (g)=%{customdata[0]}\\u003cextra\\u003e\\u003c\\u002fextra\\u003e\",\"lat\":[null],\"legendgroup\":\"Northwest Africa 4425\",\"lon\":[null],\"marker\":{\"color\":\"#FF97FF\",\"symbol\":\"circle\"},\"mode\":\"markers\",\"name\":\"Northwest Africa 4425\",\"showlegend\":true,\"type\":\"scattergeo\"},{\"customdata\":[[69.9]],\"geo\":\"geo\",\"hovertemplate\":\"name=Yamato 74123\\u003cbr\\u003ereclat=%{lat}\\u003cbr\\u003ereclong=%{lon}\\u003cbr\\u003emass (g)=%{customdata[0]}\\u003cextra\\u003e\\u003c\\u002fextra\\u003e\",\"lat\":[-71.82806],\"legendgroup\":\"Yamato 74123\",\"lon\":[36.20556],\"marker\":{\"color\":\"#FECB52\",\"symbol\":\"circle\"},\"mode\":\"markers\",\"name\":\"Yamato 74123\",\"showlegend\":true,\"type\":\"scattergeo\"},{\"customdata\":[[9.49]],\"geo\":\"geo\",\"hovertemplate\":\"name=Yamato 983261\\u003cbr\\u003ereclat=%{lat}\\u003cbr\\u003ereclong=%{lon}\\u003cbr\\u003emass (g)=%{customdata[0]}\\u003cextra\\u003e\\u003c\\u002fextra\\u003e\",\"lat\":[0.0],\"legendgroup\":\"Yamato 983261\",\"lon\":[0.0],\"marker\":{\"color\":\"#636efa\",\"symbol\":\"circle\"},\"mode\":\"markers\",\"name\":\"Yamato 983261\",\"showlegend\":true,\"type\":\"scattergeo\"},{\"customdata\":[[102.79]],\"geo\":\"geo\",\"hovertemplate\":\"name=Yamato 981304\\u003cbr\\u003ereclat=%{lat}\\u003cbr\\u003ereclong=%{lon}\\u003cbr\\u003emass (g)=%{customdata[0]}\\u003cextra\\u003e\\u003c\\u002fextra\\u003e\",\"lat\":[0.0],\"legendgroup\":\"Yamato 981304\",\"lon\":[0.0],\"marker\":{\"color\":\"#EF553B\",\"symbol\":\"circle\"},\"mode\":\"markers\",\"name\":\"Yamato 981304\",\"showlegend\":true,\"type\":\"scattergeo\"},{\"customdata\":[[1.58]],\"geo\":\"geo\",\"hovertemplate\":\"name=Grove Mountains 054856\\u003cbr\\u003ereclat=%{lat}\\u003cbr\\u003ereclong=%{lon}\\u003cbr\\u003emass (g)=%{customdata[0]}\\u003cextra\\u003e\\u003c\\u002fextra\\u003e\",\"lat\":[-72.99889],\"legendgroup\":\"Grove Mountains 054856\",\"lon\":[75.18722],\"marker\":{\"color\":\"#00cc96\",\"symbol\":\"circle\"},\"mode\":\"markers\",\"name\":\"Grove Mountains 054856\",\"showlegend\":true,\"type\":\"scattergeo\"},{\"customdata\":[[0.45]],\"geo\":\"geo\",\"hovertemplate\":\"name=Grove Mountains 021911\\u003cbr\\u003ereclat=%{lat}\\u003cbr\\u003ereclong=%{lon}\\u003cbr\\u003emass (g)=%{customdata[0]}\\u003cextra\\u003e\\u003c\\u002fextra\\u003e\",\"lat\":[-72.7769],\"legendgroup\":\"Grove Mountains 021911\",\"lon\":[75.3264],\"marker\":{\"color\":\"#ab63fa\",\"symbol\":\"circle\"},\"mode\":\"markers\",\"name\":\"Grove Mountains 021911\",\"showlegend\":true,\"type\":\"scattergeo\"},{\"customdata\":[[3879.0]],\"geo\":\"geo\",\"hovertemplate\":\"name=Ramlat as Sahmah 422\\u003cbr\\u003ereclat=%{lat}\\u003cbr\\u003ereclong=%{lon}\\u003cbr\\u003emass (g)=%{customdata[0]}\\u003cextra\\u003e\\u003c\\u002fextra\\u003e\",\"lat\":[20.5052],\"legendgroup\":\"Ramlat as Sahmah 422\",\"lon\":[56.48438],\"marker\":{\"color\":\"#FFA15A\",\"symbol\":\"circle\"},\"mode\":\"markers\",\"name\":\"Ramlat as Sahmah 422\",\"showlegend\":true,\"type\":\"scattergeo\"},{\"customdata\":[[5100.0]],\"geo\":\"geo\",\"hovertemplate\":\"name=Pasamonte\\u003cbr\\u003ereclat=%{lat}\\u003cbr\\u003ereclong=%{lon}\\u003cbr\\u003emass (g)=%{customdata[0]}\\u003cextra\\u003e\\u003c\\u002fextra\\u003e\",\"lat\":[36.21667],\"legendgroup\":\"Pasamonte\",\"lon\":[-103.4],\"marker\":{\"color\":\"#19d3f3\",\"symbol\":\"circle\"},\"mode\":\"markers\",\"name\":\"Pasamonte\",\"showlegend\":true,\"type\":\"scattergeo\"},{\"customdata\":[[3.26]],\"geo\":\"geo\",\"hovertemplate\":\"name=Grove Mountains 053128\\u003cbr\\u003ereclat=%{lat}\\u003cbr\\u003ereclong=%{lon}\\u003cbr\\u003emass (g)=%{customdata[0]}\\u003cextra\\u003e\\u003c\\u002fextra\\u003e\",\"lat\":[-72.76944],\"legendgroup\":\"Grove Mountains 053128\",\"lon\":[75.3375],\"marker\":{\"color\":\"#FF6692\",\"symbol\":\"circle\"},\"mode\":\"markers\",\"name\":\"Grove Mountains 053128\",\"showlegend\":true,\"type\":\"scattergeo\"},{\"customdata\":[[16300.0]],\"geo\":\"geo\",\"hovertemplate\":\"name=Forsyth\\u003cbr\\u003ereclat=%{lat}\\u003cbr\\u003ereclong=%{lon}\\u003cbr\\u003emass (g)=%{customdata[0]}\\u003cextra\\u003e\\u003c\\u002fextra\\u003e\",\"lat\":[33.01667],\"legendgroup\":\"Forsyth\",\"lon\":[-83.96667],\"marker\":{\"color\":\"#B6E880\",\"symbol\":\"circle\"},\"mode\":\"markers\",\"name\":\"Forsyth\",\"showlegend\":true,\"type\":\"scattergeo\"},{\"customdata\":[[3.49]],\"geo\":\"geo\",\"hovertemplate\":\"name=LaPaz Icefield 02291\\u003cbr\\u003ereclat=%{lat}\\u003cbr\\u003ereclong=%{lon}\\u003cbr\\u003emass (g)=%{customdata[0]}\\u003cextra\\u003e\\u003c\\u002fextra\\u003e\",\"lat\":[-86.36667],\"legendgroup\":\"LaPaz Icefield 02291\",\"lon\":[-70.0],\"marker\":{\"color\":\"#FF97FF\",\"symbol\":\"circle\"},\"mode\":\"markers\",\"name\":\"LaPaz Icefield 02291\",\"showlegend\":true,\"type\":\"scattergeo\"},{\"customdata\":[[0.54]],\"geo\":\"geo\",\"hovertemplate\":\"name=Yamato 74324\\u003cbr\\u003ereclat=%{lat}\\u003cbr\\u003ereclong=%{lon}\\u003cbr\\u003emass (g)=%{customdata[0]}\\u003cextra\\u003e\\u003c\\u002fextra\\u003e\",\"lat\":[-71.5],\"legendgroup\":\"Yamato 74324\",\"lon\":[35.66667],\"marker\":{\"color\":\"#FECB52\",\"symbol\":\"circle\"},\"mode\":\"markers\",\"name\":\"Yamato 74324\",\"showlegend\":true,\"type\":\"scattergeo\"},{\"customdata\":[[17.54]],\"geo\":\"geo\",\"hovertemplate\":\"name=LaPaz Icefield 02419\\u003cbr\\u003ereclat=%{lat}\\u003cbr\\u003ereclong=%{lon}\\u003cbr\\u003emass (g)=%{customdata[0]}\\u003cextra\\u003e\\u003c\\u002fextra\\u003e\",\"lat\":[-86.36667],\"legendgroup\":\"LaPaz Icefield 02419\",\"lon\":[-70.0],\"marker\":{\"color\":\"#636efa\",\"symbol\":\"circle\"},\"mode\":\"markers\",\"name\":\"LaPaz Icefield 02419\",\"showlegend\":true,\"type\":\"scattergeo\"},{\"customdata\":[[4.6]],\"geo\":\"geo\",\"hovertemplate\":\"name=O'Malley 002\\u003cbr\\u003ereclat=%{lat}\\u003cbr\\u003ereclong=%{lon}\\u003cbr\\u003emass (g)=%{customdata[0]}\\u003cextra\\u003e\\u003c\\u002fextra\\u003e\",\"lat\":[-30.99311],\"legendgroup\":\"O'Malley 002\",\"lon\":[131.33253],\"marker\":{\"color\":\"#EF553B\",\"symbol\":\"circle\"},\"mode\":\"markers\",\"name\":\"O'Malley 002\",\"showlegend\":true,\"type\":\"scattergeo\"},{\"customdata\":[[613.0]],\"geo\":\"geo\",\"hovertemplate\":\"name=Sayh al Uhaymir 293\\u003cbr\\u003ereclat=%{lat}\\u003cbr\\u003ereclong=%{lon}\\u003cbr\\u003emass (g)=%{customdata[0]}\\u003cextra\\u003e\\u003c\\u002fextra\\u003e\",\"lat\":[20.60837],\"legendgroup\":\"Sayh al Uhaymir 293\",\"lon\":[57.16007],\"marker\":{\"color\":\"#00cc96\",\"symbol\":\"circle\"},\"mode\":\"markers\",\"name\":\"Sayh al Uhaymir 293\",\"showlegend\":true,\"type\":\"scattergeo\"},{\"customdata\":[[48.2]],\"geo\":\"geo\",\"hovertemplate\":\"name=Frontier Mountain 84002\\u003cbr\\u003ereclat=%{lat}\\u003cbr\\u003ereclong=%{lon}\\u003cbr\\u003emass (g)=%{customdata[0]}\\u003cextra\\u003e\\u003c\\u002fextra\\u003e\",\"lat\":[-72.95488],\"legendgroup\":\"Frontier Mountain 84002\",\"lon\":[160.47328],\"marker\":{\"color\":\"#ab63fa\",\"symbol\":\"circle\"},\"mode\":\"markers\",\"name\":\"Frontier Mountain 84002\",\"showlegend\":true,\"type\":\"scattergeo\"},{\"customdata\":[[8.6]],\"geo\":\"geo\",\"hovertemplate\":\"name=Elephant Moraine 83224\\u003cbr\\u003ereclat=%{lat}\\u003cbr\\u003ereclong=%{lon}\\u003cbr\\u003emass (g)=%{customdata[0]}\\u003cextra\\u003e\\u003c\\u002fextra\\u003e\",\"lat\":[-76.31222],\"legendgroup\":\"Elephant Moraine 83224\",\"lon\":[157.39528],\"marker\":{\"color\":\"#FFA15A\",\"symbol\":\"circle\"},\"mode\":\"markers\",\"name\":\"Elephant Moraine 83224\",\"showlegend\":true,\"type\":\"scattergeo\"},{\"customdata\":[[24.2]],\"geo\":\"geo\",\"hovertemplate\":\"name=Yamato 792055\\u003cbr\\u003ereclat=%{lat}\\u003cbr\\u003ereclong=%{lon}\\u003cbr\\u003emass (g)=%{customdata[0]}\\u003cextra\\u003e\\u003c\\u002fextra\\u003e\",\"lat\":[-71.5],\"legendgroup\":\"Yamato 792055\",\"lon\":[35.66667],\"marker\":{\"color\":\"#19d3f3\",\"symbol\":\"circle\"},\"mode\":\"markers\",\"name\":\"Yamato 792055\",\"showlegend\":true,\"type\":\"scattergeo\"},{\"customdata\":[[0.74]],\"geo\":\"geo\",\"hovertemplate\":\"name=Frontier Mountain 03097\\u003cbr\\u003ereclat=%{lat}\\u003cbr\\u003ereclong=%{lon}\\u003cbr\\u003emass (g)=%{customdata[0]}\\u003cextra\\u003e\\u003c\\u002fextra\\u003e\",\"lat\":[-72.95222],\"legendgroup\":\"Frontier Mountain 03097\",\"lon\":[160.50161],\"marker\":{\"color\":\"#FF6692\",\"symbol\":\"circle\"},\"mode\":\"markers\",\"name\":\"Frontier Mountain 03097\",\"showlegend\":true,\"type\":\"scattergeo\"},{\"customdata\":[[8.3]],\"geo\":\"geo\",\"hovertemplate\":\"name=Miller Range 090160\\u003cbr\\u003ereclat=%{lat}\\u003cbr\\u003ereclong=%{lon}\\u003cbr\\u003emass (g)=%{customdata[0]}\\u003cextra\\u003e\\u003c\\u002fextra\\u003e\",\"lat\":[0.0],\"legendgroup\":\"Miller Range 090160\",\"lon\":[0.0],\"marker\":{\"color\":\"#B6E880\",\"symbol\":\"circle\"},\"mode\":\"markers\",\"name\":\"Miller Range 090160\",\"showlegend\":true,\"type\":\"scattergeo\"},{\"customdata\":[[7500.0]],\"geo\":\"geo\",\"hovertemplate\":\"name=Northwest Africa 2304\\u003cbr\\u003ereclat=%{lat}\\u003cbr\\u003ereclong=%{lon}\\u003cbr\\u003emass (g)=%{customdata[0]}\\u003cextra\\u003e\\u003c\\u002fextra\\u003e\",\"lat\":[null],\"legendgroup\":\"Northwest Africa 2304\",\"lon\":[null],\"marker\":{\"color\":\"#FF97FF\",\"symbol\":\"circle\"},\"mode\":\"markers\",\"name\":\"Northwest Africa 2304\",\"showlegend\":true,\"type\":\"scattergeo\"},{\"customdata\":[[26.7]],\"geo\":\"geo\",\"hovertemplate\":\"name=LaPaz Icefield 04585\\u003cbr\\u003ereclat=%{lat}\\u003cbr\\u003ereclong=%{lon}\\u003cbr\\u003emass (g)=%{customdata[0]}\\u003cextra\\u003e\\u003c\\u002fextra\\u003e\",\"lat\":[null],\"legendgroup\":\"LaPaz Icefield 04585\",\"lon\":[null],\"marker\":{\"color\":\"#FECB52\",\"symbol\":\"circle\"},\"mode\":\"markers\",\"name\":\"LaPaz Icefield 04585\",\"showlegend\":true,\"type\":\"scattergeo\"},{\"customdata\":[[13600.0]],\"geo\":\"geo\",\"hovertemplate\":\"name=Bridgewater\\u003cbr\\u003ereclat=%{lat}\\u003cbr\\u003ereclong=%{lon}\\u003cbr\\u003emass (g)=%{customdata[0]}\\u003cextra\\u003e\\u003c\\u002fextra\\u003e\",\"lat\":[35.71667],\"legendgroup\":\"Bridgewater\",\"lon\":[-81.86667],\"marker\":{\"color\":\"#636efa\",\"symbol\":\"circle\"},\"mode\":\"markers\",\"name\":\"Bridgewater\",\"showlegend\":true,\"type\":\"scattergeo\"},{\"customdata\":[[34.1]],\"geo\":\"geo\",\"hovertemplate\":\"name=Mount Wisting 95307\\u003cbr\\u003ereclat=%{lat}\\u003cbr\\u003ereclong=%{lon}\\u003cbr\\u003emass (g)=%{customdata[0]}\\u003cextra\\u003e\\u003c\\u002fextra\\u003e\",\"lat\":[-86.45],\"legendgroup\":\"Mount Wisting 95307\",\"lon\":[-165.43333],\"marker\":{\"color\":\"#EF553B\",\"symbol\":\"circle\"},\"mode\":\"markers\",\"name\":\"Mount Wisting 95307\",\"showlegend\":true,\"type\":\"scattergeo\"},{\"customdata\":[[45.0]],\"geo\":\"geo\",\"hovertemplate\":\"name=Sahara 98430\\u003cbr\\u003ereclat=%{lat}\\u003cbr\\u003ereclong=%{lon}\\u003cbr\\u003emass (g)=%{customdata[0]}\\u003cextra\\u003e\\u003c\\u002fextra\\u003e\",\"lat\":[null],\"legendgroup\":\"Sahara 98430\",\"lon\":[null],\"marker\":{\"color\":\"#00cc96\",\"symbol\":\"circle\"},\"mode\":\"markers\",\"name\":\"Sahara 98430\",\"showlegend\":true,\"type\":\"scattergeo\"},{\"customdata\":[[56.82]],\"geo\":\"geo\",\"hovertemplate\":\"name=Yamato 74456\\u003cbr\\u003ereclat=%{lat}\\u003cbr\\u003ereclong=%{lon}\\u003cbr\\u003emass (g)=%{customdata[0]}\\u003cextra\\u003e\\u003c\\u002fextra\\u003e\",\"lat\":[-71.5],\"legendgroup\":\"Yamato 74456\",\"lon\":[35.66667],\"marker\":{\"color\":\"#ab63fa\",\"symbol\":\"circle\"},\"mode\":\"markers\",\"name\":\"Yamato 74456\",\"showlegend\":true,\"type\":\"scattergeo\"},{\"customdata\":[[1.59]],\"geo\":\"geo\",\"hovertemplate\":\"name=Yamato 86585\\u003cbr\\u003ereclat=%{lat}\\u003cbr\\u003ereclong=%{lon}\\u003cbr\\u003emass (g)=%{customdata[0]}\\u003cextra\\u003e\\u003c\\u002fextra\\u003e\",\"lat\":[-71.5],\"legendgroup\":\"Yamato 86585\",\"lon\":[35.66667],\"marker\":{\"color\":\"#FFA15A\",\"symbol\":\"circle\"},\"mode\":\"markers\",\"name\":\"Yamato 86585\",\"showlegend\":true,\"type\":\"scattergeo\"},{\"customdata\":[[8.4]],\"geo\":\"geo\",\"hovertemplate\":\"name=Elephant Moraine 96180\\u003cbr\\u003ereclat=%{lat}\\u003cbr\\u003ereclong=%{lon}\\u003cbr\\u003emass (g)=%{customdata[0]}\\u003cextra\\u003e\\u003c\\u002fextra\\u003e\",\"lat\":[-76.18333],\"legendgroup\":\"Elephant Moraine 96180\",\"lon\":[157.16667],\"marker\":{\"color\":\"#19d3f3\",\"symbol\":\"circle\"},\"mode\":\"markers\",\"name\":\"Elephant Moraine 96180\",\"showlegend\":true,\"type\":\"scattergeo\"},{\"customdata\":[[7.3]],\"geo\":\"geo\",\"hovertemplate\":\"name=Miller Range 090186\\u003cbr\\u003ereclat=%{lat}\\u003cbr\\u003ereclong=%{lon}\\u003cbr\\u003emass (g)=%{customdata[0]}\\u003cextra\\u003e\\u003c\\u002fextra\\u003e\",\"lat\":[0.0],\"legendgroup\":\"Miller Range 090186\",\"lon\":[0.0],\"marker\":{\"color\":\"#FF6692\",\"symbol\":\"circle\"},\"mode\":\"markers\",\"name\":\"Miller Range 090186\",\"showlegend\":true,\"type\":\"scattergeo\"},{\"customdata\":[[1.7]],\"geo\":\"geo\",\"hovertemplate\":\"name=Miller Range 090324\\u003cbr\\u003ereclat=%{lat}\\u003cbr\\u003ereclong=%{lon}\\u003cbr\\u003emass (g)=%{customdata[0]}\\u003cextra\\u003e\\u003c\\u002fextra\\u003e\",\"lat\":[0.0],\"legendgroup\":\"Miller Range 090324\",\"lon\":[0.0],\"marker\":{\"color\":\"#B6E880\",\"symbol\":\"circle\"},\"mode\":\"markers\",\"name\":\"Miller Range 090324\",\"showlegend\":true,\"type\":\"scattergeo\"},{\"customdata\":[[2.09]],\"geo\":\"geo\",\"hovertemplate\":\"name=Yamato 75217\\u003cbr\\u003ereclat=%{lat}\\u003cbr\\u003ereclong=%{lon}\\u003cbr\\u003emass (g)=%{customdata[0]}\\u003cextra\\u003e\\u003c\\u002fextra\\u003e\",\"lat\":[-71.5],\"legendgroup\":\"Yamato 75217\",\"lon\":[35.66667],\"marker\":{\"color\":\"#FF97FF\",\"symbol\":\"circle\"},\"mode\":\"markers\",\"name\":\"Yamato 75217\",\"showlegend\":true,\"type\":\"scattergeo\"},{\"customdata\":[[74.0]],\"geo\":\"geo\",\"hovertemplate\":\"name=Dhofar 449\\u003cbr\\u003ereclat=%{lat}\\u003cbr\\u003ereclong=%{lon}\\u003cbr\\u003emass (g)=%{customdata[0]}\\u003cextra\\u003e\\u003c\\u002fextra\\u003e\",\"lat\":[18.90573],\"legendgroup\":\"Dhofar 449\",\"lon\":[54.50885],\"marker\":{\"color\":\"#FECB52\",\"symbol\":\"circle\"},\"mode\":\"markers\",\"name\":\"Dhofar 449\",\"showlegend\":true,\"type\":\"scattergeo\"},{\"customdata\":[[495.4]],\"geo\":\"geo\",\"hovertemplate\":\"name=Roberts Massif 04121\\u003cbr\\u003ereclat=%{lat}\\u003cbr\\u003ereclong=%{lon}\\u003cbr\\u003emass (g)=%{customdata[0]}\\u003cextra\\u003e\\u003c\\u002fextra\\u003e\",\"lat\":[null],\"legendgroup\":\"Roberts Massif 04121\",\"lon\":[null],\"marker\":{\"color\":\"#636efa\",\"symbol\":\"circle\"},\"mode\":\"markers\",\"name\":\"Roberts Massif 04121\",\"showlegend\":true,\"type\":\"scattergeo\"},{\"customdata\":[[89.6]],\"geo\":\"geo\",\"hovertemplate\":\"name=Queen Alexandra Range 99611\\u003cbr\\u003ereclat=%{lat}\\u003cbr\\u003ereclong=%{lon}\\u003cbr\\u003emass (g)=%{customdata[0]}\\u003cextra\\u003e\\u003c\\u002fextra\\u003e\",\"lat\":[-84.0],\"legendgroup\":\"Queen Alexandra Range 99611\",\"lon\":[168.0],\"marker\":{\"color\":\"#EF553B\",\"symbol\":\"circle\"},\"mode\":\"markers\",\"name\":\"Queen Alexandra Range 99611\",\"showlegend\":true,\"type\":\"scattergeo\"},{\"customdata\":[[420.0]],\"geo\":\"geo\",\"hovertemplate\":\"name=Acfer 093\\u003cbr\\u003ereclat=%{lat}\\u003cbr\\u003ereclong=%{lon}\\u003cbr\\u003emass (g)=%{customdata[0]}\\u003cextra\\u003e\\u003c\\u002fextra\\u003e\",\"lat\":[27.71667],\"legendgroup\":\"Acfer 093\",\"lon\":[4.13333],\"marker\":{\"color\":\"#00cc96\",\"symbol\":\"circle\"},\"mode\":\"markers\",\"name\":\"Acfer 093\",\"showlegend\":true,\"type\":\"scattergeo\"},{\"customdata\":[[849.0]],\"geo\":\"geo\",\"hovertemplate\":\"name=Dhofar 1176\\u003cbr\\u003ereclat=%{lat}\\u003cbr\\u003ereclong=%{lon}\\u003cbr\\u003emass (g)=%{customdata[0]}\\u003cextra\\u003e\\u003c\\u002fextra\\u003e\",\"lat\":[18.741611],\"legendgroup\":\"Dhofar 1176\",\"lon\":[54.26175],\"marker\":{\"color\":\"#ab63fa\",\"symbol\":\"circle\"},\"mode\":\"markers\",\"name\":\"Dhofar 1176\",\"showlegend\":true,\"type\":\"scattergeo\"},{\"customdata\":[[208.0]],\"geo\":\"geo\",\"hovertemplate\":\"name=Dhofar 163\\u003cbr\\u003ereclat=%{lat}\\u003cbr\\u003ereclong=%{lon}\\u003cbr\\u003emass (g)=%{customdata[0]}\\u003cextra\\u003e\\u003c\\u002fextra\\u003e\",\"lat\":[19.14611],\"legendgroup\":\"Dhofar 163\",\"lon\":[54.40111],\"marker\":{\"color\":\"#FFA15A\",\"symbol\":\"circle\"},\"mode\":\"markers\",\"name\":\"Dhofar 163\",\"showlegend\":true,\"type\":\"scattergeo\"},{\"customdata\":[[8300.0]],\"geo\":\"geo\",\"hovertemplate\":\"name=St. Mesmin\\u003cbr\\u003ereclat=%{lat}\\u003cbr\\u003ereclong=%{lon}\\u003cbr\\u003emass (g)=%{customdata[0]}\\u003cextra\\u003e\\u003c\\u002fextra\\u003e\",\"lat\":[48.45],\"legendgroup\":\"St. Mesmin\",\"lon\":[3.93333],\"marker\":{\"color\":\"#19d3f3\",\"symbol\":\"circle\"},\"mode\":\"markers\",\"name\":\"St. Mesmin\",\"showlegend\":true,\"type\":\"scattergeo\"},{\"customdata\":[[228.0]],\"geo\":\"geo\",\"hovertemplate\":\"name=Catalina 005\\u003cbr\\u003ereclat=%{lat}\\u003cbr\\u003ereclong=%{lon}\\u003cbr\\u003emass (g)=%{customdata[0]}\\u003cextra\\u003e\\u003c\\u002fextra\\u003e\",\"lat\":[-25.23333],\"legendgroup\":\"Catalina 005\",\"lon\":[-69.71667],\"marker\":{\"color\":\"#FF6692\",\"symbol\":\"circle\"},\"mode\":\"markers\",\"name\":\"Catalina 005\",\"showlegend\":true,\"type\":\"scattergeo\"},{\"customdata\":[[2.98]],\"geo\":\"geo\",\"hovertemplate\":\"name=Yamato 792614\\u003cbr\\u003ereclat=%{lat}\\u003cbr\\u003ereclong=%{lon}\\u003cbr\\u003emass (g)=%{customdata[0]}\\u003cextra\\u003e\\u003c\\u002fextra\\u003e\",\"lat\":[-71.5],\"legendgroup\":\"Yamato 792614\",\"lon\":[35.66667],\"marker\":{\"color\":\"#B6E880\",\"symbol\":\"circle\"},\"mode\":\"markers\",\"name\":\"Yamato 792614\",\"showlegend\":true,\"type\":\"scattergeo\"},{\"customdata\":[[53.8]],\"geo\":\"geo\",\"hovertemplate\":\"name=Pecora Escarpment 91257\\u003cbr\\u003ereclat=%{lat}\\u003cbr\\u003ereclong=%{lon}\\u003cbr\\u003emass (g)=%{customdata[0]}\\u003cextra\\u003e\\u003c\\u002fextra\\u003e\",\"lat\":[-85.66787],\"legendgroup\":\"Pecora Escarpment 91257\",\"lon\":[-68.25751],\"marker\":{\"color\":\"#FF97FF\",\"symbol\":\"circle\"},\"mode\":\"markers\",\"name\":\"Pecora Escarpment 91257\",\"showlegend\":true,\"type\":\"scattergeo\"},{\"customdata\":[[55.9]],\"geo\":\"geo\",\"hovertemplate\":\"name=Grosvenor Mountains 03126\\u003cbr\\u003ereclat=%{lat}\\u003cbr\\u003ereclong=%{lon}\\u003cbr\\u003emass (g)=%{customdata[0]}\\u003cextra\\u003e\\u003c\\u002fextra\\u003e\",\"lat\":[null],\"legendgroup\":\"Grosvenor Mountains 03126\",\"lon\":[null],\"marker\":{\"color\":\"#FECB52\",\"symbol\":\"circle\"},\"mode\":\"markers\",\"name\":\"Grosvenor Mountains 03126\",\"showlegend\":true,\"type\":\"scattergeo\"},{\"customdata\":[[73.0]],\"geo\":\"geo\",\"hovertemplate\":\"name=Dhofar 570\\u003cbr\\u003ereclat=%{lat}\\u003cbr\\u003ereclong=%{lon}\\u003cbr\\u003emass (g)=%{customdata[0]}\\u003cextra\\u003e\\u003c\\u002fextra\\u003e\",\"lat\":[18.70115],\"legendgroup\":\"Dhofar 570\",\"lon\":[54.36907],\"marker\":{\"color\":\"#636efa\",\"symbol\":\"circle\"},\"mode\":\"markers\",\"name\":\"Dhofar 570\",\"showlegend\":true,\"type\":\"scattergeo\"},{\"customdata\":[[53.0]],\"geo\":\"geo\",\"hovertemplate\":\"name=Bronco (c)\\u003cbr\\u003ereclat=%{lat}\\u003cbr\\u003ereclong=%{lon}\\u003cbr\\u003emass (g)=%{customdata[0]}\\u003cextra\\u003e\\u003c\\u002fextra\\u003e\",\"lat\":[33.275],\"legendgroup\":\"Bronco (c)\",\"lon\":[-102.96],\"marker\":{\"color\":\"#EF553B\",\"symbol\":\"circle\"},\"mode\":\"markers\",\"name\":\"Bronco (c)\",\"showlegend\":true,\"type\":\"scattergeo\"},{\"customdata\":[[0.9]],\"geo\":\"geo\",\"hovertemplate\":\"name=MacAlpine Hills 041138\\u003cbr\\u003ereclat=%{lat}\\u003cbr\\u003ereclong=%{lon}\\u003cbr\\u003emass (g)=%{customdata[0]}\\u003cextra\\u003e\\u003c\\u002fextra\\u003e\",\"lat\":[null],\"legendgroup\":\"MacAlpine Hills 041138\",\"lon\":[null],\"marker\":{\"color\":\"#00cc96\",\"symbol\":\"circle\"},\"mode\":\"markers\",\"name\":\"MacAlpine Hills 041138\",\"showlegend\":true,\"type\":\"scattergeo\"},{\"customdata\":[[1230.8]],\"geo\":\"geo\",\"hovertemplate\":\"name=Elephant Moraine 87535\\u003cbr\\u003ereclat=%{lat}\\u003cbr\\u003ereclong=%{lon}\\u003cbr\\u003emass (g)=%{customdata[0]}\\u003cextra\\u003e\\u003c\\u002fextra\\u003e\",\"lat\":[-76.27512],\"legendgroup\":\"Elephant Moraine 87535\",\"lon\":[156.36181],\"marker\":{\"color\":\"#ab63fa\",\"symbol\":\"circle\"},\"mode\":\"markers\",\"name\":\"Elephant Moraine 87535\",\"showlegend\":true,\"type\":\"scattergeo\"},{\"customdata\":[[587.7]],\"geo\":\"geo\",\"hovertemplate\":\"name=Wisconsin Range 91601\\u003cbr\\u003ereclat=%{lat}\\u003cbr\\u003ereclong=%{lon}\\u003cbr\\u003emass (g)=%{customdata[0]}\\u003cextra\\u003e\\u003c\\u002fextra\\u003e\",\"lat\":[-86.52222],\"legendgroup\":\"Wisconsin Range 91601\",\"lon\":[-123.79341],\"marker\":{\"color\":\"#FFA15A\",\"symbol\":\"circle\"},\"mode\":\"markers\",\"name\":\"Wisconsin Range 91601\",\"showlegend\":true,\"type\":\"scattergeo\"},{\"customdata\":[[8725.0]],\"geo\":\"geo\",\"hovertemplate\":\"name=Allan Hills A80101\\u003cbr\\u003ereclat=%{lat}\\u003cbr\\u003ereclong=%{lon}\\u003cbr\\u003emass (g)=%{customdata[0]}\\u003cextra\\u003e\\u003c\\u002fextra\\u003e\",\"lat\":[-76.77389],\"legendgroup\":\"Allan Hills A80101\",\"lon\":[159.275],\"marker\":{\"color\":\"#19d3f3\",\"symbol\":\"circle\"},\"mode\":\"markers\",\"name\":\"Allan Hills A80101\",\"showlegend\":true,\"type\":\"scattergeo\"},{\"customdata\":[[17.5]],\"geo\":\"geo\",\"hovertemplate\":\"name=Elephant Moraine 96155\\u003cbr\\u003ereclat=%{lat}\\u003cbr\\u003ereclong=%{lon}\\u003cbr\\u003emass (g)=%{customdata[0]}\\u003cextra\\u003e\\u003c\\u002fextra\\u003e\",\"lat\":[-76.18333],\"legendgroup\":\"Elephant Moraine 96155\",\"lon\":[157.16667],\"marker\":{\"color\":\"#FF6692\",\"symbol\":\"circle\"},\"mode\":\"markers\",\"name\":\"Elephant Moraine 96155\",\"showlegend\":true,\"type\":\"scattergeo\"},{\"customdata\":[[112.86]],\"geo\":\"geo\",\"hovertemplate\":\"name=Yamato 982042\\u003cbr\\u003ereclat=%{lat}\\u003cbr\\u003ereclong=%{lon}\\u003cbr\\u003emass (g)=%{customdata[0]}\\u003cextra\\u003e\\u003c\\u002fextra\\u003e\",\"lat\":[0.0],\"legendgroup\":\"Yamato 982042\",\"lon\":[0.0],\"marker\":{\"color\":\"#B6E880\",\"symbol\":\"circle\"},\"mode\":\"markers\",\"name\":\"Yamato 982042\",\"showlegend\":true,\"type\":\"scattergeo\"},{\"customdata\":[[8.9]],\"geo\":\"geo\",\"hovertemplate\":\"name=Lewis Cliff 88596\\u003cbr\\u003ereclat=%{lat}\\u003cbr\\u003ereclong=%{lon}\\u003cbr\\u003emass (g)=%{customdata[0]}\\u003cextra\\u003e\\u003c\\u002fextra\\u003e\",\"lat\":[-84.25231],\"legendgroup\":\"Lewis Cliff 88596\",\"lon\":[161.45413],\"marker\":{\"color\":\"#FF97FF\",\"symbol\":\"circle\"},\"mode\":\"markers\",\"name\":\"Lewis Cliff 88596\",\"showlegend\":true,\"type\":\"scattergeo\"},{\"customdata\":[[779.6]],\"geo\":\"geo\",\"hovertemplate\":\"name=Allan Hills A77003\\u003cbr\\u003ereclat=%{lat}\\u003cbr\\u003ereclong=%{lon}\\u003cbr\\u003emass (g)=%{customdata[0]}\\u003cextra\\u003e\\u003c\\u002fextra\\u003e\",\"lat\":[-76.71667],\"legendgroup\":\"Allan Hills A77003\",\"lon\":[159.66667],\"marker\":{\"color\":\"#FECB52\",\"symbol\":\"circle\"},\"mode\":\"markers\",\"name\":\"Allan Hills A77003\",\"showlegend\":true,\"type\":\"scattergeo\"},{\"customdata\":[[2250.0]],\"geo\":\"geo\",\"hovertemplate\":\"name=Bulls Run\\u003cbr\\u003ereclat=%{lat}\\u003cbr\\u003ereclong=%{lon}\\u003cbr\\u003emass (g)=%{customdata[0]}\\u003cextra\\u003e\\u003c\\u002fextra\\u003e\",\"lat\":[null],\"legendgroup\":\"Bulls Run\",\"lon\":[null],\"marker\":{\"color\":\"#636efa\",\"symbol\":\"circle\"},\"mode\":\"markers\",\"name\":\"Bulls Run\",\"showlegend\":true,\"type\":\"scattergeo\"},{\"customdata\":[[3.8]],\"geo\":\"geo\",\"hovertemplate\":\"name=Queen Alexandra Range 97831\\u003cbr\\u003ereclat=%{lat}\\u003cbr\\u003ereclong=%{lon}\\u003cbr\\u003emass (g)=%{customdata[0]}\\u003cextra\\u003e\\u003c\\u002fextra\\u003e\",\"lat\":[-84.0],\"legendgroup\":\"Queen Alexandra Range 97831\",\"lon\":[168.0],\"marker\":{\"color\":\"#EF553B\",\"symbol\":\"circle\"},\"mode\":\"markers\",\"name\":\"Queen Alexandra Range 97831\",\"showlegend\":true,\"type\":\"scattergeo\"},{\"customdata\":[[188.0]],\"geo\":\"geo\",\"hovertemplate\":\"name=Northwest Africa 1056\\u003cbr\\u003ereclat=%{lat}\\u003cbr\\u003ereclong=%{lon}\\u003cbr\\u003emass (g)=%{customdata[0]}\\u003cextra\\u003e\\u003c\\u002fextra\\u003e\",\"lat\":[null],\"legendgroup\":\"Northwest Africa 1056\",\"lon\":[null],\"marker\":{\"color\":\"#00cc96\",\"symbol\":\"circle\"},\"mode\":\"markers\",\"name\":\"Northwest Africa 1056\",\"showlegend\":true,\"type\":\"scattergeo\"},{\"customdata\":[[37.1]],\"geo\":\"geo\",\"hovertemplate\":\"name=Pecora Escarpment 91080\\u003cbr\\u003ereclat=%{lat}\\u003cbr\\u003ereclong=%{lon}\\u003cbr\\u003emass (g)=%{customdata[0]}\\u003cextra\\u003e\\u003c\\u002fextra\\u003e\",\"lat\":[-85.68006],\"legendgroup\":\"Pecora Escarpment 91080\",\"lon\":[-68.68107],\"marker\":{\"color\":\"#ab63fa\",\"symbol\":\"circle\"},\"mode\":\"markers\",\"name\":\"Pecora Escarpment 91080\",\"showlegend\":true,\"type\":\"scattergeo\"},{\"customdata\":[[86.1]],\"geo\":\"geo\",\"hovertemplate\":\"name=Queen Alexandra Range 99445\\u003cbr\\u003ereclat=%{lat}\\u003cbr\\u003ereclong=%{lon}\\u003cbr\\u003emass (g)=%{customdata[0]}\\u003cextra\\u003e\\u003c\\u002fextra\\u003e\",\"lat\":[-84.0],\"legendgroup\":\"Queen Alexandra Range 99445\",\"lon\":[168.0],\"marker\":{\"color\":\"#FFA15A\",\"symbol\":\"circle\"},\"mode\":\"markers\",\"name\":\"Queen Alexandra Range 99445\",\"showlegend\":true,\"type\":\"scattergeo\"},{\"customdata\":[[68.4]],\"geo\":\"geo\",\"hovertemplate\":\"name=Elephant Moraine 90838\\u003cbr\\u003ereclat=%{lat}\\u003cbr\\u003ereclong=%{lon}\\u003cbr\\u003emass (g)=%{customdata[0]}\\u003cextra\\u003e\\u003c\\u002fextra\\u003e\",\"lat\":[-76.28565],\"legendgroup\":\"Elephant Moraine 90838\",\"lon\":[156.48143],\"marker\":{\"color\":\"#19d3f3\",\"symbol\":\"circle\"},\"mode\":\"markers\",\"name\":\"Elephant Moraine 90838\",\"showlegend\":true,\"type\":\"scattergeo\"},{\"customdata\":[[3.54]],\"geo\":\"geo\",\"hovertemplate\":\"name=Yamato 86122\\u003cbr\\u003ereclat=%{lat}\\u003cbr\\u003ereclong=%{lon}\\u003cbr\\u003emass (g)=%{customdata[0]}\\u003cextra\\u003e\\u003c\\u002fextra\\u003e\",\"lat\":[-71.5],\"legendgroup\":\"Yamato 86122\",\"lon\":[35.66667],\"marker\":{\"color\":\"#FF6692\",\"symbol\":\"circle\"},\"mode\":\"markers\",\"name\":\"Yamato 86122\",\"showlegend\":true,\"type\":\"scattergeo\"},{\"customdata\":[[244.0]],\"geo\":\"geo\",\"hovertemplate\":\"name=Dar al Gani 234\\u003cbr\\u003ereclat=%{lat}\\u003cbr\\u003ereclong=%{lon}\\u003cbr\\u003emass (g)=%{customdata[0]}\\u003cextra\\u003e\\u003c\\u002fextra\\u003e\",\"lat\":[27.17717],\"legendgroup\":\"Dar al Gani 234\",\"lon\":[16.26683],\"marker\":{\"color\":\"#B6E880\",\"symbol\":\"circle\"},\"mode\":\"markers\",\"name\":\"Dar al Gani 234\",\"showlegend\":true,\"type\":\"scattergeo\"},{\"customdata\":[[9.97]],\"geo\":\"geo\",\"hovertemplate\":\"name=Yamato 790428\\u003cbr\\u003ereclat=%{lat}\\u003cbr\\u003ereclong=%{lon}\\u003cbr\\u003emass (g)=%{customdata[0]}\\u003cextra\\u003e\\u003c\\u002fextra\\u003e\",\"lat\":[-71.5],\"legendgroup\":\"Yamato 790428\",\"lon\":[35.66667],\"marker\":{\"color\":\"#FF97FF\",\"symbol\":\"circle\"},\"mode\":\"markers\",\"name\":\"Yamato 790428\",\"showlegend\":true,\"type\":\"scattergeo\"},{\"customdata\":[[12.31]],\"geo\":\"geo\",\"hovertemplate\":\"name=Frontier Mountain 03041\\u003cbr\\u003ereclat=%{lat}\\u003cbr\\u003ereclong=%{lon}\\u003cbr\\u003emass (g)=%{customdata[0]}\\u003cextra\\u003e\\u003c\\u002fextra\\u003e\",\"lat\":[-72.95108],\"legendgroup\":\"Frontier Mountain 03041\",\"lon\":[160.51425],\"marker\":{\"color\":\"#FECB52\",\"symbol\":\"circle\"},\"mode\":\"markers\",\"name\":\"Frontier Mountain 03041\",\"showlegend\":true,\"type\":\"scattergeo\"},{\"customdata\":[[18.7]],\"geo\":\"geo\",\"hovertemplate\":\"name=Meteorite Hills 001117\\u003cbr\\u003ereclat=%{lat}\\u003cbr\\u003ereclong=%{lon}\\u003cbr\\u003emass (g)=%{customdata[0]}\\u003cextra\\u003e\\u003c\\u002fextra\\u003e\",\"lat\":[-79.68333],\"legendgroup\":\"Meteorite Hills 001117\",\"lon\":[159.75],\"marker\":{\"color\":\"#636efa\",\"symbol\":\"circle\"},\"mode\":\"markers\",\"name\":\"Meteorite Hills 001117\",\"showlegend\":true,\"type\":\"scattergeo\"},{\"customdata\":[[78.8]],\"geo\":\"geo\",\"hovertemplate\":\"name=Meteorite Hills 01120\\u003cbr\\u003ereclat=%{lat}\\u003cbr\\u003ereclong=%{lon}\\u003cbr\\u003emass (g)=%{customdata[0]}\\u003cextra\\u003e\\u003c\\u002fextra\\u003e\",\"lat\":[-79.68333],\"legendgroup\":\"Meteorite Hills 01120\",\"lon\":[159.75],\"marker\":{\"color\":\"#EF553B\",\"symbol\":\"circle\"},\"mode\":\"markers\",\"name\":\"Meteorite Hills 01120\",\"showlegend\":true,\"type\":\"scattergeo\"},{\"customdata\":[[18.2]],\"geo\":\"geo\",\"hovertemplate\":\"name=Lewis Cliff 86165\\u003cbr\\u003ereclat=%{lat}\\u003cbr\\u003ereclong=%{lon}\\u003cbr\\u003emass (g)=%{customdata[0]}\\u003cextra\\u003e\\u003c\\u002fextra\\u003e\",\"lat\":[-84.25909],\"legendgroup\":\"Lewis Cliff 86165\",\"lon\":[161.41026],\"marker\":{\"color\":\"#00cc96\",\"symbol\":\"circle\"},\"mode\":\"markers\",\"name\":\"Lewis Cliff 86165\",\"showlegend\":true,\"type\":\"scattergeo\"},{\"customdata\":[[4100.0]],\"geo\":\"geo\",\"hovertemplate\":\"name=Dwight\\u003cbr\\u003ereclat=%{lat}\\u003cbr\\u003ereclong=%{lon}\\u003cbr\\u003emass (g)=%{customdata[0]}\\u003cextra\\u003e\\u003c\\u002fextra\\u003e\",\"lat\":[38.85],\"legendgroup\":\"Dwight\",\"lon\":[-96.58333],\"marker\":{\"color\":\"#ab63fa\",\"symbol\":\"circle\"},\"mode\":\"markers\",\"name\":\"Dwight\",\"showlegend\":true,\"type\":\"scattergeo\"},{\"customdata\":[[815.0]],\"geo\":\"geo\",\"hovertemplate\":\"name=Northwest Africa 5779\\u003cbr\\u003ereclat=%{lat}\\u003cbr\\u003ereclong=%{lon}\\u003cbr\\u003emass (g)=%{customdata[0]}\\u003cextra\\u003e\\u003c\\u002fextra\\u003e\",\"lat\":[0.0],\"legendgroup\":\"Northwest Africa 5779\",\"lon\":[0.0],\"marker\":{\"color\":\"#FFA15A\",\"symbol\":\"circle\"},\"mode\":\"markers\",\"name\":\"Northwest Africa 5779\",\"showlegend\":true,\"type\":\"scattergeo\"},{\"customdata\":[[1095.0]],\"geo\":\"geo\",\"hovertemplate\":\"name=Dhofar 095\\u003cbr\\u003ereclat=%{lat}\\u003cbr\\u003ereclong=%{lon}\\u003cbr\\u003emass (g)=%{customdata[0]}\\u003cextra\\u003e\\u003c\\u002fextra\\u003e\",\"lat\":[18.67917],\"legendgroup\":\"Dhofar 095\",\"lon\":[54.58783],\"marker\":{\"color\":\"#19d3f3\",\"symbol\":\"circle\"},\"mode\":\"markers\",\"name\":\"Dhofar 095\",\"showlegend\":true,\"type\":\"scattergeo\"},{\"customdata\":[[254.0]],\"geo\":\"geo\",\"hovertemplate\":\"name=Northwest Africa 4283\\u003cbr\\u003ereclat=%{lat}\\u003cbr\\u003ereclong=%{lon}\\u003cbr\\u003emass (g)=%{customdata[0]}\\u003cextra\\u003e\\u003c\\u002fextra\\u003e\",\"lat\":[null],\"legendgroup\":\"Northwest Africa 4283\",\"lon\":[null],\"marker\":{\"color\":\"#FF6692\",\"symbol\":\"circle\"},\"mode\":\"markers\",\"name\":\"Northwest Africa 4283\",\"showlegend\":true,\"type\":\"scattergeo\"},{\"customdata\":[[9.2]],\"geo\":\"geo\",\"hovertemplate\":\"name=Lewis Cliff 86333\\u003cbr\\u003ereclat=%{lat}\\u003cbr\\u003ereclong=%{lon}\\u003cbr\\u003emass (g)=%{customdata[0]}\\u003cextra\\u003e\\u003c\\u002fextra\\u003e\",\"lat\":[-84.28986],\"legendgroup\":\"Lewis Cliff 86333\",\"lon\":[161.28593],\"marker\":{\"color\":\"#B6E880\",\"symbol\":\"circle\"},\"mode\":\"markers\",\"name\":\"Lewis Cliff 86333\",\"showlegend\":true,\"type\":\"scattergeo\"},{\"customdata\":[[31.9]],\"geo\":\"geo\",\"hovertemplate\":\"name=Queen Alexandra Range 97878\\u003cbr\\u003ereclat=%{lat}\\u003cbr\\u003ereclong=%{lon}\\u003cbr\\u003emass (g)=%{customdata[0]}\\u003cextra\\u003e\\u003c\\u002fextra\\u003e\",\"lat\":[-84.0],\"legendgroup\":\"Queen Alexandra Range 97878\",\"lon\":[168.0],\"marker\":{\"color\":\"#FF97FF\",\"symbol\":\"circle\"},\"mode\":\"markers\",\"name\":\"Queen Alexandra Range 97878\",\"showlegend\":true,\"type\":\"scattergeo\"},{\"customdata\":[[1.48]],\"geo\":\"geo\",\"hovertemplate\":\"name=Yamato 86517\\u003cbr\\u003ereclat=%{lat}\\u003cbr\\u003ereclong=%{lon}\\u003cbr\\u003emass (g)=%{customdata[0]}\\u003cextra\\u003e\\u003c\\u002fextra\\u003e\",\"lat\":[-71.5],\"legendgroup\":\"Yamato 86517\",\"lon\":[35.66667],\"marker\":{\"color\":\"#FECB52\",\"symbol\":\"circle\"},\"mode\":\"markers\",\"name\":\"Yamato 86517\",\"showlegend\":true,\"type\":\"scattergeo\"},{\"customdata\":[[165.8]],\"geo\":\"geo\",\"hovertemplate\":\"name=Sandford Cliffs 03491\\u003cbr\\u003ereclat=%{lat}\\u003cbr\\u003ereclong=%{lon}\\u003cbr\\u003emass (g)=%{customdata[0]}\\u003cextra\\u003e\\u003c\\u002fextra\\u003e\",\"lat\":[null],\"legendgroup\":\"Sandford Cliffs 03491\",\"lon\":[null],\"marker\":{\"color\":\"#636efa\",\"symbol\":\"circle\"},\"mode\":\"markers\",\"name\":\"Sandford Cliffs 03491\",\"showlegend\":true,\"type\":\"scattergeo\"},{\"customdata\":[[406.0]],\"geo\":\"geo\",\"hovertemplate\":\"name=Northwest Africa 1520\\u003cbr\\u003ereclat=%{lat}\\u003cbr\\u003ereclong=%{lon}\\u003cbr\\u003emass (g)=%{customdata[0]}\\u003cextra\\u003e\\u003c\\u002fextra\\u003e\",\"lat\":[null],\"legendgroup\":\"Northwest Africa 1520\",\"lon\":[null],\"marker\":{\"color\":\"#EF553B\",\"symbol\":\"circle\"},\"mode\":\"markers\",\"name\":\"Northwest Africa 1520\",\"showlegend\":true,\"type\":\"scattergeo\"},{\"customdata\":[[35.8]],\"geo\":\"geo\",\"hovertemplate\":\"name=Northwest Africa 1048\\u003cbr\\u003ereclat=%{lat}\\u003cbr\\u003ereclong=%{lon}\\u003cbr\\u003emass (g)=%{customdata[0]}\\u003cextra\\u003e\\u003c\\u002fextra\\u003e\",\"lat\":[null],\"legendgroup\":\"Northwest Africa 1048\",\"lon\":[null],\"marker\":{\"color\":\"#00cc96\",\"symbol\":\"circle\"},\"mode\":\"markers\",\"name\":\"Northwest Africa 1048\",\"showlegend\":true,\"type\":\"scattergeo\"},{\"customdata\":[[86.63]],\"geo\":\"geo\",\"hovertemplate\":\"name=Yamato 983606\\u003cbr\\u003ereclat=%{lat}\\u003cbr\\u003ereclong=%{lon}\\u003cbr\\u003emass (g)=%{customdata[0]}\\u003cextra\\u003e\\u003c\\u002fextra\\u003e\",\"lat\":[0.0],\"legendgroup\":\"Yamato 983606\",\"lon\":[0.0],\"marker\":{\"color\":\"#ab63fa\",\"symbol\":\"circle\"},\"mode\":\"markers\",\"name\":\"Yamato 983606\",\"showlegend\":true,\"type\":\"scattergeo\"},{\"customdata\":[[1563.1]],\"geo\":\"geo\",\"hovertemplate\":\"name=LaPaz Icefield 02209\\u003cbr\\u003ereclat=%{lat}\\u003cbr\\u003ereclong=%{lon}\\u003cbr\\u003emass (g)=%{customdata[0]}\\u003cextra\\u003e\\u003c\\u002fextra\\u003e\",\"lat\":[-86.36667],\"legendgroup\":\"LaPaz Icefield 02209\",\"lon\":[-70.0],\"marker\":{\"color\":\"#FFA15A\",\"symbol\":\"circle\"},\"mode\":\"markers\",\"name\":\"LaPaz Icefield 02209\",\"showlegend\":true,\"type\":\"scattergeo\"},{\"customdata\":[[185.4]],\"geo\":\"geo\",\"hovertemplate\":\"name=Cumulus Hills 04006\\u003cbr\\u003ereclat=%{lat}\\u003cbr\\u003ereclong=%{lon}\\u003cbr\\u003emass (g)=%{customdata[0]}\\u003cextra\\u003e\\u003c\\u002fextra\\u003e\",\"lat\":[null],\"legendgroup\":\"Cumulus Hills 04006\",\"lon\":[null],\"marker\":{\"color\":\"#19d3f3\",\"symbol\":\"circle\"},\"mode\":\"markers\",\"name\":\"Cumulus Hills 04006\",\"showlegend\":true,\"type\":\"scattergeo\"},{\"customdata\":[[127.1]],\"geo\":\"geo\",\"hovertemplate\":\"name=Yamato 983723\\u003cbr\\u003ereclat=%{lat}\\u003cbr\\u003ereclong=%{lon}\\u003cbr\\u003emass (g)=%{customdata[0]}\\u003cextra\\u003e\\u003c\\u002fextra\\u003e\",\"lat\":[0.0],\"legendgroup\":\"Yamato 983723\",\"lon\":[0.0],\"marker\":{\"color\":\"#FF6692\",\"symbol\":\"circle\"},\"mode\":\"markers\",\"name\":\"Yamato 983723\",\"showlegend\":true,\"type\":\"scattergeo\"},{\"customdata\":[[0.51]],\"geo\":\"geo\",\"hovertemplate\":\"name=Grove Mountains 054544\\u003cbr\\u003ereclat=%{lat}\\u003cbr\\u003ereclong=%{lon}\\u003cbr\\u003emass (g)=%{customdata[0]}\\u003cextra\\u003e\\u003c\\u002fextra\\u003e\",\"lat\":[-72.99889],\"legendgroup\":\"Grove Mountains 054544\",\"lon\":[75.18722],\"marker\":{\"color\":\"#B6E880\",\"symbol\":\"circle\"},\"mode\":\"markers\",\"name\":\"Grove Mountains 054544\",\"showlegend\":true,\"type\":\"scattergeo\"},{\"customdata\":[[15.5]],\"geo\":\"geo\",\"hovertemplate\":\"name=Queen Alexandra Range 97504\\u003cbr\\u003ereclat=%{lat}\\u003cbr\\u003ereclong=%{lon}\\u003cbr\\u003emass (g)=%{customdata[0]}\\u003cextra\\u003e\\u003c\\u002fextra\\u003e\",\"lat\":[-84.0],\"legendgroup\":\"Queen Alexandra Range 97504\",\"lon\":[168.0],\"marker\":{\"color\":\"#FF97FF\",\"symbol\":\"circle\"},\"mode\":\"markers\",\"name\":\"Queen Alexandra Range 97504\",\"showlegend\":true,\"type\":\"scattergeo\"},{\"customdata\":[[85.0]],\"geo\":\"geo\",\"hovertemplate\":\"name=Lahmada 017\\u003cbr\\u003ereclat=%{lat}\\u003cbr\\u003ereclong=%{lon}\\u003cbr\\u003emass (g)=%{customdata[0]}\\u003cextra\\u003e\\u003c\\u002fextra\\u003e\",\"lat\":[27.2265],\"legendgroup\":\"Lahmada 017\",\"lon\":[-9.74117],\"marker\":{\"color\":\"#FECB52\",\"symbol\":\"circle\"},\"mode\":\"markers\",\"name\":\"Lahmada 017\",\"showlegend\":true,\"type\":\"scattergeo\"},{\"customdata\":[[308.0]],\"geo\":\"geo\",\"hovertemplate\":\"name=Northwest Africa 309\\u003cbr\\u003ereclat=%{lat}\\u003cbr\\u003ereclong=%{lon}\\u003cbr\\u003emass (g)=%{customdata[0]}\\u003cextra\\u003e\\u003c\\u002fextra\\u003e\",\"lat\":[null],\"legendgroup\":\"Northwest Africa 309\",\"lon\":[null],\"marker\":{\"color\":\"#636efa\",\"symbol\":\"circle\"},\"mode\":\"markers\",\"name\":\"Northwest Africa 309\",\"showlegend\":true,\"type\":\"scattergeo\"},{\"customdata\":[[3.5]],\"geo\":\"geo\",\"hovertemplate\":\"name=Frontier Mountain 90064\\u003cbr\\u003ereclat=%{lat}\\u003cbr\\u003ereclong=%{lon}\\u003cbr\\u003emass (g)=%{customdata[0]}\\u003cextra\\u003e\\u003c\\u002fextra\\u003e\",\"lat\":[-72.95457],\"legendgroup\":\"Frontier Mountain 90064\",\"lon\":[160.50374],\"marker\":{\"color\":\"#EF553B\",\"symbol\":\"circle\"},\"mode\":\"markers\",\"name\":\"Frontier Mountain 90064\",\"showlegend\":true,\"type\":\"scattergeo\"},{\"customdata\":[[10175.0]],\"geo\":\"geo\",\"hovertemplate\":\"name=Shi\\u015fr 036\\u003cbr\\u003ereclat=%{lat}\\u003cbr\\u003ereclong=%{lon}\\u003cbr\\u003emass (g)=%{customdata[0]}\\u003cextra\\u003e\\u003c\\u002fextra\\u003e\",\"lat\":[18.50755],\"legendgroup\":\"Shi\\u015fr 036\",\"lon\":[53.99325],\"marker\":{\"color\":\"#00cc96\",\"symbol\":\"circle\"},\"mode\":\"markers\",\"name\":\"Shi\\u015fr 036\",\"showlegend\":true,\"type\":\"scattergeo\"},{\"customdata\":[[11.1]],\"geo\":\"geo\",\"hovertemplate\":\"name=Lewis Cliff 86423\\u003cbr\\u003ereclat=%{lat}\\u003cbr\\u003ereclong=%{lon}\\u003cbr\\u003emass (g)=%{customdata[0]}\\u003cextra\\u003e\\u003c\\u002fextra\\u003e\",\"lat\":[-84.25499],\"legendgroup\":\"Lewis Cliff 86423\",\"lon\":[161.40492],\"marker\":{\"color\":\"#ab63fa\",\"symbol\":\"circle\"},\"mode\":\"markers\",\"name\":\"Lewis Cliff 86423\",\"showlegend\":true,\"type\":\"scattergeo\"},{\"customdata\":[[5.9]],\"geo\":\"geo\",\"hovertemplate\":\"name=Lewis Cliff 86362\\u003cbr\\u003ereclat=%{lat}\\u003cbr\\u003ereclong=%{lon}\\u003cbr\\u003emass (g)=%{customdata[0]}\\u003cextra\\u003e\\u003c\\u002fextra\\u003e\",\"lat\":[-84.27385],\"legendgroup\":\"Lewis Cliff 86362\",\"lon\":[161.68603],\"marker\":{\"color\":\"#FFA15A\",\"symbol\":\"circle\"},\"mode\":\"markers\",\"name\":\"Lewis Cliff 86362\",\"showlegend\":true,\"type\":\"scattergeo\"},{\"customdata\":[[3.19]],\"geo\":\"geo\",\"hovertemplate\":\"name=Yamato 790688\\u003cbr\\u003ereclat=%{lat}\\u003cbr\\u003ereclong=%{lon}\\u003cbr\\u003emass (g)=%{customdata[0]}\\u003cextra\\u003e\\u003c\\u002fextra\\u003e\",\"lat\":[-71.5],\"legendgroup\":\"Yamato 790688\",\"lon\":[35.66667],\"marker\":{\"color\":\"#19d3f3\",\"symbol\":\"circle\"},\"mode\":\"markers\",\"name\":\"Yamato 790688\",\"showlegend\":true,\"type\":\"scattergeo\"},{\"customdata\":[[0.56]],\"geo\":\"geo\",\"hovertemplate\":\"name=Grove Mountains 021919\\u003cbr\\u003ereclat=%{lat}\\u003cbr\\u003ereclong=%{lon}\\u003cbr\\u003emass (g)=%{customdata[0]}\\u003cextra\\u003e\\u003c\\u002fextra\\u003e\",\"lat\":[-72.7775],\"legendgroup\":\"Grove Mountains 021919\",\"lon\":[75.334167],\"marker\":{\"color\":\"#FF6692\",\"symbol\":\"circle\"},\"mode\":\"markers\",\"name\":\"Grove Mountains 021919\",\"showlegend\":true,\"type\":\"scattergeo\"},{\"customdata\":[[30.0]],\"geo\":\"geo\",\"hovertemplate\":\"name=Jodzie\\u003cbr\\u003ereclat=%{lat}\\u003cbr\\u003ereclong=%{lon}\\u003cbr\\u003emass (g)=%{customdata[0]}\\u003cextra\\u003e\\u003c\\u002fextra\\u003e\",\"lat\":[55.7],\"legendgroup\":\"Jodzie\",\"lon\":[24.4],\"marker\":{\"color\":\"#B6E880\",\"symbol\":\"circle\"},\"mode\":\"markers\",\"name\":\"Jodzie\",\"showlegend\":true,\"type\":\"scattergeo\"},{\"customdata\":[[11.09]],\"geo\":\"geo\",\"hovertemplate\":\"name=Yamato 983185\\u003cbr\\u003ereclat=%{lat}\\u003cbr\\u003ereclong=%{lon}\\u003cbr\\u003emass (g)=%{customdata[0]}\\u003cextra\\u003e\\u003c\\u002fextra\\u003e\",\"lat\":[0.0],\"legendgroup\":\"Yamato 983185\",\"lon\":[0.0],\"marker\":{\"color\":\"#FF97FF\",\"symbol\":\"circle\"},\"mode\":\"markers\",\"name\":\"Yamato 983185\",\"showlegend\":true,\"type\":\"scattergeo\"},{\"customdata\":[[11.9]],\"geo\":\"geo\",\"hovertemplate\":\"name=Queen Alexandra Range 93420\\u003cbr\\u003ereclat=%{lat}\\u003cbr\\u003ereclong=%{lon}\\u003cbr\\u003emass (g)=%{customdata[0]}\\u003cextra\\u003e\\u003c\\u002fextra\\u003e\",\"lat\":[-84.0],\"legendgroup\":\"Queen Alexandra Range 93420\",\"lon\":[168.0],\"marker\":{\"color\":\"#FECB52\",\"symbol\":\"circle\"},\"mode\":\"markers\",\"name\":\"Queen Alexandra Range 93420\",\"showlegend\":true,\"type\":\"scattergeo\"},{\"customdata\":[[29.42]],\"geo\":\"geo\",\"hovertemplate\":\"name=Yamato 790006\\u003cbr\\u003ereclat=%{lat}\\u003cbr\\u003ereclong=%{lon}\\u003cbr\\u003emass (g)=%{customdata[0]}\\u003cextra\\u003e\\u003c\\u002fextra\\u003e\",\"lat\":[-71.5],\"legendgroup\":\"Yamato 790006\",\"lon\":[35.66667],\"marker\":{\"color\":\"#636efa\",\"symbol\":\"circle\"},\"mode\":\"markers\",\"name\":\"Yamato 790006\",\"showlegend\":true,\"type\":\"scattergeo\"},{\"customdata\":[[27.8]],\"geo\":\"geo\",\"hovertemplate\":\"name=Allan Hills A80123\\u003cbr\\u003ereclat=%{lat}\\u003cbr\\u003ereclong=%{lon}\\u003cbr\\u003emass (g)=%{customdata[0]}\\u003cextra\\u003e\\u003c\\u002fextra\\u003e\",\"lat\":[-76.68944],\"legendgroup\":\"Allan Hills A80123\",\"lon\":[159.36889],\"marker\":{\"color\":\"#EF553B\",\"symbol\":\"circle\"},\"mode\":\"markers\",\"name\":\"Allan Hills A80123\",\"showlegend\":true,\"type\":\"scattergeo\"},{\"customdata\":[[92.7]],\"geo\":\"geo\",\"hovertemplate\":\"name=Pecora Escarpment 91448\\u003cbr\\u003ereclat=%{lat}\\u003cbr\\u003ereclong=%{lon}\\u003cbr\\u003emass (g)=%{customdata[0]}\\u003cextra\\u003e\\u003c\\u002fextra\\u003e\",\"lat\":[-85.65807],\"legendgroup\":\"Pecora Escarpment 91448\",\"lon\":[-68.17227],\"marker\":{\"color\":\"#00cc96\",\"symbol\":\"circle\"},\"mode\":\"markers\",\"name\":\"Pecora Escarpment 91448\",\"showlegend\":true,\"type\":\"scattergeo\"},{\"customdata\":[[78.36]],\"geo\":\"geo\",\"hovertemplate\":\"name=Ramlat al Wahibah 040\\u003cbr\\u003ereclat=%{lat}\\u003cbr\\u003ereclong=%{lon}\\u003cbr\\u003emass (g)=%{customdata[0]}\\u003cextra\\u003e\\u003c\\u002fextra\\u003e\",\"lat\":[21.37107],\"legendgroup\":\"Ramlat al Wahibah 040\",\"lon\":[58.41415],\"marker\":{\"color\":\"#ab63fa\",\"symbol\":\"circle\"},\"mode\":\"markers\",\"name\":\"Ramlat al Wahibah 040\",\"showlegend\":true,\"type\":\"scattergeo\"},{\"customdata\":[[111.0]],\"geo\":\"geo\",\"hovertemplate\":\"name=El M\\u00e9dano 037\\u003cbr\\u003ereclat=%{lat}\\u003cbr\\u003ereclong=%{lon}\\u003cbr\\u003emass (g)=%{customdata[0]}\\u003cextra\\u003e\\u003c\\u002fextra\\u003e\",\"lat\":[-24.85],\"legendgroup\":\"El M\\u00e9dano 037\",\"lon\":[-70.53333],\"marker\":{\"color\":\"#FFA15A\",\"symbol\":\"circle\"},\"mode\":\"markers\",\"name\":\"El M\\u00e9dano 037\",\"showlegend\":true,\"type\":\"scattergeo\"},{\"customdata\":[[62.4]],\"geo\":\"geo\",\"hovertemplate\":\"name=Lewis Cliff 86317\\u003cbr\\u003ereclat=%{lat}\\u003cbr\\u003ereclong=%{lon}\\u003cbr\\u003emass (g)=%{customdata[0]}\\u003cextra\\u003e\\u003c\\u002fextra\\u003e\",\"lat\":[-84.27639],\"legendgroup\":\"Lewis Cliff 86317\",\"lon\":[161.34562],\"marker\":{\"color\":\"#19d3f3\",\"symbol\":\"circle\"},\"mode\":\"markers\",\"name\":\"Lewis Cliff 86317\",\"showlegend\":true,\"type\":\"scattergeo\"},{\"customdata\":[[4.7]],\"geo\":\"geo\",\"hovertemplate\":\"name=Miller Range 090340\\u003cbr\\u003ereclat=%{lat}\\u003cbr\\u003ereclong=%{lon}\\u003cbr\\u003emass (g)=%{customdata[0]}\\u003cextra\\u003e\\u003c\\u002fextra\\u003e\",\"lat\":[0.0],\"legendgroup\":\"Miller Range 090340\",\"lon\":[0.0],\"marker\":{\"color\":\"#FF6692\",\"symbol\":\"circle\"},\"mode\":\"markers\",\"name\":\"Miller Range 090340\",\"showlegend\":true,\"type\":\"scattergeo\"},{\"customdata\":[[144.0]],\"geo\":\"geo\",\"hovertemplate\":\"name=Dhofar 921\\u003cbr\\u003ereclat=%{lat}\\u003cbr\\u003ereclong=%{lon}\\u003cbr\\u003emass (g)=%{customdata[0]}\\u003cextra\\u003e\\u003c\\u002fextra\\u003e\",\"lat\":[18.625],\"legendgroup\":\"Dhofar 921\",\"lon\":[54.43],\"marker\":{\"color\":\"#B6E880\",\"symbol\":\"circle\"},\"mode\":\"markers\",\"name\":\"Dhofar 921\",\"showlegend\":true,\"type\":\"scattergeo\"},{\"customdata\":[[23.7]],\"geo\":\"geo\",\"hovertemplate\":\"name=Elephant Moraine 83314\\u003cbr\\u003ereclat=%{lat}\\u003cbr\\u003ereclong=%{lon}\\u003cbr\\u003emass (g)=%{customdata[0]}\\u003cextra\\u003e\\u003c\\u002fextra\\u003e\",\"lat\":[-76.31028],\"legendgroup\":\"Elephant Moraine 83314\",\"lon\":[157.1975],\"marker\":{\"color\":\"#FF97FF\",\"symbol\":\"circle\"},\"mode\":\"markers\",\"name\":\"Elephant Moraine 83314\",\"showlegend\":true,\"type\":\"scattergeo\"},{\"customdata\":[[215.0]],\"geo\":\"geo\",\"hovertemplate\":\"name=Pecora Escarpment 91132\\u003cbr\\u003ereclat=%{lat}\\u003cbr\\u003ereclong=%{lon}\\u003cbr\\u003emass (g)=%{customdata[0]}\\u003cextra\\u003e\\u003c\\u002fextra\\u003e\",\"lat\":[-85.68404],\"legendgroup\":\"Pecora Escarpment 91132\",\"lon\":[-68.87777],\"marker\":{\"color\":\"#FECB52\",\"symbol\":\"circle\"},\"mode\":\"markers\",\"name\":\"Pecora Escarpment 91132\",\"showlegend\":true,\"type\":\"scattergeo\"},{\"customdata\":[[4.93]],\"geo\":\"geo\",\"hovertemplate\":\"name=Yamato 983789\\u003cbr\\u003ereclat=%{lat}\\u003cbr\\u003ereclong=%{lon}\\u003cbr\\u003emass (g)=%{customdata[0]}\\u003cextra\\u003e\\u003c\\u002fextra\\u003e\",\"lat\":[0.0],\"legendgroup\":\"Yamato 983789\",\"lon\":[0.0],\"marker\":{\"color\":\"#636efa\",\"symbol\":\"circle\"},\"mode\":\"markers\",\"name\":\"Yamato 983789\",\"showlegend\":true,\"type\":\"scattergeo\"},{\"customdata\":[[500.0]],\"geo\":\"geo\",\"hovertemplate\":\"name=Botetourt County\\u003cbr\\u003ereclat=%{lat}\\u003cbr\\u003ereclong=%{lon}\\u003cbr\\u003emass (g)=%{customdata[0]}\\u003cextra\\u003e\\u003c\\u002fextra\\u003e\",\"lat\":[37.5],\"legendgroup\":\"Botetourt County\",\"lon\":[-79.75],\"marker\":{\"color\":\"#EF553B\",\"symbol\":\"circle\"},\"mode\":\"markers\",\"name\":\"Botetourt County\",\"showlegend\":true,\"type\":\"scattergeo\"},{\"customdata\":[[1149.0]],\"geo\":\"geo\",\"hovertemplate\":\"name=Tiffa 008\\u003cbr\\u003ereclat=%{lat}\\u003cbr\\u003ereclong=%{lon}\\u003cbr\\u003emass (g)=%{customdata[0]}\\u003cextra\\u003e\\u003c\\u002fextra\\u003e\",\"lat\":[20.35833],\"legendgroup\":\"Tiffa 008\",\"lon\":[11.85],\"marker\":{\"color\":\"#00cc96\",\"symbol\":\"circle\"},\"mode\":\"markers\",\"name\":\"Tiffa 008\",\"showlegend\":true,\"type\":\"scattergeo\"},{\"customdata\":[[4.1]],\"geo\":\"geo\",\"hovertemplate\":\"name=Yamato 983439\\u003cbr\\u003ereclat=%{lat}\\u003cbr\\u003ereclong=%{lon}\\u003cbr\\u003emass (g)=%{customdata[0]}\\u003cextra\\u003e\\u003c\\u002fextra\\u003e\",\"lat\":[0.0],\"legendgroup\":\"Yamato 983439\",\"lon\":[0.0],\"marker\":{\"color\":\"#ab63fa\",\"symbol\":\"circle\"},\"mode\":\"markers\",\"name\":\"Yamato 983439\",\"showlegend\":true,\"type\":\"scattergeo\"},{\"customdata\":[[2.4]],\"geo\":\"geo\",\"hovertemplate\":\"name=Miller Range 090185\\u003cbr\\u003ereclat=%{lat}\\u003cbr\\u003ereclong=%{lon}\\u003cbr\\u003emass (g)=%{customdata[0]}\\u003cextra\\u003e\\u003c\\u002fextra\\u003e\",\"lat\":[0.0],\"legendgroup\":\"Miller Range 090185\",\"lon\":[0.0],\"marker\":{\"color\":\"#FFA15A\",\"symbol\":\"circle\"},\"mode\":\"markers\",\"name\":\"Miller Range 090185\",\"showlegend\":true,\"type\":\"scattergeo\"},{\"customdata\":[[34.3]],\"geo\":\"geo\",\"hovertemplate\":\"name=Dominion Range 10499\\u003cbr\\u003ereclat=%{lat}\\u003cbr\\u003ereclong=%{lon}\\u003cbr\\u003emass (g)=%{customdata[0]}\\u003cextra\\u003e\\u003c\\u002fextra\\u003e\",\"lat\":[0.0],\"legendgroup\":\"Dominion Range 10499\",\"lon\":[0.0],\"marker\":{\"color\":\"#19d3f3\",\"symbol\":\"circle\"},\"mode\":\"markers\",\"name\":\"Dominion Range 10499\",\"showlegend\":true,\"type\":\"scattergeo\"},{\"customdata\":[[9.8]],\"geo\":\"geo\",\"hovertemplate\":\"name=Miller Range 090995\\u003cbr\\u003ereclat=%{lat}\\u003cbr\\u003ereclong=%{lon}\\u003cbr\\u003emass (g)=%{customdata[0]}\\u003cextra\\u003e\\u003c\\u002fextra\\u003e\",\"lat\":[0.0],\"legendgroup\":\"Miller Range 090995\",\"lon\":[0.0],\"marker\":{\"color\":\"#FF6692\",\"symbol\":\"circle\"},\"mode\":\"markers\",\"name\":\"Miller Range 090995\",\"showlegend\":true,\"type\":\"scattergeo\"},{\"customdata\":[[580.0]],\"geo\":\"geo\",\"hovertemplate\":\"name=Northwest Africa 5432\\u003cbr\\u003ereclat=%{lat}\\u003cbr\\u003ereclong=%{lon}\\u003cbr\\u003emass (g)=%{customdata[0]}\\u003cextra\\u003e\\u003c\\u002fextra\\u003e\",\"lat\":[0.0],\"legendgroup\":\"Northwest Africa 5432\",\"lon\":[0.0],\"marker\":{\"color\":\"#B6E880\",\"symbol\":\"circle\"},\"mode\":\"markers\",\"name\":\"Northwest Africa 5432\",\"showlegend\":true,\"type\":\"scattergeo\"},{\"customdata\":[[23.0]],\"geo\":\"geo\",\"hovertemplate\":\"name=Northwest Africa 492\\u003cbr\\u003ereclat=%{lat}\\u003cbr\\u003ereclong=%{lon}\\u003cbr\\u003emass (g)=%{customdata[0]}\\u003cextra\\u003e\\u003c\\u002fextra\\u003e\",\"lat\":[null],\"legendgroup\":\"Northwest Africa 492\",\"lon\":[null],\"marker\":{\"color\":\"#FF97FF\",\"symbol\":\"circle\"},\"mode\":\"markers\",\"name\":\"Northwest Africa 492\",\"showlegend\":true,\"type\":\"scattergeo\"},{\"customdata\":[[0.46]],\"geo\":\"geo\",\"hovertemplate\":\"name=Grove Mountains 023899\\u003cbr\\u003ereclat=%{lat}\\u003cbr\\u003ereclong=%{lon}\\u003cbr\\u003emass (g)=%{customdata[0]}\\u003cextra\\u003e\\u003c\\u002fextra\\u003e\",\"lat\":[-72.9822],\"legendgroup\":\"Grove Mountains 023899\",\"lon\":[75.2489],\"marker\":{\"color\":\"#FECB52\",\"symbol\":\"circle\"},\"mode\":\"markers\",\"name\":\"Grove Mountains 023899\",\"showlegend\":true,\"type\":\"scattergeo\"},{\"customdata\":[[14.633]],\"geo\":\"geo\",\"hovertemplate\":\"name=Yamato 980580\\u003cbr\\u003ereclat=%{lat}\\u003cbr\\u003ereclong=%{lon}\\u003cbr\\u003emass (g)=%{customdata[0]}\\u003cextra\\u003e\\u003c\\u002fextra\\u003e\",\"lat\":[null],\"legendgroup\":\"Yamato 980580\",\"lon\":[null],\"marker\":{\"color\":\"#636efa\",\"symbol\":\"circle\"},\"mode\":\"markers\",\"name\":\"Yamato 980580\",\"showlegend\":true,\"type\":\"scattergeo\"},{\"customdata\":[[3.4]],\"geo\":\"geo\",\"hovertemplate\":\"name=Miller Range 090167\\u003cbr\\u003ereclat=%{lat}\\u003cbr\\u003ereclong=%{lon}\\u003cbr\\u003emass (g)=%{customdata[0]}\\u003cextra\\u003e\\u003c\\u002fextra\\u003e\",\"lat\":[0.0],\"legendgroup\":\"Miller Range 090167\",\"lon\":[0.0],\"marker\":{\"color\":\"#EF553B\",\"symbol\":\"circle\"},\"mode\":\"markers\",\"name\":\"Miller Range 090167\",\"showlegend\":true,\"type\":\"scattergeo\"},{\"customdata\":[[54.0]],\"geo\":\"geo\",\"hovertemplate\":\"name=Dar al Gani 924\\u003cbr\\u003ereclat=%{lat}\\u003cbr\\u003ereclong=%{lon}\\u003cbr\\u003emass (g)=%{customdata[0]}\\u003cextra\\u003e\\u003c\\u002fextra\\u003e\",\"lat\":[27.03333],\"legendgroup\":\"Dar al Gani 924\",\"lon\":[16.35],\"marker\":{\"color\":\"#00cc96\",\"symbol\":\"circle\"},\"mode\":\"markers\",\"name\":\"Dar al Gani 924\",\"showlegend\":true,\"type\":\"scattergeo\"},{\"customdata\":[[292.26]],\"geo\":\"geo\",\"hovertemplate\":\"name=Yamato 793249\\u003cbr\\u003ereclat=%{lat}\\u003cbr\\u003ereclong=%{lon}\\u003cbr\\u003emass (g)=%{customdata[0]}\\u003cextra\\u003e\\u003c\\u002fextra\\u003e\",\"lat\":[-71.5],\"legendgroup\":\"Yamato 793249\",\"lon\":[35.66667],\"marker\":{\"color\":\"#ab63fa\",\"symbol\":\"circle\"},\"mode\":\"markers\",\"name\":\"Yamato 793249\",\"showlegend\":true,\"type\":\"scattergeo\"},{\"customdata\":[[1.3]],\"geo\":\"geo\",\"hovertemplate\":\"name=Queen Alexandra Range 94565\\u003cbr\\u003ereclat=%{lat}\\u003cbr\\u003ereclong=%{lon}\\u003cbr\\u003emass (g)=%{customdata[0]}\\u003cextra\\u003e\\u003c\\u002fextra\\u003e\",\"lat\":[-84.0],\"legendgroup\":\"Queen Alexandra Range 94565\",\"lon\":[168.0],\"marker\":{\"color\":\"#FFA15A\",\"symbol\":\"circle\"},\"mode\":\"markers\",\"name\":\"Queen Alexandra Range 94565\",\"showlegend\":true,\"type\":\"scattergeo\"},{\"customdata\":[[37.8]],\"geo\":\"geo\",\"hovertemplate\":\"name=Queen Alexandra Range 97185\\u003cbr\\u003ereclat=%{lat}\\u003cbr\\u003ereclong=%{lon}\\u003cbr\\u003emass (g)=%{customdata[0]}\\u003cextra\\u003e\\u003c\\u002fextra\\u003e\",\"lat\":[-84.0],\"legendgroup\":\"Queen Alexandra Range 97185\",\"lon\":[168.0],\"marker\":{\"color\":\"#19d3f3\",\"symbol\":\"circle\"},\"mode\":\"markers\",\"name\":\"Queen Alexandra Range 97185\",\"showlegend\":true,\"type\":\"scattergeo\"},{\"customdata\":[[38.99]],\"geo\":\"geo\",\"hovertemplate\":\"name=Meteorite Hills 00493\\u003cbr\\u003ereclat=%{lat}\\u003cbr\\u003ereclong=%{lon}\\u003cbr\\u003emass (g)=%{customdata[0]}\\u003cextra\\u003e\\u003c\\u002fextra\\u003e\",\"lat\":[-79.68333],\"legendgroup\":\"Meteorite Hills 00493\",\"lon\":[155.75],\"marker\":{\"color\":\"#FF6692\",\"symbol\":\"circle\"},\"mode\":\"markers\",\"name\":\"Meteorite Hills 00493\",\"showlegend\":true,\"type\":\"scattergeo\"},{\"customdata\":[[58.6]],\"geo\":\"geo\",\"hovertemplate\":\"name=Elephant Moraine 87689\\u003cbr\\u003ereclat=%{lat}\\u003cbr\\u003ereclong=%{lon}\\u003cbr\\u003emass (g)=%{customdata[0]}\\u003cextra\\u003e\\u003c\\u002fextra\\u003e\",\"lat\":[-76.18333],\"legendgroup\":\"Elephant Moraine 87689\",\"lon\":[157.16667],\"marker\":{\"color\":\"#B6E880\",\"symbol\":\"circle\"},\"mode\":\"markers\",\"name\":\"Elephant Moraine 87689\",\"showlegend\":true,\"type\":\"scattergeo\"},{\"customdata\":[[12.7]],\"geo\":\"geo\",\"hovertemplate\":\"name=Northwest Africa 3340\\u003cbr\\u003ereclat=%{lat}\\u003cbr\\u003ereclong=%{lon}\\u003cbr\\u003emass (g)=%{customdata[0]}\\u003cextra\\u003e\\u003c\\u002fextra\\u003e\",\"lat\":[null],\"legendgroup\":\"Northwest Africa 3340\",\"lon\":[null],\"marker\":{\"color\":\"#FF97FF\",\"symbol\":\"circle\"},\"mode\":\"markers\",\"name\":\"Northwest Africa 3340\",\"showlegend\":true,\"type\":\"scattergeo\"},{\"customdata\":[[4.22]],\"geo\":\"geo\",\"hovertemplate\":\"name=Grove Mountains 022248\\u003cbr\\u003ereclat=%{lat}\\u003cbr\\u003ereclong=%{lon}\\u003cbr\\u003emass (g)=%{customdata[0]}\\u003cextra\\u003e\\u003c\\u002fextra\\u003e\",\"lat\":[-72.77889],\"legendgroup\":\"Grove Mountains 022248\",\"lon\":[75.31111],\"marker\":{\"color\":\"#FECB52\",\"symbol\":\"circle\"},\"mode\":\"markers\",\"name\":\"Grove Mountains 022248\",\"showlegend\":true,\"type\":\"scattergeo\"},{\"customdata\":[[25.6]],\"geo\":\"geo\",\"hovertemplate\":\"name=Queen Alexandra Range 97410\\u003cbr\\u003ereclat=%{lat}\\u003cbr\\u003ereclong=%{lon}\\u003cbr\\u003emass (g)=%{customdata[0]}\\u003cextra\\u003e\\u003c\\u002fextra\\u003e\",\"lat\":[-84.0],\"legendgroup\":\"Queen Alexandra Range 97410\",\"lon\":[168.0],\"marker\":{\"color\":\"#636efa\",\"symbol\":\"circle\"},\"mode\":\"markers\",\"name\":\"Queen Alexandra Range 97410\",\"showlegend\":true,\"type\":\"scattergeo\"},{\"customdata\":[[45.4]],\"geo\":\"geo\",\"hovertemplate\":\"name=Miller Range 03423\\u003cbr\\u003ereclat=%{lat}\\u003cbr\\u003ereclong=%{lon}\\u003cbr\\u003emass (g)=%{customdata[0]}\\u003cextra\\u003e\\u003c\\u002fextra\\u003e\",\"lat\":[null],\"legendgroup\":\"Miller Range 03423\",\"lon\":[null],\"marker\":{\"color\":\"#EF553B\",\"symbol\":\"circle\"},\"mode\":\"markers\",\"name\":\"Miller Range 03423\",\"showlegend\":true,\"type\":\"scattergeo\"},{\"customdata\":[[4.9]],\"geo\":\"geo\",\"hovertemplate\":\"name=Queen Alexandra Range 93695\\u003cbr\\u003ereclat=%{lat}\\u003cbr\\u003ereclong=%{lon}\\u003cbr\\u003emass (g)=%{customdata[0]}\\u003cextra\\u003e\\u003c\\u002fextra\\u003e\",\"lat\":[-84.0],\"legendgroup\":\"Queen Alexandra Range 93695\",\"lon\":[168.0],\"marker\":{\"color\":\"#00cc96\",\"symbol\":\"circle\"},\"mode\":\"markers\",\"name\":\"Queen Alexandra Range 93695\",\"showlegend\":true,\"type\":\"scattergeo\"},{\"customdata\":[[39.7]],\"geo\":\"geo\",\"hovertemplate\":\"name=Elephant Moraine 90796\\u003cbr\\u003ereclat=%{lat}\\u003cbr\\u003ereclong=%{lon}\\u003cbr\\u003emass (g)=%{customdata[0]}\\u003cextra\\u003e\\u003c\\u002fextra\\u003e\",\"lat\":[-76.2858],\"legendgroup\":\"Elephant Moraine 90796\",\"lon\":[156.46845],\"marker\":{\"color\":\"#ab63fa\",\"symbol\":\"circle\"},\"mode\":\"markers\",\"name\":\"Elephant Moraine 90796\",\"showlegend\":true,\"type\":\"scattergeo\"},{\"customdata\":[[14.2]],\"geo\":\"geo\",\"hovertemplate\":\"name=Elephant Moraine 90042\\u003cbr\\u003ereclat=%{lat}\\u003cbr\\u003ereclong=%{lon}\\u003cbr\\u003emass (g)=%{customdata[0]}\\u003cextra\\u003e\\u003c\\u002fextra\\u003e\",\"lat\":[-76.27972],\"legendgroup\":\"Elephant Moraine 90042\",\"lon\":[156.47219],\"marker\":{\"color\":\"#FFA15A\",\"symbol\":\"circle\"},\"mode\":\"markers\",\"name\":\"Elephant Moraine 90042\",\"showlegend\":true,\"type\":\"scattergeo\"},{\"customdata\":[[336.0]],\"geo\":\"geo\",\"hovertemplate\":\"name=Grove Mountains 052116\\u003cbr\\u003ereclat=%{lat}\\u003cbr\\u003ereclong=%{lon}\\u003cbr\\u003emass (g)=%{customdata[0]}\\u003cextra\\u003e\\u003c\\u002fextra\\u003e\",\"lat\":[-72.77472],\"legendgroup\":\"Grove Mountains 052116\",\"lon\":[75.32361],\"marker\":{\"color\":\"#19d3f3\",\"symbol\":\"circle\"},\"mode\":\"markers\",\"name\":\"Grove Mountains 052116\",\"showlegend\":true,\"type\":\"scattergeo\"},{\"customdata\":[[72.4]],\"geo\":\"geo\",\"hovertemplate\":\"name=Mount Prestrud 95406\\u003cbr\\u003ereclat=%{lat}\\u003cbr\\u003ereclong=%{lon}\\u003cbr\\u003emass (g)=%{customdata[0]}\\u003cextra\\u003e\\u003c\\u002fextra\\u003e\",\"lat\":[-86.56667],\"legendgroup\":\"Mount Prestrud 95406\",\"lon\":[-165.11667],\"marker\":{\"color\":\"#FF6692\",\"symbol\":\"circle\"},\"mode\":\"markers\",\"name\":\"Mount Prestrud 95406\",\"showlegend\":true,\"type\":\"scattergeo\"},{\"customdata\":[[130.3]],\"geo\":\"geo\",\"hovertemplate\":\"name=Miller Range 090860\\u003cbr\\u003ereclat=%{lat}\\u003cbr\\u003ereclong=%{lon}\\u003cbr\\u003emass (g)=%{customdata[0]}\\u003cextra\\u003e\\u003c\\u002fextra\\u003e\",\"lat\":[0.0],\"legendgroup\":\"Miller Range 090860\",\"lon\":[0.0],\"marker\":{\"color\":\"#B6E880\",\"symbol\":\"circle\"},\"mode\":\"markers\",\"name\":\"Miller Range 090860\",\"showlegend\":true,\"type\":\"scattergeo\"},{\"customdata\":[[392.9]],\"geo\":\"geo\",\"hovertemplate\":\"name=Elephant Moraine 96043\\u003cbr\\u003ereclat=%{lat}\\u003cbr\\u003ereclong=%{lon}\\u003cbr\\u003emass (g)=%{customdata[0]}\\u003cextra\\u003e\\u003c\\u002fextra\\u003e\",\"lat\":[-76.18333],\"legendgroup\":\"Elephant Moraine 96043\",\"lon\":[157.16667],\"marker\":{\"color\":\"#FF97FF\",\"symbol\":\"circle\"},\"mode\":\"markers\",\"name\":\"Elephant Moraine 96043\",\"showlegend\":true,\"type\":\"scattergeo\"},{\"customdata\":[[1006.0]],\"geo\":\"geo\",\"hovertemplate\":\"name=Northwest Africa 2132\\u003cbr\\u003ereclat=%{lat}\\u003cbr\\u003ereclong=%{lon}\\u003cbr\\u003emass (g)=%{customdata[0]}\\u003cextra\\u003e\\u003c\\u002fextra\\u003e\",\"lat\":[null],\"legendgroup\":\"Northwest Africa 2132\",\"lon\":[null],\"marker\":{\"color\":\"#FECB52\",\"symbol\":\"circle\"},\"mode\":\"markers\",\"name\":\"Northwest Africa 2132\",\"showlegend\":true,\"type\":\"scattergeo\"},{\"customdata\":[[8.14]],\"geo\":\"geo\",\"hovertemplate\":\"name=Yamato 792755\\u003cbr\\u003ereclat=%{lat}\\u003cbr\\u003ereclong=%{lon}\\u003cbr\\u003emass (g)=%{customdata[0]}\\u003cextra\\u003e\\u003c\\u002fextra\\u003e\",\"lat\":[-71.5],\"legendgroup\":\"Yamato 792755\",\"lon\":[35.66667],\"marker\":{\"color\":\"#636efa\",\"symbol\":\"circle\"},\"mode\":\"markers\",\"name\":\"Yamato 792755\",\"showlegend\":true,\"type\":\"scattergeo\"},{\"customdata\":[[10.86]],\"geo\":\"geo\",\"hovertemplate\":\"name=Yamato 86291\\u003cbr\\u003ereclat=%{lat}\\u003cbr\\u003ereclong=%{lon}\\u003cbr\\u003emass (g)=%{customdata[0]}\\u003cextra\\u003e\\u003c\\u002fextra\\u003e\",\"lat\":[-71.5],\"legendgroup\":\"Yamato 86291\",\"lon\":[35.66667],\"marker\":{\"color\":\"#EF553B\",\"symbol\":\"circle\"},\"mode\":\"markers\",\"name\":\"Yamato 86291\",\"showlegend\":true,\"type\":\"scattergeo\"},{\"customdata\":[[12000.0]],\"geo\":\"geo\",\"hovertemplate\":\"name=Aswan\\u003cbr\\u003ereclat=%{lat}\\u003cbr\\u003ereclong=%{lon}\\u003cbr\\u003emass (g)=%{customdata[0]}\\u003cextra\\u003e\\u003c\\u002fextra\\u003e\",\"lat\":[23.98611],\"legendgroup\":\"Aswan\",\"lon\":[32.62361],\"marker\":{\"color\":\"#00cc96\",\"symbol\":\"circle\"},\"mode\":\"markers\",\"name\":\"Aswan\",\"showlegend\":true,\"type\":\"scattergeo\"},{\"customdata\":[[6.3]],\"geo\":\"geo\",\"hovertemplate\":\"name=Allan Hills 84201\\u003cbr\\u003ereclat=%{lat}\\u003cbr\\u003ereclong=%{lon}\\u003cbr\\u003emass (g)=%{customdata[0]}\\u003cextra\\u003e\\u003c\\u002fextra\\u003e\",\"lat\":[-76.7574],\"legendgroup\":\"Allan Hills 84201\",\"lon\":[158.90775],\"marker\":{\"color\":\"#ab63fa\",\"symbol\":\"circle\"},\"mode\":\"markers\",\"name\":\"Allan Hills 84201\",\"showlegend\":true,\"type\":\"scattergeo\"},{\"customdata\":[[426.0]],\"geo\":\"geo\",\"hovertemplate\":\"name=Dhofar 1148\\u003cbr\\u003ereclat=%{lat}\\u003cbr\\u003ereclong=%{lon}\\u003cbr\\u003emass (g)=%{customdata[0]}\\u003cextra\\u003e\\u003c\\u002fextra\\u003e\",\"lat\":[19.190417],\"legendgroup\":\"Dhofar 1148\",\"lon\":[54.957194],\"marker\":{\"color\":\"#FFA15A\",\"symbol\":\"circle\"},\"mode\":\"markers\",\"name\":\"Dhofar 1148\",\"showlegend\":true,\"type\":\"scattergeo\"},{\"customdata\":[[48.1]],\"geo\":\"geo\",\"hovertemplate\":\"name=Miller Range 090155\\u003cbr\\u003ereclat=%{lat}\\u003cbr\\u003ereclong=%{lon}\\u003cbr\\u003emass (g)=%{customdata[0]}\\u003cextra\\u003e\\u003c\\u002fextra\\u003e\",\"lat\":[0.0],\"legendgroup\":\"Miller Range 090155\",\"lon\":[0.0],\"marker\":{\"color\":\"#19d3f3\",\"symbol\":\"circle\"},\"mode\":\"markers\",\"name\":\"Miller Range 090155\",\"showlegend\":true,\"type\":\"scattergeo\"},{\"customdata\":[[259.0]],\"geo\":\"geo\",\"hovertemplate\":\"name=Northwest Africa 7488\\u003cbr\\u003ereclat=%{lat}\\u003cbr\\u003ereclong=%{lon}\\u003cbr\\u003emass (g)=%{customdata[0]}\\u003cextra\\u003e\\u003c\\u002fextra\\u003e\",\"lat\":[0.0],\"legendgroup\":\"Northwest Africa 7488\",\"lon\":[0.0],\"marker\":{\"color\":\"#FF6692\",\"symbol\":\"circle\"},\"mode\":\"markers\",\"name\":\"Northwest Africa 7488\",\"showlegend\":true,\"type\":\"scattergeo\"},{\"customdata\":[[10.36]],\"geo\":\"geo\",\"hovertemplate\":\"name=Asuka 880754\\u003cbr\\u003ereclat=%{lat}\\u003cbr\\u003ereclong=%{lon}\\u003cbr\\u003emass (g)=%{customdata[0]}\\u003cextra\\u003e\\u003c\\u002fextra\\u003e\",\"lat\":[-72.0],\"legendgroup\":\"Asuka 880754\",\"lon\":[26.0],\"marker\":{\"color\":\"#B6E880\",\"symbol\":\"circle\"},\"mode\":\"markers\",\"name\":\"Asuka 880754\",\"showlegend\":true,\"type\":\"scattergeo\"},{\"customdata\":[[6175.0]],\"geo\":\"geo\",\"hovertemplate\":\"name=Yamato 790957\\u003cbr\\u003ereclat=%{lat}\\u003cbr\\u003ereclong=%{lon}\\u003cbr\\u003emass (g)=%{customdata[0]}\\u003cextra\\u003e\\u003c\\u002fextra\\u003e\",\"lat\":[-71.5],\"legendgroup\":\"Yamato 790957\",\"lon\":[35.66667],\"marker\":{\"color\":\"#FF97FF\",\"symbol\":\"circle\"},\"mode\":\"markers\",\"name\":\"Yamato 790957\",\"showlegend\":true,\"type\":\"scattergeo\"},{\"customdata\":[[1.33]],\"geo\":\"geo\",\"hovertemplate\":\"name=Grove Mountains 054615\\u003cbr\\u003ereclat=%{lat}\\u003cbr\\u003ereclong=%{lon}\\u003cbr\\u003emass (g)=%{customdata[0]}\\u003cextra\\u003e\\u003c\\u002fextra\\u003e\",\"lat\":[-72.998889],\"legendgroup\":\"Grove Mountains 054615\",\"lon\":[75.187222],\"marker\":{\"color\":\"#FECB52\",\"symbol\":\"circle\"},\"mode\":\"markers\",\"name\":\"Grove Mountains 054615\",\"showlegend\":true,\"type\":\"scattergeo\"},{\"customdata\":[[4.37]],\"geo\":\"geo\",\"hovertemplate\":\"name=Grove Mountains 052175\\u003cbr\\u003ereclat=%{lat}\\u003cbr\\u003ereclong=%{lon}\\u003cbr\\u003emass (g)=%{customdata[0]}\\u003cextra\\u003e\\u003c\\u002fextra\\u003e\",\"lat\":[-72.77306],\"legendgroup\":\"Grove Mountains 052175\",\"lon\":[75.33806],\"marker\":{\"color\":\"#636efa\",\"symbol\":\"circle\"},\"mode\":\"markers\",\"name\":\"Grove Mountains 052175\",\"showlegend\":true,\"type\":\"scattergeo\"},{\"customdata\":[[187.5]],\"geo\":\"geo\",\"hovertemplate\":\"name=Sayh al Uhaymir 213\\u003cbr\\u003ereclat=%{lat}\\u003cbr\\u003ereclong=%{lon}\\u003cbr\\u003emass (g)=%{customdata[0]}\\u003cextra\\u003e\\u003c\\u002fextra\\u003e\",\"lat\":[20.41437],\"legendgroup\":\"Sayh al Uhaymir 213\",\"lon\":[57.06578],\"marker\":{\"color\":\"#EF553B\",\"symbol\":\"circle\"},\"mode\":\"markers\",\"name\":\"Sayh al Uhaymir 213\",\"showlegend\":true,\"type\":\"scattergeo\"},{\"customdata\":[[27000.0]],\"geo\":\"geo\",\"hovertemplate\":\"name=Northwest Africa 4492\\u003cbr\\u003ereclat=%{lat}\\u003cbr\\u003ereclong=%{lon}\\u003cbr\\u003emass (g)=%{customdata[0]}\\u003cextra\\u003e\\u003c\\u002fextra\\u003e\",\"lat\":[null],\"legendgroup\":\"Northwest Africa 4492\",\"lon\":[null],\"marker\":{\"color\":\"#00cc96\",\"symbol\":\"circle\"},\"mode\":\"markers\",\"name\":\"Northwest Africa 4492\",\"showlegend\":true,\"type\":\"scattergeo\"},{\"customdata\":[[50000.0]],\"geo\":\"geo\",\"hovertemplate\":\"name=Waconda\\u003cbr\\u003ereclat=%{lat}\\u003cbr\\u003ereclong=%{lon}\\u003cbr\\u003emass (g)=%{customdata[0]}\\u003cextra\\u003e\\u003c\\u002fextra\\u003e\",\"lat\":[39.33333],\"legendgroup\":\"Waconda\",\"lon\":[-98.16667],\"marker\":{\"color\":\"#ab63fa\",\"symbol\":\"circle\"},\"mode\":\"markers\",\"name\":\"Waconda\",\"showlegend\":true,\"type\":\"scattergeo\"},{\"customdata\":[[20.0]],\"geo\":\"geo\",\"hovertemplate\":\"name=Northwest Africa 5574\\u003cbr\\u003ereclat=%{lat}\\u003cbr\\u003ereclong=%{lon}\\u003cbr\\u003emass (g)=%{customdata[0]}\\u003cextra\\u003e\\u003c\\u002fextra\\u003e\",\"lat\":[0.0],\"legendgroup\":\"Northwest Africa 5574\",\"lon\":[0.0],\"marker\":{\"color\":\"#FFA15A\",\"symbol\":\"circle\"},\"mode\":\"markers\",\"name\":\"Northwest Africa 5574\",\"showlegend\":true,\"type\":\"scattergeo\"},{\"customdata\":[[9.5]],\"geo\":\"geo\",\"hovertemplate\":\"name=Lewis Cliff 88570\\u003cbr\\u003ereclat=%{lat}\\u003cbr\\u003ereclong=%{lon}\\u003cbr\\u003emass (g)=%{customdata[0]}\\u003cextra\\u003e\\u003c\\u002fextra\\u003e\",\"lat\":[-84.24623],\"legendgroup\":\"Lewis Cliff 88570\",\"lon\":[161.41018],\"marker\":{\"color\":\"#19d3f3\",\"symbol\":\"circle\"},\"mode\":\"markers\",\"name\":\"Lewis Cliff 88570\",\"showlegend\":true,\"type\":\"scattergeo\"},{\"customdata\":[[1806.0]],\"geo\":\"geo\",\"hovertemplate\":\"name=Dhofar 594\\u003cbr\\u003ereclat=%{lat}\\u003cbr\\u003ereclong=%{lon}\\u003cbr\\u003emass (g)=%{customdata[0]}\\u003cextra\\u003e\\u003c\\u002fextra\\u003e\",\"lat\":[18.7247],\"legendgroup\":\"Dhofar 594\",\"lon\":[54.39503],\"marker\":{\"color\":\"#FF6692\",\"symbol\":\"circle\"},\"mode\":\"markers\",\"name\":\"Dhofar 594\",\"showlegend\":true,\"type\":\"scattergeo\"},{\"customdata\":[[1443.0]],\"geo\":\"geo\",\"hovertemplate\":\"name=Laundry Rockhole\\u003cbr\\u003ereclat=%{lat}\\u003cbr\\u003ereclong=%{lon}\\u003cbr\\u003emass (g)=%{customdata[0]}\\u003cextra\\u003e\\u003c\\u002fextra\\u003e\",\"lat\":[-31.53333],\"legendgroup\":\"Laundry Rockhole\",\"lon\":[127.01667],\"marker\":{\"color\":\"#B6E880\",\"symbol\":\"circle\"},\"mode\":\"markers\",\"name\":\"Laundry Rockhole\",\"showlegend\":true,\"type\":\"scattergeo\"},{\"customdata\":[[1.22]],\"geo\":\"geo\",\"hovertemplate\":\"name=Yamato 86608\\u003cbr\\u003ereclat=%{lat}\\u003cbr\\u003ereclong=%{lon}\\u003cbr\\u003emass (g)=%{customdata[0]}\\u003cextra\\u003e\\u003c\\u002fextra\\u003e\",\"lat\":[-71.5],\"legendgroup\":\"Yamato 86608\",\"lon\":[35.66667],\"marker\":{\"color\":\"#FF97FF\",\"symbol\":\"circle\"},\"mode\":\"markers\",\"name\":\"Yamato 86608\",\"showlegend\":true,\"type\":\"scattergeo\"},{\"customdata\":[[1624.0]],\"geo\":\"geo\",\"hovertemplate\":\"name=Northwest Africa 1879\\u003cbr\\u003ereclat=%{lat}\\u003cbr\\u003ereclong=%{lon}\\u003cbr\\u003emass (g)=%{customdata[0]}\\u003cextra\\u003e\\u003c\\u002fextra\\u003e\",\"lat\":[null],\"legendgroup\":\"Northwest Africa 1879\",\"lon\":[null],\"marker\":{\"color\":\"#FECB52\",\"symbol\":\"circle\"},\"mode\":\"markers\",\"name\":\"Northwest Africa 1879\",\"showlegend\":true,\"type\":\"scattergeo\"},{\"customdata\":[[14.03]],\"geo\":\"geo\",\"hovertemplate\":\"name=Yamato 791117\\u003cbr\\u003ereclat=%{lat}\\u003cbr\\u003ereclong=%{lon}\\u003cbr\\u003emass (g)=%{customdata[0]}\\u003cextra\\u003e\\u003c\\u002fextra\\u003e\",\"lat\":[-71.5],\"legendgroup\":\"Yamato 791117\",\"lon\":[35.66667],\"marker\":{\"color\":\"#636efa\",\"symbol\":\"circle\"},\"mode\":\"markers\",\"name\":\"Yamato 791117\",\"showlegend\":true,\"type\":\"scattergeo\"},{\"customdata\":[[45000.0]],\"geo\":\"geo\",\"hovertemplate\":\"name=Wellman (c)\\u003cbr\\u003ereclat=%{lat}\\u003cbr\\u003ereclong=%{lon}\\u003cbr\\u003emass (g)=%{customdata[0]}\\u003cextra\\u003e\\u003c\\u002fextra\\u003e\",\"lat\":[33.03333],\"legendgroup\":\"Wellman (c)\",\"lon\":[-102.33333],\"marker\":{\"color\":\"#EF553B\",\"symbol\":\"circle\"},\"mode\":\"markers\",\"name\":\"Wellman (c)\",\"showlegend\":true,\"type\":\"scattergeo\"},{\"customdata\":[[5.86]],\"geo\":\"geo\",\"hovertemplate\":\"name=Yamato 982246\\u003cbr\\u003ereclat=%{lat}\\u003cbr\\u003ereclong=%{lon}\\u003cbr\\u003emass (g)=%{customdata[0]}\\u003cextra\\u003e\\u003c\\u002fextra\\u003e\",\"lat\":[0.0],\"legendgroup\":\"Yamato 982246\",\"lon\":[0.0],\"marker\":{\"color\":\"#00cc96\",\"symbol\":\"circle\"},\"mode\":\"markers\",\"name\":\"Yamato 982246\",\"showlegend\":true,\"type\":\"scattergeo\"},{\"customdata\":[[87.7]],\"geo\":\"geo\",\"hovertemplate\":\"name=Larkman Nunatak 06459\\u003cbr\\u003ereclat=%{lat}\\u003cbr\\u003ereclong=%{lon}\\u003cbr\\u003emass (g)=%{customdata[0]}\\u003cextra\\u003e\\u003c\\u002fextra\\u003e\",\"lat\":[null],\"legendgroup\":\"Larkman Nunatak 06459\",\"lon\":[null],\"marker\":{\"color\":\"#ab63fa\",\"symbol\":\"circle\"},\"mode\":\"markers\",\"name\":\"Larkman Nunatak 06459\",\"showlegend\":true,\"type\":\"scattergeo\"},{\"customdata\":[[2700.0]],\"geo\":\"geo\",\"hovertemplate\":\"name=Stonington\\u003cbr\\u003ereclat=%{lat}\\u003cbr\\u003ereclong=%{lon}\\u003cbr\\u003emass (g)=%{customdata[0]}\\u003cextra\\u003e\\u003c\\u002fextra\\u003e\",\"lat\":[37.28333],\"legendgroup\":\"Stonington\",\"lon\":[-102.2],\"marker\":{\"color\":\"#FFA15A\",\"symbol\":\"circle\"},\"mode\":\"markers\",\"name\":\"Stonington\",\"showlegend\":true,\"type\":\"scattergeo\"},{\"customdata\":[[20.5]],\"geo\":\"geo\",\"hovertemplate\":\"name=Lewis Cliff 88194\\u003cbr\\u003ereclat=%{lat}\\u003cbr\\u003ereclong=%{lon}\\u003cbr\\u003emass (g)=%{customdata[0]}\\u003cextra\\u003e\\u003c\\u002fextra\\u003e\",\"lat\":[-84.27985],\"legendgroup\":\"Lewis Cliff 88194\",\"lon\":[161.34894],\"marker\":{\"color\":\"#19d3f3\",\"symbol\":\"circle\"},\"mode\":\"markers\",\"name\":\"Lewis Cliff 88194\",\"showlegend\":true,\"type\":\"scattergeo\"},{\"customdata\":[[80.48]],\"geo\":\"geo\",\"hovertemplate\":\"name=Ramlat as Sahmah 334\\u003cbr\\u003ereclat=%{lat}\\u003cbr\\u003ereclong=%{lon}\\u003cbr\\u003emass (g)=%{customdata[0]}\\u003cextra\\u003e\\u003c\\u002fextra\\u003e\",\"lat\":[20.7827],\"legendgroup\":\"Ramlat as Sahmah 334\",\"lon\":[55.42668],\"marker\":{\"color\":\"#FF6692\",\"symbol\":\"circle\"},\"mode\":\"markers\",\"name\":\"Ramlat as Sahmah 334\",\"showlegend\":true,\"type\":\"scattergeo\"},{\"customdata\":[[6.45]],\"geo\":\"geo\",\"hovertemplate\":\"name=Grove Mountains 053824\\u003cbr\\u003ereclat=%{lat}\\u003cbr\\u003ereclong=%{lon}\\u003cbr\\u003emass (g)=%{customdata[0]}\\u003cextra\\u003e\\u003c\\u002fextra\\u003e\",\"lat\":[-72.77944],\"legendgroup\":\"Grove Mountains 053824\",\"lon\":[75.27],\"marker\":{\"color\":\"#B6E880\",\"symbol\":\"circle\"},\"mode\":\"markers\",\"name\":\"Grove Mountains 053824\",\"showlegend\":true,\"type\":\"scattergeo\"},{\"customdata\":[[624.0]],\"geo\":\"geo\",\"hovertemplate\":\"name=Dhofar 1550\\u003cbr\\u003ereclat=%{lat}\\u003cbr\\u003ereclong=%{lon}\\u003cbr\\u003emass (g)=%{customdata[0]}\\u003cextra\\u003e\\u003c\\u002fextra\\u003e\",\"lat\":[18.59083],\"legendgroup\":\"Dhofar 1550\",\"lon\":[54.543],\"marker\":{\"color\":\"#FF97FF\",\"symbol\":\"circle\"},\"mode\":\"markers\",\"name\":\"Dhofar 1550\",\"showlegend\":true,\"type\":\"scattergeo\"},{\"customdata\":[[10.9]],\"geo\":\"geo\",\"hovertemplate\":\"name=Meteorite Hills 01326\\u003cbr\\u003ereclat=%{lat}\\u003cbr\\u003ereclong=%{lon}\\u003cbr\\u003emass (g)=%{customdata[0]}\\u003cextra\\u003e\\u003c\\u002fextra\\u003e\",\"lat\":[-79.68333],\"legendgroup\":\"Meteorite Hills 01326\",\"lon\":[159.75],\"marker\":{\"color\":\"#FECB52\",\"symbol\":\"circle\"},\"mode\":\"markers\",\"name\":\"Meteorite Hills 01326\",\"showlegend\":true,\"type\":\"scattergeo\"},{\"customdata\":[[157.8]],\"geo\":\"geo\",\"hovertemplate\":\"name=Allan Hills 84132\\u003cbr\\u003ereclat=%{lat}\\u003cbr\\u003ereclong=%{lon}\\u003cbr\\u003emass (g)=%{customdata[0]}\\u003cextra\\u003e\\u003c\\u002fextra\\u003e\",\"lat\":[-77.01706],\"legendgroup\":\"Allan Hills 84132\",\"lon\":[156.96282],\"marker\":{\"color\":\"#636efa\",\"symbol\":\"circle\"},\"mode\":\"markers\",\"name\":\"Allan Hills 84132\",\"showlegend\":true,\"type\":\"scattergeo\"},{\"customdata\":[[1788.0]],\"geo\":\"geo\",\"hovertemplate\":\"name=Northwest Africa 3051\\u003cbr\\u003ereclat=%{lat}\\u003cbr\\u003ereclong=%{lon}\\u003cbr\\u003emass (g)=%{customdata[0]}\\u003cextra\\u003e\\u003c\\u002fextra\\u003e\",\"lat\":[null],\"legendgroup\":\"Northwest Africa 3051\",\"lon\":[null],\"marker\":{\"color\":\"#EF553B\",\"symbol\":\"circle\"},\"mode\":\"markers\",\"name\":\"Northwest Africa 3051\",\"showlegend\":true,\"type\":\"scattergeo\"},{\"customdata\":[[2.5]],\"geo\":\"geo\",\"hovertemplate\":\"name=Queen Alexandra Range 93394\\u003cbr\\u003ereclat=%{lat}\\u003cbr\\u003ereclong=%{lon}\\u003cbr\\u003emass (g)=%{customdata[0]}\\u003cextra\\u003e\\u003c\\u002fextra\\u003e\",\"lat\":[-84.0],\"legendgroup\":\"Queen Alexandra Range 93394\",\"lon\":[168.0],\"marker\":{\"color\":\"#00cc96\",\"symbol\":\"circle\"},\"mode\":\"markers\",\"name\":\"Queen Alexandra Range 93394\",\"showlegend\":true,\"type\":\"scattergeo\"},{\"customdata\":[[1798.9]],\"geo\":\"geo\",\"hovertemplate\":\"name=Jiddat al Harasis 276\\u003cbr\\u003ereclat=%{lat}\\u003cbr\\u003ereclong=%{lon}\\u003cbr\\u003emass (g)=%{customdata[0]}\\u003cextra\\u003e\\u003c\\u002fextra\\u003e\",\"lat\":[19.97933],\"legendgroup\":\"Jiddat al Harasis 276\",\"lon\":[55.95507],\"marker\":{\"color\":\"#ab63fa\",\"symbol\":\"circle\"},\"mode\":\"markers\",\"name\":\"Jiddat al Harasis 276\",\"showlegend\":true,\"type\":\"scattergeo\"},{\"customdata\":[[152.0]],\"geo\":\"geo\",\"hovertemplate\":\"name=Northwest Africa 2618\\u003cbr\\u003ereclat=%{lat}\\u003cbr\\u003ereclong=%{lon}\\u003cbr\\u003emass (g)=%{customdata[0]}\\u003cextra\\u003e\\u003c\\u002fextra\\u003e\",\"lat\":[null],\"legendgroup\":\"Northwest Africa 2618\",\"lon\":[null],\"marker\":{\"color\":\"#FFA15A\",\"symbol\":\"circle\"},\"mode\":\"markers\",\"name\":\"Northwest Africa 2618\",\"showlegend\":true,\"type\":\"scattergeo\"},{\"customdata\":[[71000.0]],\"geo\":\"geo\",\"hovertemplate\":\"name=Wooramel\\u003cbr\\u003ereclat=%{lat}\\u003cbr\\u003ereclong=%{lon}\\u003cbr\\u003emass (g)=%{customdata[0]}\\u003cextra\\u003e\\u003c\\u002fextra\\u003e\",\"lat\":[-25.65],\"legendgroup\":\"Wooramel\",\"lon\":[114.21667],\"marker\":{\"color\":\"#19d3f3\",\"symbol\":\"circle\"},\"mode\":\"markers\",\"name\":\"Wooramel\",\"showlegend\":true,\"type\":\"scattergeo\"},{\"customdata\":[[170.0]],\"geo\":\"geo\",\"hovertemplate\":\"name=Bluewing 031\\u003cbr\\u003ereclat=%{lat}\\u003cbr\\u003ereclong=%{lon}\\u003cbr\\u003emass (g)=%{customdata[0]}\\u003cextra\\u003e\\u003c\\u002fextra\\u003e\",\"lat\":[40.26667],\"legendgroup\":\"Bluewing 031\",\"lon\":[-118.93333],\"marker\":{\"color\":\"#FF6692\",\"symbol\":\"circle\"},\"mode\":\"markers\",\"name\":\"Bluewing 031\",\"showlegend\":true,\"type\":\"scattergeo\"},{\"customdata\":[[9.13]],\"geo\":\"geo\",\"hovertemplate\":\"name=Yamato 86011\\u003cbr\\u003ereclat=%{lat}\\u003cbr\\u003ereclong=%{lon}\\u003cbr\\u003emass (g)=%{customdata[0]}\\u003cextra\\u003e\\u003c\\u002fextra\\u003e\",\"lat\":[-71.5],\"legendgroup\":\"Yamato 86011\",\"lon\":[35.66667],\"marker\":{\"color\":\"#B6E880\",\"symbol\":\"circle\"},\"mode\":\"markers\",\"name\":\"Yamato 86011\",\"showlegend\":true,\"type\":\"scattergeo\"},{\"customdata\":[[5.0]],\"geo\":\"geo\",\"hovertemplate\":\"name=Queen Alexandra Range 94454\\u003cbr\\u003ereclat=%{lat}\\u003cbr\\u003ereclong=%{lon}\\u003cbr\\u003emass (g)=%{customdata[0]}\\u003cextra\\u003e\\u003c\\u002fextra\\u003e\",\"lat\":[-84.0],\"legendgroup\":\"Queen Alexandra Range 94454\",\"lon\":[168.0],\"marker\":{\"color\":\"#FF97FF\",\"symbol\":\"circle\"},\"mode\":\"markers\",\"name\":\"Queen Alexandra Range 94454\",\"showlegend\":true,\"type\":\"scattergeo\"},{\"customdata\":[[4.2]],\"geo\":\"geo\",\"hovertemplate\":\"name=Miller Range 090893\\u003cbr\\u003ereclat=%{lat}\\u003cbr\\u003ereclong=%{lon}\\u003cbr\\u003emass (g)=%{customdata[0]}\\u003cextra\\u003e\\u003c\\u002fextra\\u003e\",\"lat\":[0.0],\"legendgroup\":\"Miller Range 090893\",\"lon\":[0.0],\"marker\":{\"color\":\"#FECB52\",\"symbol\":\"circle\"},\"mode\":\"markers\",\"name\":\"Miller Range 090893\",\"showlegend\":true,\"type\":\"scattergeo\"}],                        {\"template\":{\"data\":{\"histogram2dcontour\":[{\"type\":\"histogram2dcontour\",\"colorbar\":{\"outlinewidth\":0,\"ticks\":\"\"},\"colorscale\":[[0.0,\"#0d0887\"],[0.1111111111111111,\"#46039f\"],[0.2222222222222222,\"#7201a8\"],[0.3333333333333333,\"#9c179e\"],[0.4444444444444444,\"#bd3786\"],[0.5555555555555556,\"#d8576b\"],[0.6666666666666666,\"#ed7953\"],[0.7777777777777778,\"#fb9f3a\"],[0.8888888888888888,\"#fdca26\"],[1.0,\"#f0f921\"]]}],\"choropleth\":[{\"type\":\"choropleth\",\"colorbar\":{\"outlinewidth\":0,\"ticks\":\"\"}}],\"histogram2d\":[{\"type\":\"histogram2d\",\"colorbar\":{\"outlinewidth\":0,\"ticks\":\"\"},\"colorscale\":[[0.0,\"#0d0887\"],[0.1111111111111111,\"#46039f\"],[0.2222222222222222,\"#7201a8\"],[0.3333333333333333,\"#9c179e\"],[0.4444444444444444,\"#bd3786\"],[0.5555555555555556,\"#d8576b\"],[0.6666666666666666,\"#ed7953\"],[0.7777777777777778,\"#fb9f3a\"],[0.8888888888888888,\"#fdca26\"],[1.0,\"#f0f921\"]]}],\"heatmap\":[{\"type\":\"heatmap\",\"colorbar\":{\"outlinewidth\":0,\"ticks\":\"\"},\"colorscale\":[[0.0,\"#0d0887\"],[0.1111111111111111,\"#46039f\"],[0.2222222222222222,\"#7201a8\"],[0.3333333333333333,\"#9c179e\"],[0.4444444444444444,\"#bd3786\"],[0.5555555555555556,\"#d8576b\"],[0.6666666666666666,\"#ed7953\"],[0.7777777777777778,\"#fb9f3a\"],[0.8888888888888888,\"#fdca26\"],[1.0,\"#f0f921\"]]}],\"heatmapgl\":[{\"type\":\"heatmapgl\",\"colorbar\":{\"outlinewidth\":0,\"ticks\":\"\"},\"colorscale\":[[0.0,\"#0d0887\"],[0.1111111111111111,\"#46039f\"],[0.2222222222222222,\"#7201a8\"],[0.3333333333333333,\"#9c179e\"],[0.4444444444444444,\"#bd3786\"],[0.5555555555555556,\"#d8576b\"],[0.6666666666666666,\"#ed7953\"],[0.7777777777777778,\"#fb9f3a\"],[0.8888888888888888,\"#fdca26\"],[1.0,\"#f0f921\"]]}],\"contourcarpet\":[{\"type\":\"contourcarpet\",\"colorbar\":{\"outlinewidth\":0,\"ticks\":\"\"}}],\"contour\":[{\"type\":\"contour\",\"colorbar\":{\"outlinewidth\":0,\"ticks\":\"\"},\"colorscale\":[[0.0,\"#0d0887\"],[0.1111111111111111,\"#46039f\"],[0.2222222222222222,\"#7201a8\"],[0.3333333333333333,\"#9c179e\"],[0.4444444444444444,\"#bd3786\"],[0.5555555555555556,\"#d8576b\"],[0.6666666666666666,\"#ed7953\"],[0.7777777777777778,\"#fb9f3a\"],[0.8888888888888888,\"#fdca26\"],[1.0,\"#f0f921\"]]}],\"surface\":[{\"type\":\"surface\",\"colorbar\":{\"outlinewidth\":0,\"ticks\":\"\"},\"colorscale\":[[0.0,\"#0d0887\"],[0.1111111111111111,\"#46039f\"],[0.2222222222222222,\"#7201a8\"],[0.3333333333333333,\"#9c179e\"],[0.4444444444444444,\"#bd3786\"],[0.5555555555555556,\"#d8576b\"],[0.6666666666666666,\"#ed7953\"],[0.7777777777777778,\"#fb9f3a\"],[0.8888888888888888,\"#fdca26\"],[1.0,\"#f0f921\"]]}],\"mesh3d\":[{\"type\":\"mesh3d\",\"colorbar\":{\"outlinewidth\":0,\"ticks\":\"\"}}],\"scatter\":[{\"fillpattern\":{\"fillmode\":\"overlay\",\"size\":10,\"solidity\":0.2},\"type\":\"scatter\"}],\"parcoords\":[{\"type\":\"parcoords\",\"line\":{\"colorbar\":{\"outlinewidth\":0,\"ticks\":\"\"}}}],\"scatterpolargl\":[{\"type\":\"scatterpolargl\",\"marker\":{\"colorbar\":{\"outlinewidth\":0,\"ticks\":\"\"}}}],\"bar\":[{\"error_x\":{\"color\":\"#2a3f5f\"},\"error_y\":{\"color\":\"#2a3f5f\"},\"marker\":{\"line\":{\"color\":\"#E5ECF6\",\"width\":0.5},\"pattern\":{\"fillmode\":\"overlay\",\"size\":10,\"solidity\":0.2}},\"type\":\"bar\"}],\"scattergeo\":[{\"type\":\"scattergeo\",\"marker\":{\"colorbar\":{\"outlinewidth\":0,\"ticks\":\"\"}}}],\"scatterpolar\":[{\"type\":\"scatterpolar\",\"marker\":{\"colorbar\":{\"outlinewidth\":0,\"ticks\":\"\"}}}],\"histogram\":[{\"marker\":{\"pattern\":{\"fillmode\":\"overlay\",\"size\":10,\"solidity\":0.2}},\"type\":\"histogram\"}],\"scattergl\":[{\"type\":\"scattergl\",\"marker\":{\"colorbar\":{\"outlinewidth\":0,\"ticks\":\"\"}}}],\"scatter3d\":[{\"type\":\"scatter3d\",\"line\":{\"colorbar\":{\"outlinewidth\":0,\"ticks\":\"\"}},\"marker\":{\"colorbar\":{\"outlinewidth\":0,\"ticks\":\"\"}}}],\"scattermapbox\":[{\"type\":\"scattermapbox\",\"marker\":{\"colorbar\":{\"outlinewidth\":0,\"ticks\":\"\"}}}],\"scatterternary\":[{\"type\":\"scatterternary\",\"marker\":{\"colorbar\":{\"outlinewidth\":0,\"ticks\":\"\"}}}],\"scattercarpet\":[{\"type\":\"scattercarpet\",\"marker\":{\"colorbar\":{\"outlinewidth\":0,\"ticks\":\"\"}}}],\"carpet\":[{\"aaxis\":{\"endlinecolor\":\"#2a3f5f\",\"gridcolor\":\"white\",\"linecolor\":\"white\",\"minorgridcolor\":\"white\",\"startlinecolor\":\"#2a3f5f\"},\"baxis\":{\"endlinecolor\":\"#2a3f5f\",\"gridcolor\":\"white\",\"linecolor\":\"white\",\"minorgridcolor\":\"white\",\"startlinecolor\":\"#2a3f5f\"},\"type\":\"carpet\"}],\"table\":[{\"cells\":{\"fill\":{\"color\":\"#EBF0F8\"},\"line\":{\"color\":\"white\"}},\"header\":{\"fill\":{\"color\":\"#C8D4E3\"},\"line\":{\"color\":\"white\"}},\"type\":\"table\"}],\"barpolar\":[{\"marker\":{\"line\":{\"color\":\"#E5ECF6\",\"width\":0.5},\"pattern\":{\"fillmode\":\"overlay\",\"size\":10,\"solidity\":0.2}},\"type\":\"barpolar\"}],\"pie\":[{\"automargin\":true,\"type\":\"pie\"}]},\"layout\":{\"autotypenumbers\":\"strict\",\"colorway\":[\"#636efa\",\"#EF553B\",\"#00cc96\",\"#ab63fa\",\"#FFA15A\",\"#19d3f3\",\"#FF6692\",\"#B6E880\",\"#FF97FF\",\"#FECB52\"],\"font\":{\"color\":\"#2a3f5f\"},\"hovermode\":\"closest\",\"hoverlabel\":{\"align\":\"left\"},\"paper_bgcolor\":\"white\",\"plot_bgcolor\":\"#E5ECF6\",\"polar\":{\"bgcolor\":\"#E5ECF6\",\"angularaxis\":{\"gridcolor\":\"white\",\"linecolor\":\"white\",\"ticks\":\"\"},\"radialaxis\":{\"gridcolor\":\"white\",\"linecolor\":\"white\",\"ticks\":\"\"}},\"ternary\":{\"bgcolor\":\"#E5ECF6\",\"aaxis\":{\"gridcolor\":\"white\",\"linecolor\":\"white\",\"ticks\":\"\"},\"baxis\":{\"gridcolor\":\"white\",\"linecolor\":\"white\",\"ticks\":\"\"},\"caxis\":{\"gridcolor\":\"white\",\"linecolor\":\"white\",\"ticks\":\"\"}},\"coloraxis\":{\"colorbar\":{\"outlinewidth\":0,\"ticks\":\"\"}},\"colorscale\":{\"sequential\":[[0.0,\"#0d0887\"],[0.1111111111111111,\"#46039f\"],[0.2222222222222222,\"#7201a8\"],[0.3333333333333333,\"#9c179e\"],[0.4444444444444444,\"#bd3786\"],[0.5555555555555556,\"#d8576b\"],[0.6666666666666666,\"#ed7953\"],[0.7777777777777778,\"#fb9f3a\"],[0.8888888888888888,\"#fdca26\"],[1.0,\"#f0f921\"]],\"sequentialminus\":[[0.0,\"#0d0887\"],[0.1111111111111111,\"#46039f\"],[0.2222222222222222,\"#7201a8\"],[0.3333333333333333,\"#9c179e\"],[0.4444444444444444,\"#bd3786\"],[0.5555555555555556,\"#d8576b\"],[0.6666666666666666,\"#ed7953\"],[0.7777777777777778,\"#fb9f3a\"],[0.8888888888888888,\"#fdca26\"],[1.0,\"#f0f921\"]],\"diverging\":[[0,\"#8e0152\"],[0.1,\"#c51b7d\"],[0.2,\"#de77ae\"],[0.3,\"#f1b6da\"],[0.4,\"#fde0ef\"],[0.5,\"#f7f7f7\"],[0.6,\"#e6f5d0\"],[0.7,\"#b8e186\"],[0.8,\"#7fbc41\"],[0.9,\"#4d9221\"],[1,\"#276419\"]]},\"xaxis\":{\"gridcolor\":\"white\",\"linecolor\":\"white\",\"ticks\":\"\",\"title\":{\"standoff\":15},\"zerolinecolor\":\"white\",\"automargin\":true,\"zerolinewidth\":2},\"yaxis\":{\"gridcolor\":\"white\",\"linecolor\":\"white\",\"ticks\":\"\",\"title\":{\"standoff\":15},\"zerolinecolor\":\"white\",\"automargin\":true,\"zerolinewidth\":2},\"scene\":{\"xaxis\":{\"backgroundcolor\":\"#E5ECF6\",\"gridcolor\":\"white\",\"linecolor\":\"white\",\"showbackground\":true,\"ticks\":\"\",\"zerolinecolor\":\"white\",\"gridwidth\":2},\"yaxis\":{\"backgroundcolor\":\"#E5ECF6\",\"gridcolor\":\"white\",\"linecolor\":\"white\",\"showbackground\":true,\"ticks\":\"\",\"zerolinecolor\":\"white\",\"gridwidth\":2},\"zaxis\":{\"backgroundcolor\":\"#E5ECF6\",\"gridcolor\":\"white\",\"linecolor\":\"white\",\"showbackground\":true,\"ticks\":\"\",\"zerolinecolor\":\"white\",\"gridwidth\":2}},\"shapedefaults\":{\"line\":{\"color\":\"#2a3f5f\"}},\"annotationdefaults\":{\"arrowcolor\":\"#2a3f5f\",\"arrowhead\":0,\"arrowwidth\":1},\"geo\":{\"bgcolor\":\"white\",\"landcolor\":\"#E5ECF6\",\"subunitcolor\":\"white\",\"showland\":true,\"showlakes\":true,\"lakecolor\":\"white\"},\"title\":{\"x\":0.05},\"mapbox\":{\"style\":\"light\"}}},\"geo\":{\"domain\":{\"x\":[0.0,1.0],\"y\":[0.0,1.0]},\"projection\":{\"type\":\"orthographic\"},\"center\":{}},\"legend\":{\"title\":{\"text\":\"name\"},\"tracegroupgap\":0},\"margin\":{\"t\":60},\"updatemenus\":[{\"buttons\":[{\"args\":[\"geo.projection.type\",\"natural earth\"],\"label\":\"Map View\",\"method\":\"relayout\"},{\"args\":[\"geo.projection.type\",\"orthographic\"],\"label\":\"Globe View\",\"method\":\"relayout\"}],\"direction\":\"down\",\"showactive\":true}]},                        {\"responsive\": true}                    ).then(function(){\n",
       "                            \n",
       "var gd = document.getElementById('8ad92060-6c7c-4c96-b672-ff64437e4160');\n",
       "var x = new MutationObserver(function (mutations, observer) {{\n",
       "        var display = window.getComputedStyle(gd).display;\n",
       "        if (!display || display === 'none') {{\n",
       "            console.log([gd, 'removed!']);\n",
       "            Plotly.purge(gd);\n",
       "            observer.disconnect();\n",
       "        }}\n",
       "}});\n",
       "\n",
       "// Listen for the removal of the full notebook cells\n",
       "var notebookContainer = gd.closest('#notebook-container');\n",
       "if (notebookContainer) {{\n",
       "    x.observe(notebookContainer, {childList: true});\n",
       "}}\n",
       "\n",
       "// Listen for the clearing of the current output cell\n",
       "var outputEl = gd.closest('.output');\n",
       "if (outputEl) {{\n",
       "    x.observe(outputEl, {childList: true});\n",
       "}}\n",
       "\n",
       "                        })                };                });            </script>        </div>"
      ]
     },
     "metadata": {},
     "output_type": "display_data"
    }
   ],
   "source": [
    "fig_globe.update_layout(\n",
    "    updatemenus=[\n",
    "        {\n",
    "            \"buttons\": [\n",
    "                {\"label\": \"Map View\", \"method\": \"relayout\", \"args\": [\"geo.projection.type\", \"natural earth\"]},\n",
    "                {\"label\": \"Globe View\", \"method\": \"relayout\", \"args\": [\"geo.projection.type\", \"orthographic\"]}\n",
    "            ],\n",
    "            \"direction\": \"down\",\n",
    "            \"showactive\": True,\n",
    "        }\n",
    "    ]\n",
    ")"
   ]
  },
  {
   "cell_type": "code",
   "execution_count": 37,
   "id": "0fa6a262-6bc5-4696-9c2a-a0f601b47fd7",
   "metadata": {},
   "outputs": [
    {
     "data": {
      "application/vnd.plotly.v1+json": {
       "config": {
        "plotlyServerURL": "https://plot.ly"
       },
       "data": [
        {
         "alignmentgroup": "True",
         "hovertemplate": "year=%{x}<br>mass (g)=%{y}<extra></extra>",
         "legendgroup": "",
         "marker": {
          "color": "#636efa",
          "pattern": {
           "shape": ""
          }
         },
         "name": "",
         "offsetgroup": "",
         "orientation": "v",
         "showlegend": false,
         "textposition": "auto",
         "type": "bar",
         "x": [
          2001,
          2004,
          1998,
          1997,
          1990,
          1979,
          1991,
          2002,
          1988,
          1979,
          1979,
          1993,
          1998,
          1890,
          1987,
          1999,
          1999,
          1988,
          1999,
          2003,
          2000,
          2004,
          1991,
          1999,
          2005,
          2004,
          1978,
          1998,
          2006,
          1974,
          1998,
          1998,
          2006,
          2003,
          2010,
          1933,
          2006,
          1829,
          2002,
          1974,
          2002,
          2011,
          2004,
          1984,
          1983,
          1979,
          2004,
          2009,
          2003,
          2004,
          1890,
          1995,
          1998,
          1974,
          1986,
          1996,
          2009,
          2009,
          1975,
          2001,
          2004,
          1999,
          1990,
          2005,
          2000,
          1866,
          2010,
          1979,
          1991,
          2003,
          2001,
          1980,
          2004,
          1987,
          1991,
          1980,
          1996,
          1998,
          1988,
          1977,
          1964,
          1997,
          2001,
          1991,
          1999,
          1990,
          1986,
          1997,
          1979,
          2003,
          2000,
          2001,
          1986,
          1940,
          2008,
          1999,
          2005,
          1986,
          1997,
          1986,
          2002,
          2001,
          2000,
          1998,
          2002,
          2003,
          1998,
          2006,
          1997,
          1998,
          2001,
          1990,
          2002,
          1986,
          1986,
          1979,
          2003,
          1877,
          1998,
          1993,
          1979,
          1980,
          1991,
          2006,
          2010,
          1986,
          2009,
          2003,
          1983,
          1991,
          1998,
          1850,
          2001,
          1998,
          2009,
          2010,
          2009,
          2004,
          2000,
          2003,
          1998,
          2009,
          2000,
          1979,
          1994,
          1997,
          2000,
          1987,
          2006,
          2003,
          1997,
          2003,
          1993,
          1990,
          1990,
          2006,
          1995,
          2009,
          1996,
          2003,
          1979,
          1986,
          1955,
          1984,
          2005,
          2009,
          2012,
          1988,
          1979,
          2006,
          2006,
          2002,
          2005,
          1873,
          2007,
          1988,
          2001,
          1967,
          1986,
          2003,
          1979,
          1964,
          1998,
          2006,
          1942,
          1988,
          2010,
          2006,
          2008,
          2001,
          1984,
          2003,
          1993,
          2005,
          2004,
          1969,
          1999,
          1986,
          1994,
          2009
         ],
         "xaxis": "x",
         "y": [
          173,
          63,
          10.913,
          27.3,
          20.9,
          2048,
          150.1,
          13.16,
          87.49,
          3.03,
          31.03,
          1.2,
          9.217,
          1000,
          2.4,
          0.5,
          16.4,
          45.21,
          1.4,
          2.55,
          33.8,
          1.1,
          8.1,
          52.4,
          197.2,
          101.4,
          4.4,
          12.976,
          579,
          69.9,
          9.49,
          102.79,
          1.58,
          0.45,
          3879,
          5100,
          3.26,
          16300,
          3.49,
          0.54,
          17.54,
          4.6,
          613,
          48.2,
          8.6,
          24.2,
          0.74,
          8.3,
          7500,
          26.7,
          13600,
          34.1,
          45,
          56.82,
          1.59,
          8.4,
          7.3,
          1.7,
          2.09,
          74,
          495.4,
          89.6,
          420,
          849,
          208,
          8300,
          228,
          2.98,
          53.8,
          55.9,
          73,
          53,
          0.9,
          1230.8,
          587.7,
          8725,
          17.5,
          112.86,
          8.9,
          779.6,
          2250,
          3.8,
          188,
          37.1,
          86.1,
          68.4,
          3.54,
          244,
          9.97,
          12.31,
          18.7,
          78.8,
          18.2,
          4100,
          815,
          1095,
          254,
          9.2,
          31.9,
          1.48,
          165.8,
          406,
          35.8,
          86.63,
          1563.1,
          185.4,
          127.1,
          0.51,
          15.5,
          85,
          308,
          3.5,
          10175,
          11.1,
          5.9,
          3.19,
          0.56,
          30,
          11.09,
          11.9,
          29.42,
          27.8,
          92.7,
          78.36,
          111,
          62.4,
          4.7,
          144,
          23.7,
          215,
          4.93,
          500,
          1149,
          4.1,
          2.4,
          34.3,
          9.8,
          580,
          23,
          0.46,
          14.633,
          3.4,
          54,
          292.26,
          1.3,
          37.8,
          38.99,
          58.6,
          12.7,
          4.22,
          25.6,
          45.4,
          4.9,
          39.7,
          14.2,
          336,
          72.4,
          130.3,
          392.9,
          1006,
          8.14,
          10.86,
          12000,
          6.3,
          426,
          48.1,
          259,
          10.36,
          6175,
          1.33,
          4.37,
          187.5,
          27000,
          50000,
          20,
          9.5,
          1806,
          1443,
          1.22,
          1624,
          14.03,
          45000,
          5.86,
          87.7,
          2700,
          20.5,
          80.48,
          6.45,
          624,
          10.9,
          157.8,
          1788,
          2.5,
          1798.9,
          152,
          71000,
          170,
          9.13,
          5,
          4.2
         ],
         "yaxis": "y"
        }
       ],
       "layout": {
        "autosize": true,
        "barmode": "relative",
        "legend": {
         "tracegroupgap": 0
        },
        "margin": {
         "t": 60
        },
        "template": {
         "data": {
          "bar": [
           {
            "error_x": {
             "color": "#2a3f5f"
            },
            "error_y": {
             "color": "#2a3f5f"
            },
            "marker": {
             "line": {
              "color": "#E5ECF6",
              "width": 0.5
             },
             "pattern": {
              "fillmode": "overlay",
              "size": 10,
              "solidity": 0.2
             }
            },
            "type": "bar"
           }
          ],
          "barpolar": [
           {
            "marker": {
             "line": {
              "color": "#E5ECF6",
              "width": 0.5
             },
             "pattern": {
              "fillmode": "overlay",
              "size": 10,
              "solidity": 0.2
             }
            },
            "type": "barpolar"
           }
          ],
          "carpet": [
           {
            "aaxis": {
             "endlinecolor": "#2a3f5f",
             "gridcolor": "white",
             "linecolor": "white",
             "minorgridcolor": "white",
             "startlinecolor": "#2a3f5f"
            },
            "baxis": {
             "endlinecolor": "#2a3f5f",
             "gridcolor": "white",
             "linecolor": "white",
             "minorgridcolor": "white",
             "startlinecolor": "#2a3f5f"
            },
            "type": "carpet"
           }
          ],
          "choropleth": [
           {
            "colorbar": {
             "outlinewidth": 0,
             "ticks": ""
            },
            "type": "choropleth"
           }
          ],
          "contour": [
           {
            "colorbar": {
             "outlinewidth": 0,
             "ticks": ""
            },
            "colorscale": [
             [
              0,
              "#0d0887"
             ],
             [
              0.1111111111111111,
              "#46039f"
             ],
             [
              0.2222222222222222,
              "#7201a8"
             ],
             [
              0.3333333333333333,
              "#9c179e"
             ],
             [
              0.4444444444444444,
              "#bd3786"
             ],
             [
              0.5555555555555556,
              "#d8576b"
             ],
             [
              0.6666666666666666,
              "#ed7953"
             ],
             [
              0.7777777777777778,
              "#fb9f3a"
             ],
             [
              0.8888888888888888,
              "#fdca26"
             ],
             [
              1,
              "#f0f921"
             ]
            ],
            "type": "contour"
           }
          ],
          "contourcarpet": [
           {
            "colorbar": {
             "outlinewidth": 0,
             "ticks": ""
            },
            "type": "contourcarpet"
           }
          ],
          "heatmap": [
           {
            "colorbar": {
             "outlinewidth": 0,
             "ticks": ""
            },
            "colorscale": [
             [
              0,
              "#0d0887"
             ],
             [
              0.1111111111111111,
              "#46039f"
             ],
             [
              0.2222222222222222,
              "#7201a8"
             ],
             [
              0.3333333333333333,
              "#9c179e"
             ],
             [
              0.4444444444444444,
              "#bd3786"
             ],
             [
              0.5555555555555556,
              "#d8576b"
             ],
             [
              0.6666666666666666,
              "#ed7953"
             ],
             [
              0.7777777777777778,
              "#fb9f3a"
             ],
             [
              0.8888888888888888,
              "#fdca26"
             ],
             [
              1,
              "#f0f921"
             ]
            ],
            "type": "heatmap"
           }
          ],
          "heatmapgl": [
           {
            "colorbar": {
             "outlinewidth": 0,
             "ticks": ""
            },
            "colorscale": [
             [
              0,
              "#0d0887"
             ],
             [
              0.1111111111111111,
              "#46039f"
             ],
             [
              0.2222222222222222,
              "#7201a8"
             ],
             [
              0.3333333333333333,
              "#9c179e"
             ],
             [
              0.4444444444444444,
              "#bd3786"
             ],
             [
              0.5555555555555556,
              "#d8576b"
             ],
             [
              0.6666666666666666,
              "#ed7953"
             ],
             [
              0.7777777777777778,
              "#fb9f3a"
             ],
             [
              0.8888888888888888,
              "#fdca26"
             ],
             [
              1,
              "#f0f921"
             ]
            ],
            "type": "heatmapgl"
           }
          ],
          "histogram": [
           {
            "marker": {
             "pattern": {
              "fillmode": "overlay",
              "size": 10,
              "solidity": 0.2
             }
            },
            "type": "histogram"
           }
          ],
          "histogram2d": [
           {
            "colorbar": {
             "outlinewidth": 0,
             "ticks": ""
            },
            "colorscale": [
             [
              0,
              "#0d0887"
             ],
             [
              0.1111111111111111,
              "#46039f"
             ],
             [
              0.2222222222222222,
              "#7201a8"
             ],
             [
              0.3333333333333333,
              "#9c179e"
             ],
             [
              0.4444444444444444,
              "#bd3786"
             ],
             [
              0.5555555555555556,
              "#d8576b"
             ],
             [
              0.6666666666666666,
              "#ed7953"
             ],
             [
              0.7777777777777778,
              "#fb9f3a"
             ],
             [
              0.8888888888888888,
              "#fdca26"
             ],
             [
              1,
              "#f0f921"
             ]
            ],
            "type": "histogram2d"
           }
          ],
          "histogram2dcontour": [
           {
            "colorbar": {
             "outlinewidth": 0,
             "ticks": ""
            },
            "colorscale": [
             [
              0,
              "#0d0887"
             ],
             [
              0.1111111111111111,
              "#46039f"
             ],
             [
              0.2222222222222222,
              "#7201a8"
             ],
             [
              0.3333333333333333,
              "#9c179e"
             ],
             [
              0.4444444444444444,
              "#bd3786"
             ],
             [
              0.5555555555555556,
              "#d8576b"
             ],
             [
              0.6666666666666666,
              "#ed7953"
             ],
             [
              0.7777777777777778,
              "#fb9f3a"
             ],
             [
              0.8888888888888888,
              "#fdca26"
             ],
             [
              1,
              "#f0f921"
             ]
            ],
            "type": "histogram2dcontour"
           }
          ],
          "mesh3d": [
           {
            "colorbar": {
             "outlinewidth": 0,
             "ticks": ""
            },
            "type": "mesh3d"
           }
          ],
          "parcoords": [
           {
            "line": {
             "colorbar": {
              "outlinewidth": 0,
              "ticks": ""
             }
            },
            "type": "parcoords"
           }
          ],
          "pie": [
           {
            "automargin": true,
            "type": "pie"
           }
          ],
          "scatter": [
           {
            "fillpattern": {
             "fillmode": "overlay",
             "size": 10,
             "solidity": 0.2
            },
            "type": "scatter"
           }
          ],
          "scatter3d": [
           {
            "line": {
             "colorbar": {
              "outlinewidth": 0,
              "ticks": ""
             }
            },
            "marker": {
             "colorbar": {
              "outlinewidth": 0,
              "ticks": ""
             }
            },
            "type": "scatter3d"
           }
          ],
          "scattercarpet": [
           {
            "marker": {
             "colorbar": {
              "outlinewidth": 0,
              "ticks": ""
             }
            },
            "type": "scattercarpet"
           }
          ],
          "scattergeo": [
           {
            "marker": {
             "colorbar": {
              "outlinewidth": 0,
              "ticks": ""
             }
            },
            "type": "scattergeo"
           }
          ],
          "scattergl": [
           {
            "marker": {
             "colorbar": {
              "outlinewidth": 0,
              "ticks": ""
             }
            },
            "type": "scattergl"
           }
          ],
          "scattermapbox": [
           {
            "marker": {
             "colorbar": {
              "outlinewidth": 0,
              "ticks": ""
             }
            },
            "type": "scattermapbox"
           }
          ],
          "scatterpolar": [
           {
            "marker": {
             "colorbar": {
              "outlinewidth": 0,
              "ticks": ""
             }
            },
            "type": "scatterpolar"
           }
          ],
          "scatterpolargl": [
           {
            "marker": {
             "colorbar": {
              "outlinewidth": 0,
              "ticks": ""
             }
            },
            "type": "scatterpolargl"
           }
          ],
          "scatterternary": [
           {
            "marker": {
             "colorbar": {
              "outlinewidth": 0,
              "ticks": ""
             }
            },
            "type": "scatterternary"
           }
          ],
          "surface": [
           {
            "colorbar": {
             "outlinewidth": 0,
             "ticks": ""
            },
            "colorscale": [
             [
              0,
              "#0d0887"
             ],
             [
              0.1111111111111111,
              "#46039f"
             ],
             [
              0.2222222222222222,
              "#7201a8"
             ],
             [
              0.3333333333333333,
              "#9c179e"
             ],
             [
              0.4444444444444444,
              "#bd3786"
             ],
             [
              0.5555555555555556,
              "#d8576b"
             ],
             [
              0.6666666666666666,
              "#ed7953"
             ],
             [
              0.7777777777777778,
              "#fb9f3a"
             ],
             [
              0.8888888888888888,
              "#fdca26"
             ],
             [
              1,
              "#f0f921"
             ]
            ],
            "type": "surface"
           }
          ],
          "table": [
           {
            "cells": {
             "fill": {
              "color": "#EBF0F8"
             },
             "line": {
              "color": "white"
             }
            },
            "header": {
             "fill": {
              "color": "#C8D4E3"
             },
             "line": {
              "color": "white"
             }
            },
            "type": "table"
           }
          ]
         },
         "layout": {
          "annotationdefaults": {
           "arrowcolor": "#2a3f5f",
           "arrowhead": 0,
           "arrowwidth": 1
          },
          "autotypenumbers": "strict",
          "coloraxis": {
           "colorbar": {
            "outlinewidth": 0,
            "ticks": ""
           }
          },
          "colorscale": {
           "diverging": [
            [
             0,
             "#8e0152"
            ],
            [
             0.1,
             "#c51b7d"
            ],
            [
             0.2,
             "#de77ae"
            ],
            [
             0.3,
             "#f1b6da"
            ],
            [
             0.4,
             "#fde0ef"
            ],
            [
             0.5,
             "#f7f7f7"
            ],
            [
             0.6,
             "#e6f5d0"
            ],
            [
             0.7,
             "#b8e186"
            ],
            [
             0.8,
             "#7fbc41"
            ],
            [
             0.9,
             "#4d9221"
            ],
            [
             1,
             "#276419"
            ]
           ],
           "sequential": [
            [
             0,
             "#0d0887"
            ],
            [
             0.1111111111111111,
             "#46039f"
            ],
            [
             0.2222222222222222,
             "#7201a8"
            ],
            [
             0.3333333333333333,
             "#9c179e"
            ],
            [
             0.4444444444444444,
             "#bd3786"
            ],
            [
             0.5555555555555556,
             "#d8576b"
            ],
            [
             0.6666666666666666,
             "#ed7953"
            ],
            [
             0.7777777777777778,
             "#fb9f3a"
            ],
            [
             0.8888888888888888,
             "#fdca26"
            ],
            [
             1,
             "#f0f921"
            ]
           ],
           "sequentialminus": [
            [
             0,
             "#0d0887"
            ],
            [
             0.1111111111111111,
             "#46039f"
            ],
            [
             0.2222222222222222,
             "#7201a8"
            ],
            [
             0.3333333333333333,
             "#9c179e"
            ],
            [
             0.4444444444444444,
             "#bd3786"
            ],
            [
             0.5555555555555556,
             "#d8576b"
            ],
            [
             0.6666666666666666,
             "#ed7953"
            ],
            [
             0.7777777777777778,
             "#fb9f3a"
            ],
            [
             0.8888888888888888,
             "#fdca26"
            ],
            [
             1,
             "#f0f921"
            ]
           ]
          },
          "colorway": [
           "#636efa",
           "#EF553B",
           "#00cc96",
           "#ab63fa",
           "#FFA15A",
           "#19d3f3",
           "#FF6692",
           "#B6E880",
           "#FF97FF",
           "#FECB52"
          ],
          "font": {
           "color": "#2a3f5f"
          },
          "geo": {
           "bgcolor": "white",
           "lakecolor": "white",
           "landcolor": "#E5ECF6",
           "showlakes": true,
           "showland": true,
           "subunitcolor": "white"
          },
          "hoverlabel": {
           "align": "left"
          },
          "hovermode": "closest",
          "mapbox": {
           "style": "light"
          },
          "paper_bgcolor": "white",
          "plot_bgcolor": "#E5ECF6",
          "polar": {
           "angularaxis": {
            "gridcolor": "white",
            "linecolor": "white",
            "ticks": ""
           },
           "bgcolor": "#E5ECF6",
           "radialaxis": {
            "gridcolor": "white",
            "linecolor": "white",
            "ticks": ""
           }
          },
          "scene": {
           "xaxis": {
            "backgroundcolor": "#E5ECF6",
            "gridcolor": "white",
            "gridwidth": 2,
            "linecolor": "white",
            "showbackground": true,
            "ticks": "",
            "zerolinecolor": "white"
           },
           "yaxis": {
            "backgroundcolor": "#E5ECF6",
            "gridcolor": "white",
            "gridwidth": 2,
            "linecolor": "white",
            "showbackground": true,
            "ticks": "",
            "zerolinecolor": "white"
           },
           "zaxis": {
            "backgroundcolor": "#E5ECF6",
            "gridcolor": "white",
            "gridwidth": 2,
            "linecolor": "white",
            "showbackground": true,
            "ticks": "",
            "zerolinecolor": "white"
           }
          },
          "shapedefaults": {
           "line": {
            "color": "#2a3f5f"
           }
          },
          "ternary": {
           "aaxis": {
            "gridcolor": "white",
            "linecolor": "white",
            "ticks": ""
           },
           "baxis": {
            "gridcolor": "white",
            "linecolor": "white",
            "ticks": ""
           },
           "bgcolor": "#E5ECF6",
           "caxis": {
            "gridcolor": "white",
            "linecolor": "white",
            "ticks": ""
           }
          },
          "title": {
           "x": 0.05
          },
          "xaxis": {
           "automargin": true,
           "gridcolor": "white",
           "linecolor": "white",
           "ticks": "",
           "title": {
            "standoff": 15
           },
           "zerolinecolor": "white",
           "zerolinewidth": 2
          },
          "yaxis": {
           "automargin": true,
           "gridcolor": "white",
           "linecolor": "white",
           "ticks": "",
           "title": {
            "standoff": 15
           },
           "zerolinecolor": "white",
           "zerolinewidth": 2
          }
         }
        },
        "xaxis": {
         "anchor": "y",
         "autorange": true,
         "domain": [
          0,
          1
         ],
         "range": [
          1828.5,
          2012.5
         ],
         "title": {
          "text": "year"
         },
         "type": "linear"
        },
        "yaxis": {
         "anchor": "x",
         "autorange": true,
         "domain": [
          0,
          1
         ],
         "range": [
          0,
          74736.84210526316
         ],
         "title": {
          "text": "mass (g)"
         },
         "type": "linear"
        }
       }
      },
      "image/png": "[encoded data removed]",
      "text/html": [
       "<div>                            <div id=\"3876b06e-cc72-4d8d-93b9-22ab48c080d7\" class=\"plotly-graph-div\" style=\"height:525px; width:100%;\"></div>            <script type=\"text/javascript\">                require([\"plotly\"], function(Plotly) {                    window.PLOTLYENV=window.PLOTLYENV || {};                                    if (document.getElementById(\"3876b06e-cc72-4d8d-93b9-22ab48c080d7\")) {                    Plotly.newPlot(                        \"3876b06e-cc72-4d8d-93b9-22ab48c080d7\",                        [{\"alignmentgroup\":\"True\",\"hovertemplate\":\"year=%{x}\\u003cbr\\u003emass (g)=%{y}\\u003cextra\\u003e\\u003c\\u002fextra\\u003e\",\"legendgroup\":\"\",\"marker\":{\"color\":\"#636efa\",\"pattern\":{\"shape\":\"\"}},\"name\":\"\",\"offsetgroup\":\"\",\"orientation\":\"v\",\"showlegend\":false,\"textposition\":\"auto\",\"x\":[2001.0,2004.0,1998.0,1997.0,1990.0,1979.0,1991.0,2002.0,1988.0,1979.0,1979.0,1993.0,1998.0,1890.0,1987.0,1999.0,1999.0,1988.0,1999.0,2003.0,2000.0,2004.0,1991.0,1999.0,2005.0,2004.0,1978.0,1998.0,2006.0,1974.0,1998.0,1998.0,2006.0,2003.0,2010.0,1933.0,2006.0,1829.0,2002.0,1974.0,2002.0,2011.0,2004.0,1984.0,1983.0,1979.0,2004.0,2009.0,2003.0,2004.0,1890.0,1995.0,1998.0,1974.0,1986.0,1996.0,2009.0,2009.0,1975.0,2001.0,2004.0,1999.0,1990.0,2005.0,2000.0,1866.0,2010.0,1979.0,1991.0,2003.0,2001.0,1980.0,2004.0,1987.0,1991.0,1980.0,1996.0,1998.0,1988.0,1977.0,1964.0,1997.0,2001.0,1991.0,1999.0,1990.0,1986.0,1997.0,1979.0,2003.0,2000.0,2001.0,1986.0,1940.0,2008.0,1999.0,2005.0,1986.0,1997.0,1986.0,2002.0,2001.0,2000.0,1998.0,2002.0,2003.0,1998.0,2006.0,1997.0,1998.0,2001.0,1990.0,2002.0,1986.0,1986.0,1979.0,2003.0,1877.0,1998.0,1993.0,1979.0,1980.0,1991.0,2006.0,2010.0,1986.0,2009.0,2003.0,1983.0,1991.0,1998.0,1850.0,2001.0,1998.0,2009.0,2010.0,2009.0,2004.0,2000.0,2003.0,1998.0,2009.0,2000.0,1979.0,1994.0,1997.0,2000.0,1987.0,2006.0,2003.0,1997.0,2003.0,1993.0,1990.0,1990.0,2006.0,1995.0,2009.0,1996.0,2003.0,1979.0,1986.0,1955.0,1984.0,2005.0,2009.0,2012.0,1988.0,1979.0,2006.0,2006.0,2002.0,2005.0,1873.0,2007.0,1988.0,2001.0,1967.0,1986.0,2003.0,1979.0,1964.0,1998.0,2006.0,1942.0,1988.0,2010.0,2006.0,2008.0,2001.0,1984.0,2003.0,1993.0,2005.0,2004.0,1969.0,1999.0,1986.0,1994.0,2009.0],\"xaxis\":\"x\",\"y\":[173.0,63.0,10.913,27.3,20.9,2048.0,150.1,13.16,87.49,3.03,31.03,1.2,9.217,1000.0,2.4,0.5,16.4,45.21,1.4,2.55,33.8,1.1,8.1,52.4,197.2,101.4,4.4,12.976,579.0,69.9,9.49,102.79,1.58,0.45,3879.0,5100.0,3.26,16300.0,3.49,0.54,17.54,4.6,613.0,48.2,8.6,24.2,0.74,8.3,7500.0,26.7,13600.0,34.1,45.0,56.82,1.59,8.4,7.3,1.7,2.09,74.0,495.4,89.6,420.0,849.0,208.0,8300.0,228.0,2.98,53.8,55.9,73.0,53.0,0.9,1230.8,587.7,8725.0,17.5,112.86,8.9,779.6,2250.0,3.8,188.0,37.1,86.1,68.4,3.54,244.0,9.97,12.31,18.7,78.8,18.2,4100.0,815.0,1095.0,254.0,9.2,31.9,1.48,165.8,406.0,35.8,86.63,1563.1,185.4,127.1,0.51,15.5,85.0,308.0,3.5,10175.0,11.1,5.9,3.19,0.56,30.0,11.09,11.9,29.42,27.8,92.7,78.36,111.0,62.4,4.7,144.0,23.7,215.0,4.93,500.0,1149.0,4.1,2.4,34.3,9.8,580.0,23.0,0.46,14.633,3.4,54.0,292.26,1.3,37.8,38.99,58.6,12.7,4.22,25.6,45.4,4.9,39.7,14.2,336.0,72.4,130.3,392.9,1006.0,8.14,10.86,12000.0,6.3,426.0,48.1,259.0,10.36,6175.0,1.33,4.37,187.5,27000.0,50000.0,20.0,9.5,1806.0,1443.0,1.22,1624.0,14.03,45000.0,5.86,87.7,2700.0,20.5,80.48,6.45,624.0,10.9,157.8,1788.0,2.5,1798.9,152.0,71000.0,170.0,9.13,5.0,4.2],\"yaxis\":\"y\",\"type\":\"bar\"}],                        {\"template\":{\"data\":{\"histogram2dcontour\":[{\"type\":\"histogram2dcontour\",\"colorbar\":{\"outlinewidth\":0,\"ticks\":\"\"},\"colorscale\":[[0.0,\"#0d0887\"],[0.1111111111111111,\"#46039f\"],[0.2222222222222222,\"#7201a8\"],[0.3333333333333333,\"#9c179e\"],[0.4444444444444444,\"#bd3786\"],[0.5555555555555556,\"#d8576b\"],[0.6666666666666666,\"#ed7953\"],[0.7777777777777778,\"#fb9f3a\"],[0.8888888888888888,\"#fdca26\"],[1.0,\"#f0f921\"]]}],\"choropleth\":[{\"type\":\"choropleth\",\"colorbar\":{\"outlinewidth\":0,\"ticks\":\"\"}}],\"histogram2d\":[{\"type\":\"histogram2d\",\"colorbar\":{\"outlinewidth\":0,\"ticks\":\"\"},\"colorscale\":[[0.0,\"#0d0887\"],[0.1111111111111111,\"#46039f\"],[0.2222222222222222,\"#7201a8\"],[0.3333333333333333,\"#9c179e\"],[0.4444444444444444,\"#bd3786\"],[0.5555555555555556,\"#d8576b\"],[0.6666666666666666,\"#ed7953\"],[0.7777777777777778,\"#fb9f3a\"],[0.8888888888888888,\"#fdca26\"],[1.0,\"#f0f921\"]]}],\"heatmap\":[{\"type\":\"heatmap\",\"colorbar\":{\"outlinewidth\":0,\"ticks\":\"\"},\"colorscale\":[[0.0,\"#0d0887\"],[0.1111111111111111,\"#46039f\"],[0.2222222222222222,\"#7201a8\"],[0.3333333333333333,\"#9c179e\"],[0.4444444444444444,\"#bd3786\"],[0.5555555555555556,\"#d8576b\"],[0.6666666666666666,\"#ed7953\"],[0.7777777777777778,\"#fb9f3a\"],[0.8888888888888888,\"#fdca26\"],[1.0,\"#f0f921\"]]}],\"heatmapgl\":[{\"type\":\"heatmapgl\",\"colorbar\":{\"outlinewidth\":0,\"ticks\":\"\"},\"colorscale\":[[0.0,\"#0d0887\"],[0.1111111111111111,\"#46039f\"],[0.2222222222222222,\"#7201a8\"],[0.3333333333333333,\"#9c179e\"],[0.4444444444444444,\"#bd3786\"],[0.5555555555555556,\"#d8576b\"],[0.6666666666666666,\"#ed7953\"],[0.7777777777777778,\"#fb9f3a\"],[0.8888888888888888,\"#fdca26\"],[1.0,\"#f0f921\"]]}],\"contourcarpet\":[{\"type\":\"contourcarpet\",\"colorbar\":{\"outlinewidth\":0,\"ticks\":\"\"}}],\"contour\":[{\"type\":\"contour\",\"colorbar\":{\"outlinewidth\":0,\"ticks\":\"\"},\"colorscale\":[[0.0,\"#0d0887\"],[0.1111111111111111,\"#46039f\"],[0.2222222222222222,\"#7201a8\"],[0.3333333333333333,\"#9c179e\"],[0.4444444444444444,\"#bd3786\"],[0.5555555555555556,\"#d8576b\"],[0.6666666666666666,\"#ed7953\"],[0.7777777777777778,\"#fb9f3a\"],[0.8888888888888888,\"#fdca26\"],[1.0,\"#f0f921\"]]}],\"surface\":[{\"type\":\"surface\",\"colorbar\":{\"outlinewidth\":0,\"ticks\":\"\"},\"colorscale\":[[0.0,\"#0d0887\"],[0.1111111111111111,\"#46039f\"],[0.2222222222222222,\"#7201a8\"],[0.3333333333333333,\"#9c179e\"],[0.4444444444444444,\"#bd3786\"],[0.5555555555555556,\"#d8576b\"],[0.6666666666666666,\"#ed7953\"],[0.7777777777777778,\"#fb9f3a\"],[0.8888888888888888,\"#fdca26\"],[1.0,\"#f0f921\"]]}],\"mesh3d\":[{\"type\":\"mesh3d\",\"colorbar\":{\"outlinewidth\":0,\"ticks\":\"\"}}],\"scatter\":[{\"fillpattern\":{\"fillmode\":\"overlay\",\"size\":10,\"solidity\":0.2},\"type\":\"scatter\"}],\"parcoords\":[{\"type\":\"parcoords\",\"line\":{\"colorbar\":{\"outlinewidth\":0,\"ticks\":\"\"}}}],\"scatterpolargl\":[{\"type\":\"scatterpolargl\",\"marker\":{\"colorbar\":{\"outlinewidth\":0,\"ticks\":\"\"}}}],\"bar\":[{\"error_x\":{\"color\":\"#2a3f5f\"},\"error_y\":{\"color\":\"#2a3f5f\"},\"marker\":{\"line\":{\"color\":\"#E5ECF6\",\"width\":0.5},\"pattern\":{\"fillmode\":\"overlay\",\"size\":10,\"solidity\":0.2}},\"type\":\"bar\"}],\"scattergeo\":[{\"type\":\"scattergeo\",\"marker\":{\"colorbar\":{\"outlinewidth\":0,\"ticks\":\"\"}}}],\"scatterpolar\":[{\"type\":\"scatterpolar\",\"marker\":{\"colorbar\":{\"outlinewidth\":0,\"ticks\":\"\"}}}],\"histogram\":[{\"marker\":{\"pattern\":{\"fillmode\":\"overlay\",\"size\":10,\"solidity\":0.2}},\"type\":\"histogram\"}],\"scattergl\":[{\"type\":\"scattergl\",\"marker\":{\"colorbar\":{\"outlinewidth\":0,\"ticks\":\"\"}}}],\"scatter3d\":[{\"type\":\"scatter3d\",\"line\":{\"colorbar\":{\"outlinewidth\":0,\"ticks\":\"\"}},\"marker\":{\"colorbar\":{\"outlinewidth\":0,\"ticks\":\"\"}}}],\"scattermapbox\":[{\"type\":\"scattermapbox\",\"marker\":{\"colorbar\":{\"outlinewidth\":0,\"ticks\":\"\"}}}],\"scatterternary\":[{\"type\":\"scatterternary\",\"marker\":{\"colorbar\":{\"outlinewidth\":0,\"ticks\":\"\"}}}],\"scattercarpet\":[{\"type\":\"scattercarpet\",\"marker\":{\"colorbar\":{\"outlinewidth\":0,\"ticks\":\"\"}}}],\"carpet\":[{\"aaxis\":{\"endlinecolor\":\"#2a3f5f\",\"gridcolor\":\"white\",\"linecolor\":\"white\",\"minorgridcolor\":\"white\",\"startlinecolor\":\"#2a3f5f\"},\"baxis\":{\"endlinecolor\":\"#2a3f5f\",\"gridcolor\":\"white\",\"linecolor\":\"white\",\"minorgridcolor\":\"white\",\"startlinecolor\":\"#2a3f5f\"},\"type\":\"carpet\"}],\"table\":[{\"cells\":{\"fill\":{\"color\":\"#EBF0F8\"},\"line\":{\"color\":\"white\"}},\"header\":{\"fill\":{\"color\":\"#C8D4E3\"},\"line\":{\"color\":\"white\"}},\"type\":\"table\"}],\"barpolar\":[{\"marker\":{\"line\":{\"color\":\"#E5ECF6\",\"width\":0.5},\"pattern\":{\"fillmode\":\"overlay\",\"size\":10,\"solidity\":0.2}},\"type\":\"barpolar\"}],\"pie\":[{\"automargin\":true,\"type\":\"pie\"}]},\"layout\":{\"autotypenumbers\":\"strict\",\"colorway\":[\"#636efa\",\"#EF553B\",\"#00cc96\",\"#ab63fa\",\"#FFA15A\",\"#19d3f3\",\"#FF6692\",\"#B6E880\",\"#FF97FF\",\"#FECB52\"],\"font\":{\"color\":\"#2a3f5f\"},\"hovermode\":\"closest\",\"hoverlabel\":{\"align\":\"left\"},\"paper_bgcolor\":\"white\",\"plot_bgcolor\":\"#E5ECF6\",\"polar\":{\"bgcolor\":\"#E5ECF6\",\"angularaxis\":{\"gridcolor\":\"white\",\"linecolor\":\"white\",\"ticks\":\"\"},\"radialaxis\":{\"gridcolor\":\"white\",\"linecolor\":\"white\",\"ticks\":\"\"}},\"ternary\":{\"bgcolor\":\"#E5ECF6\",\"aaxis\":{\"gridcolor\":\"white\",\"linecolor\":\"white\",\"ticks\":\"\"},\"baxis\":{\"gridcolor\":\"white\",\"linecolor\":\"white\",\"ticks\":\"\"},\"caxis\":{\"gridcolor\":\"white\",\"linecolor\":\"white\",\"ticks\":\"\"}},\"coloraxis\":{\"colorbar\":{\"outlinewidth\":0,\"ticks\":\"\"}},\"colorscale\":{\"sequential\":[[0.0,\"#0d0887\"],[0.1111111111111111,\"#46039f\"],[0.2222222222222222,\"#7201a8\"],[0.3333333333333333,\"#9c179e\"],[0.4444444444444444,\"#bd3786\"],[0.5555555555555556,\"#d8576b\"],[0.6666666666666666,\"#ed7953\"],[0.7777777777777778,\"#fb9f3a\"],[0.8888888888888888,\"#fdca26\"],[1.0,\"#f0f921\"]],\"sequentialminus\":[[0.0,\"#0d0887\"],[0.1111111111111111,\"#46039f\"],[0.2222222222222222,\"#7201a8\"],[0.3333333333333333,\"#9c179e\"],[0.4444444444444444,\"#bd3786\"],[0.5555555555555556,\"#d8576b\"],[0.6666666666666666,\"#ed7953\"],[0.7777777777777778,\"#fb9f3a\"],[0.8888888888888888,\"#fdca26\"],[1.0,\"#f0f921\"]],\"diverging\":[[0,\"#8e0152\"],[0.1,\"#c51b7d\"],[0.2,\"#de77ae\"],[0.3,\"#f1b6da\"],[0.4,\"#fde0ef\"],[0.5,\"#f7f7f7\"],[0.6,\"#e6f5d0\"],[0.7,\"#b8e186\"],[0.8,\"#7fbc41\"],[0.9,\"#4d9221\"],[1,\"#276419\"]]},\"xaxis\":{\"gridcolor\":\"white\",\"linecolor\":\"white\",\"ticks\":\"\",\"title\":{\"standoff\":15},\"zerolinecolor\":\"white\",\"automargin\":true,\"zerolinewidth\":2},\"yaxis\":{\"gridcolor\":\"white\",\"linecolor\":\"white\",\"ticks\":\"\",\"title\":{\"standoff\":15},\"zerolinecolor\":\"white\",\"automargin\":true,\"zerolinewidth\":2},\"scene\":{\"xaxis\":{\"backgroundcolor\":\"#E5ECF6\",\"gridcolor\":\"white\",\"linecolor\":\"white\",\"showbackground\":true,\"ticks\":\"\",\"zerolinecolor\":\"white\",\"gridwidth\":2},\"yaxis\":{\"backgroundcolor\":\"#E5ECF6\",\"gridcolor\":\"white\",\"linecolor\":\"white\",\"showbackground\":true,\"ticks\":\"\",\"zerolinecolor\":\"white\",\"gridwidth\":2},\"zaxis\":{\"backgroundcolor\":\"#E5ECF6\",\"gridcolor\":\"white\",\"linecolor\":\"white\",\"showbackground\":true,\"ticks\":\"\",\"zerolinecolor\":\"white\",\"gridwidth\":2}},\"shapedefaults\":{\"line\":{\"color\":\"#2a3f5f\"}},\"annotationdefaults\":{\"arrowcolor\":\"#2a3f5f\",\"arrowhead\":0,\"arrowwidth\":1},\"geo\":{\"bgcolor\":\"white\",\"landcolor\":\"#E5ECF6\",\"subunitcolor\":\"white\",\"showland\":true,\"showlakes\":true,\"lakecolor\":\"white\"},\"title\":{\"x\":0.05},\"mapbox\":{\"style\":\"light\"}}},\"xaxis\":{\"anchor\":\"y\",\"domain\":[0.0,1.0],\"title\":{\"text\":\"year\"}},\"yaxis\":{\"anchor\":\"x\",\"domain\":[0.0,1.0],\"title\":{\"text\":\"mass (g)\"}},\"legend\":{\"tracegroupgap\":0},\"margin\":{\"t\":60},\"barmode\":\"relative\"},                        {\"responsive\": true}                    ).then(function(){\n",
       "                            \n",
       "var gd = document.getElementById('3876b06e-cc72-4d8d-93b9-22ab48c080d7');\n",
       "var x = new MutationObserver(function (mutations, observer) {{\n",
       "        var display = window.getComputedStyle(gd).display;\n",
       "        if (!display || display === 'none') {{\n",
       "            console.log([gd, 'removed!']);\n",
       "            Plotly.purge(gd);\n",
       "            observer.disconnect();\n",
       "        }}\n",
       "}});\n",
       "\n",
       "// Listen for the removal of the full notebook cells\n",
       "var notebookContainer = gd.closest('#notebook-container');\n",
       "if (notebookContainer) {{\n",
       "    x.observe(notebookContainer, {childList: true});\n",
       "}}\n",
       "\n",
       "// Listen for the clearing of the current output cell\n",
       "var outputEl = gd.closest('.output');\n",
       "if (outputEl) {{\n",
       "    x.observe(outputEl, {childList: true});\n",
       "}}\n",
       "\n",
       "                        })                };                });            </script>        </div>"
      ]
     },
     "metadata": {},
     "output_type": "display_data"
    }
   ],
   "source": [
    "figbar = px.bar(data, x = 'year', y = 'mass (g)')\n",
    "figbar.show()"
   ]
  },
  {
   "cell_type": "code",
   "execution_count": 39,
   "id": "f3738d1a-1e2c-491a-9947-aba9e34e92ee",
   "metadata": {},
   "outputs": [
    {
     "data": {
      "application/vnd.plotly.v1+json": {
       "config": {
        "plotlyServerURL": "https://plot.ly"
       },
       "data": [
        {
         "alignmentgroup": "True",
         "hovertemplate": "year=%{x}<br>mass (g)=%{y}<extra></extra>",
         "legendgroup": "",
         "marker": {
          "color": "#636efa",
          "pattern": {
           "shape": ""
          }
         },
         "name": "",
         "offsetgroup": "",
         "orientation": "v",
         "showlegend": false,
         "textposition": "auto",
         "type": "bar",
         "x": [
          2001,
          2004,
          1998,
          1997,
          1990,
          1979,
          1991,
          2002,
          1988,
          1979,
          1979,
          1993,
          1998,
          1890,
          1987,
          1999,
          1999,
          1988,
          1999,
          2003,
          2000,
          2004,
          1991,
          1999,
          2005,
          2004,
          1978,
          1998,
          2006,
          1974,
          1998,
          1998,
          2006,
          2003,
          2010,
          1933,
          2006,
          1829,
          2002,
          1974,
          2002,
          2011,
          2004,
          1984,
          1983,
          1979,
          2004,
          2009,
          2003,
          2004,
          1890,
          1995,
          1998,
          1974,
          1986,
          1996,
          2009,
          2009,
          1975,
          2001,
          2004,
          1999,
          1990,
          2005,
          2000,
          1866,
          2010,
          1979,
          1991,
          2003,
          2001,
          1980,
          2004,
          1987,
          1991,
          1980,
          1996,
          1998,
          1988,
          1977,
          1964,
          1997,
          2001,
          1991,
          1999,
          1990,
          1986,
          1997,
          1979,
          2003,
          2000,
          2001,
          1986,
          1940,
          2008,
          1999,
          2005,
          1986,
          1997,
          1986,
          2002,
          2001,
          2000,
          1998,
          2002,
          2003,
          1998,
          2006,
          1997,
          1998,
          2001,
          1990,
          2002,
          1986,
          1986,
          1979,
          2003,
          1877,
          1998,
          1993,
          1979,
          1980,
          1991,
          2006,
          2010,
          1986,
          2009,
          2003,
          1983,
          1991,
          1998,
          1850,
          2001,
          1998,
          2009,
          2010,
          2009,
          2004,
          2000,
          2003,
          1998,
          2009,
          2000,
          1979,
          1994,
          1997,
          2000,
          1987,
          2006,
          2003,
          1997,
          2003,
          1993,
          1990,
          1990,
          2006,
          1995,
          2009,
          1996,
          2003,
          1979,
          1986,
          1955,
          1984,
          2005,
          2009,
          2012,
          1988,
          1979,
          2006,
          2006,
          2002,
          2005,
          1873,
          2007,
          1988,
          2001,
          1967,
          1986,
          2003,
          1979,
          1964,
          1998,
          2006,
          1942,
          1988,
          2010,
          2006,
          2008,
          2001,
          1984,
          2003,
          1993,
          2005,
          2004,
          1969,
          1999,
          1986,
          1994,
          2009
         ],
         "xaxis": "x",
         "y": [
          173,
          63,
          10.913,
          27.3,
          20.9,
          2048,
          150.1,
          13.16,
          87.49,
          3.03,
          31.03,
          1.2,
          9.217,
          1000,
          2.4,
          0.5,
          16.4,
          45.21,
          1.4,
          2.55,
          33.8,
          1.1,
          8.1,
          52.4,
          197.2,
          101.4,
          4.4,
          12.976,
          579,
          69.9,
          9.49,
          102.79,
          1.58,
          0.45,
          3879,
          5100,
          3.26,
          16300,
          3.49,
          0.54,
          17.54,
          4.6,
          613,
          48.2,
          8.6,
          24.2,
          0.74,
          8.3,
          7500,
          26.7,
          13600,
          34.1,
          45,
          56.82,
          1.59,
          8.4,
          7.3,
          1.7,
          2.09,
          74,
          495.4,
          89.6,
          420,
          849,
          208,
          8300,
          228,
          2.98,
          53.8,
          55.9,
          73,
          53,
          0.9,
          1230.8,
          587.7,
          8725,
          17.5,
          112.86,
          8.9,
          779.6,
          2250,
          3.8,
          188,
          37.1,
          86.1,
          68.4,
          3.54,
          244,
          9.97,
          12.31,
          18.7,
          78.8,
          18.2,
          4100,
          815,
          1095,
          254,
          9.2,
          31.9,
          1.48,
          165.8,
          406,
          35.8,
          86.63,
          1563.1,
          185.4,
          127.1,
          0.51,
          15.5,
          85,
          308,
          3.5,
          10175,
          11.1,
          5.9,
          3.19,
          0.56,
          30,
          11.09,
          11.9,
          29.42,
          27.8,
          92.7,
          78.36,
          111,
          62.4,
          4.7,
          144,
          23.7,
          215,
          4.93,
          500,
          1149,
          4.1,
          2.4,
          34.3,
          9.8,
          580,
          23,
          0.46,
          14.633,
          3.4,
          54,
          292.26,
          1.3,
          37.8,
          38.99,
          58.6,
          12.7,
          4.22,
          25.6,
          45.4,
          4.9,
          39.7,
          14.2,
          336,
          72.4,
          130.3,
          392.9,
          1006,
          8.14,
          10.86,
          12000,
          6.3,
          426,
          48.1,
          259,
          10.36,
          6175,
          1.33,
          4.37,
          187.5,
          27000,
          50000,
          20,
          9.5,
          1806,
          1443,
          1.22,
          1624,
          14.03,
          45000,
          5.86,
          87.7,
          2700,
          20.5,
          80.48,
          6.45,
          624,
          10.9,
          157.8,
          1788,
          2.5,
          1798.9,
          152,
          71000,
          170,
          9.13,
          5,
          4.2
         ],
         "yaxis": "y"
        }
       ],
       "layout": {
        "autosize": true,
        "barmode": "relative",
        "legend": {
         "tracegroupgap": 0
        },
        "margin": {
         "t": 60
        },
        "template": {
         "data": {
          "bar": [
           {
            "error_x": {
             "color": "#2a3f5f"
            },
            "error_y": {
             "color": "#2a3f5f"
            },
            "marker": {
             "line": {
              "color": "#E5ECF6",
              "width": 0.5
             },
             "pattern": {
              "fillmode": "overlay",
              "size": 10,
              "solidity": 0.2
             }
            },
            "type": "bar"
           }
          ],
          "barpolar": [
           {
            "marker": {
             "line": {
              "color": "#E5ECF6",
              "width": 0.5
             },
             "pattern": {
              "fillmode": "overlay",
              "size": 10,
              "solidity": 0.2
             }
            },
            "type": "barpolar"
           }
          ],
          "carpet": [
           {
            "aaxis": {
             "endlinecolor": "#2a3f5f",
             "gridcolor": "white",
             "linecolor": "white",
             "minorgridcolor": "white",
             "startlinecolor": "#2a3f5f"
            },
            "baxis": {
             "endlinecolor": "#2a3f5f",
             "gridcolor": "white",
             "linecolor": "white",
             "minorgridcolor": "white",
             "startlinecolor": "#2a3f5f"
            },
            "type": "carpet"
           }
          ],
          "choropleth": [
           {
            "colorbar": {
             "outlinewidth": 0,
             "ticks": ""
            },
            "type": "choropleth"
           }
          ],
          "contour": [
           {
            "colorbar": {
             "outlinewidth": 0,
             "ticks": ""
            },
            "colorscale": [
             [
              0,
              "#0d0887"
             ],
             [
              0.1111111111111111,
              "#46039f"
             ],
             [
              0.2222222222222222,
              "#7201a8"
             ],
             [
              0.3333333333333333,
              "#9c179e"
             ],
             [
              0.4444444444444444,
              "#bd3786"
             ],
             [
              0.5555555555555556,
              "#d8576b"
             ],
             [
              0.6666666666666666,
              "#ed7953"
             ],
             [
              0.7777777777777778,
              "#fb9f3a"
             ],
             [
              0.8888888888888888,
              "#fdca26"
             ],
             [
              1,
              "#f0f921"
             ]
            ],
            "type": "contour"
           }
          ],
          "contourcarpet": [
           {
            "colorbar": {
             "outlinewidth": 0,
             "ticks": ""
            },
            "type": "contourcarpet"
           }
          ],
          "heatmap": [
           {
            "colorbar": {
             "outlinewidth": 0,
             "ticks": ""
            },
            "colorscale": [
             [
              0,
              "#0d0887"
             ],
             [
              0.1111111111111111,
              "#46039f"
             ],
             [
              0.2222222222222222,
              "#7201a8"
             ],
             [
              0.3333333333333333,
              "#9c179e"
             ],
             [
              0.4444444444444444,
              "#bd3786"
             ],
             [
              0.5555555555555556,
              "#d8576b"
             ],
             [
              0.6666666666666666,
              "#ed7953"
             ],
             [
              0.7777777777777778,
              "#fb9f3a"
             ],
             [
              0.8888888888888888,
              "#fdca26"
             ],
             [
              1,
              "#f0f921"
             ]
            ],
            "type": "heatmap"
           }
          ],
          "heatmapgl": [
           {
            "colorbar": {
             "outlinewidth": 0,
             "ticks": ""
            },
            "colorscale": [
             [
              0,
              "#0d0887"
             ],
             [
              0.1111111111111111,
              "#46039f"
             ],
             [
              0.2222222222222222,
              "#7201a8"
             ],
             [
              0.3333333333333333,
              "#9c179e"
             ],
             [
              0.4444444444444444,
              "#bd3786"
             ],
             [
              0.5555555555555556,
              "#d8576b"
             ],
             [
              0.6666666666666666,
              "#ed7953"
             ],
             [
              0.7777777777777778,
              "#fb9f3a"
             ],
             [
              0.8888888888888888,
              "#fdca26"
             ],
             [
              1,
              "#f0f921"
             ]
            ],
            "type": "heatmapgl"
           }
          ],
          "histogram": [
           {
            "marker": {
             "pattern": {
              "fillmode": "overlay",
              "size": 10,
              "solidity": 0.2
             }
            },
            "type": "histogram"
           }
          ],
          "histogram2d": [
           {
            "colorbar": {
             "outlinewidth": 0,
             "ticks": ""
            },
            "colorscale": [
             [
              0,
              "#0d0887"
             ],
             [
              0.1111111111111111,
              "#46039f"
             ],
             [
              0.2222222222222222,
              "#7201a8"
             ],
             [
              0.3333333333333333,
              "#9c179e"
             ],
             [
              0.4444444444444444,
              "#bd3786"
             ],
             [
              0.5555555555555556,
              "#d8576b"
             ],
             [
              0.6666666666666666,
              "#ed7953"
             ],
             [
              0.7777777777777778,
              "#fb9f3a"
             ],
             [
              0.8888888888888888,
              "#fdca26"
             ],
             [
              1,
              "#f0f921"
             ]
            ],
            "type": "histogram2d"
           }
          ],
          "histogram2dcontour": [
           {
            "colorbar": {
             "outlinewidth": 0,
             "ticks": ""
            },
            "colorscale": [
             [
              0,
              "#0d0887"
             ],
             [
              0.1111111111111111,
              "#46039f"
             ],
             [
              0.2222222222222222,
              "#7201a8"
             ],
             [
              0.3333333333333333,
              "#9c179e"
             ],
             [
              0.4444444444444444,
              "#bd3786"
             ],
             [
              0.5555555555555556,
              "#d8576b"
             ],
             [
              0.6666666666666666,
              "#ed7953"
             ],
             [
              0.7777777777777778,
              "#fb9f3a"
             ],
             [
              0.8888888888888888,
              "#fdca26"
             ],
             [
              1,
              "#f0f921"
             ]
            ],
            "type": "histogram2dcontour"
           }
          ],
          "mesh3d": [
           {
            "colorbar": {
             "outlinewidth": 0,
             "ticks": ""
            },
            "type": "mesh3d"
           }
          ],
          "parcoords": [
           {
            "line": {
             "colorbar": {
              "outlinewidth": 0,
              "ticks": ""
             }
            },
            "type": "parcoords"
           }
          ],
          "pie": [
           {
            "automargin": true,
            "type": "pie"
           }
          ],
          "scatter": [
           {
            "fillpattern": {
             "fillmode": "overlay",
             "size": 10,
             "solidity": 0.2
            },
            "type": "scatter"
           }
          ],
          "scatter3d": [
           {
            "line": {
             "colorbar": {
              "outlinewidth": 0,
              "ticks": ""
             }
            },
            "marker": {
             "colorbar": {
              "outlinewidth": 0,
              "ticks": ""
             }
            },
            "type": "scatter3d"
           }
          ],
          "scattercarpet": [
           {
            "marker": {
             "colorbar": {
              "outlinewidth": 0,
              "ticks": ""
             }
            },
            "type": "scattercarpet"
           }
          ],
          "scattergeo": [
           {
            "marker": {
             "colorbar": {
              "outlinewidth": 0,
              "ticks": ""
             }
            },
            "type": "scattergeo"
           }
          ],
          "scattergl": [
           {
            "marker": {
             "colorbar": {
              "outlinewidth": 0,
              "ticks": ""
             }
            },
            "type": "scattergl"
           }
          ],
          "scattermapbox": [
           {
            "marker": {
             "colorbar": {
              "outlinewidth": 0,
              "ticks": ""
             }
            },
            "type": "scattermapbox"
           }
          ],
          "scatterpolar": [
           {
            "marker": {
             "colorbar": {
              "outlinewidth": 0,
              "ticks": ""
             }
            },
            "type": "scatterpolar"
           }
          ],
          "scatterpolargl": [
           {
            "marker": {
             "colorbar": {
              "outlinewidth": 0,
              "ticks": ""
             }
            },
            "type": "scatterpolargl"
           }
          ],
          "scatterternary": [
           {
            "marker": {
             "colorbar": {
              "outlinewidth": 0,
              "ticks": ""
             }
            },
            "type": "scatterternary"
           }
          ],
          "surface": [
           {
            "colorbar": {
             "outlinewidth": 0,
             "ticks": ""
            },
            "colorscale": [
             [
              0,
              "#0d0887"
             ],
             [
              0.1111111111111111,
              "#46039f"
             ],
             [
              0.2222222222222222,
              "#7201a8"
             ],
             [
              0.3333333333333333,
              "#9c179e"
             ],
             [
              0.4444444444444444,
              "#bd3786"
             ],
             [
              0.5555555555555556,
              "#d8576b"
             ],
             [
              0.6666666666666666,
              "#ed7953"
             ],
             [
              0.7777777777777778,
              "#fb9f3a"
             ],
             [
              0.8888888888888888,
              "#fdca26"
             ],
             [
              1,
              "#f0f921"
             ]
            ],
            "type": "surface"
           }
          ],
          "table": [
           {
            "cells": {
             "fill": {
              "color": "#EBF0F8"
             },
             "line": {
              "color": "white"
             }
            },
            "header": {
             "fill": {
              "color": "#C8D4E3"
             },
             "line": {
              "color": "white"
             }
            },
            "type": "table"
           }
          ]
         },
         "layout": {
          "annotationdefaults": {
           "arrowcolor": "#2a3f5f",
           "arrowhead": 0,
           "arrowwidth": 1
          },
          "autotypenumbers": "strict",
          "coloraxis": {
           "colorbar": {
            "outlinewidth": 0,
            "ticks": ""
           }
          },
          "colorscale": {
           "diverging": [
            [
             0,
             "#8e0152"
            ],
            [
             0.1,
             "#c51b7d"
            ],
            [
             0.2,
             "#de77ae"
            ],
            [
             0.3,
             "#f1b6da"
            ],
            [
             0.4,
             "#fde0ef"
            ],
            [
             0.5,
             "#f7f7f7"
            ],
            [
             0.6,
             "#e6f5d0"
            ],
            [
             0.7,
             "#b8e186"
            ],
            [
             0.8,
             "#7fbc41"
            ],
            [
             0.9,
             "#4d9221"
            ],
            [
             1,
             "#276419"
            ]
           ],
           "sequential": [
            [
             0,
             "#0d0887"
            ],
            [
             0.1111111111111111,
             "#46039f"
            ],
            [
             0.2222222222222222,
             "#7201a8"
            ],
            [
             0.3333333333333333,
             "#9c179e"
            ],
            [
             0.4444444444444444,
             "#bd3786"
            ],
            [
             0.5555555555555556,
             "#d8576b"
            ],
            [
             0.6666666666666666,
             "#ed7953"
            ],
            [
             0.7777777777777778,
             "#fb9f3a"
            ],
            [
             0.8888888888888888,
             "#fdca26"
            ],
            [
             1,
             "#f0f921"
            ]
           ],
           "sequentialminus": [
            [
             0,
             "#0d0887"
            ],
            [
             0.1111111111111111,
             "#46039f"
            ],
            [
             0.2222222222222222,
             "#7201a8"
            ],
            [
             0.3333333333333333,
             "#9c179e"
            ],
            [
             0.4444444444444444,
             "#bd3786"
            ],
            [
             0.5555555555555556,
             "#d8576b"
            ],
            [
             0.6666666666666666,
             "#ed7953"
            ],
            [
             0.7777777777777778,
             "#fb9f3a"
            ],
            [
             0.8888888888888888,
             "#fdca26"
            ],
            [
             1,
             "#f0f921"
            ]
           ]
          },
          "colorway": [
           "#636efa",
           "#EF553B",
           "#00cc96",
           "#ab63fa",
           "#FFA15A",
           "#19d3f3",
           "#FF6692",
           "#B6E880",
           "#FF97FF",
           "#FECB52"
          ],
          "font": {
           "color": "#2a3f5f"
          },
          "geo": {
           "bgcolor": "white",
           "lakecolor": "white",
           "landcolor": "#E5ECF6",
           "showlakes": true,
           "showland": true,
           "subunitcolor": "white"
          },
          "hoverlabel": {
           "align": "left"
          },
          "hovermode": "closest",
          "mapbox": {
           "style": "light"
          },
          "paper_bgcolor": "white",
          "plot_bgcolor": "#E5ECF6",
          "polar": {
           "angularaxis": {
            "gridcolor": "white",
            "linecolor": "white",
            "ticks": ""
           },
           "bgcolor": "#E5ECF6",
           "radialaxis": {
            "gridcolor": "white",
            "linecolor": "white",
            "ticks": ""
           }
          },
          "scene": {
           "xaxis": {
            "backgroundcolor": "#E5ECF6",
            "gridcolor": "white",
            "gridwidth": 2,
            "linecolor": "white",
            "showbackground": true,
            "ticks": "",
            "zerolinecolor": "white"
           },
           "yaxis": {
            "backgroundcolor": "#E5ECF6",
            "gridcolor": "white",
            "gridwidth": 2,
            "linecolor": "white",
            "showbackground": true,
            "ticks": "",
            "zerolinecolor": "white"
           },
           "zaxis": {
            "backgroundcolor": "#E5ECF6",
            "gridcolor": "white",
            "gridwidth": 2,
            "linecolor": "white",
            "showbackground": true,
            "ticks": "",
            "zerolinecolor": "white"
           }
          },
          "shapedefaults": {
           "line": {
            "color": "#2a3f5f"
           }
          },
          "ternary": {
           "aaxis": {
            "gridcolor": "white",
            "linecolor": "white",
            "ticks": ""
           },
           "baxis": {
            "gridcolor": "white",
            "linecolor": "white",
            "ticks": ""
           },
           "bgcolor": "#E5ECF6",
           "caxis": {
            "gridcolor": "white",
            "linecolor": "white",
            "ticks": ""
           }
          },
          "title": {
           "x": 0.05
          },
          "xaxis": {
           "automargin": true,
           "gridcolor": "white",
           "linecolor": "white",
           "ticks": "",
           "title": {
            "standoff": 15
           },
           "zerolinecolor": "white",
           "zerolinewidth": 2
          },
          "yaxis": {
           "automargin": true,
           "gridcolor": "white",
           "linecolor": "white",
           "ticks": "",
           "title": {
            "standoff": 15
           },
           "zerolinecolor": "white",
           "zerolinewidth": 2
          }
         }
        },
        "xaxis": {
         "anchor": "y",
         "autorange": false,
         "domain": [
          0,
          1
         ],
         "range": [
          1828.8902439024391,
          2012.5
         ],
         "rangeslider": {
          "autorange": true,
          "range": [
           1828.5,
           2012.5
          ],
          "visible": true,
          "yaxis": {
           "_template": null,
           "rangemode": "match"
          }
         },
         "title": {
          "text": "year"
         },
         "type": "linear"
        },
        "yaxis": {
         "anchor": "x",
         "autorange": true,
         "domain": [
          0,
          1
         ],
         "range": [
          0,
          74736.84210526316
         ],
         "title": {
          "text": "mass (g)"
         },
         "type": "linear"
        }
       }
      },
      "image/png": "[encoded data removed]",
      "text/html": [
       "<div>                            <div id=\"4af03178-b12a-4a54-8903-978ec6261c62\" class=\"plotly-graph-div\" style=\"height:525px; width:100%;\"></div>            <script type=\"text/javascript\">                require([\"plotly\"], function(Plotly) {                    window.PLOTLYENV=window.PLOTLYENV || {};                                    if (document.getElementById(\"4af03178-b12a-4a54-8903-978ec6261c62\")) {                    Plotly.newPlot(                        \"4af03178-b12a-4a54-8903-978ec6261c62\",                        [{\"alignmentgroup\":\"True\",\"hovertemplate\":\"year=%{x}\\u003cbr\\u003emass (g)=%{y}\\u003cextra\\u003e\\u003c\\u002fextra\\u003e\",\"legendgroup\":\"\",\"marker\":{\"color\":\"#636efa\",\"pattern\":{\"shape\":\"\"}},\"name\":\"\",\"offsetgroup\":\"\",\"orientation\":\"v\",\"showlegend\":false,\"textposition\":\"auto\",\"x\":[2001.0,2004.0,1998.0,1997.0,1990.0,1979.0,1991.0,2002.0,1988.0,1979.0,1979.0,1993.0,1998.0,1890.0,1987.0,1999.0,1999.0,1988.0,1999.0,2003.0,2000.0,2004.0,1991.0,1999.0,2005.0,2004.0,1978.0,1998.0,2006.0,1974.0,1998.0,1998.0,2006.0,2003.0,2010.0,1933.0,2006.0,1829.0,2002.0,1974.0,2002.0,2011.0,2004.0,1984.0,1983.0,1979.0,2004.0,2009.0,2003.0,2004.0,1890.0,1995.0,1998.0,1974.0,1986.0,1996.0,2009.0,2009.0,1975.0,2001.0,2004.0,1999.0,1990.0,2005.0,2000.0,1866.0,2010.0,1979.0,1991.0,2003.0,2001.0,1980.0,2004.0,1987.0,1991.0,1980.0,1996.0,1998.0,1988.0,1977.0,1964.0,1997.0,2001.0,1991.0,1999.0,1990.0,1986.0,1997.0,1979.0,2003.0,2000.0,2001.0,1986.0,1940.0,2008.0,1999.0,2005.0,1986.0,1997.0,1986.0,2002.0,2001.0,2000.0,1998.0,2002.0,2003.0,1998.0,2006.0,1997.0,1998.0,2001.0,1990.0,2002.0,1986.0,1986.0,1979.0,2003.0,1877.0,1998.0,1993.0,1979.0,1980.0,1991.0,2006.0,2010.0,1986.0,2009.0,2003.0,1983.0,1991.0,1998.0,1850.0,2001.0,1998.0,2009.0,2010.0,2009.0,2004.0,2000.0,2003.0,1998.0,2009.0,2000.0,1979.0,1994.0,1997.0,2000.0,1987.0,2006.0,2003.0,1997.0,2003.0,1993.0,1990.0,1990.0,2006.0,1995.0,2009.0,1996.0,2003.0,1979.0,1986.0,1955.0,1984.0,2005.0,2009.0,2012.0,1988.0,1979.0,2006.0,2006.0,2002.0,2005.0,1873.0,2007.0,1988.0,2001.0,1967.0,1986.0,2003.0,1979.0,1964.0,1998.0,2006.0,1942.0,1988.0,2010.0,2006.0,2008.0,2001.0,1984.0,2003.0,1993.0,2005.0,2004.0,1969.0,1999.0,1986.0,1994.0,2009.0],\"xaxis\":\"x\",\"y\":[173.0,63.0,10.913,27.3,20.9,2048.0,150.1,13.16,87.49,3.03,31.03,1.2,9.217,1000.0,2.4,0.5,16.4,45.21,1.4,2.55,33.8,1.1,8.1,52.4,197.2,101.4,4.4,12.976,579.0,69.9,9.49,102.79,1.58,0.45,3879.0,5100.0,3.26,16300.0,3.49,0.54,17.54,4.6,613.0,48.2,8.6,24.2,0.74,8.3,7500.0,26.7,13600.0,34.1,45.0,56.82,1.59,8.4,7.3,1.7,2.09,74.0,495.4,89.6,420.0,849.0,208.0,8300.0,228.0,2.98,53.8,55.9,73.0,53.0,0.9,1230.8,587.7,8725.0,17.5,112.86,8.9,779.6,2250.0,3.8,188.0,37.1,86.1,68.4,3.54,244.0,9.97,12.31,18.7,78.8,18.2,4100.0,815.0,1095.0,254.0,9.2,31.9,1.48,165.8,406.0,35.8,86.63,1563.1,185.4,127.1,0.51,15.5,85.0,308.0,3.5,10175.0,11.1,5.9,3.19,0.56,30.0,11.09,11.9,29.42,27.8,92.7,78.36,111.0,62.4,4.7,144.0,23.7,215.0,4.93,500.0,1149.0,4.1,2.4,34.3,9.8,580.0,23.0,0.46,14.633,3.4,54.0,292.26,1.3,37.8,38.99,58.6,12.7,4.22,25.6,45.4,4.9,39.7,14.2,336.0,72.4,130.3,392.9,1006.0,8.14,10.86,12000.0,6.3,426.0,48.1,259.0,10.36,6175.0,1.33,4.37,187.5,27000.0,50000.0,20.0,9.5,1806.0,1443.0,1.22,1624.0,14.03,45000.0,5.86,87.7,2700.0,20.5,80.48,6.45,624.0,10.9,157.8,1788.0,2.5,1798.9,152.0,71000.0,170.0,9.13,5.0,4.2],\"yaxis\":\"y\",\"type\":\"bar\"}],                        {\"template\":{\"data\":{\"histogram2dcontour\":[{\"type\":\"histogram2dcontour\",\"colorbar\":{\"outlinewidth\":0,\"ticks\":\"\"},\"colorscale\":[[0.0,\"#0d0887\"],[0.1111111111111111,\"#46039f\"],[0.2222222222222222,\"#7201a8\"],[0.3333333333333333,\"#9c179e\"],[0.4444444444444444,\"#bd3786\"],[0.5555555555555556,\"#d8576b\"],[0.6666666666666666,\"#ed7953\"],[0.7777777777777778,\"#fb9f3a\"],[0.8888888888888888,\"#fdca26\"],[1.0,\"#f0f921\"]]}],\"choropleth\":[{\"type\":\"choropleth\",\"colorbar\":{\"outlinewidth\":0,\"ticks\":\"\"}}],\"histogram2d\":[{\"type\":\"histogram2d\",\"colorbar\":{\"outlinewidth\":0,\"ticks\":\"\"},\"colorscale\":[[0.0,\"#0d0887\"],[0.1111111111111111,\"#46039f\"],[0.2222222222222222,\"#7201a8\"],[0.3333333333333333,\"#9c179e\"],[0.4444444444444444,\"#bd3786\"],[0.5555555555555556,\"#d8576b\"],[0.6666666666666666,\"#ed7953\"],[0.7777777777777778,\"#fb9f3a\"],[0.8888888888888888,\"#fdca26\"],[1.0,\"#f0f921\"]]}],\"heatmap\":[{\"type\":\"heatmap\",\"colorbar\":{\"outlinewidth\":0,\"ticks\":\"\"},\"colorscale\":[[0.0,\"#0d0887\"],[0.1111111111111111,\"#46039f\"],[0.2222222222222222,\"#7201a8\"],[0.3333333333333333,\"#9c179e\"],[0.4444444444444444,\"#bd3786\"],[0.5555555555555556,\"#d8576b\"],[0.6666666666666666,\"#ed7953\"],[0.7777777777777778,\"#fb9f3a\"],[0.8888888888888888,\"#fdca26\"],[1.0,\"#f0f921\"]]}],\"heatmapgl\":[{\"type\":\"heatmapgl\",\"colorbar\":{\"outlinewidth\":0,\"ticks\":\"\"},\"colorscale\":[[0.0,\"#0d0887\"],[0.1111111111111111,\"#46039f\"],[0.2222222222222222,\"#7201a8\"],[0.3333333333333333,\"#9c179e\"],[0.4444444444444444,\"#bd3786\"],[0.5555555555555556,\"#d8576b\"],[0.6666666666666666,\"#ed7953\"],[0.7777777777777778,\"#fb9f3a\"],[0.8888888888888888,\"#fdca26\"],[1.0,\"#f0f921\"]]}],\"contourcarpet\":[{\"type\":\"contourcarpet\",\"colorbar\":{\"outlinewidth\":0,\"ticks\":\"\"}}],\"contour\":[{\"type\":\"contour\",\"colorbar\":{\"outlinewidth\":0,\"ticks\":\"\"},\"colorscale\":[[0.0,\"#0d0887\"],[0.1111111111111111,\"#46039f\"],[0.2222222222222222,\"#7201a8\"],[0.3333333333333333,\"#9c179e\"],[0.4444444444444444,\"#bd3786\"],[0.5555555555555556,\"#d8576b\"],[0.6666666666666666,\"#ed7953\"],[0.7777777777777778,\"#fb9f3a\"],[0.8888888888888888,\"#fdca26\"],[1.0,\"#f0f921\"]]}],\"surface\":[{\"type\":\"surface\",\"colorbar\":{\"outlinewidth\":0,\"ticks\":\"\"},\"colorscale\":[[0.0,\"#0d0887\"],[0.1111111111111111,\"#46039f\"],[0.2222222222222222,\"#7201a8\"],[0.3333333333333333,\"#9c179e\"],[0.4444444444444444,\"#bd3786\"],[0.5555555555555556,\"#d8576b\"],[0.6666666666666666,\"#ed7953\"],[0.7777777777777778,\"#fb9f3a\"],[0.8888888888888888,\"#fdca26\"],[1.0,\"#f0f921\"]]}],\"mesh3d\":[{\"type\":\"mesh3d\",\"colorbar\":{\"outlinewidth\":0,\"ticks\":\"\"}}],\"scatter\":[{\"fillpattern\":{\"fillmode\":\"overlay\",\"size\":10,\"solidity\":0.2},\"type\":\"scatter\"}],\"parcoords\":[{\"type\":\"parcoords\",\"line\":{\"colorbar\":{\"outlinewidth\":0,\"ticks\":\"\"}}}],\"scatterpolargl\":[{\"type\":\"scatterpolargl\",\"marker\":{\"colorbar\":{\"outlinewidth\":0,\"ticks\":\"\"}}}],\"bar\":[{\"error_x\":{\"color\":\"#2a3f5f\"},\"error_y\":{\"color\":\"#2a3f5f\"},\"marker\":{\"line\":{\"color\":\"#E5ECF6\",\"width\":0.5},\"pattern\":{\"fillmode\":\"overlay\",\"size\":10,\"solidity\":0.2}},\"type\":\"bar\"}],\"scattergeo\":[{\"type\":\"scattergeo\",\"marker\":{\"colorbar\":{\"outlinewidth\":0,\"ticks\":\"\"}}}],\"scatterpolar\":[{\"type\":\"scatterpolar\",\"marker\":{\"colorbar\":{\"outlinewidth\":0,\"ticks\":\"\"}}}],\"histogram\":[{\"marker\":{\"pattern\":{\"fillmode\":\"overlay\",\"size\":10,\"solidity\":0.2}},\"type\":\"histogram\"}],\"scattergl\":[{\"type\":\"scattergl\",\"marker\":{\"colorbar\":{\"outlinewidth\":0,\"ticks\":\"\"}}}],\"scatter3d\":[{\"type\":\"scatter3d\",\"line\":{\"colorbar\":{\"outlinewidth\":0,\"ticks\":\"\"}},\"marker\":{\"colorbar\":{\"outlinewidth\":0,\"ticks\":\"\"}}}],\"scattermapbox\":[{\"type\":\"scattermapbox\",\"marker\":{\"colorbar\":{\"outlinewidth\":0,\"ticks\":\"\"}}}],\"scatterternary\":[{\"type\":\"scatterternary\",\"marker\":{\"colorbar\":{\"outlinewidth\":0,\"ticks\":\"\"}}}],\"scattercarpet\":[{\"type\":\"scattercarpet\",\"marker\":{\"colorbar\":{\"outlinewidth\":0,\"ticks\":\"\"}}}],\"carpet\":[{\"aaxis\":{\"endlinecolor\":\"#2a3f5f\",\"gridcolor\":\"white\",\"linecolor\":\"white\",\"minorgridcolor\":\"white\",\"startlinecolor\":\"#2a3f5f\"},\"baxis\":{\"endlinecolor\":\"#2a3f5f\",\"gridcolor\":\"white\",\"linecolor\":\"white\",\"minorgridcolor\":\"white\",\"startlinecolor\":\"#2a3f5f\"},\"type\":\"carpet\"}],\"table\":[{\"cells\":{\"fill\":{\"color\":\"#EBF0F8\"},\"line\":{\"color\":\"white\"}},\"header\":{\"fill\":{\"color\":\"#C8D4E3\"},\"line\":{\"color\":\"white\"}},\"type\":\"table\"}],\"barpolar\":[{\"marker\":{\"line\":{\"color\":\"#E5ECF6\",\"width\":0.5},\"pattern\":{\"fillmode\":\"overlay\",\"size\":10,\"solidity\":0.2}},\"type\":\"barpolar\"}],\"pie\":[{\"automargin\":true,\"type\":\"pie\"}]},\"layout\":{\"autotypenumbers\":\"strict\",\"colorway\":[\"#636efa\",\"#EF553B\",\"#00cc96\",\"#ab63fa\",\"#FFA15A\",\"#19d3f3\",\"#FF6692\",\"#B6E880\",\"#FF97FF\",\"#FECB52\"],\"font\":{\"color\":\"#2a3f5f\"},\"hovermode\":\"closest\",\"hoverlabel\":{\"align\":\"left\"},\"paper_bgcolor\":\"white\",\"plot_bgcolor\":\"#E5ECF6\",\"polar\":{\"bgcolor\":\"#E5ECF6\",\"angularaxis\":{\"gridcolor\":\"white\",\"linecolor\":\"white\",\"ticks\":\"\"},\"radialaxis\":{\"gridcolor\":\"white\",\"linecolor\":\"white\",\"ticks\":\"\"}},\"ternary\":{\"bgcolor\":\"#E5ECF6\",\"aaxis\":{\"gridcolor\":\"white\",\"linecolor\":\"white\",\"ticks\":\"\"},\"baxis\":{\"gridcolor\":\"white\",\"linecolor\":\"white\",\"ticks\":\"\"},\"caxis\":{\"gridcolor\":\"white\",\"linecolor\":\"white\",\"ticks\":\"\"}},\"coloraxis\":{\"colorbar\":{\"outlinewidth\":0,\"ticks\":\"\"}},\"colorscale\":{\"sequential\":[[0.0,\"#0d0887\"],[0.1111111111111111,\"#46039f\"],[0.2222222222222222,\"#7201a8\"],[0.3333333333333333,\"#9c179e\"],[0.4444444444444444,\"#bd3786\"],[0.5555555555555556,\"#d8576b\"],[0.6666666666666666,\"#ed7953\"],[0.7777777777777778,\"#fb9f3a\"],[0.8888888888888888,\"#fdca26\"],[1.0,\"#f0f921\"]],\"sequentialminus\":[[0.0,\"#0d0887\"],[0.1111111111111111,\"#46039f\"],[0.2222222222222222,\"#7201a8\"],[0.3333333333333333,\"#9c179e\"],[0.4444444444444444,\"#bd3786\"],[0.5555555555555556,\"#d8576b\"],[0.6666666666666666,\"#ed7953\"],[0.7777777777777778,\"#fb9f3a\"],[0.8888888888888888,\"#fdca26\"],[1.0,\"#f0f921\"]],\"diverging\":[[0,\"#8e0152\"],[0.1,\"#c51b7d\"],[0.2,\"#de77ae\"],[0.3,\"#f1b6da\"],[0.4,\"#fde0ef\"],[0.5,\"#f7f7f7\"],[0.6,\"#e6f5d0\"],[0.7,\"#b8e186\"],[0.8,\"#7fbc41\"],[0.9,\"#4d9221\"],[1,\"#276419\"]]},\"xaxis\":{\"gridcolor\":\"white\",\"linecolor\":\"white\",\"ticks\":\"\",\"title\":{\"standoff\":15},\"zerolinecolor\":\"white\",\"automargin\":true,\"zerolinewidth\":2},\"yaxis\":{\"gridcolor\":\"white\",\"linecolor\":\"white\",\"ticks\":\"\",\"title\":{\"standoff\":15},\"zerolinecolor\":\"white\",\"automargin\":true,\"zerolinewidth\":2},\"scene\":{\"xaxis\":{\"backgroundcolor\":\"#E5ECF6\",\"gridcolor\":\"white\",\"linecolor\":\"white\",\"showbackground\":true,\"ticks\":\"\",\"zerolinecolor\":\"white\",\"gridwidth\":2},\"yaxis\":{\"backgroundcolor\":\"#E5ECF6\",\"gridcolor\":\"white\",\"linecolor\":\"white\",\"showbackground\":true,\"ticks\":\"\",\"zerolinecolor\":\"white\",\"gridwidth\":2},\"zaxis\":{\"backgroundcolor\":\"#E5ECF6\",\"gridcolor\":\"white\",\"linecolor\":\"white\",\"showbackground\":true,\"ticks\":\"\",\"zerolinecolor\":\"white\",\"gridwidth\":2}},\"shapedefaults\":{\"line\":{\"color\":\"#2a3f5f\"}},\"annotationdefaults\":{\"arrowcolor\":\"#2a3f5f\",\"arrowhead\":0,\"arrowwidth\":1},\"geo\":{\"bgcolor\":\"white\",\"landcolor\":\"#E5ECF6\",\"subunitcolor\":\"white\",\"showland\":true,\"showlakes\":true,\"lakecolor\":\"white\"},\"title\":{\"x\":0.05},\"mapbox\":{\"style\":\"light\"}}},\"xaxis\":{\"anchor\":\"y\",\"domain\":[0.0,1.0],\"title\":{\"text\":\"year\"},\"rangeslider\":{\"visible\":true},\"type\":\"linear\"},\"yaxis\":{\"anchor\":\"x\",\"domain\":[0.0,1.0],\"title\":{\"text\":\"mass (g)\"}},\"legend\":{\"tracegroupgap\":0},\"margin\":{\"t\":60},\"barmode\":\"relative\"},                        {\"responsive\": true}                    ).then(function(){\n",
       "                            \n",
       "var gd = document.getElementById('4af03178-b12a-4a54-8903-978ec6261c62');\n",
       "var x = new MutationObserver(function (mutations, observer) {{\n",
       "        var display = window.getComputedStyle(gd).display;\n",
       "        if (!display || display === 'none') {{\n",
       "            console.log([gd, 'removed!']);\n",
       "            Plotly.purge(gd);\n",
       "            observer.disconnect();\n",
       "        }}\n",
       "}});\n",
       "\n",
       "// Listen for the removal of the full notebook cells\n",
       "var notebookContainer = gd.closest('#notebook-container');\n",
       "if (notebookContainer) {{\n",
       "    x.observe(notebookContainer, {childList: true});\n",
       "}}\n",
       "\n",
       "// Listen for the clearing of the current output cell\n",
       "var outputEl = gd.closest('.output');\n",
       "if (outputEl) {{\n",
       "    x.observe(outputEl, {childList: true});\n",
       "}}\n",
       "\n",
       "                        })                };                });            </script>        </div>"
      ]
     },
     "metadata": {},
     "output_type": "display_data"
    }
   ],
   "source": [
    "figbar.update_layout(xaxis = dict(rangeslider = dict(visible = True), type = 'linear'))"
   ]
  },
  {
   "cell_type": "code",
   "execution_count": null,
   "id": "4eee3b57-897b-4934-802f-18ba2eae05e7",
   "metadata": {},
   "outputs": [],
   "source": []
  }
 ],
 "metadata": {
  "kernelspec": {
   "display_name": "Python [conda env:base] *",
   "language": "python",
   "name": "conda-base-py"
  },
  "language_info": {
   "codemirror_mode": {
    "name": "ipython",
    "version": 3
   },
   "file_extension": ".py",
   "mimetype": "text/x-python",
   "name": "python",
   "nbconvert_exporter": "python",
   "pygments_lexer": "ipython3",
   "version": "3.12.7"
  }
 },
 "nbformat": 4,
 "nbformat_minor": 5
}
