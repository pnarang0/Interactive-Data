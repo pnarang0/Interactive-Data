{
 "cells": [
  {
   "cell_type": "code",
   "execution_count": 49,
   "id": "cf203ea1-a037-427b-a349-98a2af4cb906",
   "metadata": {},
   "outputs": [],
   "source": [
    "import pandas as pd"
   ]
  },
  {
   "cell_type": "code",
   "execution_count": 51,
   "id": "04239e73-e4b2-4500-b9ab-226a4008a2b4",
   "metadata": {},
   "outputs": [],
   "source": [
    "data = {'Name':['Henry', 'George', 'Matt'], 'Age': [22, 26, 20], 'City': ['New York', 'Chicago', 'Texas']}"
   ]
  },
  {
   "cell_type": "code",
   "execution_count": 53,
   "id": "2e108ab5-1897-4098-a061-cdb850d1d971",
   "metadata": {},
   "outputs": [],
   "source": [
    "df = pd.DataFrame(data)"
   ]
  },
  {
   "cell_type": "code",
   "execution_count": 55,
   "id": "46741ff1-397b-4c02-816f-5e06d5fb8e98",
   "metadata": {},
   "outputs": [
    {
     "data": {
      "text/html": [
       "<div>\n",
       "<style scoped>\n",
       "    .dataframe tbody tr th:only-of-type {\n",
       "        vertical-align: middle;\n",
       "    }\n",
       "\n",
       "    .dataframe tbody tr th {\n",
       "        vertical-align: top;\n",
       "    }\n",
       "\n",
       "    .dataframe thead th {\n",
       "        text-align: right;\n",
       "    }\n",
       "</style>\n",
       "<table border=\"1\" class=\"dataframe\">\n",
       "  <thead>\n",
       "    <tr style=\"text-align: right;\">\n",
       "      <th></th>\n",
       "      <th>Name</th>\n",
       "      <th>Age</th>\n",
       "      <th>City</th>\n",
       "    </tr>\n",
       "  </thead>\n",
       "  <tbody>\n",
       "    <tr>\n",
       "      <th>0</th>\n",
       "      <td>Henry</td>\n",
       "      <td>22</td>\n",
       "      <td>New York</td>\n",
       "    </tr>\n",
       "    <tr>\n",
       "      <th>1</th>\n",
       "      <td>George</td>\n",
       "      <td>26</td>\n",
       "      <td>Chicago</td>\n",
       "    </tr>\n",
       "    <tr>\n",
       "      <th>2</th>\n",
       "      <td>Matt</td>\n",
       "      <td>20</td>\n",
       "      <td>Texas</td>\n",
       "    </tr>\n",
       "  </tbody>\n",
       "</table>\n",
       "</div>"
      ],
      "text/plain": [
       "     Name  Age      City\n",
       "0   Henry   22  New York\n",
       "1  George   26   Chicago\n",
       "2    Matt   20     Texas"
      ]
     },
     "execution_count": 55,
     "metadata": {},
     "output_type": "execute_result"
    }
   ],
   "source": [
    "df.head()"
   ]
  },
  {
   "cell_type": "code",
   "execution_count": 57,
   "id": "d11849f1-b023-4071-a8b5-5bd25d94f206",
   "metadata": {},
   "outputs": [
    {
     "name": "stdout",
     "output_type": "stream",
     "text": [
      "RangeIndex(start=0, stop=3, step=1)\n"
     ]
    }
   ],
   "source": [
    "print(df.index)"
   ]
  },
  {
   "cell_type": "code",
   "execution_count": 90,
   "id": "71effc17-10a7-4a43-81a2-1b125ce8cdce",
   "metadata": {},
   "outputs": [
    {
     "data": {
      "text/plain": [
       "Name       Henry\n",
       "Age           22\n",
       "City    New York\n",
       "Name: 0, dtype: object"
      ]
     },
     "execution_count": 90,
     "metadata": {},
     "output_type": "execute_result"
    }
   ],
   "source": [
    "df.iloc[0]"
   ]
  },
  {
   "cell_type": "code",
   "execution_count": 92,
   "id": "60fe8722-0f81-47a6-93c2-3e819dfee9a4",
   "metadata": {},
   "outputs": [],
   "source": [
    "l1 = [['Henry', 22, 'New York'], ['George', 26, 'Chicago'], ['Matt', 22, 'Texas']]\n",
    "\n",
    "df = pd.DataFrame(l1, columns = ['Name', 'Age', 'City'])"
   ]
  },
  {
   "cell_type": "code",
   "execution_count": 94,
   "id": "ac47cdfa-8be7-409a-bf6b-c196b8e90dda",
   "metadata": {},
   "outputs": [
    {
     "data": {
      "text/html": [
       "<div>\n",
       "<style scoped>\n",
       "    .dataframe tbody tr th:only-of-type {\n",
       "        vertical-align: middle;\n",
       "    }\n",
       "\n",
       "    .dataframe tbody tr th {\n",
       "        vertical-align: top;\n",
       "    }\n",
       "\n",
       "    .dataframe thead th {\n",
       "        text-align: right;\n",
       "    }\n",
       "</style>\n",
       "<table border=\"1\" class=\"dataframe\">\n",
       "  <thead>\n",
       "    <tr style=\"text-align: right;\">\n",
       "      <th></th>\n",
       "      <th>Name</th>\n",
       "      <th>Age</th>\n",
       "      <th>City</th>\n",
       "    </tr>\n",
       "  </thead>\n",
       "  <tbody>\n",
       "    <tr>\n",
       "      <th>0</th>\n",
       "      <td>Henry</td>\n",
       "      <td>22</td>\n",
       "      <td>New York</td>\n",
       "    </tr>\n",
       "    <tr>\n",
       "      <th>1</th>\n",
       "      <td>George</td>\n",
       "      <td>26</td>\n",
       "      <td>Chicago</td>\n",
       "    </tr>\n",
       "    <tr>\n",
       "      <th>2</th>\n",
       "      <td>Matt</td>\n",
       "      <td>22</td>\n",
       "      <td>Texas</td>\n",
       "    </tr>\n",
       "  </tbody>\n",
       "</table>\n",
       "</div>"
      ],
      "text/plain": [
       "     Name  Age      City\n",
       "0   Henry   22  New York\n",
       "1  George   26   Chicago\n",
       "2    Matt   22     Texas"
      ]
     },
     "execution_count": 94,
     "metadata": {},
     "output_type": "execute_result"
    }
   ],
   "source": [
    "df.head()"
   ]
  },
  {
   "cell_type": "code",
   "execution_count": 96,
   "id": "7e209a5c-1598-4e24-b38c-d7813d691fb8",
   "metadata": {},
   "outputs": [],
   "source": [
    "df.to_csv('Data.csv')"
   ]
  },
  {
   "cell_type": "markdown",
   "id": "b48462c2-d9be-4c1f-ad7a-9f1672de8b67",
   "metadata": {},
   "source": [
    "# part 9"
   ]
  },
  {
   "cell_type": "markdown",
   "id": "3e5b4d96-56bb-4035-9ba0-af6baa33c3ae",
   "metadata": {},
   "source": [
    "###  a) The \"write/render/evaluate\" cycle allows authors to constantly hone their ideas. Designers can rapidly test, modify, and review several techniques to get the most effective data representation by establishing mapping principles, building visualizations, and evaluating results."
   ]
  },
  {
   "cell_type": "markdown",
   "id": "17cae5f7-cb55-4ce6-97a1-fe33e8b037f8",
   "metadata": {},
   "source": [
    "### b) Dynamic, interactive data visualizations let users freely search data. From beginners to professionals, gives you different points of view through zooming, filtering, and \"details-on-demand.\" This makes it easier to navigate multidimensional datasets and serves a wide range of viewers. Interactivity makes it easier to get to tough information and encourages people to take part."
   ]
  },
  {
   "cell_type": "markdown",
   "id": "bf068f02-c796-49fd-a39d-9db2bd1d8db2",
   "metadata": {},
   "source": [
    "### c) Yes, I agree. Open-source solutions enable accessibility over many devices and platforms, therefore avoiding compatibility problems linked with proprietary software. This has bearing on the goal of attaining maximum audience capacity. Since they encourage cooperation, creativity, and cost-efficiencies, open-source solutions are perfect for creators and businesses aiming for major and inclusive influence."
   ]
  },
  {
   "cell_type": "code",
   "execution_count": null,
   "id": "ef18b850-08f6-4960-8c0c-a5826c4f2763",
   "metadata": {},
   "outputs": [],
   "source": []
  }
 ],
 "metadata": {
  "kernelspec": {
   "display_name": "Python [conda env:base] *",
   "language": "python",
   "name": "conda-base-py"
  },
  "language_info": {
   "codemirror_mode": {
    "name": "ipython",
    "version": 3
   },
   "file_extension": ".py",
   "mimetype": "text/x-python",
   "name": "python",
   "nbconvert_exporter": "python",
   "pygments_lexer": "ipython3",
   "version": "3.12.7"
  }
 },
 "nbformat": 4,
 "nbformat_minor": 5
}
